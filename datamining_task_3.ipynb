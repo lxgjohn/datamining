{
  "nbformat": 4,
  "nbformat_minor": 0,
  "metadata": {
    "colab": {
      "name": "datamining_task_3.ipynb",
      "version": "0.3.2",
      "provenance": [],
      "toc_visible": true
    },
    "language_info": {
      "codemirror_mode": {
        "name": "ipython",
        "version": 3
      },
      "file_extension": ".py",
      "mimetype": "text/x-python",
      "name": "python",
      "nbconvert_exporter": "python",
      "pygments_lexer": "ipython3",
      "version": "3.7.1"
    },
    "kernelspec": {
      "display_name": "Python 3",
      "language": "python",
      "name": "python3"
    }
  },
  "cells": [
    {
      "cell_type": "markdown",
      "metadata": {
        "id": "bbYqXEHKwXkb",
        "colab_type": "text"
      },
      "source": [
        "# 任务1：对数据进行探索和分析 5.11-5.12\n",
        "数据集是金融数据（非原始数据，已经处理过了），我们要做的是预测贷款用户是否会逾期。\n",
        "表格中 \"status\" 是结果标签：0表示未逾期，1表示逾期。\n",
        "\n",
        "要求：\n",
        "1. 数据切分方式 - 三七分，其中测试集30%，训练集70%，随机种子设置为2018\n",
        "2. 数据类型的分析\n",
        "3. 无关特征删除\n",
        "4. 数据类型转换\n",
        "5. 缺失值处理\n",
        "6. 其他可借鉴的数据分析处理"
      ]
    },
    {
      "cell_type": "code",
      "metadata": {
        "id": "D6R0enHGwXkc",
        "colab_type": "code",
        "colab": {}
      },
      "source": [
        "import numpy as np\n",
        "import pandas as pd"
      ],
      "execution_count": 0,
      "outputs": []
    },
    {
      "cell_type": "markdown",
      "metadata": {
        "id": "f-TVfhvywXkf",
        "colab_type": "text"
      },
      "source": [
        "## 一. 读取数据\n",
        "读取任务1中csv文件是要将编码格式制定成gbk；\n",
        "中文字符的Unicode编码0x0800-0xFFFF之间,(utf-8包含了部分汉字)\n",
        "当你试图将该“中文字符”转成U码的utf-8时超出了其范筹\n",
        "而GBK 规范收录了ISO 10646.1中的全部 CJK 汉字和符号，并有所补充，\n",
        "所以解决方法是将.decode('utf-8')改为.decode('gbk')\n",
        "参考：https://blog.csdn.net/stone9159/article/details/79071316"
      ]
    },
    {
      "cell_type": "code",
      "metadata": {
        "scrolled": true,
        "id": "wq_b2HtjwXkg",
        "colab_type": "code",
        "outputId": "6fc8c060-d578-4a0b-f1f5-e117e23fe120",
        "colab": {
          "base_uri": "https://localhost:8080/",
          "height": 396
        }
      },
      "source": [
        "# 导入数据\n",
        "data = pd.read_csv(r\"task1_data.csv\",encoding=\"gbk\")\n",
        "# 将显示的最大列数设置成100，以展示全部列\n",
        "pd.set_option(\"max_columns\", 100)\n",
        "# 抽样查看数据\n",
        "data.sample(10)"
      ],
      "execution_count": 73,
      "outputs": [
        {
          "output_type": "execute_result",
          "data": {
            "text/html": [
              "<div>\n",
              "<style scoped>\n",
              "    .dataframe tbody tr th:only-of-type {\n",
              "        vertical-align: middle;\n",
              "    }\n",
              "\n",
              "    .dataframe tbody tr th {\n",
              "        vertical-align: top;\n",
              "    }\n",
              "\n",
              "    .dataframe thead th {\n",
              "        text-align: right;\n",
              "    }\n",
              "</style>\n",
              "<table border=\"1\" class=\"dataframe\">\n",
              "  <thead>\n",
              "    <tr style=\"text-align: right;\">\n",
              "      <th></th>\n",
              "      <th>Unnamed: 0</th>\n",
              "      <th>custid</th>\n",
              "      <th>trade_no</th>\n",
              "      <th>bank_card_no</th>\n",
              "      <th>low_volume_percent</th>\n",
              "      <th>middle_volume_percent</th>\n",
              "      <th>take_amount_in_later_12_month_highest</th>\n",
              "      <th>trans_amount_increase_rate_lately</th>\n",
              "      <th>trans_activity_month</th>\n",
              "      <th>trans_activity_day</th>\n",
              "      <th>transd_mcc</th>\n",
              "      <th>trans_days_interval_filter</th>\n",
              "      <th>trans_days_interval</th>\n",
              "      <th>regional_mobility</th>\n",
              "      <th>student_feature</th>\n",
              "      <th>repayment_capability</th>\n",
              "      <th>is_high_user</th>\n",
              "      <th>number_of_trans_from_2011</th>\n",
              "      <th>first_transaction_time</th>\n",
              "      <th>historical_trans_amount</th>\n",
              "      <th>historical_trans_day</th>\n",
              "      <th>rank_trad_1_month</th>\n",
              "      <th>trans_amount_3_month</th>\n",
              "      <th>avg_consume_less_12_valid_month</th>\n",
              "      <th>abs</th>\n",
              "      <th>top_trans_count_last_1_month</th>\n",
              "      <th>avg_price_last_12_month</th>\n",
              "      <th>avg_price_top_last_12_valid_month</th>\n",
              "      <th>reg_preference_for_trad</th>\n",
              "      <th>trans_top_time_last_1_month</th>\n",
              "      <th>trans_top_time_last_6_month</th>\n",
              "      <th>consume_top_time_last_1_month</th>\n",
              "      <th>consume_top_time_last_6_month</th>\n",
              "      <th>cross_consume_count_last_1_month</th>\n",
              "      <th>trans_fail_top_count_enum_last_1_month</th>\n",
              "      <th>trans_fail_top_count_enum_last_6_month</th>\n",
              "      <th>trans_fail_top_count_enum_last_12_month</th>\n",
              "      <th>consume_mini_time_last_1_month</th>\n",
              "      <th>max_cumulative_consume_later_1_month</th>\n",
              "      <th>max_consume_count_later_6_month</th>\n",
              "      <th>railway_consume_count_last_12_month</th>\n",
              "      <th>pawns_auctions_trusts_consume_last_1_month</th>\n",
              "      <th>pawns_auctions_trusts_consume_last_6_month</th>\n",
              "      <th>jewelry_consume_count_last_6_month</th>\n",
              "      <th>status</th>\n",
              "      <th>source</th>\n",
              "      <th>first_transaction_day</th>\n",
              "      <th>trans_day_last_12_month</th>\n",
              "      <th>id_name</th>\n",
              "      <th>apply_score</th>\n",
              "      <th>apply_credibility</th>\n",
              "      <th>query_org_count</th>\n",
              "      <th>query_finance_count</th>\n",
              "      <th>query_cash_count</th>\n",
              "      <th>query_sum_count</th>\n",
              "      <th>latest_query_time</th>\n",
              "      <th>latest_one_month_apply</th>\n",
              "      <th>latest_three_month_apply</th>\n",
              "      <th>latest_six_month_apply</th>\n",
              "      <th>loans_score</th>\n",
              "      <th>loans_credibility_behavior</th>\n",
              "      <th>loans_count</th>\n",
              "      <th>loans_settle_count</th>\n",
              "      <th>loans_overdue_count</th>\n",
              "      <th>loans_org_count_behavior</th>\n",
              "      <th>consfin_org_count_behavior</th>\n",
              "      <th>loans_cash_count</th>\n",
              "      <th>latest_one_month_loan</th>\n",
              "      <th>latest_three_month_loan</th>\n",
              "      <th>latest_six_month_loan</th>\n",
              "      <th>history_suc_fee</th>\n",
              "      <th>history_fail_fee</th>\n",
              "      <th>latest_one_month_suc</th>\n",
              "      <th>latest_one_month_fail</th>\n",
              "      <th>loans_long_time</th>\n",
              "      <th>loans_latest_time</th>\n",
              "      <th>loans_credit_limit</th>\n",
              "      <th>loans_credibility_limit</th>\n",
              "      <th>loans_org_count_current</th>\n",
              "      <th>loans_product_count</th>\n",
              "      <th>loans_max_limit</th>\n",
              "      <th>loans_avg_limit</th>\n",
              "      <th>consfin_credit_limit</th>\n",
              "      <th>consfin_credibility</th>\n",
              "      <th>consfin_org_count_current</th>\n",
              "      <th>consfin_product_count</th>\n",
              "      <th>consfin_max_limit</th>\n",
              "      <th>consfin_avg_limit</th>\n",
              "      <th>latest_query_day</th>\n",
              "      <th>loans_latest_day</th>\n",
              "    </tr>\n",
              "  </thead>\n",
              "  <tbody>\n",
              "    <tr>\n",
              "      <th>3267</th>\n",
              "      <td>8182</td>\n",
              "      <td>1330318</td>\n",
              "      <td>20180507123946073000000388383705</td>\n",
              "      <td>卡号1</td>\n",
              "      <td>0.01</td>\n",
              "      <td>0.93</td>\n",
              "      <td>2500</td>\n",
              "      <td>0.69</td>\n",
              "      <td>1.00</td>\n",
              "      <td>0.516</td>\n",
              "      <td>20.0</td>\n",
              "      <td>22.0</td>\n",
              "      <td>21.0</td>\n",
              "      <td>2.0</td>\n",
              "      <td>1.0</td>\n",
              "      <td>24690</td>\n",
              "      <td>0</td>\n",
              "      <td>25.0</td>\n",
              "      <td>20160228.0</td>\n",
              "      <td>353100</td>\n",
              "      <td>289.0</td>\n",
              "      <td>0.55</td>\n",
              "      <td>9290</td>\n",
              "      <td>8.0</td>\n",
              "      <td>6460</td>\n",
              "      <td>0.30</td>\n",
              "      <td>1240</td>\n",
              "      <td>0.50</td>\n",
              "      <td>三线城市</td>\n",
              "      <td>7.0</td>\n",
              "      <td>22.0</td>\n",
              "      <td>7.0</td>\n",
              "      <td>22.0</td>\n",
              "      <td>0.0</td>\n",
              "      <td>2.0</td>\n",
              "      <td>6.0</td>\n",
              "      <td>6.0</td>\n",
              "      <td>0.0</td>\n",
              "      <td>680</td>\n",
              "      <td>27.0</td>\n",
              "      <td>0.0</td>\n",
              "      <td>0</td>\n",
              "      <td>12460</td>\n",
              "      <td>0.0</td>\n",
              "      <td>1</td>\n",
              "      <td>xs</td>\n",
              "      <td>813.0</td>\n",
              "      <td>90.0</td>\n",
              "      <td>吴水高</td>\n",
              "      <td>542.0</td>\n",
              "      <td>73.0</td>\n",
              "      <td>10.0</td>\n",
              "      <td>5.0</td>\n",
              "      <td>5.0</td>\n",
              "      <td>11.0</td>\n",
              "      <td>2018-03-01</td>\n",
              "      <td>0.0</td>\n",
              "      <td>1.0</td>\n",
              "      <td>2.0</td>\n",
              "      <td>505.0</td>\n",
              "      <td>76.0</td>\n",
              "      <td>44.0</td>\n",
              "      <td>43.0</td>\n",
              "      <td>6.0</td>\n",
              "      <td>20.0</td>\n",
              "      <td>7.0</td>\n",
              "      <td>13.0</td>\n",
              "      <td>1.0</td>\n",
              "      <td>2.0</td>\n",
              "      <td>5.0</td>\n",
              "      <td>54.0</td>\n",
              "      <td>27.0</td>\n",
              "      <td>1.0</td>\n",
              "      <td>2.0</td>\n",
              "      <td>359.0</td>\n",
              "      <td>2018-05-03</td>\n",
              "      <td>2500.0</td>\n",
              "      <td>73.0</td>\n",
              "      <td>13.0</td>\n",
              "      <td>14.0</td>\n",
              "      <td>7100.0</td>\n",
              "      <td>2138.0</td>\n",
              "      <td>8000.0</td>\n",
              "      <td>82.0</td>\n",
              "      <td>7.0</td>\n",
              "      <td>8.0</td>\n",
              "      <td>19200.0</td>\n",
              "      <td>6028.0</td>\n",
              "      <td>67.0</td>\n",
              "      <td>4.0</td>\n",
              "    </tr>\n",
              "    <tr>\n",
              "      <th>4085</th>\n",
              "      <td>10319</td>\n",
              "      <td>3168263</td>\n",
              "      <td>20180507122218164000000388316407</td>\n",
              "      <td>卡号1</td>\n",
              "      <td>0.01</td>\n",
              "      <td>0.88</td>\n",
              "      <td>3500</td>\n",
              "      <td>1.87</td>\n",
              "      <td>0.79</td>\n",
              "      <td>0.359</td>\n",
              "      <td>15.0</td>\n",
              "      <td>40.0</td>\n",
              "      <td>24.0</td>\n",
              "      <td>1.0</td>\n",
              "      <td>NaN</td>\n",
              "      <td>32850</td>\n",
              "      <td>0</td>\n",
              "      <td>11.0</td>\n",
              "      <td>20161213.0</td>\n",
              "      <td>180030</td>\n",
              "      <td>102.0</td>\n",
              "      <td>0.10</td>\n",
              "      <td>48130</td>\n",
              "      <td>5.0</td>\n",
              "      <td>11270</td>\n",
              "      <td>0.15</td>\n",
              "      <td>1630</td>\n",
              "      <td>0.40</td>\n",
              "      <td>一线城市</td>\n",
              "      <td>1.0</td>\n",
              "      <td>40.0</td>\n",
              "      <td>1.0</td>\n",
              "      <td>40.0</td>\n",
              "      <td>2.0</td>\n",
              "      <td>2.0</td>\n",
              "      <td>2.0</td>\n",
              "      <td>2.0</td>\n",
              "      <td>828.0</td>\n",
              "      <td>28550</td>\n",
              "      <td>5.0</td>\n",
              "      <td>0.0</td>\n",
              "      <td>20000</td>\n",
              "      <td>29820</td>\n",
              "      <td>0.0</td>\n",
              "      <td>0</td>\n",
              "      <td>xs</td>\n",
              "      <td>524.0</td>\n",
              "      <td>100.0</td>\n",
              "      <td>马文</td>\n",
              "      <td>638.0</td>\n",
              "      <td>70.0</td>\n",
              "      <td>10.0</td>\n",
              "      <td>6.0</td>\n",
              "      <td>3.0</td>\n",
              "      <td>13.0</td>\n",
              "      <td>2018-05-05</td>\n",
              "      <td>6.0</td>\n",
              "      <td>9.0</td>\n",
              "      <td>10.0</td>\n",
              "      <td>606.0</td>\n",
              "      <td>76.0</td>\n",
              "      <td>16.0</td>\n",
              "      <td>14.0</td>\n",
              "      <td>0.0</td>\n",
              "      <td>6.0</td>\n",
              "      <td>2.0</td>\n",
              "      <td>4.0</td>\n",
              "      <td>1.0</td>\n",
              "      <td>1.0</td>\n",
              "      <td>4.0</td>\n",
              "      <td>18.0</td>\n",
              "      <td>6.0</td>\n",
              "      <td>1.0</td>\n",
              "      <td>1.0</td>\n",
              "      <td>304.0</td>\n",
              "      <td>2018-04-30</td>\n",
              "      <td>2400.0</td>\n",
              "      <td>76.0</td>\n",
              "      <td>4.0</td>\n",
              "      <td>4.0</td>\n",
              "      <td>2800.0</td>\n",
              "      <td>2275.0</td>\n",
              "      <td>1400.0</td>\n",
              "      <td>68.0</td>\n",
              "      <td>2.0</td>\n",
              "      <td>3.0</td>\n",
              "      <td>1800.0</td>\n",
              "      <td>1500.0</td>\n",
              "      <td>2.0</td>\n",
              "      <td>7.0</td>\n",
              "    </tr>\n",
              "    <tr>\n",
              "      <th>4267</th>\n",
              "      <td>10769</td>\n",
              "      <td>2823130</td>\n",
              "      <td>20180507120757595000000388256876</td>\n",
              "      <td>卡号1</td>\n",
              "      <td>0.05</td>\n",
              "      <td>0.95</td>\n",
              "      <td>100</td>\n",
              "      <td>3.60</td>\n",
              "      <td>0.83</td>\n",
              "      <td>0.315</td>\n",
              "      <td>17.0</td>\n",
              "      <td>34.0</td>\n",
              "      <td>40.0</td>\n",
              "      <td>1.0</td>\n",
              "      <td>1.0</td>\n",
              "      <td>13110</td>\n",
              "      <td>0</td>\n",
              "      <td>15.0</td>\n",
              "      <td>20160831.0</td>\n",
              "      <td>92360</td>\n",
              "      <td>110.0</td>\n",
              "      <td>1.00</td>\n",
              "      <td>16790</td>\n",
              "      <td>7.0</td>\n",
              "      <td>850</td>\n",
              "      <td>1.00</td>\n",
              "      <td>710</td>\n",
              "      <td>0.65</td>\n",
              "      <td>一线城市</td>\n",
              "      <td>0.0</td>\n",
              "      <td>8.0</td>\n",
              "      <td>0.0</td>\n",
              "      <td>8.0</td>\n",
              "      <td>0.0</td>\n",
              "      <td>0.0</td>\n",
              "      <td>6.0</td>\n",
              "      <td>6.0</td>\n",
              "      <td>0.0</td>\n",
              "      <td>0</td>\n",
              "      <td>8.0</td>\n",
              "      <td>0.0</td>\n",
              "      <td>0</td>\n",
              "      <td>11330</td>\n",
              "      <td>0.0</td>\n",
              "      <td>1</td>\n",
              "      <td>xs</td>\n",
              "      <td>628.0</td>\n",
              "      <td>118.0</td>\n",
              "      <td>刘槽</td>\n",
              "      <td>532.0</td>\n",
              "      <td>76.0</td>\n",
              "      <td>19.0</td>\n",
              "      <td>10.0</td>\n",
              "      <td>6.0</td>\n",
              "      <td>26.0</td>\n",
              "      <td>2018-04-14</td>\n",
              "      <td>5.0</td>\n",
              "      <td>10.0</td>\n",
              "      <td>20.0</td>\n",
              "      <td>507.0</td>\n",
              "      <td>75.0</td>\n",
              "      <td>31.0</td>\n",
              "      <td>25.0</td>\n",
              "      <td>7.0</td>\n",
              "      <td>10.0</td>\n",
              "      <td>3.0</td>\n",
              "      <td>7.0</td>\n",
              "      <td>1.0</td>\n",
              "      <td>3.0</td>\n",
              "      <td>11.0</td>\n",
              "      <td>51.0</td>\n",
              "      <td>37.0</td>\n",
              "      <td>0.0</td>\n",
              "      <td>3.0</td>\n",
              "      <td>326.0</td>\n",
              "      <td>2018-04-18</td>\n",
              "      <td>1300.0</td>\n",
              "      <td>73.0</td>\n",
              "      <td>7.0</td>\n",
              "      <td>7.0</td>\n",
              "      <td>2300.0</td>\n",
              "      <td>1442.0</td>\n",
              "      <td>1200.0</td>\n",
              "      <td>79.0</td>\n",
              "      <td>3.0</td>\n",
              "      <td>4.0</td>\n",
              "      <td>1200.0</td>\n",
              "      <td>1066.0</td>\n",
              "      <td>23.0</td>\n",
              "      <td>19.0</td>\n",
              "    </tr>\n",
              "    <tr>\n",
              "      <th>253</th>\n",
              "      <td>643</td>\n",
              "      <td>3630793</td>\n",
              "      <td>20180507114806484000000388188355</td>\n",
              "      <td>卡号1</td>\n",
              "      <td>0.03</td>\n",
              "      <td>0.78</td>\n",
              "      <td>0</td>\n",
              "      <td>0.88</td>\n",
              "      <td>0.35</td>\n",
              "      <td>0.175</td>\n",
              "      <td>11.0</td>\n",
              "      <td>173.0</td>\n",
              "      <td>143.0</td>\n",
              "      <td>2.0</td>\n",
              "      <td>NaN</td>\n",
              "      <td>11380</td>\n",
              "      <td>0</td>\n",
              "      <td>11.0</td>\n",
              "      <td>20150803.0</td>\n",
              "      <td>36300</td>\n",
              "      <td>46.0</td>\n",
              "      <td>0.65</td>\n",
              "      <td>7290</td>\n",
              "      <td>5.0</td>\n",
              "      <td>310</td>\n",
              "      <td>0.65</td>\n",
              "      <td>810</td>\n",
              "      <td>0.60</td>\n",
              "      <td>一线城市</td>\n",
              "      <td>13.0</td>\n",
              "      <td>14.0</td>\n",
              "      <td>13.0</td>\n",
              "      <td>14.0</td>\n",
              "      <td>0.0</td>\n",
              "      <td>1.0</td>\n",
              "      <td>1.0</td>\n",
              "      <td>1.0</td>\n",
              "      <td>0.0</td>\n",
              "      <td>720</td>\n",
              "      <td>3.0</td>\n",
              "      <td>0.0</td>\n",
              "      <td>0</td>\n",
              "      <td>9860</td>\n",
              "      <td>0.0</td>\n",
              "      <td>0</td>\n",
              "      <td>xs</td>\n",
              "      <td>1022.0</td>\n",
              "      <td>83.0</td>\n",
              "      <td>郑文财</td>\n",
              "      <td>635.0</td>\n",
              "      <td>68.0</td>\n",
              "      <td>9.0</td>\n",
              "      <td>5.0</td>\n",
              "      <td>4.0</td>\n",
              "      <td>14.0</td>\n",
              "      <td>2018-03-18</td>\n",
              "      <td>0.0</td>\n",
              "      <td>4.0</td>\n",
              "      <td>4.0</td>\n",
              "      <td>612.0</td>\n",
              "      <td>77.0</td>\n",
              "      <td>11.0</td>\n",
              "      <td>11.0</td>\n",
              "      <td>0.0</td>\n",
              "      <td>6.0</td>\n",
              "      <td>2.0</td>\n",
              "      <td>4.0</td>\n",
              "      <td>1.0</td>\n",
              "      <td>3.0</td>\n",
              "      <td>7.0</td>\n",
              "      <td>11.0</td>\n",
              "      <td>0.0</td>\n",
              "      <td>1.0</td>\n",
              "      <td>0.0</td>\n",
              "      <td>223.0</td>\n",
              "      <td>2018-04-28</td>\n",
              "      <td>1500.0</td>\n",
              "      <td>76.0</td>\n",
              "      <td>4.0</td>\n",
              "      <td>5.0</td>\n",
              "      <td>2300.0</td>\n",
              "      <td>1125.0</td>\n",
              "      <td>1700.0</td>\n",
              "      <td>82.0</td>\n",
              "      <td>2.0</td>\n",
              "      <td>2.0</td>\n",
              "      <td>2400.0</td>\n",
              "      <td>1700.0</td>\n",
              "      <td>50.0</td>\n",
              "      <td>9.0</td>\n",
              "    </tr>\n",
              "    <tr>\n",
              "      <th>2553</th>\n",
              "      <td>6388</td>\n",
              "      <td>884312</td>\n",
              "      <td>20180507120315877000000388242183</td>\n",
              "      <td>卡号1</td>\n",
              "      <td>0.02</td>\n",
              "      <td>0.98</td>\n",
              "      <td>2000</td>\n",
              "      <td>1.08</td>\n",
              "      <td>0.91</td>\n",
              "      <td>0.297</td>\n",
              "      <td>18.0</td>\n",
              "      <td>23.0</td>\n",
              "      <td>14.0</td>\n",
              "      <td>2.0</td>\n",
              "      <td>NaN</td>\n",
              "      <td>13990</td>\n",
              "      <td>0</td>\n",
              "      <td>20.0</td>\n",
              "      <td>20160524.0</td>\n",
              "      <td>233340</td>\n",
              "      <td>144.0</td>\n",
              "      <td>0.40</td>\n",
              "      <td>43810</td>\n",
              "      <td>7.0</td>\n",
              "      <td>3150</td>\n",
              "      <td>0.15</td>\n",
              "      <td>1200</td>\n",
              "      <td>0.50</td>\n",
              "      <td>一线城市</td>\n",
              "      <td>9.0</td>\n",
              "      <td>14.0</td>\n",
              "      <td>9.0</td>\n",
              "      <td>14.0</td>\n",
              "      <td>0.0</td>\n",
              "      <td>1.0</td>\n",
              "      <td>10.0</td>\n",
              "      <td>10.0</td>\n",
              "      <td>0.0</td>\n",
              "      <td>2240</td>\n",
              "      <td>12.0</td>\n",
              "      <td>0.0</td>\n",
              "      <td>0</td>\n",
              "      <td>16680</td>\n",
              "      <td>0.0</td>\n",
              "      <td>0</td>\n",
              "      <td>xs</td>\n",
              "      <td>727.0</td>\n",
              "      <td>84.0</td>\n",
              "      <td>郑佳元</td>\n",
              "      <td>532.0</td>\n",
              "      <td>74.0</td>\n",
              "      <td>12.0</td>\n",
              "      <td>7.0</td>\n",
              "      <td>5.0</td>\n",
              "      <td>15.0</td>\n",
              "      <td>2018-04-17</td>\n",
              "      <td>1.0</td>\n",
              "      <td>7.0</td>\n",
              "      <td>13.0</td>\n",
              "      <td>489.0</td>\n",
              "      <td>76.0</td>\n",
              "      <td>33.0</td>\n",
              "      <td>30.0</td>\n",
              "      <td>5.0</td>\n",
              "      <td>11.0</td>\n",
              "      <td>3.0</td>\n",
              "      <td>8.0</td>\n",
              "      <td>0.0</td>\n",
              "      <td>0.0</td>\n",
              "      <td>14.0</td>\n",
              "      <td>33.0</td>\n",
              "      <td>17.0</td>\n",
              "      <td>0.0</td>\n",
              "      <td>0.0</td>\n",
              "      <td>353.0</td>\n",
              "      <td>2018-01-14</td>\n",
              "      <td>1800.0</td>\n",
              "      <td>73.0</td>\n",
              "      <td>8.0</td>\n",
              "      <td>8.0</td>\n",
              "      <td>3000.0</td>\n",
              "      <td>1562.0</td>\n",
              "      <td>28300.0</td>\n",
              "      <td>81.0</td>\n",
              "      <td>3.0</td>\n",
              "      <td>3.0</td>\n",
              "      <td>34800.0</td>\n",
              "      <td>22800.0</td>\n",
              "      <td>20.0</td>\n",
              "      <td>113.0</td>\n",
              "    </tr>\n",
              "    <tr>\n",
              "      <th>578</th>\n",
              "      <td>1421</td>\n",
              "      <td>1039411</td>\n",
              "      <td>20180507121526637000000023078410</td>\n",
              "      <td>卡号1</td>\n",
              "      <td>0.00</td>\n",
              "      <td>0.80</td>\n",
              "      <td>14000</td>\n",
              "      <td>0.92</td>\n",
              "      <td>0.83</td>\n",
              "      <td>0.236</td>\n",
              "      <td>14.0</td>\n",
              "      <td>21.0</td>\n",
              "      <td>13.0</td>\n",
              "      <td>2.0</td>\n",
              "      <td>1.0</td>\n",
              "      <td>10720</td>\n",
              "      <td>0</td>\n",
              "      <td>19.0</td>\n",
              "      <td>20160429.0</td>\n",
              "      <td>157790</td>\n",
              "      <td>111.0</td>\n",
              "      <td>0.25</td>\n",
              "      <td>35310</td>\n",
              "      <td>6.0</td>\n",
              "      <td>26790</td>\n",
              "      <td>0.20</td>\n",
              "      <td>1770</td>\n",
              "      <td>0.35</td>\n",
              "      <td>三线城市</td>\n",
              "      <td>6.0</td>\n",
              "      <td>13.0</td>\n",
              "      <td>8.0</td>\n",
              "      <td>13.0</td>\n",
              "      <td>0.0</td>\n",
              "      <td>0.0</td>\n",
              "      <td>2.0</td>\n",
              "      <td>3.0</td>\n",
              "      <td>57.0</td>\n",
              "      <td>5330</td>\n",
              "      <td>3.0</td>\n",
              "      <td>0.0</td>\n",
              "      <td>2600</td>\n",
              "      <td>24290</td>\n",
              "      <td>0.0</td>\n",
              "      <td>0</td>\n",
              "      <td>xs</td>\n",
              "      <td>752.0</td>\n",
              "      <td>83.0</td>\n",
              "      <td>杨星</td>\n",
              "      <td>637.0</td>\n",
              "      <td>79.0</td>\n",
              "      <td>9.0</td>\n",
              "      <td>6.0</td>\n",
              "      <td>2.0</td>\n",
              "      <td>13.0</td>\n",
              "      <td>2018-04-11</td>\n",
              "      <td>2.0</td>\n",
              "      <td>11.0</td>\n",
              "      <td>11.0</td>\n",
              "      <td>611.0</td>\n",
              "      <td>69.0</td>\n",
              "      <td>13.0</td>\n",
              "      <td>12.0</td>\n",
              "      <td>0.0</td>\n",
              "      <td>7.0</td>\n",
              "      <td>2.0</td>\n",
              "      <td>5.0</td>\n",
              "      <td>1.0</td>\n",
              "      <td>2.0</td>\n",
              "      <td>7.0</td>\n",
              "      <td>26.0</td>\n",
              "      <td>5.0</td>\n",
              "      <td>1.0</td>\n",
              "      <td>2.0</td>\n",
              "      <td>352.0</td>\n",
              "      <td>2018-04-21</td>\n",
              "      <td>3400.0</td>\n",
              "      <td>69.0</td>\n",
              "      <td>5.0</td>\n",
              "      <td>5.0</td>\n",
              "      <td>7500.0</td>\n",
              "      <td>3140.0</td>\n",
              "      <td>16300.0</td>\n",
              "      <td>69.0</td>\n",
              "      <td>2.0</td>\n",
              "      <td>2.0</td>\n",
              "      <td>25200.0</td>\n",
              "      <td>17400.0</td>\n",
              "      <td>26.0</td>\n",
              "      <td>16.0</td>\n",
              "    </tr>\n",
              "    <tr>\n",
              "      <th>3752</th>\n",
              "      <td>9479</td>\n",
              "      <td>2394096</td>\n",
              "      <td>20180507120204874000000023065658</td>\n",
              "      <td>卡号1</td>\n",
              "      <td>0.01</td>\n",
              "      <td>0.99</td>\n",
              "      <td>0</td>\n",
              "      <td>2.71</td>\n",
              "      <td>0.46</td>\n",
              "      <td>0.110</td>\n",
              "      <td>14.0</td>\n",
              "      <td>38.0</td>\n",
              "      <td>39.0</td>\n",
              "      <td>2.0</td>\n",
              "      <td>1.0</td>\n",
              "      <td>11410</td>\n",
              "      <td>0</td>\n",
              "      <td>12.0</td>\n",
              "      <td>20151209.0</td>\n",
              "      <td>20350</td>\n",
              "      <td>35.0</td>\n",
              "      <td>1.00</td>\n",
              "      <td>1210</td>\n",
              "      <td>6.0</td>\n",
              "      <td>330</td>\n",
              "      <td>1.00</td>\n",
              "      <td>840</td>\n",
              "      <td>0.60</td>\n",
              "      <td>一线城市</td>\n",
              "      <td>0.0</td>\n",
              "      <td>29.0</td>\n",
              "      <td>0.0</td>\n",
              "      <td>29.0</td>\n",
              "      <td>0.0</td>\n",
              "      <td>0.0</td>\n",
              "      <td>0.0</td>\n",
              "      <td>2.0</td>\n",
              "      <td>0.0</td>\n",
              "      <td>0</td>\n",
              "      <td>2.0</td>\n",
              "      <td>0.0</td>\n",
              "      <td>0</td>\n",
              "      <td>0</td>\n",
              "      <td>0.0</td>\n",
              "      <td>1</td>\n",
              "      <td>xs</td>\n",
              "      <td>894.0</td>\n",
              "      <td>122.0</td>\n",
              "      <td>黄志民</td>\n",
              "      <td>618.0</td>\n",
              "      <td>83.0</td>\n",
              "      <td>2.0</td>\n",
              "      <td>0.0</td>\n",
              "      <td>1.0</td>\n",
              "      <td>2.0</td>\n",
              "      <td>2017-11-26</td>\n",
              "      <td>0.0</td>\n",
              "      <td>0.0</td>\n",
              "      <td>1.0</td>\n",
              "      <td>578.0</td>\n",
              "      <td>74.0</td>\n",
              "      <td>5.0</td>\n",
              "      <td>3.0</td>\n",
              "      <td>0.0</td>\n",
              "      <td>3.0</td>\n",
              "      <td>1.0</td>\n",
              "      <td>2.0</td>\n",
              "      <td>0.0</td>\n",
              "      <td>0.0</td>\n",
              "      <td>3.0</td>\n",
              "      <td>3.0</td>\n",
              "      <td>2.0</td>\n",
              "      <td>0.0</td>\n",
              "      <td>0.0</td>\n",
              "      <td>357.0</td>\n",
              "      <td>2017-12-10</td>\n",
              "      <td>1500.0</td>\n",
              "      <td>73.0</td>\n",
              "      <td>2.0</td>\n",
              "      <td>3.0</td>\n",
              "      <td>1800.0</td>\n",
              "      <td>1450.0</td>\n",
              "      <td>3600.0</td>\n",
              "      <td>78.0</td>\n",
              "      <td>1.0</td>\n",
              "      <td>1.0</td>\n",
              "      <td>3600.0</td>\n",
              "      <td>3600.0</td>\n",
              "      <td>162.0</td>\n",
              "      <td>148.0</td>\n",
              "    </tr>\n",
              "    <tr>\n",
              "      <th>3173</th>\n",
              "      <td>7960</td>\n",
              "      <td>709498</td>\n",
              "      <td>20180507121239924000000388272647</td>\n",
              "      <td>卡号1</td>\n",
              "      <td>0.01</td>\n",
              "      <td>0.61</td>\n",
              "      <td>0</td>\n",
              "      <td>0.87</td>\n",
              "      <td>1.00</td>\n",
              "      <td>0.361</td>\n",
              "      <td>18.0</td>\n",
              "      <td>81.0</td>\n",
              "      <td>29.0</td>\n",
              "      <td>1.0</td>\n",
              "      <td>NaN</td>\n",
              "      <td>16520</td>\n",
              "      <td>0</td>\n",
              "      <td>18.0</td>\n",
              "      <td>20160918.0</td>\n",
              "      <td>69100</td>\n",
              "      <td>173.0</td>\n",
              "      <td>0.45</td>\n",
              "      <td>31080</td>\n",
              "      <td>9.0</td>\n",
              "      <td>22530</td>\n",
              "      <td>0.20</td>\n",
              "      <td>2100</td>\n",
              "      <td>0.35</td>\n",
              "      <td>三线城市</td>\n",
              "      <td>15.0</td>\n",
              "      <td>19.0</td>\n",
              "      <td>15.0</td>\n",
              "      <td>19.0</td>\n",
              "      <td>NaN</td>\n",
              "      <td>0.0</td>\n",
              "      <td>2.0</td>\n",
              "      <td>2.0</td>\n",
              "      <td>1305934.0</td>\n",
              "      <td>1230</td>\n",
              "      <td>2.0</td>\n",
              "      <td>0.0</td>\n",
              "      <td>0</td>\n",
              "      <td>6150</td>\n",
              "      <td>0.0</td>\n",
              "      <td>0</td>\n",
              "      <td>xs</td>\n",
              "      <td>610.0</td>\n",
              "      <td>82.0</td>\n",
              "      <td>龚纯喜</td>\n",
              "      <td>673.0</td>\n",
              "      <td>56.0</td>\n",
              "      <td>2.0</td>\n",
              "      <td>1.0</td>\n",
              "      <td>0.0</td>\n",
              "      <td>2.0</td>\n",
              "      <td>2018-04-02</td>\n",
              "      <td>0.0</td>\n",
              "      <td>1.0</td>\n",
              "      <td>2.0</td>\n",
              "      <td>668.0</td>\n",
              "      <td>79.0</td>\n",
              "      <td>9.0</td>\n",
              "      <td>7.0</td>\n",
              "      <td>0.0</td>\n",
              "      <td>4.0</td>\n",
              "      <td>3.0</td>\n",
              "      <td>1.0</td>\n",
              "      <td>1.0</td>\n",
              "      <td>3.0</td>\n",
              "      <td>5.0</td>\n",
              "      <td>9.0</td>\n",
              "      <td>2.0</td>\n",
              "      <td>1.0</td>\n",
              "      <td>0.0</td>\n",
              "      <td>297.0</td>\n",
              "      <td>2018-04-27</td>\n",
              "      <td>2400.0</td>\n",
              "      <td>72.0</td>\n",
              "      <td>1.0</td>\n",
              "      <td>1.0</td>\n",
              "      <td>2400.0</td>\n",
              "      <td>2400.0</td>\n",
              "      <td>2300.0</td>\n",
              "      <td>80.0</td>\n",
              "      <td>3.0</td>\n",
              "      <td>3.0</td>\n",
              "      <td>5400.0</td>\n",
              "      <td>2466.0</td>\n",
              "      <td>35.0</td>\n",
              "      <td>10.0</td>\n",
              "    </tr>\n",
              "    <tr>\n",
              "      <th>1442</th>\n",
              "      <td>3749</td>\n",
              "      <td>44751</td>\n",
              "      <td>20180507120956745000000388264782</td>\n",
              "      <td>卡号1</td>\n",
              "      <td>0.03</td>\n",
              "      <td>0.97</td>\n",
              "      <td>2000</td>\n",
              "      <td>1.08</td>\n",
              "      <td>1.00</td>\n",
              "      <td>0.608</td>\n",
              "      <td>24.0</td>\n",
              "      <td>12.0</td>\n",
              "      <td>8.0</td>\n",
              "      <td>3.0</td>\n",
              "      <td>1.0</td>\n",
              "      <td>14460</td>\n",
              "      <td>0</td>\n",
              "      <td>34.0</td>\n",
              "      <td>20150509.0</td>\n",
              "      <td>414070</td>\n",
              "      <td>386.0</td>\n",
              "      <td>0.35</td>\n",
              "      <td>49300</td>\n",
              "      <td>6.0</td>\n",
              "      <td>9910</td>\n",
              "      <td>0.05</td>\n",
              "      <td>910</td>\n",
              "      <td>0.60</td>\n",
              "      <td>一线城市</td>\n",
              "      <td>12.0</td>\n",
              "      <td>12.0</td>\n",
              "      <td>12.0</td>\n",
              "      <td>12.0</td>\n",
              "      <td>3.0</td>\n",
              "      <td>6.0</td>\n",
              "      <td>7.0</td>\n",
              "      <td>7.0</td>\n",
              "      <td>286.0</td>\n",
              "      <td>3150</td>\n",
              "      <td>6.0</td>\n",
              "      <td>0.0</td>\n",
              "      <td>1160</td>\n",
              "      <td>38610</td>\n",
              "      <td>0.0</td>\n",
              "      <td>1</td>\n",
              "      <td>xs</td>\n",
              "      <td>1108.0</td>\n",
              "      <td>83.0</td>\n",
              "      <td>赵礼春</td>\n",
              "      <td>541.0</td>\n",
              "      <td>77.0</td>\n",
              "      <td>18.0</td>\n",
              "      <td>11.0</td>\n",
              "      <td>5.0</td>\n",
              "      <td>24.0</td>\n",
              "      <td>2018-05-04</td>\n",
              "      <td>7.0</td>\n",
              "      <td>16.0</td>\n",
              "      <td>21.0</td>\n",
              "      <td>546.0</td>\n",
              "      <td>75.0</td>\n",
              "      <td>47.0</td>\n",
              "      <td>30.0</td>\n",
              "      <td>3.0</td>\n",
              "      <td>20.0</td>\n",
              "      <td>7.0</td>\n",
              "      <td>13.0</td>\n",
              "      <td>2.0</td>\n",
              "      <td>3.0</td>\n",
              "      <td>21.0</td>\n",
              "      <td>44.0</td>\n",
              "      <td>46.0</td>\n",
              "      <td>3.0</td>\n",
              "      <td>7.0</td>\n",
              "      <td>359.0</td>\n",
              "      <td>2018-05-06</td>\n",
              "      <td>1900.0</td>\n",
              "      <td>73.0</td>\n",
              "      <td>13.0</td>\n",
              "      <td>14.0</td>\n",
              "      <td>3600.0</td>\n",
              "      <td>1669.0</td>\n",
              "      <td>4300.0</td>\n",
              "      <td>77.0</td>\n",
              "      <td>7.0</td>\n",
              "      <td>8.0</td>\n",
              "      <td>14400.0</td>\n",
              "      <td>6771.0</td>\n",
              "      <td>3.0</td>\n",
              "      <td>1.0</td>\n",
              "    </tr>\n",
              "    <tr>\n",
              "      <th>176</th>\n",
              "      <td>475</td>\n",
              "      <td>3030927</td>\n",
              "      <td>20180504160148585000000381277628</td>\n",
              "      <td>卡号1</td>\n",
              "      <td>0.01</td>\n",
              "      <td>0.99</td>\n",
              "      <td>0</td>\n",
              "      <td>3.60</td>\n",
              "      <td>0.31</td>\n",
              "      <td>0.242</td>\n",
              "      <td>16.0</td>\n",
              "      <td>40.0</td>\n",
              "      <td>24.0</td>\n",
              "      <td>4.0</td>\n",
              "      <td>NaN</td>\n",
              "      <td>6170</td>\n",
              "      <td>0</td>\n",
              "      <td>18.0</td>\n",
              "      <td>20130525.0</td>\n",
              "      <td>41800</td>\n",
              "      <td>90.0</td>\n",
              "      <td>0.60</td>\n",
              "      <td>7440</td>\n",
              "      <td>6.0</td>\n",
              "      <td>4050</td>\n",
              "      <td>0.65</td>\n",
              "      <td>920</td>\n",
              "      <td>0.55</td>\n",
              "      <td>一线城市</td>\n",
              "      <td>5.0</td>\n",
              "      <td>20.0</td>\n",
              "      <td>5.0</td>\n",
              "      <td>20.0</td>\n",
              "      <td>0.0</td>\n",
              "      <td>0.0</td>\n",
              "      <td>0.0</td>\n",
              "      <td>3.0</td>\n",
              "      <td>0.0</td>\n",
              "      <td>950</td>\n",
              "      <td>2.0</td>\n",
              "      <td>0.0</td>\n",
              "      <td>0</td>\n",
              "      <td>20</td>\n",
              "      <td>0.0</td>\n",
              "      <td>0</td>\n",
              "      <td>xs</td>\n",
              "      <td>1822.0</td>\n",
              "      <td>97.0</td>\n",
              "      <td>郑华锋</td>\n",
              "      <td>630.0</td>\n",
              "      <td>74.0</td>\n",
              "      <td>6.0</td>\n",
              "      <td>3.0</td>\n",
              "      <td>2.0</td>\n",
              "      <td>7.0</td>\n",
              "      <td>2018-04-28</td>\n",
              "      <td>3.0</td>\n",
              "      <td>5.0</td>\n",
              "      <td>7.0</td>\n",
              "      <td>603.0</td>\n",
              "      <td>77.0</td>\n",
              "      <td>17.0</td>\n",
              "      <td>16.0</td>\n",
              "      <td>1.0</td>\n",
              "      <td>5.0</td>\n",
              "      <td>3.0</td>\n",
              "      <td>2.0</td>\n",
              "      <td>0.0</td>\n",
              "      <td>0.0</td>\n",
              "      <td>4.0</td>\n",
              "      <td>20.0</td>\n",
              "      <td>2.0</td>\n",
              "      <td>0.0</td>\n",
              "      <td>0.0</td>\n",
              "      <td>341.0</td>\n",
              "      <td>2017-12-18</td>\n",
              "      <td>2300.0</td>\n",
              "      <td>76.0</td>\n",
              "      <td>2.0</td>\n",
              "      <td>2.0</td>\n",
              "      <td>2300.0</td>\n",
              "      <td>2250.0</td>\n",
              "      <td>10200.0</td>\n",
              "      <td>80.0</td>\n",
              "      <td>3.0</td>\n",
              "      <td>3.0</td>\n",
              "      <td>14400.0</td>\n",
              "      <td>8600.0</td>\n",
              "      <td>6.0</td>\n",
              "      <td>137.0</td>\n",
              "    </tr>\n",
              "  </tbody>\n",
              "</table>\n",
              "</div>"
            ],
            "text/plain": [
              "      Unnamed: 0   custid                          trade_no bank_card_no  \\\n",
              "3267        8182  1330318  20180507123946073000000388383705          卡号1   \n",
              "4085       10319  3168263  20180507122218164000000388316407          卡号1   \n",
              "4267       10769  2823130  20180507120757595000000388256876          卡号1   \n",
              "253          643  3630793  20180507114806484000000388188355          卡号1   \n",
              "2553        6388   884312  20180507120315877000000388242183          卡号1   \n",
              "578         1421  1039411  20180507121526637000000023078410          卡号1   \n",
              "3752        9479  2394096  20180507120204874000000023065658          卡号1   \n",
              "3173        7960   709498  20180507121239924000000388272647          卡号1   \n",
              "1442        3749    44751  20180507120956745000000388264782          卡号1   \n",
              "176          475  3030927  20180504160148585000000381277628          卡号1   \n",
              "\n",
              "      low_volume_percent  middle_volume_percent  \\\n",
              "3267                0.01                   0.93   \n",
              "4085                0.01                   0.88   \n",
              "4267                0.05                   0.95   \n",
              "253                 0.03                   0.78   \n",
              "2553                0.02                   0.98   \n",
              "578                 0.00                   0.80   \n",
              "3752                0.01                   0.99   \n",
              "3173                0.01                   0.61   \n",
              "1442                0.03                   0.97   \n",
              "176                 0.01                   0.99   \n",
              "\n",
              "      take_amount_in_later_12_month_highest  \\\n",
              "3267                                   2500   \n",
              "4085                                   3500   \n",
              "4267                                    100   \n",
              "253                                       0   \n",
              "2553                                   2000   \n",
              "578                                   14000   \n",
              "3752                                      0   \n",
              "3173                                      0   \n",
              "1442                                   2000   \n",
              "176                                       0   \n",
              "\n",
              "      trans_amount_increase_rate_lately  trans_activity_month  \\\n",
              "3267                               0.69                  1.00   \n",
              "4085                               1.87                  0.79   \n",
              "4267                               3.60                  0.83   \n",
              "253                                0.88                  0.35   \n",
              "2553                               1.08                  0.91   \n",
              "578                                0.92                  0.83   \n",
              "3752                               2.71                  0.46   \n",
              "3173                               0.87                  1.00   \n",
              "1442                               1.08                  1.00   \n",
              "176                                3.60                  0.31   \n",
              "\n",
              "      trans_activity_day  transd_mcc  trans_days_interval_filter  \\\n",
              "3267               0.516        20.0                        22.0   \n",
              "4085               0.359        15.0                        40.0   \n",
              "4267               0.315        17.0                        34.0   \n",
              "253                0.175        11.0                       173.0   \n",
              "2553               0.297        18.0                        23.0   \n",
              "578                0.236        14.0                        21.0   \n",
              "3752               0.110        14.0                        38.0   \n",
              "3173               0.361        18.0                        81.0   \n",
              "1442               0.608        24.0                        12.0   \n",
              "176                0.242        16.0                        40.0   \n",
              "\n",
              "      trans_days_interval  regional_mobility  student_feature  \\\n",
              "3267                 21.0                2.0              1.0   \n",
              "4085                 24.0                1.0              NaN   \n",
              "4267                 40.0                1.0              1.0   \n",
              "253                 143.0                2.0              NaN   \n",
              "2553                 14.0                2.0              NaN   \n",
              "578                  13.0                2.0              1.0   \n",
              "3752                 39.0                2.0              1.0   \n",
              "3173                 29.0                1.0              NaN   \n",
              "1442                  8.0                3.0              1.0   \n",
              "176                  24.0                4.0              NaN   \n",
              "\n",
              "      repayment_capability  is_high_user  number_of_trans_from_2011  \\\n",
              "3267                 24690             0                       25.0   \n",
              "4085                 32850             0                       11.0   \n",
              "4267                 13110             0                       15.0   \n",
              "253                  11380             0                       11.0   \n",
              "2553                 13990             0                       20.0   \n",
              "578                  10720             0                       19.0   \n",
              "3752                 11410             0                       12.0   \n",
              "3173                 16520             0                       18.0   \n",
              "1442                 14460             0                       34.0   \n",
              "176                   6170             0                       18.0   \n",
              "\n",
              "      first_transaction_time  historical_trans_amount  historical_trans_day  \\\n",
              "3267              20160228.0                   353100                 289.0   \n",
              "4085              20161213.0                   180030                 102.0   \n",
              "4267              20160831.0                    92360                 110.0   \n",
              "253               20150803.0                    36300                  46.0   \n",
              "2553              20160524.0                   233340                 144.0   \n",
              "578               20160429.0                   157790                 111.0   \n",
              "3752              20151209.0                    20350                  35.0   \n",
              "3173              20160918.0                    69100                 173.0   \n",
              "1442              20150509.0                   414070                 386.0   \n",
              "176               20130525.0                    41800                  90.0   \n",
              "\n",
              "      rank_trad_1_month  trans_amount_3_month  \\\n",
              "3267               0.55                  9290   \n",
              "4085               0.10                 48130   \n",
              "4267               1.00                 16790   \n",
              "253                0.65                  7290   \n",
              "2553               0.40                 43810   \n",
              "578                0.25                 35310   \n",
              "3752               1.00                  1210   \n",
              "3173               0.45                 31080   \n",
              "1442               0.35                 49300   \n",
              "176                0.60                  7440   \n",
              "\n",
              "      avg_consume_less_12_valid_month    abs  top_trans_count_last_1_month  \\\n",
              "3267                              8.0   6460                          0.30   \n",
              "4085                              5.0  11270                          0.15   \n",
              "4267                              7.0    850                          1.00   \n",
              "253                               5.0    310                          0.65   \n",
              "2553                              7.0   3150                          0.15   \n",
              "578                               6.0  26790                          0.20   \n",
              "3752                              6.0    330                          1.00   \n",
              "3173                              9.0  22530                          0.20   \n",
              "1442                              6.0   9910                          0.05   \n",
              "176                               6.0   4050                          0.65   \n",
              "\n",
              "      avg_price_last_12_month  avg_price_top_last_12_valid_month  \\\n",
              "3267                     1240                               0.50   \n",
              "4085                     1630                               0.40   \n",
              "4267                      710                               0.65   \n",
              "253                       810                               0.60   \n",
              "2553                     1200                               0.50   \n",
              "578                      1770                               0.35   \n",
              "3752                      840                               0.60   \n",
              "3173                     2100                               0.35   \n",
              "1442                      910                               0.60   \n",
              "176                       920                               0.55   \n",
              "\n",
              "     reg_preference_for_trad  trans_top_time_last_1_month  \\\n",
              "3267                    三线城市                          7.0   \n",
              "4085                    一线城市                          1.0   \n",
              "4267                    一线城市                          0.0   \n",
              "253                     一线城市                         13.0   \n",
              "2553                    一线城市                          9.0   \n",
              "578                     三线城市                          6.0   \n",
              "3752                    一线城市                          0.0   \n",
              "3173                    三线城市                         15.0   \n",
              "1442                    一线城市                         12.0   \n",
              "176                     一线城市                          5.0   \n",
              "\n",
              "      trans_top_time_last_6_month  consume_top_time_last_1_month  \\\n",
              "3267                         22.0                            7.0   \n",
              "4085                         40.0                            1.0   \n",
              "4267                          8.0                            0.0   \n",
              "253                          14.0                           13.0   \n",
              "2553                         14.0                            9.0   \n",
              "578                          13.0                            8.0   \n",
              "3752                         29.0                            0.0   \n",
              "3173                         19.0                           15.0   \n",
              "1442                         12.0                           12.0   \n",
              "176                          20.0                            5.0   \n",
              "\n",
              "      consume_top_time_last_6_month  cross_consume_count_last_1_month  \\\n",
              "3267                           22.0                               0.0   \n",
              "4085                           40.0                               2.0   \n",
              "4267                            8.0                               0.0   \n",
              "253                            14.0                               0.0   \n",
              "2553                           14.0                               0.0   \n",
              "578                            13.0                               0.0   \n",
              "3752                           29.0                               0.0   \n",
              "3173                           19.0                               NaN   \n",
              "1442                           12.0                               3.0   \n",
              "176                            20.0                               0.0   \n",
              "\n",
              "      trans_fail_top_count_enum_last_1_month  \\\n",
              "3267                                     2.0   \n",
              "4085                                     2.0   \n",
              "4267                                     0.0   \n",
              "253                                      1.0   \n",
              "2553                                     1.0   \n",
              "578                                      0.0   \n",
              "3752                                     0.0   \n",
              "3173                                     0.0   \n",
              "1442                                     6.0   \n",
              "176                                      0.0   \n",
              "\n",
              "      trans_fail_top_count_enum_last_6_month  \\\n",
              "3267                                     6.0   \n",
              "4085                                     2.0   \n",
              "4267                                     6.0   \n",
              "253                                      1.0   \n",
              "2553                                    10.0   \n",
              "578                                      2.0   \n",
              "3752                                     0.0   \n",
              "3173                                     2.0   \n",
              "1442                                     7.0   \n",
              "176                                      0.0   \n",
              "\n",
              "      trans_fail_top_count_enum_last_12_month  consume_mini_time_last_1_month  \\\n",
              "3267                                      6.0                             0.0   \n",
              "4085                                      2.0                           828.0   \n",
              "4267                                      6.0                             0.0   \n",
              "253                                       1.0                             0.0   \n",
              "2553                                     10.0                             0.0   \n",
              "578                                       3.0                            57.0   \n",
              "3752                                      2.0                             0.0   \n",
              "3173                                      2.0                       1305934.0   \n",
              "1442                                      7.0                           286.0   \n",
              "176                                       3.0                             0.0   \n",
              "\n",
              "      max_cumulative_consume_later_1_month  max_consume_count_later_6_month  \\\n",
              "3267                                   680                             27.0   \n",
              "4085                                 28550                              5.0   \n",
              "4267                                     0                              8.0   \n",
              "253                                    720                              3.0   \n",
              "2553                                  2240                             12.0   \n",
              "578                                   5330                              3.0   \n",
              "3752                                     0                              2.0   \n",
              "3173                                  1230                              2.0   \n",
              "1442                                  3150                              6.0   \n",
              "176                                    950                              2.0   \n",
              "\n",
              "      railway_consume_count_last_12_month  \\\n",
              "3267                                  0.0   \n",
              "4085                                  0.0   \n",
              "4267                                  0.0   \n",
              "253                                   0.0   \n",
              "2553                                  0.0   \n",
              "578                                   0.0   \n",
              "3752                                  0.0   \n",
              "3173                                  0.0   \n",
              "1442                                  0.0   \n",
              "176                                   0.0   \n",
              "\n",
              "      pawns_auctions_trusts_consume_last_1_month  \\\n",
              "3267                                           0   \n",
              "4085                                       20000   \n",
              "4267                                           0   \n",
              "253                                            0   \n",
              "2553                                           0   \n",
              "578                                         2600   \n",
              "3752                                           0   \n",
              "3173                                           0   \n",
              "1442                                        1160   \n",
              "176                                            0   \n",
              "\n",
              "      pawns_auctions_trusts_consume_last_6_month  \\\n",
              "3267                                       12460   \n",
              "4085                                       29820   \n",
              "4267                                       11330   \n",
              "253                                         9860   \n",
              "2553                                       16680   \n",
              "578                                        24290   \n",
              "3752                                           0   \n",
              "3173                                        6150   \n",
              "1442                                       38610   \n",
              "176                                           20   \n",
              "\n",
              "      jewelry_consume_count_last_6_month  status source  \\\n",
              "3267                                 0.0       1     xs   \n",
              "4085                                 0.0       0     xs   \n",
              "4267                                 0.0       1     xs   \n",
              "253                                  0.0       0     xs   \n",
              "2553                                 0.0       0     xs   \n",
              "578                                  0.0       0     xs   \n",
              "3752                                 0.0       1     xs   \n",
              "3173                                 0.0       0     xs   \n",
              "1442                                 0.0       1     xs   \n",
              "176                                  0.0       0     xs   \n",
              "\n",
              "      first_transaction_day  trans_day_last_12_month id_name  apply_score  \\\n",
              "3267                  813.0                     90.0     吴水高        542.0   \n",
              "4085                  524.0                    100.0      马文        638.0   \n",
              "4267                  628.0                    118.0      刘槽        532.0   \n",
              "253                  1022.0                     83.0     郑文财        635.0   \n",
              "2553                  727.0                     84.0     郑佳元        532.0   \n",
              "578                   752.0                     83.0      杨星        637.0   \n",
              "3752                  894.0                    122.0     黄志民        618.0   \n",
              "3173                  610.0                     82.0     龚纯喜        673.0   \n",
              "1442                 1108.0                     83.0     赵礼春        541.0   \n",
              "176                  1822.0                     97.0     郑华锋        630.0   \n",
              "\n",
              "      apply_credibility  query_org_count  query_finance_count  \\\n",
              "3267               73.0             10.0                  5.0   \n",
              "4085               70.0             10.0                  6.0   \n",
              "4267               76.0             19.0                 10.0   \n",
              "253                68.0              9.0                  5.0   \n",
              "2553               74.0             12.0                  7.0   \n",
              "578                79.0              9.0                  6.0   \n",
              "3752               83.0              2.0                  0.0   \n",
              "3173               56.0              2.0                  1.0   \n",
              "1442               77.0             18.0                 11.0   \n",
              "176                74.0              6.0                  3.0   \n",
              "\n",
              "      query_cash_count  query_sum_count latest_query_time  \\\n",
              "3267               5.0             11.0        2018-03-01   \n",
              "4085               3.0             13.0        2018-05-05   \n",
              "4267               6.0             26.0        2018-04-14   \n",
              "253                4.0             14.0        2018-03-18   \n",
              "2553               5.0             15.0        2018-04-17   \n",
              "578                2.0             13.0        2018-04-11   \n",
              "3752               1.0              2.0        2017-11-26   \n",
              "3173               0.0              2.0        2018-04-02   \n",
              "1442               5.0             24.0        2018-05-04   \n",
              "176                2.0              7.0        2018-04-28   \n",
              "\n",
              "      latest_one_month_apply  latest_three_month_apply  \\\n",
              "3267                     0.0                       1.0   \n",
              "4085                     6.0                       9.0   \n",
              "4267                     5.0                      10.0   \n",
              "253                      0.0                       4.0   \n",
              "2553                     1.0                       7.0   \n",
              "578                      2.0                      11.0   \n",
              "3752                     0.0                       0.0   \n",
              "3173                     0.0                       1.0   \n",
              "1442                     7.0                      16.0   \n",
              "176                      3.0                       5.0   \n",
              "\n",
              "      latest_six_month_apply  loans_score  loans_credibility_behavior  \\\n",
              "3267                     2.0        505.0                        76.0   \n",
              "4085                    10.0        606.0                        76.0   \n",
              "4267                    20.0        507.0                        75.0   \n",
              "253                      4.0        612.0                        77.0   \n",
              "2553                    13.0        489.0                        76.0   \n",
              "578                     11.0        611.0                        69.0   \n",
              "3752                     1.0        578.0                        74.0   \n",
              "3173                     2.0        668.0                        79.0   \n",
              "1442                    21.0        546.0                        75.0   \n",
              "176                      7.0        603.0                        77.0   \n",
              "\n",
              "      loans_count  loans_settle_count  loans_overdue_count  \\\n",
              "3267         44.0                43.0                  6.0   \n",
              "4085         16.0                14.0                  0.0   \n",
              "4267         31.0                25.0                  7.0   \n",
              "253          11.0                11.0                  0.0   \n",
              "2553         33.0                30.0                  5.0   \n",
              "578          13.0                12.0                  0.0   \n",
              "3752          5.0                 3.0                  0.0   \n",
              "3173          9.0                 7.0                  0.0   \n",
              "1442         47.0                30.0                  3.0   \n",
              "176          17.0                16.0                  1.0   \n",
              "\n",
              "      loans_org_count_behavior  consfin_org_count_behavior  loans_cash_count  \\\n",
              "3267                      20.0                         7.0              13.0   \n",
              "4085                       6.0                         2.0               4.0   \n",
              "4267                      10.0                         3.0               7.0   \n",
              "253                        6.0                         2.0               4.0   \n",
              "2553                      11.0                         3.0               8.0   \n",
              "578                        7.0                         2.0               5.0   \n",
              "3752                       3.0                         1.0               2.0   \n",
              "3173                       4.0                         3.0               1.0   \n",
              "1442                      20.0                         7.0              13.0   \n",
              "176                        5.0                         3.0               2.0   \n",
              "\n",
              "      latest_one_month_loan  latest_three_month_loan  latest_six_month_loan  \\\n",
              "3267                    1.0                      2.0                    5.0   \n",
              "4085                    1.0                      1.0                    4.0   \n",
              "4267                    1.0                      3.0                   11.0   \n",
              "253                     1.0                      3.0                    7.0   \n",
              "2553                    0.0                      0.0                   14.0   \n",
              "578                     1.0                      2.0                    7.0   \n",
              "3752                    0.0                      0.0                    3.0   \n",
              "3173                    1.0                      3.0                    5.0   \n",
              "1442                    2.0                      3.0                   21.0   \n",
              "176                     0.0                      0.0                    4.0   \n",
              "\n",
              "      history_suc_fee  history_fail_fee  latest_one_month_suc  \\\n",
              "3267             54.0              27.0                   1.0   \n",
              "4085             18.0               6.0                   1.0   \n",
              "4267             51.0              37.0                   0.0   \n",
              "253              11.0               0.0                   1.0   \n",
              "2553             33.0              17.0                   0.0   \n",
              "578              26.0               5.0                   1.0   \n",
              "3752              3.0               2.0                   0.0   \n",
              "3173              9.0               2.0                   1.0   \n",
              "1442             44.0              46.0                   3.0   \n",
              "176              20.0               2.0                   0.0   \n",
              "\n",
              "      latest_one_month_fail  loans_long_time loans_latest_time  \\\n",
              "3267                    2.0            359.0        2018-05-03   \n",
              "4085                    1.0            304.0        2018-04-30   \n",
              "4267                    3.0            326.0        2018-04-18   \n",
              "253                     0.0            223.0        2018-04-28   \n",
              "2553                    0.0            353.0        2018-01-14   \n",
              "578                     2.0            352.0        2018-04-21   \n",
              "3752                    0.0            357.0        2017-12-10   \n",
              "3173                    0.0            297.0        2018-04-27   \n",
              "1442                    7.0            359.0        2018-05-06   \n",
              "176                     0.0            341.0        2017-12-18   \n",
              "\n",
              "      loans_credit_limit  loans_credibility_limit  loans_org_count_current  \\\n",
              "3267              2500.0                     73.0                     13.0   \n",
              "4085              2400.0                     76.0                      4.0   \n",
              "4267              1300.0                     73.0                      7.0   \n",
              "253               1500.0                     76.0                      4.0   \n",
              "2553              1800.0                     73.0                      8.0   \n",
              "578               3400.0                     69.0                      5.0   \n",
              "3752              1500.0                     73.0                      2.0   \n",
              "3173              2400.0                     72.0                      1.0   \n",
              "1442              1900.0                     73.0                     13.0   \n",
              "176               2300.0                     76.0                      2.0   \n",
              "\n",
              "      loans_product_count  loans_max_limit  loans_avg_limit  \\\n",
              "3267                 14.0           7100.0           2138.0   \n",
              "4085                  4.0           2800.0           2275.0   \n",
              "4267                  7.0           2300.0           1442.0   \n",
              "253                   5.0           2300.0           1125.0   \n",
              "2553                  8.0           3000.0           1562.0   \n",
              "578                   5.0           7500.0           3140.0   \n",
              "3752                  3.0           1800.0           1450.0   \n",
              "3173                  1.0           2400.0           2400.0   \n",
              "1442                 14.0           3600.0           1669.0   \n",
              "176                   2.0           2300.0           2250.0   \n",
              "\n",
              "      consfin_credit_limit  consfin_credibility  consfin_org_count_current  \\\n",
              "3267                8000.0                 82.0                        7.0   \n",
              "4085                1400.0                 68.0                        2.0   \n",
              "4267                1200.0                 79.0                        3.0   \n",
              "253                 1700.0                 82.0                        2.0   \n",
              "2553               28300.0                 81.0                        3.0   \n",
              "578                16300.0                 69.0                        2.0   \n",
              "3752                3600.0                 78.0                        1.0   \n",
              "3173                2300.0                 80.0                        3.0   \n",
              "1442                4300.0                 77.0                        7.0   \n",
              "176                10200.0                 80.0                        3.0   \n",
              "\n",
              "      consfin_product_count  consfin_max_limit  consfin_avg_limit  \\\n",
              "3267                    8.0            19200.0             6028.0   \n",
              "4085                    3.0             1800.0             1500.0   \n",
              "4267                    4.0             1200.0             1066.0   \n",
              "253                     2.0             2400.0             1700.0   \n",
              "2553                    3.0            34800.0            22800.0   \n",
              "578                     2.0            25200.0            17400.0   \n",
              "3752                    1.0             3600.0             3600.0   \n",
              "3173                    3.0             5400.0             2466.0   \n",
              "1442                    8.0            14400.0             6771.0   \n",
              "176                     3.0            14400.0             8600.0   \n",
              "\n",
              "      latest_query_day  loans_latest_day  \n",
              "3267              67.0               4.0  \n",
              "4085               2.0               7.0  \n",
              "4267              23.0              19.0  \n",
              "253               50.0               9.0  \n",
              "2553              20.0             113.0  \n",
              "578               26.0              16.0  \n",
              "3752             162.0             148.0  \n",
              "3173              35.0              10.0  \n",
              "1442               3.0               1.0  \n",
              "176                6.0             137.0  "
            ]
          },
          "metadata": {
            "tags": []
          },
          "execution_count": 73
        }
      ]
    },
    {
      "cell_type": "markdown",
      "metadata": {
        "id": "XT9p8xEFwXkk",
        "colab_type": "text"
      },
      "source": [
        "## 二. 数据分析与处理\n",
        "1. 数据类型、重复值分析\n",
        "2. 无关特征删除、类型转换\n",
        "3. 缺失值处理\n",
        "4. 其他可借鉴的数据分析处理"
      ]
    },
    {
      "cell_type": "markdown",
      "metadata": {
        "id": "qrSKapkEwXkl",
        "colab_type": "text"
      },
      "source": [
        "### 1. 数据类型分析"
      ]
    },
    {
      "cell_type": "code",
      "metadata": {
        "scrolled": true,
        "id": "m8J3i1NhwXkm",
        "colab_type": "code",
        "outputId": "81a45f71-4c2c-49fa-ef68-d2ad85be9e7d",
        "colab": {
          "base_uri": "https://localhost:8080/",
          "height": 1649
        }
      },
      "source": [
        "data.info()\n",
        "data.shape"
      ],
      "execution_count": 74,
      "outputs": [
        {
          "output_type": "stream",
          "text": [
            "<class 'pandas.core.frame.DataFrame'>\n",
            "RangeIndex: 4754 entries, 0 to 4753\n",
            "Data columns (total 90 columns):\n",
            "Unnamed: 0                                    4754 non-null int64\n",
            "custid                                        4754 non-null int64\n",
            "trade_no                                      4754 non-null object\n",
            "bank_card_no                                  4754 non-null object\n",
            "low_volume_percent                            4752 non-null float64\n",
            "middle_volume_percent                         4752 non-null float64\n",
            "take_amount_in_later_12_month_highest         4754 non-null int64\n",
            "trans_amount_increase_rate_lately             4751 non-null float64\n",
            "trans_activity_month                          4752 non-null float64\n",
            "trans_activity_day                            4752 non-null float64\n",
            "transd_mcc                                    4752 non-null float64\n",
            "trans_days_interval_filter                    4746 non-null float64\n",
            "trans_days_interval                           4752 non-null float64\n",
            "regional_mobility                             4752 non-null float64\n",
            "student_feature                               1756 non-null float64\n",
            "repayment_capability                          4754 non-null int64\n",
            "is_high_user                                  4754 non-null int64\n",
            "number_of_trans_from_2011                     4752 non-null float64\n",
            "first_transaction_time                        4752 non-null float64\n",
            "historical_trans_amount                       4754 non-null int64\n",
            "historical_trans_day                          4752 non-null float64\n",
            "rank_trad_1_month                             4752 non-null float64\n",
            "trans_amount_3_month                          4754 non-null int64\n",
            "avg_consume_less_12_valid_month               4752 non-null float64\n",
            "abs                                           4754 non-null int64\n",
            "top_trans_count_last_1_month                  4752 non-null float64\n",
            "avg_price_last_12_month                       4754 non-null int64\n",
            "avg_price_top_last_12_valid_month             4650 non-null float64\n",
            "reg_preference_for_trad                       4752 non-null object\n",
            "trans_top_time_last_1_month                   4746 non-null float64\n",
            "trans_top_time_last_6_month                   4746 non-null float64\n",
            "consume_top_time_last_1_month                 4746 non-null float64\n",
            "consume_top_time_last_6_month                 4746 non-null float64\n",
            "cross_consume_count_last_1_month              4328 non-null float64\n",
            "trans_fail_top_count_enum_last_1_month        4738 non-null float64\n",
            "trans_fail_top_count_enum_last_6_month        4738 non-null float64\n",
            "trans_fail_top_count_enum_last_12_month       4738 non-null float64\n",
            "consume_mini_time_last_1_month                4728 non-null float64\n",
            "max_cumulative_consume_later_1_month          4754 non-null int64\n",
            "max_consume_count_later_6_month               4746 non-null float64\n",
            "railway_consume_count_last_12_month           4742 non-null float64\n",
            "pawns_auctions_trusts_consume_last_1_month    4754 non-null int64\n",
            "pawns_auctions_trusts_consume_last_6_month    4754 non-null int64\n",
            "jewelry_consume_count_last_6_month            4742 non-null float64\n",
            "status                                        4754 non-null int64\n",
            "source                                        4754 non-null object\n",
            "first_transaction_day                         4752 non-null float64\n",
            "trans_day_last_12_month                       4752 non-null float64\n",
            "id_name                                       4478 non-null object\n",
            "apply_score                                   4450 non-null float64\n",
            "apply_credibility                             4450 non-null float64\n",
            "query_org_count                               4450 non-null float64\n",
            "query_finance_count                           4450 non-null float64\n",
            "query_cash_count                              4450 non-null float64\n",
            "query_sum_count                               4450 non-null float64\n",
            "latest_query_time                             4450 non-null object\n",
            "latest_one_month_apply                        4450 non-null float64\n",
            "latest_three_month_apply                      4450 non-null float64\n",
            "latest_six_month_apply                        4450 non-null float64\n",
            "loans_score                                   4457 non-null float64\n",
            "loans_credibility_behavior                    4457 non-null float64\n",
            "loans_count                                   4457 non-null float64\n",
            "loans_settle_count                            4457 non-null float64\n",
            "loans_overdue_count                           4457 non-null float64\n",
            "loans_org_count_behavior                      4457 non-null float64\n",
            "consfin_org_count_behavior                    4457 non-null float64\n",
            "loans_cash_count                              4457 non-null float64\n",
            "latest_one_month_loan                         4457 non-null float64\n",
            "latest_three_month_loan                       4457 non-null float64\n",
            "latest_six_month_loan                         4457 non-null float64\n",
            "history_suc_fee                               4457 non-null float64\n",
            "history_fail_fee                              4457 non-null float64\n",
            "latest_one_month_suc                          4457 non-null float64\n",
            "latest_one_month_fail                         4457 non-null float64\n",
            "loans_long_time                               4457 non-null float64\n",
            "loans_latest_time                             4457 non-null object\n",
            "loans_credit_limit                            4457 non-null float64\n",
            "loans_credibility_limit                       4457 non-null float64\n",
            "loans_org_count_current                       4457 non-null float64\n",
            "loans_product_count                           4457 non-null float64\n",
            "loans_max_limit                               4457 non-null float64\n",
            "loans_avg_limit                               4457 non-null float64\n",
            "consfin_credit_limit                          4457 non-null float64\n",
            "consfin_credibility                           4457 non-null float64\n",
            "consfin_org_count_current                     4457 non-null float64\n",
            "consfin_product_count                         4457 non-null float64\n",
            "consfin_max_limit                             4457 non-null float64\n",
            "consfin_avg_limit                             4457 non-null float64\n",
            "latest_query_day                              4450 non-null float64\n",
            "loans_latest_day                              4457 non-null float64\n",
            "dtypes: float64(70), int64(13), object(7)\n",
            "memory usage: 3.3+ MB\n"
          ],
          "name": "stdout"
        },
        {
          "output_type": "execute_result",
          "data": {
            "text/plain": [
              "(4754, 90)"
            ]
          },
          "metadata": {
            "tags": []
          },
          "execution_count": 74
        }
      ]
    },
    {
      "cell_type": "markdown",
      "metadata": {
        "id": "WYyR0sw_wXkp",
        "colab_type": "text"
      },
      "source": [
        "### 2. 重复值分析"
      ]
    },
    {
      "cell_type": "code",
      "metadata": {
        "id": "2dHn8lqYwXkp",
        "colab_type": "code",
        "outputId": "b3ac185c-c28e-4526-c841-4fddf577475b",
        "colab": {
          "base_uri": "https://localhost:8080/",
          "height": 34
        }
      },
      "source": [
        "# 检查是否要重复数据\n",
        "data.duplicated().any()"
      ],
      "execution_count": 75,
      "outputs": [
        {
          "output_type": "execute_result",
          "data": {
            "text/plain": [
              "False"
            ]
          },
          "metadata": {
            "tags": []
          },
          "execution_count": 75
        }
      ]
    },
    {
      "cell_type": "code",
      "metadata": {
        "id": "_6YxZKPXwXks",
        "colab_type": "code",
        "outputId": "9c3cd8be-f7f1-4fcc-b173-d6d575009530",
        "colab": {
          "base_uri": "https://localhost:8080/",
          "height": 34
        }
      },
      "source": [
        "# 检查是否用重复的用户，结果False\n",
        "data[\"custid\"].duplicated().any()"
      ],
      "execution_count": 76,
      "outputs": [
        {
          "output_type": "execute_result",
          "data": {
            "text/plain": [
              "False"
            ]
          },
          "metadata": {
            "tags": []
          },
          "execution_count": 76
        }
      ]
    },
    {
      "cell_type": "markdown",
      "metadata": {
        "id": "8pYeCbT0wXku",
        "colab_type": "text"
      },
      "source": [
        "### 3. 无关特征删除、类型转换"
      ]
    },
    {
      "cell_type": "markdown",
      "metadata": {
        "id": "leDj8RZzwXkv",
        "colab_type": "text"
      },
      "source": [
        "#### 3.1 object类型的数据"
      ]
    },
    {
      "cell_type": "code",
      "metadata": {
        "id": "yOIQr6f0wXkw",
        "colab_type": "code",
        "outputId": "1fc75f8a-5b37-4b0a-b7ea-6436d1826fc8",
        "colab": {
          "base_uri": "https://localhost:8080/",
          "height": 68
        }
      },
      "source": [
        "data.select_dtypes(include=\"object\").columns"
      ],
      "execution_count": 77,
      "outputs": [
        {
          "output_type": "execute_result",
          "data": {
            "text/plain": [
              "Index(['trade_no', 'bank_card_no', 'reg_preference_for_trad', 'source',\n",
              "       'id_name', 'latest_query_time', 'loans_latest_time'],\n",
              "      dtype='object')"
            ]
          },
          "metadata": {
            "tags": []
          },
          "execution_count": 77
        }
      ]
    },
    {
      "cell_type": "code",
      "metadata": {
        "id": "LChzQDVHwXky",
        "colab_type": "code",
        "outputId": "88c74b69-cd80-47f2-eac7-c98e2f1937e3",
        "colab": {
          "base_uri": "https://localhost:8080/",
          "height": 187
        }
      },
      "source": [
        "'''分析object类型数据'''\n",
        "# 检查是否有重复的trade_no，结果False，且交易的单号不影响结果需要删除\n",
        "# display(data[\"trade_no\"].duplicated().any())\n",
        "# 检查bank_card_no，全为相同内容，需要删除\n",
        "display(data[\"bank_card_no\"].value_counts())\n",
        "# 检查reg_preference_for_trad，分为5大类需要使用LabelEncoder编码\n",
        "display(data[\"reg_preference_for_trad\"].value_counts())\n",
        "# 检查source，全为相同内容，需要删除\n",
        "display(data[\"source\"].value_counts())\n",
        "# loans_latest_time、latest_query_time 时间内容需要调整\n",
        "#id_name为用户姓名不影响结果需要删除"
      ],
      "execution_count": 78,
      "outputs": [
        {
          "output_type": "display_data",
          "data": {
            "text/plain": [
              "卡号1    4754\n",
              "Name: bank_card_no, dtype: int64"
            ]
          },
          "metadata": {
            "tags": []
          }
        },
        {
          "output_type": "display_data",
          "data": {
            "text/plain": [
              "一线城市    3403\n",
              "三线城市    1064\n",
              "境外       150\n",
              "二线城市     131\n",
              "其他城市       4\n",
              "Name: reg_preference_for_trad, dtype: int64"
            ]
          },
          "metadata": {
            "tags": []
          }
        },
        {
          "output_type": "display_data",
          "data": {
            "text/plain": [
              "xs    4754\n",
              "Name: source, dtype: int64"
            ]
          },
          "metadata": {
            "tags": []
          }
        }
      ]
    },
    {
      "cell_type": "code",
      "metadata": {
        "id": "3FQjHGHQwXk1",
        "colab_type": "code",
        "outputId": "699b3493-68a2-4377-9d2a-18bbb93d182b",
        "colab": {
          "base_uri": "https://localhost:8080/",
          "height": 34
        }
      },
      "source": [
        "'''处理object类型数据'''\n",
        "#删除trade_no、bank_card_no、source、id_name、source列\n",
        "data.drop(columns=[\"trade_no\",\"bank_card_no\",\"id_name\",\"source\"], axis=1, inplace=True)\n",
        "data.select_dtypes(include=\"object\").columns"
      ],
      "execution_count": 79,
      "outputs": [
        {
          "output_type": "execute_result",
          "data": {
            "text/plain": [
              "Index(['reg_preference_for_trad', 'latest_query_time', 'loans_latest_time'], dtype='object')"
            ]
          },
          "metadata": {
            "tags": []
          },
          "execution_count": 79
        }
      ]
    },
    {
      "cell_type": "code",
      "metadata": {
        "id": "4JfXLpquwXk4",
        "colab_type": "code",
        "outputId": "da0d3f8f-aa58-48f6-8bad-d4c8ce02d280",
        "colab": {
          "base_uri": "https://localhost:8080/",
          "height": 136
        }
      },
      "source": [
        "#LabelEncoder编码处理reg_preference_for_trad\n",
        "from sklearn.preprocessing import LabelEncoder\n",
        "lb = LabelEncoder()\n",
        "data[\"reg_preference_for_trad\"] = lb.fit_transform(data[\"reg_preference_for_trad\"].astype(str))\n",
        "data[\"reg_preference_for_trad\"].value_counts()"
      ],
      "execution_count": 80,
      "outputs": [
        {
          "output_type": "execute_result",
          "data": {
            "text/plain": [
              "1    3403\n",
              "2    1064\n",
              "5     150\n",
              "3     131\n",
              "4       4\n",
              "0       2\n",
              "Name: reg_preference_for_trad, dtype: int64"
            ]
          },
          "metadata": {
            "tags": []
          },
          "execution_count": 80
        }
      ]
    },
    {
      "cell_type": "code",
      "metadata": {
        "id": "On_jWksuwXk6",
        "colab_type": "code",
        "colab": {}
      },
      "source": [
        "# 将'latest_query_time', 'loans_latest_time'转换成日期格式，然后计算与当前日期的天数差值\n",
        "data['latest_query_time'] = (pd.to_datetime(data['latest_query_time']) - pd.to_datetime('today')).apply(lambda col: col.days)\n",
        "data['loans_latest_time'] = (pd.to_datetime(data['loans_latest_time']) - pd.to_datetime('today')).apply(lambda col: col.days)"
      ],
      "execution_count": 0,
      "outputs": []
    },
    {
      "cell_type": "markdown",
      "metadata": {
        "id": "JYO5NS4mwXk8",
        "colab_type": "text"
      },
      "source": [
        "#### 3.2 非object类型的数据"
      ]
    },
    {
      "cell_type": "code",
      "metadata": {
        "id": "qcsT5ZejwXk9",
        "colab_type": "code",
        "colab": {}
      },
      "source": [
        "# Unnamed: 0 为序号需要删除，custid为用户id需要删除\n",
        "data.drop(columns=[\"Unnamed: 0\",\"custid\"], axis=1, inplace=True)"
      ],
      "execution_count": 0,
      "outputs": []
    },
    {
      "cell_type": "markdown",
      "metadata": {
        "id": "vMRTPU6LwXk_",
        "colab_type": "text"
      },
      "source": [
        "### 4. 缺失值处理"
      ]
    },
    {
      "cell_type": "code",
      "metadata": {
        "scrolled": true,
        "id": "hRPyz_t6wXlA",
        "colab_type": "code",
        "outputId": "55380567-8063-4800-d65c-c89d94782a6d",
        "colab": {
          "base_uri": "https://localhost:8080/",
          "height": 238
        }
      },
      "source": [
        "data.isnull().sum().value_counts()"
      ],
      "execution_count": 83,
      "outputs": [
        {
          "output_type": "execute_result",
          "data": {
            "text/plain": [
              "297     30\n",
              "2       15\n",
              "0       12\n",
              "304     11\n",
              "8        6\n",
              "16       3\n",
              "12       2\n",
              "104      1\n",
              "2998     1\n",
              "426      1\n",
              "26       1\n",
              "3        1\n",
              "dtype: int64"
            ]
          },
          "metadata": {
            "tags": []
          },
          "execution_count": 83
        }
      ]
    },
    {
      "cell_type": "code",
      "metadata": {
        "id": "LFfLfqpiwXlE",
        "colab_type": "code",
        "outputId": "20faf683-5ee5-4596-f31e-131a502ffe62",
        "colab": {
          "base_uri": "https://localhost:8080/",
          "height": 170
        }
      },
      "source": [
        "data.isnull().sum().argmax()"
      ],
      "execution_count": 84,
      "outputs": [
        {
          "output_type": "stream",
          "text": [
            "/usr/local/lib/python3.6/dist-packages/ipykernel_launcher.py:1: FutureWarning: \n",
            "The current behaviour of 'Series.argmax' is deprecated, use 'idxmax'\n",
            "instead.\n",
            "The behavior of 'argmax' will be corrected to return the positional\n",
            "maximum in the future. For now, use 'series.values.argmax' or\n",
            "'np.argmax(np.array(values))' to get the position of the maximum\n",
            "row.\n",
            "  \"\"\"Entry point for launching an IPython kernel.\n"
          ],
          "name": "stderr"
        },
        {
          "output_type": "execute_result",
          "data": {
            "text/plain": [
              "'student_feature'"
            ]
          },
          "metadata": {
            "tags": []
          },
          "execution_count": 84
        }
      ]
    },
    {
      "cell_type": "code",
      "metadata": {
        "id": "gxU1Zp4QwXlH",
        "colab_type": "code",
        "colab": {}
      },
      "source": [
        "#找出缺失值最多的特征，经检查为student_feature，预估含义是用户的学生类型，考虑将空值设成0\n",
        "data[\"student_feature\"].fillna(value=0,inplace=True)"
      ],
      "execution_count": 0,
      "outputs": []
    },
    {
      "cell_type": "code",
      "metadata": {
        "id": "EcY74FwswXlK",
        "colab_type": "code",
        "outputId": "ed777fab-cb5a-460b-d5a4-826dfa655c6a",
        "colab": {
          "base_uri": "https://localhost:8080/",
          "height": 357
        }
      },
      "source": [
        "data.isnull().sum(axis=1).value_counts()"
      ],
      "execution_count": 86,
      "outputs": [
        {
          "output_type": "execute_result",
          "data": {
            "text/plain": [
              "0     3983\n",
              "1      385\n",
              "41     249\n",
              "2       37\n",
              "42      27\n",
              "11      22\n",
              "31      12\n",
              "30       8\n",
              "3        7\n",
              "4        7\n",
              "12       5\n",
              "10       3\n",
              "5        3\n",
              "6        1\n",
              "13       1\n",
              "15       1\n",
              "44       1\n",
              "32       1\n",
              "43       1\n",
              "dtype: int64"
            ]
          },
          "metadata": {
            "tags": []
          },
          "execution_count": 86
        }
      ]
    },
    {
      "cell_type": "code",
      "metadata": {
        "scrolled": false,
        "id": "9A2spx2TwXlP",
        "colab_type": "code",
        "outputId": "d7e1d44e-3284-4f2c-d6a1-470163053cd1",
        "colab": {
          "base_uri": "https://localhost:8080/",
          "height": 323
        }
      },
      "source": [
        "# 仅保留至少包含49个非NA值的行。\n",
        "display(data.shape)\n",
        "data.dropna(thresh=49,inplace=True)\n",
        "# data.info()\n",
        "data[\"status\"].isnull().any()\n",
        "display(data.shape)\n",
        "data.isnull().sum(axis=1).value_counts()"
      ],
      "execution_count": 87,
      "outputs": [
        {
          "output_type": "display_data",
          "data": {
            "text/plain": [
              "(4754, 84)"
            ]
          },
          "metadata": {
            "tags": []
          }
        },
        {
          "output_type": "display_data",
          "data": {
            "text/plain": [
              "(4476, 84)"
            ]
          },
          "metadata": {
            "tags": []
          }
        },
        {
          "output_type": "execute_result",
          "data": {
            "text/plain": [
              "0     3983\n",
              "1      385\n",
              "2       37\n",
              "11      22\n",
              "31      12\n",
              "30       8\n",
              "3        7\n",
              "4        7\n",
              "12       5\n",
              "10       3\n",
              "5        3\n",
              "15       1\n",
              "6        1\n",
              "13       1\n",
              "32       1\n",
              "dtype: int64"
            ]
          },
          "metadata": {
            "tags": []
          },
          "execution_count": 87
        }
      ]
    },
    {
      "cell_type": "code",
      "metadata": {
        "scrolled": false,
        "id": "A_W9pcm0wXlU",
        "colab_type": "code",
        "outputId": "1be50e4a-b9ec-42d5-ebc2-57ed430759e5",
        "colab": {
          "base_uri": "https://localhost:8080/",
          "height": 1683
        }
      },
      "source": [
        "data.info()\n",
        "data.isnull().sum().argmax()"
      ],
      "execution_count": 88,
      "outputs": [
        {
          "output_type": "stream",
          "text": [
            "<class 'pandas.core.frame.DataFrame'>\n",
            "Int64Index: 4476 entries, 0 to 4753\n",
            "Data columns (total 84 columns):\n",
            "low_volume_percent                            4474 non-null float64\n",
            "middle_volume_percent                         4474 non-null float64\n",
            "take_amount_in_later_12_month_highest         4476 non-null int64\n",
            "trans_amount_increase_rate_lately             4473 non-null float64\n",
            "trans_activity_month                          4474 non-null float64\n",
            "trans_activity_day                            4474 non-null float64\n",
            "transd_mcc                                    4474 non-null float64\n",
            "trans_days_interval_filter                    4468 non-null float64\n",
            "trans_days_interval                           4474 non-null float64\n",
            "regional_mobility                             4474 non-null float64\n",
            "student_feature                               4476 non-null float64\n",
            "repayment_capability                          4476 non-null int64\n",
            "is_high_user                                  4476 non-null int64\n",
            "number_of_trans_from_2011                     4474 non-null float64\n",
            "first_transaction_time                        4474 non-null float64\n",
            "historical_trans_amount                       4476 non-null int64\n",
            "historical_trans_day                          4474 non-null float64\n",
            "rank_trad_1_month                             4474 non-null float64\n",
            "trans_amount_3_month                          4476 non-null int64\n",
            "avg_consume_less_12_valid_month               4474 non-null float64\n",
            "abs                                           4476 non-null int64\n",
            "top_trans_count_last_1_month                  4474 non-null float64\n",
            "avg_price_last_12_month                       4476 non-null int64\n",
            "avg_price_top_last_12_valid_month             4376 non-null float64\n",
            "reg_preference_for_trad                       4476 non-null int64\n",
            "trans_top_time_last_1_month                   4468 non-null float64\n",
            "trans_top_time_last_6_month                   4468 non-null float64\n",
            "consume_top_time_last_1_month                 4468 non-null float64\n",
            "consume_top_time_last_6_month                 4468 non-null float64\n",
            "cross_consume_count_last_1_month              4075 non-null float64\n",
            "trans_fail_top_count_enum_last_1_month        4461 non-null float64\n",
            "trans_fail_top_count_enum_last_6_month        4461 non-null float64\n",
            "trans_fail_top_count_enum_last_12_month       4461 non-null float64\n",
            "consume_mini_time_last_1_month                4450 non-null float64\n",
            "max_cumulative_consume_later_1_month          4476 non-null int64\n",
            "max_consume_count_later_6_month               4468 non-null float64\n",
            "railway_consume_count_last_12_month           4464 non-null float64\n",
            "pawns_auctions_trusts_consume_last_1_month    4476 non-null int64\n",
            "pawns_auctions_trusts_consume_last_6_month    4476 non-null int64\n",
            "jewelry_consume_count_last_6_month            4464 non-null float64\n",
            "status                                        4476 non-null int64\n",
            "first_transaction_day                         4474 non-null float64\n",
            "trans_day_last_12_month                       4474 non-null float64\n",
            "apply_score                                   4450 non-null float64\n",
            "apply_credibility                             4450 non-null float64\n",
            "query_org_count                               4450 non-null float64\n",
            "query_finance_count                           4450 non-null float64\n",
            "query_cash_count                              4450 non-null float64\n",
            "query_sum_count                               4450 non-null float64\n",
            "latest_query_time                             4450 non-null float64\n",
            "latest_one_month_apply                        4450 non-null float64\n",
            "latest_three_month_apply                      4450 non-null float64\n",
            "latest_six_month_apply                        4450 non-null float64\n",
            "loans_score                                   4457 non-null float64\n",
            "loans_credibility_behavior                    4457 non-null float64\n",
            "loans_count                                   4457 non-null float64\n",
            "loans_settle_count                            4457 non-null float64\n",
            "loans_overdue_count                           4457 non-null float64\n",
            "loans_org_count_behavior                      4457 non-null float64\n",
            "consfin_org_count_behavior                    4457 non-null float64\n",
            "loans_cash_count                              4457 non-null float64\n",
            "latest_one_month_loan                         4457 non-null float64\n",
            "latest_three_month_loan                       4457 non-null float64\n",
            "latest_six_month_loan                         4457 non-null float64\n",
            "history_suc_fee                               4457 non-null float64\n",
            "history_fail_fee                              4457 non-null float64\n",
            "latest_one_month_suc                          4457 non-null float64\n",
            "latest_one_month_fail                         4457 non-null float64\n",
            "loans_long_time                               4457 non-null float64\n",
            "loans_latest_time                             4457 non-null float64\n",
            "loans_credit_limit                            4457 non-null float64\n",
            "loans_credibility_limit                       4457 non-null float64\n",
            "loans_org_count_current                       4457 non-null float64\n",
            "loans_product_count                           4457 non-null float64\n",
            "loans_max_limit                               4457 non-null float64\n",
            "loans_avg_limit                               4457 non-null float64\n",
            "consfin_credit_limit                          4457 non-null float64\n",
            "consfin_credibility                           4457 non-null float64\n",
            "consfin_org_count_current                     4457 non-null float64\n",
            "consfin_product_count                         4457 non-null float64\n",
            "consfin_max_limit                             4457 non-null float64\n",
            "consfin_avg_limit                             4457 non-null float64\n",
            "latest_query_day                              4450 non-null float64\n",
            "loans_latest_day                              4457 non-null float64\n",
            "dtypes: float64(72), int64(12)\n",
            "memory usage: 2.9 MB\n"
          ],
          "name": "stdout"
        },
        {
          "output_type": "stream",
          "text": [
            "/usr/local/lib/python3.6/dist-packages/ipykernel_launcher.py:2: FutureWarning: \n",
            "The current behaviour of 'Series.argmax' is deprecated, use 'idxmax'\n",
            "instead.\n",
            "The behavior of 'argmax' will be corrected to return the positional\n",
            "maximum in the future. For now, use 'series.values.argmax' or\n",
            "'np.argmax(np.array(values))' to get the position of the maximum\n",
            "row.\n",
            "  \n"
          ],
          "name": "stderr"
        },
        {
          "output_type": "execute_result",
          "data": {
            "text/plain": [
              "'cross_consume_count_last_1_month'"
            ]
          },
          "metadata": {
            "tags": []
          },
          "execution_count": 88
        }
      ]
    },
    {
      "cell_type": "code",
      "metadata": {
        "scrolled": true,
        "id": "mvIVWaa8wXlX",
        "colab_type": "code",
        "outputId": "15bcc72a-aab1-4f0f-9747-b4de7be11c9f",
        "colab": {
          "base_uri": "https://localhost:8080/",
          "height": 1071
        }
      },
      "source": [
        "data[\"cross_consume_count_last_1_month\"]"
      ],
      "execution_count": 89,
      "outputs": [
        {
          "output_type": "execute_result",
          "data": {
            "text/plain": [
              "0       1.0\n",
              "1       0.0\n",
              "2       0.0\n",
              "3       0.0\n",
              "4       0.0\n",
              "5       1.0\n",
              "6       NaN\n",
              "8       2.0\n",
              "9       0.0\n",
              "10      0.0\n",
              "11      0.0\n",
              "12      4.0\n",
              "13      0.0\n",
              "14      1.0\n",
              "15      0.0\n",
              "16      0.0\n",
              "17      0.0\n",
              "18      0.0\n",
              "19      1.0\n",
              "20      2.0\n",
              "21      0.0\n",
              "22      2.0\n",
              "23      2.0\n",
              "24      0.0\n",
              "25      NaN\n",
              "26      3.0\n",
              "27      0.0\n",
              "28      0.0\n",
              "29      0.0\n",
              "30      4.0\n",
              "       ... \n",
              "4723    0.0\n",
              "4724    0.0\n",
              "4725    NaN\n",
              "4726    0.0\n",
              "4727    0.0\n",
              "4728    0.0\n",
              "4729    0.0\n",
              "4730    0.0\n",
              "4731    0.0\n",
              "4732    NaN\n",
              "4733    0.0\n",
              "4734    0.0\n",
              "4735    0.0\n",
              "4736    0.0\n",
              "4737    0.0\n",
              "4738    3.0\n",
              "4739    1.0\n",
              "4740    1.0\n",
              "4741    0.0\n",
              "4742    0.0\n",
              "4743    0.0\n",
              "4744    0.0\n",
              "4745    1.0\n",
              "4747    3.0\n",
              "4748    NaN\n",
              "4749    0.0\n",
              "4750    1.0\n",
              "4751    1.0\n",
              "4752    0.0\n",
              "4753    1.0\n",
              "Name: cross_consume_count_last_1_month, Length: 4476, dtype: float64"
            ]
          },
          "metadata": {
            "tags": []
          },
          "execution_count": 89
        }
      ]
    },
    {
      "cell_type": "code",
      "metadata": {
        "id": "hDb-Z8l2wXlZ",
        "colab_type": "code",
        "colab": {}
      },
      "source": [
        "# 找出缺失值最多的特征，cross_consume_count_last_1_month，预估含义是用户超过一个月消费的累计次数，故考虑填充为0\n",
        "data[\"cross_consume_count_last_1_month\"].fillna(value=0,inplace=True)"
      ],
      "execution_count": 0,
      "outputs": []
    },
    {
      "cell_type": "code",
      "metadata": {
        "id": "eoaTirR-wXlc",
        "colab_type": "code",
        "colab": {}
      },
      "source": [
        "# 其余缺失值考虑用均值来代替\n",
        "data.fillna(data.mean(),inplace=True)"
      ],
      "execution_count": 0,
      "outputs": []
    },
    {
      "cell_type": "markdown",
      "metadata": {
        "id": "rWquKLRhwXld",
        "colab_type": "text"
      },
      "source": [
        "## 三. 数据切分"
      ]
    },
    {
      "cell_type": "code",
      "metadata": {
        "scrolled": true,
        "id": "Vij5USPnwXle",
        "colab_type": "code",
        "colab": {}
      },
      "source": [
        "# 将标签和特征拆分\n",
        "y = data[\"status\"]\n",
        "data.drop([\"status\"], axis=1, inplace=True)\n",
        "x = data"
      ],
      "execution_count": 0,
      "outputs": []
    },
    {
      "cell_type": "code",
      "metadata": {
        "scrolled": true,
        "id": "ma4h6XUywXlf",
        "colab_type": "code",
        "outputId": "a0a86fb4-36fc-4ed6-bd15-736b2d81edf3",
        "colab": {
          "base_uri": "https://localhost:8080/",
          "height": 85
        }
      },
      "source": [
        "# 将数据按3:7拆分测试集和训练集\n",
        "from sklearn.model_selection import train_test_split\n",
        "\n",
        "x_train, x_test, y_train, y_test = train_test_split(x, y, test_size=0.3, random_state=2018)\n",
        "display(x_train.shape)\n",
        "display(x_test.shape)\n",
        "display(y_train.shape)\n",
        "display(y_test.shape)"
      ],
      "execution_count": 93,
      "outputs": [
        {
          "output_type": "display_data",
          "data": {
            "text/plain": [
              "(3133, 83)"
            ]
          },
          "metadata": {
            "tags": []
          }
        },
        {
          "output_type": "display_data",
          "data": {
            "text/plain": [
              "(1343, 83)"
            ]
          },
          "metadata": {
            "tags": []
          }
        },
        {
          "output_type": "display_data",
          "data": {
            "text/plain": [
              "(3133,)"
            ]
          },
          "metadata": {
            "tags": []
          }
        },
        {
          "output_type": "display_data",
          "data": {
            "text/plain": [
              "(1343,)"
            ]
          },
          "metadata": {
            "tags": []
          }
        }
      ]
    },
    {
      "cell_type": "markdown",
      "metadata": {
        "id": "lV8nYiHiwXli",
        "colab_type": "text"
      },
      "source": [
        "# 任务2：特征工程 5.13-5.14\n",
        "目标\n",
        "预测贷款用户是否会逾期。表格中 \"status\" 是结果标签：0表示未逾期，1表示逾期。\n",
        "\n",
        "要求\n",
        "1. 特征衍生\n",
        "2. 特征挑选：分别用IV值和随机森林等进行特征选择\n",
        "3. 其他特征工程处理"
      ]
    },
    {
      "cell_type": "markdown",
      "metadata": {
        "id": "gSxsOJ-0wXlj",
        "colab_type": "text"
      },
      "source": [
        "## 一. 随机森林进行特征选择"
      ]
    },
    {
      "cell_type": "code",
      "metadata": {
        "id": "0KNgclG2wXlm",
        "colab_type": "code",
        "outputId": "302c9b5f-d30f-4c9f-e841-a61d6ff5f5aa",
        "colab": {
          "base_uri": "https://localhost:8080/",
          "height": 136
        }
      },
      "source": [
        "# 随机森林进行特征选择\n",
        "from sklearn.ensemble import RandomForestClassifier\n",
        "forest = RandomForestClassifier(n_estimators=1000, random_state=2019)\n",
        "forest.fit(x_train, y_train)"
      ],
      "execution_count": 94,
      "outputs": [
        {
          "output_type": "execute_result",
          "data": {
            "text/plain": [
              "RandomForestClassifier(bootstrap=True, class_weight=None, criterion='gini',\n",
              "            max_depth=None, max_features='auto', max_leaf_nodes=None,\n",
              "            min_impurity_decrease=0.0, min_impurity_split=None,\n",
              "            min_samples_leaf=1, min_samples_split=2,\n",
              "            min_weight_fraction_leaf=0.0, n_estimators=1000, n_jobs=None,\n",
              "            oob_score=False, random_state=2019, verbose=0,\n",
              "            warm_start=False)"
            ]
          },
          "metadata": {
            "tags": []
          },
          "execution_count": 94
        }
      ]
    },
    {
      "cell_type": "code",
      "metadata": {
        "id": "3WXfARKwwXlo",
        "colab_type": "code",
        "outputId": "a84c5bfa-70e5-4828-8ca8-bae1768fdbed",
        "colab": {
          "base_uri": "https://localhost:8080/",
          "height": 1428
        }
      },
      "source": [
        "feat_labels = data.columns\n",
        "importances =forest.feature_importances_\n",
        "indices = np.argsort(importances)[::-1]\n",
        "for f in range (x_train.shape[1]):\n",
        "    print(\"%2d) %-*s %f\" % (f + 1, 10, feat_labels[indices[f]], importances[indices[f]]))"
      ],
      "execution_count": 95,
      "outputs": [
        {
          "output_type": "stream",
          "text": [
            " 1) history_fail_fee 0.048756\n",
            " 2) trans_fail_top_count_enum_last_1_month 0.045476\n",
            " 3) loans_score 0.037631\n",
            " 4) apply_score 0.030467\n",
            " 5) latest_one_month_fail 0.029355\n",
            " 6) loans_overdue_count 0.023539\n",
            " 7) trans_amount_3_month 0.016490\n",
            " 8) max_cumulative_consume_later_1_month 0.016106\n",
            " 9) latest_query_day 0.015476\n",
            "10) loans_avg_limit 0.015357\n",
            "11) repayment_capability 0.015348\n",
            "12) abs        0.015252\n",
            "13) trans_amount_increase_rate_lately 0.015173\n",
            "14) first_transaction_day 0.014736\n",
            "15) latest_query_time 0.014623\n",
            "16) consfin_avg_limit 0.014615\n",
            "17) historical_trans_amount 0.014606\n",
            "18) avg_price_last_12_month 0.014443\n",
            "19) first_transaction_time 0.014205\n",
            "20) consfin_credit_limit 0.013508\n",
            "21) historical_trans_day 0.013403\n",
            "22) pawns_auctions_trusts_consume_last_6_month 0.013393\n",
            "23) trans_activity_day 0.013350\n",
            "24) loans_long_time 0.013197\n",
            "25) history_suc_fee 0.013087\n",
            "26) loans_latest_day 0.013012\n",
            "27) loans_latest_time 0.012875\n",
            "28) trans_day_last_12_month 0.012810\n",
            "29) trans_days_interval_filter 0.012800\n",
            "30) trans_fail_top_count_enum_last_12_month 0.012766\n",
            "31) apply_credibility 0.012093\n",
            "32) trans_fail_top_count_enum_last_6_month 0.012057\n",
            "33) consfin_max_limit 0.011960\n",
            "34) loans_settle_count 0.011669\n",
            "35) loans_max_limit 0.011541\n",
            "36) loans_credit_limit 0.011482\n",
            "37) number_of_trans_from_2011 0.011406\n",
            "38) trans_days_interval 0.011321\n",
            "39) consume_top_time_last_6_month 0.011159\n",
            "40) trans_top_time_last_6_month 0.011085\n",
            "41) transd_mcc 0.010853\n",
            "42) loans_count 0.010814\n",
            "43) rank_trad_1_month 0.010726\n",
            "44) trans_top_time_last_1_month 0.010590\n",
            "45) query_sum_count 0.010553\n",
            "46) latest_six_month_apply 0.009894\n",
            "47) trans_activity_month 0.009861\n",
            "48) latest_one_month_suc 0.009841\n",
            "49) consume_mini_time_last_1_month 0.009788\n",
            "50) latest_six_month_loan 0.009735\n",
            "51) latest_three_month_apply 0.009727\n",
            "52) consume_top_time_last_1_month 0.009643\n",
            "53) take_amount_in_later_12_month_highest 0.009637\n",
            "54) query_org_count 0.009609\n",
            "55) middle_volume_percent 0.009393\n",
            "56) consfin_credibility 0.009292\n",
            "57) loans_org_count_behavior 0.009154\n",
            "58) loans_credibility_behavior 0.009138\n",
            "59) avg_price_top_last_12_valid_month 0.009003\n",
            "60) loans_credibility_limit 0.008951\n",
            "61) query_finance_count 0.008853\n",
            "62) max_consume_count_later_6_month 0.008446\n",
            "63) pawns_auctions_trusts_consume_last_1_month 0.008444\n",
            "64) latest_one_month_apply 0.008258\n",
            "65) latest_three_month_loan 0.008180\n",
            "66) loans_product_count 0.007872\n",
            "67) query_cash_count 0.007710\n",
            "68) loans_cash_count 0.007568\n",
            "69) loans_org_count_current 0.007474\n",
            "70) consfin_product_count 0.007419\n",
            "71) top_trans_count_last_1_month 0.007190\n",
            "72) avg_consume_less_12_valid_month 0.007066\n",
            "73) consfin_org_count_behavior 0.006798\n",
            "74) low_volume_percent 0.006792\n",
            "75) consfin_org_count_current 0.006665\n",
            "76) regional_mobility 0.004474\n",
            "77) latest_one_month_loan 0.003534\n",
            "78) cross_consume_count_last_1_month 0.003233\n",
            "79) reg_preference_for_trad 0.002663\n",
            "80) student_feature 0.001871\n",
            "81) railway_consume_count_last_12_month 0.001077\n",
            "82) jewelry_consume_count_last_6_month 0.000299\n",
            "83) is_high_user 0.000291\n"
          ],
          "name": "stdout"
        }
      ]
    },
    {
      "cell_type": "code",
      "metadata": {
        "scrolled": true,
        "id": "92IEWxYPwXlr",
        "colab_type": "code",
        "outputId": "6676d4cb-fde4-47ec-f605-969bc6e219d2",
        "colab": {
          "base_uri": "https://localhost:8080/",
          "height": 833
        }
      },
      "source": [
        "display(importances.shape)\n",
        "\n",
        "threshold = 0.01\n",
        "x_selected = list(x_train.columns[importances> threshold])\n",
        "display(x_selected)\n",
        "x_train_sel = x_train[x_selected]\n",
        "display(x_train_sel.shape)\n",
        "x_test_sel = x_test[x_selected]\n",
        "display(x_test_sel.shape)"
      ],
      "execution_count": 96,
      "outputs": [
        {
          "output_type": "display_data",
          "data": {
            "text/plain": [
              "(83,)"
            ]
          },
          "metadata": {
            "tags": []
          }
        },
        {
          "output_type": "display_data",
          "data": {
            "text/plain": [
              "['trans_amount_increase_rate_lately',\n",
              " 'trans_activity_day',\n",
              " 'transd_mcc',\n",
              " 'trans_days_interval_filter',\n",
              " 'trans_days_interval',\n",
              " 'repayment_capability',\n",
              " 'number_of_trans_from_2011',\n",
              " 'first_transaction_time',\n",
              " 'historical_trans_amount',\n",
              " 'historical_trans_day',\n",
              " 'rank_trad_1_month',\n",
              " 'trans_amount_3_month',\n",
              " 'abs',\n",
              " 'avg_price_last_12_month',\n",
              " 'trans_top_time_last_1_month',\n",
              " 'trans_top_time_last_6_month',\n",
              " 'consume_top_time_last_6_month',\n",
              " 'trans_fail_top_count_enum_last_1_month',\n",
              " 'trans_fail_top_count_enum_last_6_month',\n",
              " 'trans_fail_top_count_enum_last_12_month',\n",
              " 'max_cumulative_consume_later_1_month',\n",
              " 'pawns_auctions_trusts_consume_last_6_month',\n",
              " 'first_transaction_day',\n",
              " 'trans_day_last_12_month',\n",
              " 'apply_score',\n",
              " 'apply_credibility',\n",
              " 'query_sum_count',\n",
              " 'latest_query_time',\n",
              " 'loans_score',\n",
              " 'loans_count',\n",
              " 'loans_settle_count',\n",
              " 'loans_overdue_count',\n",
              " 'history_suc_fee',\n",
              " 'history_fail_fee',\n",
              " 'latest_one_month_fail',\n",
              " 'loans_long_time',\n",
              " 'loans_latest_time',\n",
              " 'loans_credit_limit',\n",
              " 'loans_max_limit',\n",
              " 'loans_avg_limit',\n",
              " 'consfin_credit_limit',\n",
              " 'consfin_max_limit',\n",
              " 'consfin_avg_limit',\n",
              " 'latest_query_day',\n",
              " 'loans_latest_day']"
            ]
          },
          "metadata": {
            "tags": []
          }
        },
        {
          "output_type": "display_data",
          "data": {
            "text/plain": [
              "(3133, 45)"
            ]
          },
          "metadata": {
            "tags": []
          }
        },
        {
          "output_type": "display_data",
          "data": {
            "text/plain": [
              "(1343, 45)"
            ]
          },
          "metadata": {
            "tags": []
          }
        }
      ]
    },
    {
      "cell_type": "markdown",
      "metadata": {
        "id": "xvl_G8N1wXlu",
        "colab_type": "text"
      },
      "source": [
        "## 二. IV值进行特征选择"
      ]
    },
    {
      "cell_type": "code",
      "metadata": {
        "id": "28E7QIy8wXlu",
        "colab_type": "code",
        "colab": {}
      },
      "source": [
        "# 参考别的同学代码，还得再研究研究\n",
        "import math\n",
        "from sklearn.utils.multiclass import type_of_target\n",
        "from scipy import stats\n",
        "#求woe值和iv值\n",
        "def woe(X, y, event):\n",
        "    res_woe = []  #列表存放woe字典\n",
        "    res_iv = []  #列表存放iv\n",
        "    X1 = feature_discretion(X) #对连续型特征进行处理\n",
        "    for i in range(0, X1.shape[-1]):  #遍历所有特征\n",
        "        x = X1[:, i]  #单个特征\n",
        "        woe_dict, iv1 = woe_single_x(x, y, event)  #计算单个特征的woe值\n",
        "        res_woe.append(woe_dict)\n",
        "        res_iv.append(iv1)\n",
        "    return np.array(res_woe), np.array(res_iv)  #返回数组\n",
        "\n",
        "#求单个特征的woe值\n",
        "def woe_single_x(x, y, event):\n",
        "    event_total, non_event_total = count_binary(y, event) #计算好人坏人总数\n",
        "    x_labels = np.unique(x) #特征中的分段\n",
        "    woe_dict = {}  #存放每个分段的名称 以及 其对应的woe值\n",
        "    iv = 0\n",
        "    for x1 in x_labels: #遍历每个分段\n",
        "        y1 = y[np.where(x == x1)[0]]\n",
        "        event_count, non_event_count = count_binary(y1, event=event)\n",
        "        rate_event = 1.0 * event_count / event_total\n",
        "        rate_non_event = 1.0 * non_event_count / non_event_total\n",
        "        #woe无穷大时处理\n",
        "        if rate_event == 0:\n",
        "            print()#print(\"{'\",x1,\"'}\"+\":全是好人\") #只输出不做处理\n",
        "        elif rate_non_event == 0:\n",
        "            print()#print(\"{'\",x1,\"'}\"+\":全是坏人\")\n",
        "        else:\n",
        "            woe1 = math.log(rate_event / rate_non_event)\n",
        "            woe_dict[x1] = woe1  \n",
        "            iv += (rate_event - rate_non_event) * woe1\n",
        "    return woe_dict, iv\n",
        "\n",
        "#计算个数\n",
        "def count_binary(a, event):\n",
        "    event_count = (a == event).sum()\n",
        "    non_event_count = a.shape[-1] - event_count\n",
        "    return event_count, non_event_count\n",
        "\n",
        "#判断特征数据是否为离散型\n",
        "def feature_discretion(X):\n",
        "    temp = []\n",
        "    for i in range(0, X.shape[-1]):\n",
        "        x = X[:, i]\n",
        "        x_type = type_of_target(x)\n",
        "        if pd.Series(list(x)).dtype != 'O':\n",
        "            x1 = discrete(x)\n",
        "            temp.append(x1)\n",
        "        else:\n",
        "            temp.append(x)\n",
        "    return np.array(temp).T\n",
        "\n",
        "#对连续型特征进行离散化\n",
        "def discrete(x):\n",
        "    res = np.array([0] * x.shape[-1], dtype=int)\n",
        "    for i in range(5):\n",
        "        point1 = stats.scoreatpercentile(x, i * 20)\n",
        "        point2 = stats.scoreatpercentile(x, (i + 1) * 20)\n",
        "        x1 = x[np.where((x >= point1) & (x <= point2))]\n",
        "        mask = np.in1d(x, x1)\n",
        "        res[mask] = (i + 1)\n",
        "    return res"
      ],
      "execution_count": 0,
      "outputs": []
    },
    {
      "cell_type": "code",
      "metadata": {
        "scrolled": true,
        "id": "S5aMIjTjwXlw",
        "colab_type": "code",
        "outputId": "cfdd13f8-65d9-429d-b60c-858670e1bae5",
        "colab": {
          "base_uri": "https://localhost:8080/",
          "height": 1462
        }
      },
      "source": [
        "a, b = woe(x_train.values, y_train.values, 1)\n",
        "dic = dict(zip(x_train.columns, b))\n",
        "dic_sort= sorted(dic.items(),key = lambda x:x[1],reverse = True)\n",
        "display(dic_sort)"
      ],
      "execution_count": 98,
      "outputs": [
        {
          "output_type": "stream",
          "text": [
            "\n",
            "\n"
          ],
          "name": "stdout"
        },
        {
          "output_type": "display_data",
          "data": {
            "text/plain": [
              "[('trans_fail_top_count_enum_last_1_month', 0.5248772375361611),\n",
              " ('history_fail_fee', 0.5182986633722628),\n",
              " ('loans_score', 0.452489516316483),\n",
              " ('apply_score', 0.35559944136124455),\n",
              " ('loans_overdue_count', 0.34429411897272244),\n",
              " ('trans_fail_top_count_enum_last_12_month', 0.2102113960316464),\n",
              " ('trans_fail_top_count_enum_last_6_month', 0.20334118478792862),\n",
              " ('latest_one_month_fail', 0.1676951302166592),\n",
              " ('latest_one_month_suc', 0.13658960583308047),\n",
              " ('rank_trad_1_month', 0.08850389928144903),\n",
              " ('max_cumulative_consume_later_1_month', 0.08709447156340241),\n",
              " ('trans_day_last_12_month', 0.07519987825898371),\n",
              " ('trans_top_time_last_1_month', 0.07200473738156228),\n",
              " ('top_trans_count_last_1_month', 0.05925078215773383),\n",
              " ('pawns_auctions_trusts_consume_last_1_month', 0.05710932443358767),\n",
              " ('consfin_avg_limit', 0.04623664582308415),\n",
              " ('latest_query_time', 0.04435584273650805),\n",
              " ('latest_query_day', 0.03964158427506999),\n",
              " ('consfin_credit_limit', 0.03846353095825428),\n",
              " ('trans_amount_3_month', 0.03613710613665517),\n",
              " ('consume_top_time_last_1_month', 0.034625001098685916),\n",
              " ('latest_one_month_apply', 0.03413737857726804),\n",
              " ('trans_days_interval', 0.032560494841575485),\n",
              " ('avg_price_top_last_12_valid_month', 0.031079656320995484),\n",
              " ('latest_six_month_loan', 0.027326674511148372),\n",
              " ('latest_three_month_loan', 0.026862251104747728),\n",
              " ('avg_price_last_12_month', 0.026466227882690287),\n",
              " ('query_cash_count', 0.025662803002254226),\n",
              " ('trans_amount_increase_rate_lately', 0.023784085602847026),\n",
              " ('consfin_max_limit', 0.022894168895154804),\n",
              " ('loans_credit_limit', 0.019105144855110622),\n",
              " ('number_of_trans_from_2011', 0.018424967616676193),\n",
              " ('loans_max_limit', 0.017789921416510625),\n",
              " ('historical_trans_amount', 0.01772951741623687),\n",
              " ('pawns_auctions_trusts_consume_last_6_month', 0.017106423823775092),\n",
              " ('latest_three_month_apply', 0.017080121304326283),\n",
              " ('consfin_product_count', 0.016733585001389082),\n",
              " ('first_transaction_time', 0.015059672191446657),\n",
              " ('low_volume_percent', 0.015048944792159744),\n",
              " ('first_transaction_day', 0.014871134476672463),\n",
              " ('cross_consume_count_last_1_month', 0.014737033277150221),\n",
              " ('loans_count', 0.013530871851163152),\n",
              " ('consfin_org_count_behavior', 0.01332009629762118),\n",
              " ('consfin_org_count_current', 0.01332009629762118),\n",
              " ('history_suc_fee', 0.012920138591212799),\n",
              " ('consume_mini_time_last_1_month', 0.012589897073017782),\n",
              " ('trans_activity_day', 0.011970320198504483),\n",
              " ('loans_avg_limit', 0.011955048870861283),\n",
              " ('loans_latest_time', 0.01175834524600114),\n",
              " ('loans_org_count_behavior', 0.011661026874189157),\n",
              " ('middle_volume_percent', 0.010822028707659352),\n",
              " ('loans_long_time', 0.010814704169246098),\n",
              " ('loans_cash_count', 0.01023040215121564),\n",
              " ('loans_org_count_current', 0.01023040215121564),\n",
              " ('trans_top_time_last_6_month', 0.00980819605514745),\n",
              " ('query_finance_count', 0.00972361586362725),\n",
              " ('historical_trans_day', 0.00897654627479034),\n",
              " ('consume_top_time_last_6_month', 0.008815049670325542),\n",
              " ('max_consume_count_later_6_month', 0.008746922528183994),\n",
              " ('loans_latest_day', 0.008711071898486768),\n",
              " ('transd_mcc', 0.008163966469001943),\n",
              " ('trans_activity_month', 0.00813566274480798),\n",
              " ('loans_product_count', 0.008131898302013335),\n",
              " ('apply_credibility', 0.007697132059971251),\n",
              " ('abs', 0.0074803994110067915),\n",
              " ('query_org_count', 0.007439801510931561),\n",
              " ('trans_days_interval_filter', 0.0068744867372175075),\n",
              " ('take_amount_in_later_12_month_highest', 0.004908038770557543),\n",
              " ('avg_consume_less_12_valid_month', 0.004424762718105233),\n",
              " ('loans_settle_count', 0.004335454147359518),\n",
              " ('latest_one_month_loan', 0.004015135389527376),\n",
              " ('consfin_credibility', 0.003957011328495726),\n",
              " ('latest_six_month_apply', 0.0038624584084030436),\n",
              " ('query_sum_count', 0.0035152708955272683),\n",
              " ('regional_mobility', 0.0034506262641538403),\n",
              " ('loans_credibility_limit', 0.0019249850572735689),\n",
              " ('repayment_capability', 0.001767443773842792),\n",
              " ('loans_credibility_behavior', 0.0014273021149960583),\n",
              " ('student_feature', 0.0011100964344815194),\n",
              " ('reg_preference_for_trad', 0.00017815323672663928),\n",
              " ('is_high_user', 0.0),\n",
              " ('railway_consume_count_last_12_month', 0.0),\n",
              " ('jewelry_consume_count_last_6_month', 0.0)]"
            ]
          },
          "metadata": {
            "tags": []
          }
        }
      ]
    },
    {
      "cell_type": "markdown",
      "metadata": {
        "id": "hLnjVtUKwXlz",
        "colab_type": "text"
      },
      "source": [
        "# 任务3： 模型构建 5.15-5.16\n",
        "目标 模型构建，评价方式考虑：F1-Score、ROC、AUC\n",
        "\n",
        "要求：\n",
        "1. 用逻辑回归、svm和决策树；\n",
        "2. 随机森林和XGBoost进行模型构建\n",
        "\n",
        "打卡链接：https://shimo.im/docs/YvF2ijUqSaoBH5Jn"
      ]
    },
    {
      "cell_type": "code",
      "metadata": {
        "id": "NxokLB14wXl0",
        "colab_type": "code",
        "colab": {}
      },
      "source": [
        "from sklearn.metrics import classification_report, accuracy_score"
      ],
      "execution_count": 0,
      "outputs": []
    },
    {
      "cell_type": "markdown",
      "metadata": {
        "id": "KAXi1BZowXl2",
        "colab_type": "text"
      },
      "source": [
        "## 一、逻辑回归"
      ]
    },
    {
      "cell_type": "code",
      "metadata": {
        "id": "jvrIowrRwXl2",
        "colab_type": "code",
        "outputId": "7b20219b-1fae-4543-e887-dc43c603a85a",
        "colab": {
          "base_uri": "https://localhost:8080/",
          "height": 173
        }
      },
      "source": [
        "# 数据的标准化处理\n",
        "from sklearn.preprocessing import StandardScaler\n",
        "sc = StandardScaler()\n",
        "x_train_sel_sc = sc.fit_transform(x_train_sel)\n",
        "x_test_sel_sc = sc.fit_transform(x_test_sel)"
      ],
      "execution_count": 100,
      "outputs": [
        {
          "output_type": "stream",
          "text": [
            "/usr/local/lib/python3.6/dist-packages/sklearn/preprocessing/data.py:645: DataConversionWarning: Data with input dtype int64, float64 were all converted to float64 by StandardScaler.\n",
            "  return self.partial_fit(X, y)\n",
            "/usr/local/lib/python3.6/dist-packages/sklearn/base.py:464: DataConversionWarning: Data with input dtype int64, float64 were all converted to float64 by StandardScaler.\n",
            "  return self.fit(X, **fit_params).transform(X)\n",
            "/usr/local/lib/python3.6/dist-packages/sklearn/preprocessing/data.py:645: DataConversionWarning: Data with input dtype int64, float64 were all converted to float64 by StandardScaler.\n",
            "  return self.partial_fit(X, y)\n",
            "/usr/local/lib/python3.6/dist-packages/sklearn/base.py:464: DataConversionWarning: Data with input dtype int64, float64 were all converted to float64 by StandardScaler.\n",
            "  return self.fit(X, **fit_params).transform(X)\n"
          ],
          "name": "stderr"
        }
      ]
    },
    {
      "cell_type": "code",
      "metadata": {
        "id": "Ask-KnpgwXl6",
        "colab_type": "code",
        "outputId": "c15ee665-faa2-4a0e-e310-80a27eef1902",
        "colab": {
          "base_uri": "https://localhost:8080/",
          "height": 241
        }
      },
      "source": [
        "from sklearn.linear_model import LogisticRegression\n",
        "lr = LogisticRegression()\n",
        "lr.fit(x_train_sel_sc, y_train)\n",
        "y_pre_lr = lr.predict(x_test_sel_sc)\n",
        "display(accuracy_score(y_pre_lr, y_test))\n",
        "print(classification_report(y_pre_lr, y_test))"
      ],
      "execution_count": 101,
      "outputs": [
        {
          "output_type": "stream",
          "text": [
            "/usr/local/lib/python3.6/dist-packages/sklearn/linear_model/logistic.py:433: FutureWarning: Default solver will be changed to 'lbfgs' in 0.22. Specify a solver to silence this warning.\n",
            "  FutureWarning)\n"
          ],
          "name": "stderr"
        },
        {
          "output_type": "display_data",
          "data": {
            "text/plain": [
              "0.7885331347728965"
            ]
          },
          "metadata": {
            "tags": []
          }
        },
        {
          "output_type": "stream",
          "text": [
            "              precision    recall  f1-score   support\n",
            "\n",
            "           0       0.94      0.80      0.87      1171\n",
            "           1       0.34      0.68      0.45       172\n",
            "\n",
            "   micro avg       0.79      0.79      0.79      1343\n",
            "   macro avg       0.64      0.74      0.66      1343\n",
            "weighted avg       0.87      0.79      0.82      1343\n",
            "\n"
          ],
          "name": "stdout"
        }
      ]
    },
    {
      "cell_type": "markdown",
      "metadata": {
        "id": "Bi23ttF_wXl9",
        "colab_type": "text"
      },
      "source": [
        "## 二. SVM"
      ]
    },
    {
      "cell_type": "code",
      "metadata": {
        "id": "MdnsdRiRwXl-",
        "colab_type": "code",
        "outputId": "c2d5ef31-3e9e-4efc-aaea-756d239a1a66",
        "colab": {
          "base_uri": "https://localhost:8080/",
          "height": 187
        }
      },
      "source": [
        "from sklearn.svm import SVC\n",
        "# 'linear', 'poly', 'rbf', 'sigmoid'\n",
        "svc = SVC()\n",
        "svc.fit(x_train_sel_sc, y_train)\n",
        "y_pre_svc = svc.predict(x_test_sel_sc)\n",
        "display(accuracy_score(y_pre_svc, y_test))\n",
        "print(classification_report(y_pre_svc, y_test))"
      ],
      "execution_count": 102,
      "outputs": [
        {
          "output_type": "display_data",
          "data": {
            "text/plain": [
              "0.7922561429635145"
            ]
          },
          "metadata": {
            "tags": []
          }
        },
        {
          "output_type": "stream",
          "text": [
            "              precision    recall  f1-score   support\n",
            "\n",
            "           0       0.97      0.79      0.87      1222\n",
            "           1       0.27      0.78      0.40       121\n",
            "\n",
            "   micro avg       0.79      0.79      0.79      1343\n",
            "   macro avg       0.62      0.79      0.64      1343\n",
            "weighted avg       0.91      0.79      0.83      1343\n",
            "\n"
          ],
          "name": "stdout"
        }
      ]
    },
    {
      "cell_type": "markdown",
      "metadata": {
        "id": "Ok8knBygwXmA",
        "colab_type": "text"
      },
      "source": [
        "## 三. 决策树"
      ]
    },
    {
      "cell_type": "code",
      "metadata": {
        "id": "y9JASOq7wXmA",
        "colab_type": "code",
        "outputId": "53c8561b-b5c6-4ab8-8686-8aab707e6a97",
        "colab": {
          "base_uri": "https://localhost:8080/",
          "height": 187
        }
      },
      "source": [
        "from sklearn.tree import DecisionTreeClassifier\n",
        "dtc = DecisionTreeClassifier()\n",
        "dtc.fit(x_train_sel_sc, y_train)\n",
        "y_pre_dtc = dtc.predict(x_test_sel_sc)\n",
        "display(accuracy_score(y_pre_dtc, y_test))\n",
        "print(classification_report(y_pre_dtc, y_test))"
      ],
      "execution_count": 103,
      "outputs": [
        {
          "output_type": "display_data",
          "data": {
            "text/plain": [
              "0.6224869694713329"
            ]
          },
          "metadata": {
            "tags": []
          }
        },
        {
          "output_type": "stream",
          "text": [
            "              precision    recall  f1-score   support\n",
            "\n",
            "           0       0.65      0.80      0.72       816\n",
            "           1       0.53      0.35      0.42       527\n",
            "\n",
            "   micro avg       0.62      0.62      0.62      1343\n",
            "   macro avg       0.59      0.57      0.57      1343\n",
            "weighted avg       0.61      0.62      0.60      1343\n",
            "\n"
          ],
          "name": "stdout"
        }
      ]
    },
    {
      "cell_type": "markdown",
      "metadata": {
        "id": "D9XEMawYwXmD",
        "colab_type": "text"
      },
      "source": [
        "## 四. 随机森林"
      ]
    },
    {
      "cell_type": "code",
      "metadata": {
        "id": "YW79cKaAwXmE",
        "colab_type": "code",
        "outputId": "f3fdb913-b23a-47d9-8dcd-b8c61fc66e40",
        "colab": {
          "base_uri": "https://localhost:8080/",
          "height": 241
        }
      },
      "source": [
        "rf = RandomForestClassifier()\n",
        "rf.fit(x_train_sel_sc, y_train)\n",
        "y_pre_rf = dtc.predict(x_test_sel_sc)\n",
        "display(accuracy_score(y_pre_rf, y_test))\n",
        "print(classification_report(y_pre_rf, y_test))"
      ],
      "execution_count": 104,
      "outputs": [
        {
          "output_type": "stream",
          "text": [
            "/usr/local/lib/python3.6/dist-packages/sklearn/ensemble/forest.py:246: FutureWarning: The default value of n_estimators will change from 10 in version 0.20 to 100 in 0.22.\n",
            "  \"10 in version 0.20 to 100 in 0.22.\", FutureWarning)\n"
          ],
          "name": "stderr"
        },
        {
          "output_type": "display_data",
          "data": {
            "text/plain": [
              "0.6224869694713329"
            ]
          },
          "metadata": {
            "tags": []
          }
        },
        {
          "output_type": "stream",
          "text": [
            "              precision    recall  f1-score   support\n",
            "\n",
            "           0       0.65      0.80      0.72       816\n",
            "           1       0.53      0.35      0.42       527\n",
            "\n",
            "   micro avg       0.62      0.62      0.62      1343\n",
            "   macro avg       0.59      0.57      0.57      1343\n",
            "weighted avg       0.61      0.62      0.60      1343\n",
            "\n"
          ],
          "name": "stdout"
        }
      ]
    },
    {
      "cell_type": "markdown",
      "metadata": {
        "id": "StSdp5CNwXmH",
        "colab_type": "text"
      },
      "source": [
        "## 五. XGBoost"
      ]
    },
    {
      "cell_type": "code",
      "metadata": {
        "id": "wwGCIDlowXmI",
        "colab_type": "code",
        "outputId": "13752243-e2a5-4a42-c058-6918c796fb58",
        "colab": {
          "base_uri": "https://localhost:8080/",
          "height": 187
        }
      },
      "source": [
        "from xgboost import XGBClassifier\n",
        "xgb = XGBClassifier()\n",
        "xgb.fit(x_train_sel_sc, y_train)\n",
        "y_pre_xgb = xgb.predict(x_test_sel_sc)\n",
        "display(accuracy_score(y_pre_xgb, y_test))\n",
        "print(classification_report(y_pre_xgb, y_test))"
      ],
      "execution_count": 106,
      "outputs": [
        {
          "output_type": "display_data",
          "data": {
            "text/plain": [
              "0.7885331347728965"
            ]
          },
          "metadata": {
            "tags": []
          }
        },
        {
          "output_type": "stream",
          "text": [
            "              precision    recall  f1-score   support\n",
            "\n",
            "           0       0.96      0.80      0.87      1207\n",
            "           1       0.29      0.73      0.41       136\n",
            "\n",
            "   micro avg       0.79      0.79      0.79      1343\n",
            "   macro avg       0.62      0.76      0.64      1343\n",
            "weighted avg       0.89      0.79      0.82      1343\n",
            "\n"
          ],
          "name": "stdout"
        }
      ]
    }
  ]
}