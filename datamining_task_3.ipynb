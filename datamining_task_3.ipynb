{
 "cells": [
  {
   "cell_type": "markdown",
   "metadata": {
    "colab_type": "text",
    "id": "bbYqXEHKwXkb"
   },
   "source": [
    "# 任务1：对数据进行探索和分析 5.11-5.12\n",
    "数据集是金融数据（非原始数据，已经处理过了），我们要做的是预测贷款用户是否会逾期。\n",
    "表格中 \"status\" 是结果标签：0表示未逾期，1表示逾期。\n",
    "\n",
    "要求：\n",
    "1. 数据切分方式 - 三七分，其中测试集30%，训练集70%，随机种子设置为2018\n",
    "2. 数据类型的分析\n",
    "3. 无关特征删除\n",
    "4. 数据类型转换\n",
    "5. 缺失值处理\n",
    "6. 其他可借鉴的数据分析处理"
   ]
  },
  {
   "cell_type": "code",
   "execution_count": 0,
   "metadata": {
    "colab": {},
    "colab_type": "code",
    "id": "D6R0enHGwXkc"
   },
   "outputs": [],
   "source": [
    "import numpy as np\n",
    "import pandas as pd"
   ]
  },
  {
   "cell_type": "markdown",
   "metadata": {
    "colab_type": "text",
    "id": "f-TVfhvywXkf"
   },
   "source": [
    "## 一. 读取数据\n",
    "读取任务1中csv文件是要将编码格式制定成gbk；\n",
    "中文字符的Unicode编码0x0800-0xFFFF之间,(utf-8包含了部分汉字)\n",
    "当你试图将该“中文字符”转成U码的utf-8时超出了其范筹\n",
    "而GBK 规范收录了ISO 10646.1中的全部 CJK 汉字和符号，并有所补充，\n",
    "所以解决方法是将.decode('utf-8')改为.decode('gbk')\n",
    "参考：https://blog.csdn.net/stone9159/article/details/79071316"
   ]
  },
  {
   "cell_type": "code",
   "execution_count": 4,
   "metadata": {
    "colab": {
     "base_uri": "https://localhost:8080/",
     "height": 396
    },
    "colab_type": "code",
    "id": "wq_b2HtjwXkg",
    "outputId": "879631b2-966a-4f47-e2ef-e2e18042a8c3",
    "scrolled": true
   },
   "outputs": [
    {
     "data": {
      "text/html": [
       "<div>\n",
       "<style scoped>\n",
       "    .dataframe tbody tr th:only-of-type {\n",
       "        vertical-align: middle;\n",
       "    }\n",
       "\n",
       "    .dataframe tbody tr th {\n",
       "        vertical-align: top;\n",
       "    }\n",
       "\n",
       "    .dataframe thead th {\n",
       "        text-align: right;\n",
       "    }\n",
       "</style>\n",
       "<table border=\"1\" class=\"dataframe\">\n",
       "  <thead>\n",
       "    <tr style=\"text-align: right;\">\n",
       "      <th></th>\n",
       "      <th>Unnamed: 0</th>\n",
       "      <th>custid</th>\n",
       "      <th>trade_no</th>\n",
       "      <th>bank_card_no</th>\n",
       "      <th>low_volume_percent</th>\n",
       "      <th>middle_volume_percent</th>\n",
       "      <th>take_amount_in_later_12_month_highest</th>\n",
       "      <th>trans_amount_increase_rate_lately</th>\n",
       "      <th>trans_activity_month</th>\n",
       "      <th>trans_activity_day</th>\n",
       "      <th>transd_mcc</th>\n",
       "      <th>trans_days_interval_filter</th>\n",
       "      <th>trans_days_interval</th>\n",
       "      <th>regional_mobility</th>\n",
       "      <th>student_feature</th>\n",
       "      <th>repayment_capability</th>\n",
       "      <th>is_high_user</th>\n",
       "      <th>number_of_trans_from_2011</th>\n",
       "      <th>first_transaction_time</th>\n",
       "      <th>historical_trans_amount</th>\n",
       "      <th>historical_trans_day</th>\n",
       "      <th>rank_trad_1_month</th>\n",
       "      <th>trans_amount_3_month</th>\n",
       "      <th>avg_consume_less_12_valid_month</th>\n",
       "      <th>abs</th>\n",
       "      <th>top_trans_count_last_1_month</th>\n",
       "      <th>avg_price_last_12_month</th>\n",
       "      <th>avg_price_top_last_12_valid_month</th>\n",
       "      <th>reg_preference_for_trad</th>\n",
       "      <th>trans_top_time_last_1_month</th>\n",
       "      <th>trans_top_time_last_6_month</th>\n",
       "      <th>consume_top_time_last_1_month</th>\n",
       "      <th>consume_top_time_last_6_month</th>\n",
       "      <th>cross_consume_count_last_1_month</th>\n",
       "      <th>trans_fail_top_count_enum_last_1_month</th>\n",
       "      <th>trans_fail_top_count_enum_last_6_month</th>\n",
       "      <th>trans_fail_top_count_enum_last_12_month</th>\n",
       "      <th>consume_mini_time_last_1_month</th>\n",
       "      <th>max_cumulative_consume_later_1_month</th>\n",
       "      <th>max_consume_count_later_6_month</th>\n",
       "      <th>railway_consume_count_last_12_month</th>\n",
       "      <th>pawns_auctions_trusts_consume_last_1_month</th>\n",
       "      <th>pawns_auctions_trusts_consume_last_6_month</th>\n",
       "      <th>jewelry_consume_count_last_6_month</th>\n",
       "      <th>status</th>\n",
       "      <th>source</th>\n",
       "      <th>first_transaction_day</th>\n",
       "      <th>trans_day_last_12_month</th>\n",
       "      <th>id_name</th>\n",
       "      <th>apply_score</th>\n",
       "      <th>apply_credibility</th>\n",
       "      <th>query_org_count</th>\n",
       "      <th>query_finance_count</th>\n",
       "      <th>query_cash_count</th>\n",
       "      <th>query_sum_count</th>\n",
       "      <th>latest_query_time</th>\n",
       "      <th>latest_one_month_apply</th>\n",
       "      <th>latest_three_month_apply</th>\n",
       "      <th>latest_six_month_apply</th>\n",
       "      <th>loans_score</th>\n",
       "      <th>loans_credibility_behavior</th>\n",
       "      <th>loans_count</th>\n",
       "      <th>loans_settle_count</th>\n",
       "      <th>loans_overdue_count</th>\n",
       "      <th>loans_org_count_behavior</th>\n",
       "      <th>consfin_org_count_behavior</th>\n",
       "      <th>loans_cash_count</th>\n",
       "      <th>latest_one_month_loan</th>\n",
       "      <th>latest_three_month_loan</th>\n",
       "      <th>latest_six_month_loan</th>\n",
       "      <th>history_suc_fee</th>\n",
       "      <th>history_fail_fee</th>\n",
       "      <th>latest_one_month_suc</th>\n",
       "      <th>latest_one_month_fail</th>\n",
       "      <th>loans_long_time</th>\n",
       "      <th>loans_latest_time</th>\n",
       "      <th>loans_credit_limit</th>\n",
       "      <th>loans_credibility_limit</th>\n",
       "      <th>loans_org_count_current</th>\n",
       "      <th>loans_product_count</th>\n",
       "      <th>loans_max_limit</th>\n",
       "      <th>loans_avg_limit</th>\n",
       "      <th>consfin_credit_limit</th>\n",
       "      <th>consfin_credibility</th>\n",
       "      <th>consfin_org_count_current</th>\n",
       "      <th>consfin_product_count</th>\n",
       "      <th>consfin_max_limit</th>\n",
       "      <th>consfin_avg_limit</th>\n",
       "      <th>latest_query_day</th>\n",
       "      <th>loans_latest_day</th>\n",
       "    </tr>\n",
       "  </thead>\n",
       "  <tbody>\n",
       "    <tr>\n",
       "      <th>3964</th>\n",
       "      <td>10034</td>\n",
       "      <td>430905</td>\n",
       "      <td>20180507120447238000000388246279</td>\n",
       "      <td>卡号1</td>\n",
       "      <td>0.01</td>\n",
       "      <td>0.60</td>\n",
       "      <td>0</td>\n",
       "      <td>0.92</td>\n",
       "      <td>0.73</td>\n",
       "      <td>0.469</td>\n",
       "      <td>17.0</td>\n",
       "      <td>14.0</td>\n",
       "      <td>10.0</td>\n",
       "      <td>3.0</td>\n",
       "      <td>NaN</td>\n",
       "      <td>25750</td>\n",
       "      <td>0</td>\n",
       "      <td>43.0</td>\n",
       "      <td>20130421.0</td>\n",
       "      <td>565480</td>\n",
       "      <td>301.0</td>\n",
       "      <td>0.10</td>\n",
       "      <td>108800</td>\n",
       "      <td>6.0</td>\n",
       "      <td>118480</td>\n",
       "      <td>0.10</td>\n",
       "      <td>2380</td>\n",
       "      <td>0.35</td>\n",
       "      <td>三线城市</td>\n",
       "      <td>8.0</td>\n",
       "      <td>8.0</td>\n",
       "      <td>8.0</td>\n",
       "      <td>8.0</td>\n",
       "      <td>1.0</td>\n",
       "      <td>3.0</td>\n",
       "      <td>3.0</td>\n",
       "      <td>3.0</td>\n",
       "      <td>730448.0</td>\n",
       "      <td>22270</td>\n",
       "      <td>6.0</td>\n",
       "      <td>0.0</td>\n",
       "      <td>180</td>\n",
       "      <td>26610</td>\n",
       "      <td>0.0</td>\n",
       "      <td>1</td>\n",
       "      <td>xs</td>\n",
       "      <td>1856.0</td>\n",
       "      <td>82.0</td>\n",
       "      <td>马旭磊</td>\n",
       "      <td>640.0</td>\n",
       "      <td>77.0</td>\n",
       "      <td>7.0</td>\n",
       "      <td>2.0</td>\n",
       "      <td>3.0</td>\n",
       "      <td>8.0</td>\n",
       "      <td>2018-04-23</td>\n",
       "      <td>3.0</td>\n",
       "      <td>3.0</td>\n",
       "      <td>6.0</td>\n",
       "      <td>621.0</td>\n",
       "      <td>72.0</td>\n",
       "      <td>33.0</td>\n",
       "      <td>31.0</td>\n",
       "      <td>0.0</td>\n",
       "      <td>8.0</td>\n",
       "      <td>4.0</td>\n",
       "      <td>4.0</td>\n",
       "      <td>0.0</td>\n",
       "      <td>3.0</td>\n",
       "      <td>8.0</td>\n",
       "      <td>62.0</td>\n",
       "      <td>8.0</td>\n",
       "      <td>2.0</td>\n",
       "      <td>0.0</td>\n",
       "      <td>360.0</td>\n",
       "      <td>2018-04-05</td>\n",
       "      <td>4000.0</td>\n",
       "      <td>74.0</td>\n",
       "      <td>4.0</td>\n",
       "      <td>4.0</td>\n",
       "      <td>8700.0</td>\n",
       "      <td>4250.0</td>\n",
       "      <td>40200.0</td>\n",
       "      <td>72.0</td>\n",
       "      <td>4.0</td>\n",
       "      <td>4.0</td>\n",
       "      <td>122400.0</td>\n",
       "      <td>50400.0</td>\n",
       "      <td>14.0</td>\n",
       "      <td>32.0</td>\n",
       "    </tr>\n",
       "    <tr>\n",
       "      <th>4244</th>\n",
       "      <td>10705</td>\n",
       "      <td>2402606</td>\n",
       "      <td>20180507121115962000000023073491</td>\n",
       "      <td>卡号1</td>\n",
       "      <td>0.02</td>\n",
       "      <td>0.85</td>\n",
       "      <td>600</td>\n",
       "      <td>0.69</td>\n",
       "      <td>1.00</td>\n",
       "      <td>0.307</td>\n",
       "      <td>13.0</td>\n",
       "      <td>26.0</td>\n",
       "      <td>12.0</td>\n",
       "      <td>3.0</td>\n",
       "      <td>1.0</td>\n",
       "      <td>10220</td>\n",
       "      <td>0</td>\n",
       "      <td>9.0</td>\n",
       "      <td>20170531.0</td>\n",
       "      <td>122710</td>\n",
       "      <td>83.0</td>\n",
       "      <td>0.40</td>\n",
       "      <td>36210</td>\n",
       "      <td>4.0</td>\n",
       "      <td>3050</td>\n",
       "      <td>0.20</td>\n",
       "      <td>950</td>\n",
       "      <td>0.55</td>\n",
       "      <td>一线城市</td>\n",
       "      <td>9.0</td>\n",
       "      <td>26.0</td>\n",
       "      <td>9.0</td>\n",
       "      <td>26.0</td>\n",
       "      <td>0.0</td>\n",
       "      <td>2.0</td>\n",
       "      <td>6.0</td>\n",
       "      <td>6.0</td>\n",
       "      <td>178332.0</td>\n",
       "      <td>1080</td>\n",
       "      <td>6.0</td>\n",
       "      <td>0.0</td>\n",
       "      <td>510</td>\n",
       "      <td>20370</td>\n",
       "      <td>0.0</td>\n",
       "      <td>0</td>\n",
       "      <td>xs</td>\n",
       "      <td>355.0</td>\n",
       "      <td>88.0</td>\n",
       "      <td>刘烨</td>\n",
       "      <td>631.0</td>\n",
       "      <td>80.0</td>\n",
       "      <td>8.0</td>\n",
       "      <td>3.0</td>\n",
       "      <td>3.0</td>\n",
       "      <td>9.0</td>\n",
       "      <td>2018-04-02</td>\n",
       "      <td>0.0</td>\n",
       "      <td>2.0</td>\n",
       "      <td>4.0</td>\n",
       "      <td>602.0</td>\n",
       "      <td>79.0</td>\n",
       "      <td>32.0</td>\n",
       "      <td>28.0</td>\n",
       "      <td>0.0</td>\n",
       "      <td>11.0</td>\n",
       "      <td>2.0</td>\n",
       "      <td>9.0</td>\n",
       "      <td>0.0</td>\n",
       "      <td>0.0</td>\n",
       "      <td>8.0</td>\n",
       "      <td>52.0</td>\n",
       "      <td>10.0</td>\n",
       "      <td>0.0</td>\n",
       "      <td>0.0</td>\n",
       "      <td>351.0</td>\n",
       "      <td>2018-01-20</td>\n",
       "      <td>1400.0</td>\n",
       "      <td>79.0</td>\n",
       "      <td>9.0</td>\n",
       "      <td>10.0</td>\n",
       "      <td>2300.0</td>\n",
       "      <td>1277.0</td>\n",
       "      <td>12500.0</td>\n",
       "      <td>79.0</td>\n",
       "      <td>2.0</td>\n",
       "      <td>2.0</td>\n",
       "      <td>13200.0</td>\n",
       "      <td>10800.0</td>\n",
       "      <td>35.0</td>\n",
       "      <td>107.0</td>\n",
       "    </tr>\n",
       "    <tr>\n",
       "      <th>3674</th>\n",
       "      <td>9289</td>\n",
       "      <td>3227448</td>\n",
       "      <td>20180507122733070000000388338286</td>\n",
       "      <td>卡号1</td>\n",
       "      <td>0.12</td>\n",
       "      <td>0.88</td>\n",
       "      <td>0</td>\n",
       "      <td>2.02</td>\n",
       "      <td>0.70</td>\n",
       "      <td>0.081</td>\n",
       "      <td>8.0</td>\n",
       "      <td>148.0</td>\n",
       "      <td>112.0</td>\n",
       "      <td>1.0</td>\n",
       "      <td>NaN</td>\n",
       "      <td>11470</td>\n",
       "      <td>0</td>\n",
       "      <td>7.0</td>\n",
       "      <td>20170321.0</td>\n",
       "      <td>6680</td>\n",
       "      <td>17.0</td>\n",
       "      <td>1.00</td>\n",
       "      <td>2840</td>\n",
       "      <td>3.0</td>\n",
       "      <td>830</td>\n",
       "      <td>1.00</td>\n",
       "      <td>410</td>\n",
       "      <td>NaN</td>\n",
       "      <td>三线城市</td>\n",
       "      <td>0.0</td>\n",
       "      <td>30.0</td>\n",
       "      <td>0.0</td>\n",
       "      <td>30.0</td>\n",
       "      <td>NaN</td>\n",
       "      <td>1.0</td>\n",
       "      <td>3.0</td>\n",
       "      <td>3.0</td>\n",
       "      <td>0.0</td>\n",
       "      <td>0</td>\n",
       "      <td>4.0</td>\n",
       "      <td>0.0</td>\n",
       "      <td>0</td>\n",
       "      <td>5620</td>\n",
       "      <td>0.0</td>\n",
       "      <td>0</td>\n",
       "      <td>xs</td>\n",
       "      <td>426.0</td>\n",
       "      <td>151.0</td>\n",
       "      <td>许明康</td>\n",
       "      <td>624.0</td>\n",
       "      <td>76.0</td>\n",
       "      <td>13.0</td>\n",
       "      <td>6.0</td>\n",
       "      <td>4.0</td>\n",
       "      <td>16.0</td>\n",
       "      <td>2018-04-19</td>\n",
       "      <td>5.0</td>\n",
       "      <td>7.0</td>\n",
       "      <td>13.0</td>\n",
       "      <td>603.0</td>\n",
       "      <td>78.0</td>\n",
       "      <td>1.0</td>\n",
       "      <td>1.0</td>\n",
       "      <td>0.0</td>\n",
       "      <td>1.0</td>\n",
       "      <td>1.0</td>\n",
       "      <td>0.0</td>\n",
       "      <td>0.0</td>\n",
       "      <td>0.0</td>\n",
       "      <td>0.0</td>\n",
       "      <td>4.0</td>\n",
       "      <td>0.0</td>\n",
       "      <td>0.0</td>\n",
       "      <td>0.0</td>\n",
       "      <td>210.0</td>\n",
       "      <td>2017-10-09</td>\n",
       "      <td>0.0</td>\n",
       "      <td>0.0</td>\n",
       "      <td>0.0</td>\n",
       "      <td>0.0</td>\n",
       "      <td>0.0</td>\n",
       "      <td>0.0</td>\n",
       "      <td>1000.0</td>\n",
       "      <td>78.0</td>\n",
       "      <td>1.0</td>\n",
       "      <td>1.0</td>\n",
       "      <td>1000.0</td>\n",
       "      <td>1000.0</td>\n",
       "      <td>18.0</td>\n",
       "      <td>210.0</td>\n",
       "    </tr>\n",
       "    <tr>\n",
       "      <th>490</th>\n",
       "      <td>1193</td>\n",
       "      <td>63272</td>\n",
       "      <td>20180507123321187000000023093621</td>\n",
       "      <td>卡号1</td>\n",
       "      <td>0.02</td>\n",
       "      <td>0.81</td>\n",
       "      <td>1000</td>\n",
       "      <td>1.49</td>\n",
       "      <td>0.73</td>\n",
       "      <td>0.555</td>\n",
       "      <td>23.0</td>\n",
       "      <td>15.0</td>\n",
       "      <td>8.0</td>\n",
       "      <td>4.0</td>\n",
       "      <td>1.0</td>\n",
       "      <td>4320</td>\n",
       "      <td>0</td>\n",
       "      <td>40.0</td>\n",
       "      <td>20130817.0</td>\n",
       "      <td>373700</td>\n",
       "      <td>356.0</td>\n",
       "      <td>0.30</td>\n",
       "      <td>61940</td>\n",
       "      <td>8.0</td>\n",
       "      <td>26200</td>\n",
       "      <td>0.10</td>\n",
       "      <td>1390</td>\n",
       "      <td>0.45</td>\n",
       "      <td>三线城市</td>\n",
       "      <td>15.0</td>\n",
       "      <td>15.0</td>\n",
       "      <td>15.0</td>\n",
       "      <td>15.0</td>\n",
       "      <td>1.0</td>\n",
       "      <td>8.0</td>\n",
       "      <td>8.0</td>\n",
       "      <td>8.0</td>\n",
       "      <td>42936.0</td>\n",
       "      <td>3090</td>\n",
       "      <td>7.0</td>\n",
       "      <td>0.0</td>\n",
       "      <td>3140</td>\n",
       "      <td>67720</td>\n",
       "      <td>0.0</td>\n",
       "      <td>1</td>\n",
       "      <td>xs</td>\n",
       "      <td>1738.0</td>\n",
       "      <td>82.0</td>\n",
       "      <td>袁国文</td>\n",
       "      <td>491.0</td>\n",
       "      <td>74.0</td>\n",
       "      <td>11.0</td>\n",
       "      <td>6.0</td>\n",
       "      <td>4.0</td>\n",
       "      <td>12.0</td>\n",
       "      <td>2018-04-17</td>\n",
       "      <td>1.0</td>\n",
       "      <td>4.0</td>\n",
       "      <td>7.0</td>\n",
       "      <td>448.0</td>\n",
       "      <td>78.0</td>\n",
       "      <td>40.0</td>\n",
       "      <td>22.0</td>\n",
       "      <td>7.0</td>\n",
       "      <td>17.0</td>\n",
       "      <td>11.0</td>\n",
       "      <td>6.0</td>\n",
       "      <td>0.0</td>\n",
       "      <td>3.0</td>\n",
       "      <td>18.0</td>\n",
       "      <td>40.0</td>\n",
       "      <td>78.0</td>\n",
       "      <td>0.0</td>\n",
       "      <td>10.0</td>\n",
       "      <td>356.0</td>\n",
       "      <td>2018-03-17</td>\n",
       "      <td>2600.0</td>\n",
       "      <td>76.0</td>\n",
       "      <td>6.0</td>\n",
       "      <td>7.0</td>\n",
       "      <td>4500.0</td>\n",
       "      <td>2500.0</td>\n",
       "      <td>6600.0</td>\n",
       "      <td>78.0</td>\n",
       "      <td>11.0</td>\n",
       "      <td>12.0</td>\n",
       "      <td>17400.0</td>\n",
       "      <td>6418.0</td>\n",
       "      <td>20.0</td>\n",
       "      <td>51.0</td>\n",
       "    </tr>\n",
       "    <tr>\n",
       "      <th>1076</th>\n",
       "      <td>2797</td>\n",
       "      <td>3568608</td>\n",
       "      <td>20180507114724241000000388185488</td>\n",
       "      <td>卡号1</td>\n",
       "      <td>0.01</td>\n",
       "      <td>0.99</td>\n",
       "      <td>5000</td>\n",
       "      <td>0.47</td>\n",
       "      <td>0.75</td>\n",
       "      <td>0.383</td>\n",
       "      <td>18.0</td>\n",
       "      <td>34.0</td>\n",
       "      <td>15.0</td>\n",
       "      <td>2.0</td>\n",
       "      <td>1.0</td>\n",
       "      <td>11320</td>\n",
       "      <td>0</td>\n",
       "      <td>27.0</td>\n",
       "      <td>20150304.0</td>\n",
       "      <td>164430</td>\n",
       "      <td>211.0</td>\n",
       "      <td>0.20</td>\n",
       "      <td>49160</td>\n",
       "      <td>6.0</td>\n",
       "      <td>19380</td>\n",
       "      <td>0.05</td>\n",
       "      <td>1260</td>\n",
       "      <td>0.50</td>\n",
       "      <td>三线城市</td>\n",
       "      <td>4.0</td>\n",
       "      <td>12.0</td>\n",
       "      <td>4.0</td>\n",
       "      <td>12.0</td>\n",
       "      <td>3.0</td>\n",
       "      <td>2.0</td>\n",
       "      <td>6.0</td>\n",
       "      <td>6.0</td>\n",
       "      <td>2.0</td>\n",
       "      <td>2170</td>\n",
       "      <td>6.0</td>\n",
       "      <td>1.0</td>\n",
       "      <td>2150</td>\n",
       "      <td>13060</td>\n",
       "      <td>0.0</td>\n",
       "      <td>0</td>\n",
       "      <td>xs</td>\n",
       "      <td>1174.0</td>\n",
       "      <td>82.0</td>\n",
       "      <td>史成禹</td>\n",
       "      <td>543.0</td>\n",
       "      <td>73.0</td>\n",
       "      <td>29.0</td>\n",
       "      <td>14.0</td>\n",
       "      <td>12.0</td>\n",
       "      <td>58.0</td>\n",
       "      <td>2018-04-29</td>\n",
       "      <td>24.0</td>\n",
       "      <td>43.0</td>\n",
       "      <td>48.0</td>\n",
       "      <td>520.0</td>\n",
       "      <td>73.0</td>\n",
       "      <td>39.0</td>\n",
       "      <td>33.0</td>\n",
       "      <td>3.0</td>\n",
       "      <td>12.0</td>\n",
       "      <td>3.0</td>\n",
       "      <td>9.0</td>\n",
       "      <td>4.0</td>\n",
       "      <td>6.0</td>\n",
       "      <td>21.0</td>\n",
       "      <td>39.0</td>\n",
       "      <td>18.0</td>\n",
       "      <td>1.0</td>\n",
       "      <td>5.0</td>\n",
       "      <td>304.0</td>\n",
       "      <td>2018-05-03</td>\n",
       "      <td>2600.0</td>\n",
       "      <td>73.0</td>\n",
       "      <td>9.0</td>\n",
       "      <td>10.0</td>\n",
       "      <td>5000.0</td>\n",
       "      <td>1800.0</td>\n",
       "      <td>6800.0</td>\n",
       "      <td>74.0</td>\n",
       "      <td>3.0</td>\n",
       "      <td>3.0</td>\n",
       "      <td>13200.0</td>\n",
       "      <td>6900.0</td>\n",
       "      <td>8.0</td>\n",
       "      <td>4.0</td>\n",
       "    </tr>\n",
       "    <tr>\n",
       "      <th>360</th>\n",
       "      <td>888</td>\n",
       "      <td>2521020</td>\n",
       "      <td>20180504163346912000000381423340</td>\n",
       "      <td>卡号1</td>\n",
       "      <td>0.01</td>\n",
       "      <td>0.99</td>\n",
       "      <td>0</td>\n",
       "      <td>0.60</td>\n",
       "      <td>0.75</td>\n",
       "      <td>0.253</td>\n",
       "      <td>14.0</td>\n",
       "      <td>48.0</td>\n",
       "      <td>34.0</td>\n",
       "      <td>2.0</td>\n",
       "      <td>NaN</td>\n",
       "      <td>5240</td>\n",
       "      <td>0</td>\n",
       "      <td>12.0</td>\n",
       "      <td>20161107.0</td>\n",
       "      <td>97910</td>\n",
       "      <td>79.0</td>\n",
       "      <td>1.00</td>\n",
       "      <td>31190</td>\n",
       "      <td>6.0</td>\n",
       "      <td>1950</td>\n",
       "      <td>1.00</td>\n",
       "      <td>1110</td>\n",
       "      <td>0.55</td>\n",
       "      <td>三线城市</td>\n",
       "      <td>0.0</td>\n",
       "      <td>16.0</td>\n",
       "      <td>0.0</td>\n",
       "      <td>16.0</td>\n",
       "      <td>0.0</td>\n",
       "      <td>1.0</td>\n",
       "      <td>9.0</td>\n",
       "      <td>9.0</td>\n",
       "      <td>0.0</td>\n",
       "      <td>0</td>\n",
       "      <td>4.0</td>\n",
       "      <td>0.0</td>\n",
       "      <td>0</td>\n",
       "      <td>12220</td>\n",
       "      <td>0.0</td>\n",
       "      <td>1</td>\n",
       "      <td>xs</td>\n",
       "      <td>560.0</td>\n",
       "      <td>103.0</td>\n",
       "      <td>蒋雨晴</td>\n",
       "      <td>532.0</td>\n",
       "      <td>76.0</td>\n",
       "      <td>19.0</td>\n",
       "      <td>10.0</td>\n",
       "      <td>5.0</td>\n",
       "      <td>27.0</td>\n",
       "      <td>2018-05-06</td>\n",
       "      <td>9.0</td>\n",
       "      <td>18.0</td>\n",
       "      <td>23.0</td>\n",
       "      <td>497.0</td>\n",
       "      <td>77.0</td>\n",
       "      <td>37.0</td>\n",
       "      <td>31.0</td>\n",
       "      <td>1.0</td>\n",
       "      <td>14.0</td>\n",
       "      <td>2.0</td>\n",
       "      <td>12.0</td>\n",
       "      <td>0.0</td>\n",
       "      <td>3.0</td>\n",
       "      <td>16.0</td>\n",
       "      <td>32.0</td>\n",
       "      <td>11.0</td>\n",
       "      <td>0.0</td>\n",
       "      <td>0.0</td>\n",
       "      <td>330.0</td>\n",
       "      <td>2018-03-20</td>\n",
       "      <td>2300.0</td>\n",
       "      <td>77.0</td>\n",
       "      <td>12.0</td>\n",
       "      <td>14.0</td>\n",
       "      <td>5000.0</td>\n",
       "      <td>2300.0</td>\n",
       "      <td>18100.0</td>\n",
       "      <td>78.0</td>\n",
       "      <td>2.0</td>\n",
       "      <td>2.0</td>\n",
       "      <td>19200.0</td>\n",
       "      <td>14400.0</td>\n",
       "      <td>-2.0</td>\n",
       "      <td>45.0</td>\n",
       "    </tr>\n",
       "    <tr>\n",
       "      <th>689</th>\n",
       "      <td>1706</td>\n",
       "      <td>545374</td>\n",
       "      <td>20180504174414488000000381716094</td>\n",
       "      <td>卡号1</td>\n",
       "      <td>0.01</td>\n",
       "      <td>0.71</td>\n",
       "      <td>3300</td>\n",
       "      <td>0.92</td>\n",
       "      <td>0.89</td>\n",
       "      <td>0.797</td>\n",
       "      <td>26.0</td>\n",
       "      <td>7.0</td>\n",
       "      <td>6.0</td>\n",
       "      <td>3.0</td>\n",
       "      <td>1.0</td>\n",
       "      <td>56680</td>\n",
       "      <td>1</td>\n",
       "      <td>33.0</td>\n",
       "      <td>20150205.0</td>\n",
       "      <td>908880</td>\n",
       "      <td>445.0</td>\n",
       "      <td>0.05</td>\n",
       "      <td>223820</td>\n",
       "      <td>8.0</td>\n",
       "      <td>9350</td>\n",
       "      <td>0.05</td>\n",
       "      <td>1570</td>\n",
       "      <td>0.40</td>\n",
       "      <td>三线城市</td>\n",
       "      <td>6.0</td>\n",
       "      <td>7.0</td>\n",
       "      <td>10.0</td>\n",
       "      <td>10.0</td>\n",
       "      <td>2.0</td>\n",
       "      <td>1.0</td>\n",
       "      <td>3.0</td>\n",
       "      <td>3.0</td>\n",
       "      <td>194.0</td>\n",
       "      <td>25360</td>\n",
       "      <td>9.0</td>\n",
       "      <td>0.0</td>\n",
       "      <td>280</td>\n",
       "      <td>62250</td>\n",
       "      <td>0.0</td>\n",
       "      <td>0</td>\n",
       "      <td>xs</td>\n",
       "      <td>1201.0</td>\n",
       "      <td>82.0</td>\n",
       "      <td>文斌</td>\n",
       "      <td>523.0</td>\n",
       "      <td>75.0</td>\n",
       "      <td>15.0</td>\n",
       "      <td>10.0</td>\n",
       "      <td>3.0</td>\n",
       "      <td>28.0</td>\n",
       "      <td>2018-04-28</td>\n",
       "      <td>5.0</td>\n",
       "      <td>22.0</td>\n",
       "      <td>25.0</td>\n",
       "      <td>491.0</td>\n",
       "      <td>75.0</td>\n",
       "      <td>57.0</td>\n",
       "      <td>50.0</td>\n",
       "      <td>4.0</td>\n",
       "      <td>18.0</td>\n",
       "      <td>7.0</td>\n",
       "      <td>11.0</td>\n",
       "      <td>0.0</td>\n",
       "      <td>5.0</td>\n",
       "      <td>26.0</td>\n",
       "      <td>67.0</td>\n",
       "      <td>19.0</td>\n",
       "      <td>0.0</td>\n",
       "      <td>0.0</td>\n",
       "      <td>360.0</td>\n",
       "      <td>2018-03-27</td>\n",
       "      <td>2500.0</td>\n",
       "      <td>74.0</td>\n",
       "      <td>11.0</td>\n",
       "      <td>12.0</td>\n",
       "      <td>5000.0</td>\n",
       "      <td>2045.0</td>\n",
       "      <td>10400.0</td>\n",
       "      <td>78.0</td>\n",
       "      <td>7.0</td>\n",
       "      <td>8.0</td>\n",
       "      <td>21600.0</td>\n",
       "      <td>6871.0</td>\n",
       "      <td>6.0</td>\n",
       "      <td>38.0</td>\n",
       "    </tr>\n",
       "    <tr>\n",
       "      <th>4550</th>\n",
       "      <td>11484</td>\n",
       "      <td>1555069</td>\n",
       "      <td>20180504183720654000000021314949</td>\n",
       "      <td>卡号1</td>\n",
       "      <td>0.00</td>\n",
       "      <td>0.97</td>\n",
       "      <td>100</td>\n",
       "      <td>1.95</td>\n",
       "      <td>0.57</td>\n",
       "      <td>0.638</td>\n",
       "      <td>24.0</td>\n",
       "      <td>13.0</td>\n",
       "      <td>8.0</td>\n",
       "      <td>2.0</td>\n",
       "      <td>NaN</td>\n",
       "      <td>22500</td>\n",
       "      <td>0</td>\n",
       "      <td>21.0</td>\n",
       "      <td>20150210.0</td>\n",
       "      <td>615290</td>\n",
       "      <td>249.0</td>\n",
       "      <td>0.10</td>\n",
       "      <td>118520</td>\n",
       "      <td>7.0</td>\n",
       "      <td>6510</td>\n",
       "      <td>0.05</td>\n",
       "      <td>1360</td>\n",
       "      <td>0.45</td>\n",
       "      <td>一线城市</td>\n",
       "      <td>6.0</td>\n",
       "      <td>6.0</td>\n",
       "      <td>6.0</td>\n",
       "      <td>6.0</td>\n",
       "      <td>2.0</td>\n",
       "      <td>7.0</td>\n",
       "      <td>10.0</td>\n",
       "      <td>10.0</td>\n",
       "      <td>2043.0</td>\n",
       "      <td>11590</td>\n",
       "      <td>7.0</td>\n",
       "      <td>0.0</td>\n",
       "      <td>4030</td>\n",
       "      <td>42270</td>\n",
       "      <td>1.0</td>\n",
       "      <td>0</td>\n",
       "      <td>xs</td>\n",
       "      <td>1196.0</td>\n",
       "      <td>82.0</td>\n",
       "      <td>卞鑫</td>\n",
       "      <td>645.0</td>\n",
       "      <td>77.0</td>\n",
       "      <td>15.0</td>\n",
       "      <td>8.0</td>\n",
       "      <td>6.0</td>\n",
       "      <td>27.0</td>\n",
       "      <td>2018-04-16</td>\n",
       "      <td>2.0</td>\n",
       "      <td>5.0</td>\n",
       "      <td>22.0</td>\n",
       "      <td>612.0</td>\n",
       "      <td>73.0</td>\n",
       "      <td>74.0</td>\n",
       "      <td>63.0</td>\n",
       "      <td>0.0</td>\n",
       "      <td>29.0</td>\n",
       "      <td>12.0</td>\n",
       "      <td>17.0</td>\n",
       "      <td>0.0</td>\n",
       "      <td>1.0</td>\n",
       "      <td>25.0</td>\n",
       "      <td>76.0</td>\n",
       "      <td>27.0</td>\n",
       "      <td>0.0</td>\n",
       "      <td>0.0</td>\n",
       "      <td>359.0</td>\n",
       "      <td>2018-02-27</td>\n",
       "      <td>2100.0</td>\n",
       "      <td>71.0</td>\n",
       "      <td>17.0</td>\n",
       "      <td>17.0</td>\n",
       "      <td>3300.0</td>\n",
       "      <td>1947.0</td>\n",
       "      <td>13800.0</td>\n",
       "      <td>76.0</td>\n",
       "      <td>12.0</td>\n",
       "      <td>12.0</td>\n",
       "      <td>37200.0</td>\n",
       "      <td>12000.0</td>\n",
       "      <td>18.0</td>\n",
       "      <td>66.0</td>\n",
       "    </tr>\n",
       "    <tr>\n",
       "      <th>3432</th>\n",
       "      <td>8644</td>\n",
       "      <td>1442042</td>\n",
       "      <td>20180507114736440000000388184103</td>\n",
       "      <td>卡号1</td>\n",
       "      <td>0.01</td>\n",
       "      <td>0.81</td>\n",
       "      <td>0</td>\n",
       "      <td>0.30</td>\n",
       "      <td>0.70</td>\n",
       "      <td>0.222</td>\n",
       "      <td>16.0</td>\n",
       "      <td>50.0</td>\n",
       "      <td>30.0</td>\n",
       "      <td>4.0</td>\n",
       "      <td>NaN</td>\n",
       "      <td>610</td>\n",
       "      <td>0</td>\n",
       "      <td>30.0</td>\n",
       "      <td>20140814.0</td>\n",
       "      <td>131770</td>\n",
       "      <td>140.0</td>\n",
       "      <td>0.60</td>\n",
       "      <td>9490</td>\n",
       "      <td>7.0</td>\n",
       "      <td>5910</td>\n",
       "      <td>1.00</td>\n",
       "      <td>1810</td>\n",
       "      <td>0.40</td>\n",
       "      <td>一线城市</td>\n",
       "      <td>0.0</td>\n",
       "      <td>50.0</td>\n",
       "      <td>0.0</td>\n",
       "      <td>50.0</td>\n",
       "      <td>0.0</td>\n",
       "      <td>0.0</td>\n",
       "      <td>0.0</td>\n",
       "      <td>1.0</td>\n",
       "      <td>0.0</td>\n",
       "      <td>1120</td>\n",
       "      <td>3.0</td>\n",
       "      <td>0.0</td>\n",
       "      <td>0</td>\n",
       "      <td>6140</td>\n",
       "      <td>0.0</td>\n",
       "      <td>0</td>\n",
       "      <td>xs</td>\n",
       "      <td>1376.0</td>\n",
       "      <td>84.0</td>\n",
       "      <td>蔡伟强</td>\n",
       "      <td>546.0</td>\n",
       "      <td>72.0</td>\n",
       "      <td>2.0</td>\n",
       "      <td>1.0</td>\n",
       "      <td>0.0</td>\n",
       "      <td>2.0</td>\n",
       "      <td>2018-04-02</td>\n",
       "      <td>0.0</td>\n",
       "      <td>2.0</td>\n",
       "      <td>2.0</td>\n",
       "      <td>513.0</td>\n",
       "      <td>76.0</td>\n",
       "      <td>23.0</td>\n",
       "      <td>23.0</td>\n",
       "      <td>1.0</td>\n",
       "      <td>7.0</td>\n",
       "      <td>2.0</td>\n",
       "      <td>5.0</td>\n",
       "      <td>2.0</td>\n",
       "      <td>3.0</td>\n",
       "      <td>7.0</td>\n",
       "      <td>38.0</td>\n",
       "      <td>2.0</td>\n",
       "      <td>2.0</td>\n",
       "      <td>0.0</td>\n",
       "      <td>354.0</td>\n",
       "      <td>2018-04-15</td>\n",
       "      <td>3000.0</td>\n",
       "      <td>76.0</td>\n",
       "      <td>5.0</td>\n",
       "      <td>5.0</td>\n",
       "      <td>4800.0</td>\n",
       "      <td>2580.0</td>\n",
       "      <td>3100.0</td>\n",
       "      <td>78.0</td>\n",
       "      <td>2.0</td>\n",
       "      <td>2.0</td>\n",
       "      <td>8100.0</td>\n",
       "      <td>5250.0</td>\n",
       "      <td>35.0</td>\n",
       "      <td>22.0</td>\n",
       "    </tr>\n",
       "    <tr>\n",
       "      <th>2604</th>\n",
       "      <td>6523</td>\n",
       "      <td>927283</td>\n",
       "      <td>20180507115030025000000388194856</td>\n",
       "      <td>卡号1</td>\n",
       "      <td>0.01</td>\n",
       "      <td>0.99</td>\n",
       "      <td>1100</td>\n",
       "      <td>2.91</td>\n",
       "      <td>0.95</td>\n",
       "      <td>0.444</td>\n",
       "      <td>27.0</td>\n",
       "      <td>60.0</td>\n",
       "      <td>26.0</td>\n",
       "      <td>3.0</td>\n",
       "      <td>1.0</td>\n",
       "      <td>15740</td>\n",
       "      <td>0</td>\n",
       "      <td>37.0</td>\n",
       "      <td>20141224.0</td>\n",
       "      <td>340250</td>\n",
       "      <td>300.0</td>\n",
       "      <td>0.70</td>\n",
       "      <td>1810</td>\n",
       "      <td>7.0</td>\n",
       "      <td>9410</td>\n",
       "      <td>0.40</td>\n",
       "      <td>1040</td>\n",
       "      <td>0.55</td>\n",
       "      <td>一线城市</td>\n",
       "      <td>11.0</td>\n",
       "      <td>60.0</td>\n",
       "      <td>11.0</td>\n",
       "      <td>86.0</td>\n",
       "      <td>0.0</td>\n",
       "      <td>1.0</td>\n",
       "      <td>10.0</td>\n",
       "      <td>10.0</td>\n",
       "      <td>0.0</td>\n",
       "      <td>300</td>\n",
       "      <td>12.0</td>\n",
       "      <td>0.0</td>\n",
       "      <td>0</td>\n",
       "      <td>15400</td>\n",
       "      <td>0.0</td>\n",
       "      <td>1</td>\n",
       "      <td>xs</td>\n",
       "      <td>1244.0</td>\n",
       "      <td>94.0</td>\n",
       "      <td>奚贤平</td>\n",
       "      <td>535.0</td>\n",
       "      <td>74.0</td>\n",
       "      <td>20.0</td>\n",
       "      <td>12.0</td>\n",
       "      <td>5.0</td>\n",
       "      <td>26.0</td>\n",
       "      <td>2018-04-20</td>\n",
       "      <td>7.0</td>\n",
       "      <td>11.0</td>\n",
       "      <td>17.0</td>\n",
       "      <td>493.0</td>\n",
       "      <td>77.0</td>\n",
       "      <td>52.0</td>\n",
       "      <td>39.0</td>\n",
       "      <td>10.0</td>\n",
       "      <td>19.0</td>\n",
       "      <td>2.0</td>\n",
       "      <td>17.0</td>\n",
       "      <td>1.0</td>\n",
       "      <td>2.0</td>\n",
       "      <td>4.0</td>\n",
       "      <td>41.0</td>\n",
       "      <td>46.0</td>\n",
       "      <td>0.0</td>\n",
       "      <td>1.0</td>\n",
       "      <td>345.0</td>\n",
       "      <td>2018-04-19</td>\n",
       "      <td>1900.0</td>\n",
       "      <td>76.0</td>\n",
       "      <td>17.0</td>\n",
       "      <td>18.0</td>\n",
       "      <td>2800.0</td>\n",
       "      <td>1629.0</td>\n",
       "      <td>3000.0</td>\n",
       "      <td>85.0</td>\n",
       "      <td>2.0</td>\n",
       "      <td>2.0</td>\n",
       "      <td>3000.0</td>\n",
       "      <td>3000.0</td>\n",
       "      <td>17.0</td>\n",
       "      <td>18.0</td>\n",
       "    </tr>\n",
       "  </tbody>\n",
       "</table>\n",
       "</div>"
      ],
      "text/plain": [
       "      Unnamed: 0   custid                          trade_no bank_card_no  \\\n",
       "3964       10034   430905  20180507120447238000000388246279          卡号1   \n",
       "4244       10705  2402606  20180507121115962000000023073491          卡号1   \n",
       "3674        9289  3227448  20180507122733070000000388338286          卡号1   \n",
       "490         1193    63272  20180507123321187000000023093621          卡号1   \n",
       "1076        2797  3568608  20180507114724241000000388185488          卡号1   \n",
       "360          888  2521020  20180504163346912000000381423340          卡号1   \n",
       "689         1706   545374  20180504174414488000000381716094          卡号1   \n",
       "4550       11484  1555069  20180504183720654000000021314949          卡号1   \n",
       "3432        8644  1442042  20180507114736440000000388184103          卡号1   \n",
       "2604        6523   927283  20180507115030025000000388194856          卡号1   \n",
       "\n",
       "      low_volume_percent  middle_volume_percent  \\\n",
       "3964                0.01                   0.60   \n",
       "4244                0.02                   0.85   \n",
       "3674                0.12                   0.88   \n",
       "490                 0.02                   0.81   \n",
       "1076                0.01                   0.99   \n",
       "360                 0.01                   0.99   \n",
       "689                 0.01                   0.71   \n",
       "4550                0.00                   0.97   \n",
       "3432                0.01                   0.81   \n",
       "2604                0.01                   0.99   \n",
       "\n",
       "      take_amount_in_later_12_month_highest  \\\n",
       "3964                                      0   \n",
       "4244                                    600   \n",
       "3674                                      0   \n",
       "490                                    1000   \n",
       "1076                                   5000   \n",
       "360                                       0   \n",
       "689                                    3300   \n",
       "4550                                    100   \n",
       "3432                                      0   \n",
       "2604                                   1100   \n",
       "\n",
       "      trans_amount_increase_rate_lately  trans_activity_month  \\\n",
       "3964                               0.92                  0.73   \n",
       "4244                               0.69                  1.00   \n",
       "3674                               2.02                  0.70   \n",
       "490                                1.49                  0.73   \n",
       "1076                               0.47                  0.75   \n",
       "360                                0.60                  0.75   \n",
       "689                                0.92                  0.89   \n",
       "4550                               1.95                  0.57   \n",
       "3432                               0.30                  0.70   \n",
       "2604                               2.91                  0.95   \n",
       "\n",
       "      trans_activity_day  transd_mcc  trans_days_interval_filter  \\\n",
       "3964               0.469        17.0                        14.0   \n",
       "4244               0.307        13.0                        26.0   \n",
       "3674               0.081         8.0                       148.0   \n",
       "490                0.555        23.0                        15.0   \n",
       "1076               0.383        18.0                        34.0   \n",
       "360                0.253        14.0                        48.0   \n",
       "689                0.797        26.0                         7.0   \n",
       "4550               0.638        24.0                        13.0   \n",
       "3432               0.222        16.0                        50.0   \n",
       "2604               0.444        27.0                        60.0   \n",
       "\n",
       "      trans_days_interval  regional_mobility  student_feature  \\\n",
       "3964                 10.0                3.0              NaN   \n",
       "4244                 12.0                3.0              1.0   \n",
       "3674                112.0                1.0              NaN   \n",
       "490                   8.0                4.0              1.0   \n",
       "1076                 15.0                2.0              1.0   \n",
       "360                  34.0                2.0              NaN   \n",
       "689                   6.0                3.0              1.0   \n",
       "4550                  8.0                2.0              NaN   \n",
       "3432                 30.0                4.0              NaN   \n",
       "2604                 26.0                3.0              1.0   \n",
       "\n",
       "      repayment_capability  is_high_user  number_of_trans_from_2011  \\\n",
       "3964                 25750             0                       43.0   \n",
       "4244                 10220             0                        9.0   \n",
       "3674                 11470             0                        7.0   \n",
       "490                   4320             0                       40.0   \n",
       "1076                 11320             0                       27.0   \n",
       "360                   5240             0                       12.0   \n",
       "689                  56680             1                       33.0   \n",
       "4550                 22500             0                       21.0   \n",
       "3432                   610             0                       30.0   \n",
       "2604                 15740             0                       37.0   \n",
       "\n",
       "      first_transaction_time  historical_trans_amount  historical_trans_day  \\\n",
       "3964              20130421.0                   565480                 301.0   \n",
       "4244              20170531.0                   122710                  83.0   \n",
       "3674              20170321.0                     6680                  17.0   \n",
       "490               20130817.0                   373700                 356.0   \n",
       "1076              20150304.0                   164430                 211.0   \n",
       "360               20161107.0                    97910                  79.0   \n",
       "689               20150205.0                   908880                 445.0   \n",
       "4550              20150210.0                   615290                 249.0   \n",
       "3432              20140814.0                   131770                 140.0   \n",
       "2604              20141224.0                   340250                 300.0   \n",
       "\n",
       "      rank_trad_1_month  trans_amount_3_month  \\\n",
       "3964               0.10                108800   \n",
       "4244               0.40                 36210   \n",
       "3674               1.00                  2840   \n",
       "490                0.30                 61940   \n",
       "1076               0.20                 49160   \n",
       "360                1.00                 31190   \n",
       "689                0.05                223820   \n",
       "4550               0.10                118520   \n",
       "3432               0.60                  9490   \n",
       "2604               0.70                  1810   \n",
       "\n",
       "      avg_consume_less_12_valid_month     abs  top_trans_count_last_1_month  \\\n",
       "3964                              6.0  118480                          0.10   \n",
       "4244                              4.0    3050                          0.20   \n",
       "3674                              3.0     830                          1.00   \n",
       "490                               8.0   26200                          0.10   \n",
       "1076                              6.0   19380                          0.05   \n",
       "360                               6.0    1950                          1.00   \n",
       "689                               8.0    9350                          0.05   \n",
       "4550                              7.0    6510                          0.05   \n",
       "3432                              7.0    5910                          1.00   \n",
       "2604                              7.0    9410                          0.40   \n",
       "\n",
       "      avg_price_last_12_month  avg_price_top_last_12_valid_month  \\\n",
       "3964                     2380                               0.35   \n",
       "4244                      950                               0.55   \n",
       "3674                      410                                NaN   \n",
       "490                      1390                               0.45   \n",
       "1076                     1260                               0.50   \n",
       "360                      1110                               0.55   \n",
       "689                      1570                               0.40   \n",
       "4550                     1360                               0.45   \n",
       "3432                     1810                               0.40   \n",
       "2604                     1040                               0.55   \n",
       "\n",
       "     reg_preference_for_trad  trans_top_time_last_1_month  \\\n",
       "3964                    三线城市                          8.0   \n",
       "4244                    一线城市                          9.0   \n",
       "3674                    三线城市                          0.0   \n",
       "490                     三线城市                         15.0   \n",
       "1076                    三线城市                          4.0   \n",
       "360                     三线城市                          0.0   \n",
       "689                     三线城市                          6.0   \n",
       "4550                    一线城市                          6.0   \n",
       "3432                    一线城市                          0.0   \n",
       "2604                    一线城市                         11.0   \n",
       "\n",
       "      trans_top_time_last_6_month  consume_top_time_last_1_month  \\\n",
       "3964                          8.0                            8.0   \n",
       "4244                         26.0                            9.0   \n",
       "3674                         30.0                            0.0   \n",
       "490                          15.0                           15.0   \n",
       "1076                         12.0                            4.0   \n",
       "360                          16.0                            0.0   \n",
       "689                           7.0                           10.0   \n",
       "4550                          6.0                            6.0   \n",
       "3432                         50.0                            0.0   \n",
       "2604                         60.0                           11.0   \n",
       "\n",
       "      consume_top_time_last_6_month  cross_consume_count_last_1_month  \\\n",
       "3964                            8.0                               1.0   \n",
       "4244                           26.0                               0.0   \n",
       "3674                           30.0                               NaN   \n",
       "490                            15.0                               1.0   \n",
       "1076                           12.0                               3.0   \n",
       "360                            16.0                               0.0   \n",
       "689                            10.0                               2.0   \n",
       "4550                            6.0                               2.0   \n",
       "3432                           50.0                               0.0   \n",
       "2604                           86.0                               0.0   \n",
       "\n",
       "      trans_fail_top_count_enum_last_1_month  \\\n",
       "3964                                     3.0   \n",
       "4244                                     2.0   \n",
       "3674                                     1.0   \n",
       "490                                      8.0   \n",
       "1076                                     2.0   \n",
       "360                                      1.0   \n",
       "689                                      1.0   \n",
       "4550                                     7.0   \n",
       "3432                                     0.0   \n",
       "2604                                     1.0   \n",
       "\n",
       "      trans_fail_top_count_enum_last_6_month  \\\n",
       "3964                                     3.0   \n",
       "4244                                     6.0   \n",
       "3674                                     3.0   \n",
       "490                                      8.0   \n",
       "1076                                     6.0   \n",
       "360                                      9.0   \n",
       "689                                      3.0   \n",
       "4550                                    10.0   \n",
       "3432                                     0.0   \n",
       "2604                                    10.0   \n",
       "\n",
       "      trans_fail_top_count_enum_last_12_month  consume_mini_time_last_1_month  \\\n",
       "3964                                      3.0                        730448.0   \n",
       "4244                                      6.0                        178332.0   \n",
       "3674                                      3.0                             0.0   \n",
       "490                                       8.0                         42936.0   \n",
       "1076                                      6.0                             2.0   \n",
       "360                                       9.0                             0.0   \n",
       "689                                       3.0                           194.0   \n",
       "4550                                     10.0                          2043.0   \n",
       "3432                                      1.0                             0.0   \n",
       "2604                                     10.0                             0.0   \n",
       "\n",
       "      max_cumulative_consume_later_1_month  max_consume_count_later_6_month  \\\n",
       "3964                                 22270                              6.0   \n",
       "4244                                  1080                              6.0   \n",
       "3674                                     0                              4.0   \n",
       "490                                   3090                              7.0   \n",
       "1076                                  2170                              6.0   \n",
       "360                                      0                              4.0   \n",
       "689                                  25360                              9.0   \n",
       "4550                                 11590                              7.0   \n",
       "3432                                  1120                              3.0   \n",
       "2604                                   300                             12.0   \n",
       "\n",
       "      railway_consume_count_last_12_month  \\\n",
       "3964                                  0.0   \n",
       "4244                                  0.0   \n",
       "3674                                  0.0   \n",
       "490                                   0.0   \n",
       "1076                                  1.0   \n",
       "360                                   0.0   \n",
       "689                                   0.0   \n",
       "4550                                  0.0   \n",
       "3432                                  0.0   \n",
       "2604                                  0.0   \n",
       "\n",
       "      pawns_auctions_trusts_consume_last_1_month  \\\n",
       "3964                                         180   \n",
       "4244                                         510   \n",
       "3674                                           0   \n",
       "490                                         3140   \n",
       "1076                                        2150   \n",
       "360                                            0   \n",
       "689                                          280   \n",
       "4550                                        4030   \n",
       "3432                                           0   \n",
       "2604                                           0   \n",
       "\n",
       "      pawns_auctions_trusts_consume_last_6_month  \\\n",
       "3964                                       26610   \n",
       "4244                                       20370   \n",
       "3674                                        5620   \n",
       "490                                        67720   \n",
       "1076                                       13060   \n",
       "360                                        12220   \n",
       "689                                        62250   \n",
       "4550                                       42270   \n",
       "3432                                        6140   \n",
       "2604                                       15400   \n",
       "\n",
       "      jewelry_consume_count_last_6_month  status source  \\\n",
       "3964                                 0.0       1     xs   \n",
       "4244                                 0.0       0     xs   \n",
       "3674                                 0.0       0     xs   \n",
       "490                                  0.0       1     xs   \n",
       "1076                                 0.0       0     xs   \n",
       "360                                  0.0       1     xs   \n",
       "689                                  0.0       0     xs   \n",
       "4550                                 1.0       0     xs   \n",
       "3432                                 0.0       0     xs   \n",
       "2604                                 0.0       1     xs   \n",
       "\n",
       "      first_transaction_day  trans_day_last_12_month id_name  apply_score  \\\n",
       "3964                 1856.0                     82.0     马旭磊        640.0   \n",
       "4244                  355.0                     88.0      刘烨        631.0   \n",
       "3674                  426.0                    151.0     许明康        624.0   \n",
       "490                  1738.0                     82.0     袁国文        491.0   \n",
       "1076                 1174.0                     82.0     史成禹        543.0   \n",
       "360                   560.0                    103.0     蒋雨晴        532.0   \n",
       "689                  1201.0                     82.0      文斌        523.0   \n",
       "4550                 1196.0                     82.0      卞鑫        645.0   \n",
       "3432                 1376.0                     84.0     蔡伟强        546.0   \n",
       "2604                 1244.0                     94.0     奚贤平        535.0   \n",
       "\n",
       "      apply_credibility  query_org_count  query_finance_count  \\\n",
       "3964               77.0              7.0                  2.0   \n",
       "4244               80.0              8.0                  3.0   \n",
       "3674               76.0             13.0                  6.0   \n",
       "490                74.0             11.0                  6.0   \n",
       "1076               73.0             29.0                 14.0   \n",
       "360                76.0             19.0                 10.0   \n",
       "689                75.0             15.0                 10.0   \n",
       "4550               77.0             15.0                  8.0   \n",
       "3432               72.0              2.0                  1.0   \n",
       "2604               74.0             20.0                 12.0   \n",
       "\n",
       "      query_cash_count  query_sum_count latest_query_time  \\\n",
       "3964               3.0              8.0        2018-04-23   \n",
       "4244               3.0              9.0        2018-04-02   \n",
       "3674               4.0             16.0        2018-04-19   \n",
       "490                4.0             12.0        2018-04-17   \n",
       "1076              12.0             58.0        2018-04-29   \n",
       "360                5.0             27.0        2018-05-06   \n",
       "689                3.0             28.0        2018-04-28   \n",
       "4550               6.0             27.0        2018-04-16   \n",
       "3432               0.0              2.0        2018-04-02   \n",
       "2604               5.0             26.0        2018-04-20   \n",
       "\n",
       "      latest_one_month_apply  latest_three_month_apply  \\\n",
       "3964                     3.0                       3.0   \n",
       "4244                     0.0                       2.0   \n",
       "3674                     5.0                       7.0   \n",
       "490                      1.0                       4.0   \n",
       "1076                    24.0                      43.0   \n",
       "360                      9.0                      18.0   \n",
       "689                      5.0                      22.0   \n",
       "4550                     2.0                       5.0   \n",
       "3432                     0.0                       2.0   \n",
       "2604                     7.0                      11.0   \n",
       "\n",
       "      latest_six_month_apply  loans_score  loans_credibility_behavior  \\\n",
       "3964                     6.0        621.0                        72.0   \n",
       "4244                     4.0        602.0                        79.0   \n",
       "3674                    13.0        603.0                        78.0   \n",
       "490                      7.0        448.0                        78.0   \n",
       "1076                    48.0        520.0                        73.0   \n",
       "360                     23.0        497.0                        77.0   \n",
       "689                     25.0        491.0                        75.0   \n",
       "4550                    22.0        612.0                        73.0   \n",
       "3432                     2.0        513.0                        76.0   \n",
       "2604                    17.0        493.0                        77.0   \n",
       "\n",
       "      loans_count  loans_settle_count  loans_overdue_count  \\\n",
       "3964         33.0                31.0                  0.0   \n",
       "4244         32.0                28.0                  0.0   \n",
       "3674          1.0                 1.0                  0.0   \n",
       "490          40.0                22.0                  7.0   \n",
       "1076         39.0                33.0                  3.0   \n",
       "360          37.0                31.0                  1.0   \n",
       "689          57.0                50.0                  4.0   \n",
       "4550         74.0                63.0                  0.0   \n",
       "3432         23.0                23.0                  1.0   \n",
       "2604         52.0                39.0                 10.0   \n",
       "\n",
       "      loans_org_count_behavior  consfin_org_count_behavior  loans_cash_count  \\\n",
       "3964                       8.0                         4.0               4.0   \n",
       "4244                      11.0                         2.0               9.0   \n",
       "3674                       1.0                         1.0               0.0   \n",
       "490                       17.0                        11.0               6.0   \n",
       "1076                      12.0                         3.0               9.0   \n",
       "360                       14.0                         2.0              12.0   \n",
       "689                       18.0                         7.0              11.0   \n",
       "4550                      29.0                        12.0              17.0   \n",
       "3432                       7.0                         2.0               5.0   \n",
       "2604                      19.0                         2.0              17.0   \n",
       "\n",
       "      latest_one_month_loan  latest_three_month_loan  latest_six_month_loan  \\\n",
       "3964                    0.0                      3.0                    8.0   \n",
       "4244                    0.0                      0.0                    8.0   \n",
       "3674                    0.0                      0.0                    0.0   \n",
       "490                     0.0                      3.0                   18.0   \n",
       "1076                    4.0                      6.0                   21.0   \n",
       "360                     0.0                      3.0                   16.0   \n",
       "689                     0.0                      5.0                   26.0   \n",
       "4550                    0.0                      1.0                   25.0   \n",
       "3432                    2.0                      3.0                    7.0   \n",
       "2604                    1.0                      2.0                    4.0   \n",
       "\n",
       "      history_suc_fee  history_fail_fee  latest_one_month_suc  \\\n",
       "3964             62.0               8.0                   2.0   \n",
       "4244             52.0              10.0                   0.0   \n",
       "3674              4.0               0.0                   0.0   \n",
       "490              40.0              78.0                   0.0   \n",
       "1076             39.0              18.0                   1.0   \n",
       "360              32.0              11.0                   0.0   \n",
       "689              67.0              19.0                   0.0   \n",
       "4550             76.0              27.0                   0.0   \n",
       "3432             38.0               2.0                   2.0   \n",
       "2604             41.0              46.0                   0.0   \n",
       "\n",
       "      latest_one_month_fail  loans_long_time loans_latest_time  \\\n",
       "3964                    0.0            360.0        2018-04-05   \n",
       "4244                    0.0            351.0        2018-01-20   \n",
       "3674                    0.0            210.0        2017-10-09   \n",
       "490                    10.0            356.0        2018-03-17   \n",
       "1076                    5.0            304.0        2018-05-03   \n",
       "360                     0.0            330.0        2018-03-20   \n",
       "689                     0.0            360.0        2018-03-27   \n",
       "4550                    0.0            359.0        2018-02-27   \n",
       "3432                    0.0            354.0        2018-04-15   \n",
       "2604                    1.0            345.0        2018-04-19   \n",
       "\n",
       "      loans_credit_limit  loans_credibility_limit  loans_org_count_current  \\\n",
       "3964              4000.0                     74.0                      4.0   \n",
       "4244              1400.0                     79.0                      9.0   \n",
       "3674                 0.0                      0.0                      0.0   \n",
       "490               2600.0                     76.0                      6.0   \n",
       "1076              2600.0                     73.0                      9.0   \n",
       "360               2300.0                     77.0                     12.0   \n",
       "689               2500.0                     74.0                     11.0   \n",
       "4550              2100.0                     71.0                     17.0   \n",
       "3432              3000.0                     76.0                      5.0   \n",
       "2604              1900.0                     76.0                     17.0   \n",
       "\n",
       "      loans_product_count  loans_max_limit  loans_avg_limit  \\\n",
       "3964                  4.0           8700.0           4250.0   \n",
       "4244                 10.0           2300.0           1277.0   \n",
       "3674                  0.0              0.0              0.0   \n",
       "490                   7.0           4500.0           2500.0   \n",
       "1076                 10.0           5000.0           1800.0   \n",
       "360                  14.0           5000.0           2300.0   \n",
       "689                  12.0           5000.0           2045.0   \n",
       "4550                 17.0           3300.0           1947.0   \n",
       "3432                  5.0           4800.0           2580.0   \n",
       "2604                 18.0           2800.0           1629.0   \n",
       "\n",
       "      consfin_credit_limit  consfin_credibility  consfin_org_count_current  \\\n",
       "3964               40200.0                 72.0                        4.0   \n",
       "4244               12500.0                 79.0                        2.0   \n",
       "3674                1000.0                 78.0                        1.0   \n",
       "490                 6600.0                 78.0                       11.0   \n",
       "1076                6800.0                 74.0                        3.0   \n",
       "360                18100.0                 78.0                        2.0   \n",
       "689                10400.0                 78.0                        7.0   \n",
       "4550               13800.0                 76.0                       12.0   \n",
       "3432                3100.0                 78.0                        2.0   \n",
       "2604                3000.0                 85.0                        2.0   \n",
       "\n",
       "      consfin_product_count  consfin_max_limit  consfin_avg_limit  \\\n",
       "3964                    4.0           122400.0            50400.0   \n",
       "4244                    2.0            13200.0            10800.0   \n",
       "3674                    1.0             1000.0             1000.0   \n",
       "490                    12.0            17400.0             6418.0   \n",
       "1076                    3.0            13200.0             6900.0   \n",
       "360                     2.0            19200.0            14400.0   \n",
       "689                     8.0            21600.0             6871.0   \n",
       "4550                   12.0            37200.0            12000.0   \n",
       "3432                    2.0             8100.0             5250.0   \n",
       "2604                    2.0             3000.0             3000.0   \n",
       "\n",
       "      latest_query_day  loans_latest_day  \n",
       "3964              14.0              32.0  \n",
       "4244              35.0             107.0  \n",
       "3674              18.0             210.0  \n",
       "490               20.0              51.0  \n",
       "1076               8.0               4.0  \n",
       "360               -2.0              45.0  \n",
       "689                6.0              38.0  \n",
       "4550              18.0              66.0  \n",
       "3432              35.0              22.0  \n",
       "2604              17.0              18.0  "
      ]
     },
     "execution_count": 4,
     "metadata": {
      "tags": []
     },
     "output_type": "execute_result"
    }
   ],
   "source": [
    "# 导入数据\n",
    "data = pd.read_csv(r\"task1_data.csv\",encoding=\"gbk\")\n",
    "# 将显示的最大列数设置成100，以展示全部列\n",
    "pd.set_option(\"max_columns\", 100)\n",
    "# 抽样查看数据\n",
    "data.sample(10)"
   ]
  },
  {
   "cell_type": "markdown",
   "metadata": {
    "colab_type": "text",
    "id": "XT9p8xEFwXkk"
   },
   "source": [
    "## 二. 数据分析与处理\n",
    "1. 数据类型、重复值分析\n",
    "2. 无关特征删除、类型转换\n",
    "3. 缺失值处理\n",
    "4. 其他可借鉴的数据分析处理"
   ]
  },
  {
   "cell_type": "markdown",
   "metadata": {
    "colab_type": "text",
    "id": "qrSKapkEwXkl"
   },
   "source": [
    "### 1. 数据类型分析"
   ]
  },
  {
   "cell_type": "code",
   "execution_count": 5,
   "metadata": {
    "colab": {
     "base_uri": "https://localhost:8080/",
     "height": 1649
    },
    "colab_type": "code",
    "id": "m8J3i1NhwXkm",
    "outputId": "ea47cd9b-18aa-4811-c7f3-f3055fb3c7f1",
    "scrolled": true
   },
   "outputs": [
    {
     "name": "stdout",
     "output_type": "stream",
     "text": [
      "<class 'pandas.core.frame.DataFrame'>\n",
      "RangeIndex: 4754 entries, 0 to 4753\n",
      "Data columns (total 90 columns):\n",
      "Unnamed: 0                                    4754 non-null int64\n",
      "custid                                        4754 non-null int64\n",
      "trade_no                                      4754 non-null object\n",
      "bank_card_no                                  4754 non-null object\n",
      "low_volume_percent                            4752 non-null float64\n",
      "middle_volume_percent                         4752 non-null float64\n",
      "take_amount_in_later_12_month_highest         4754 non-null int64\n",
      "trans_amount_increase_rate_lately             4751 non-null float64\n",
      "trans_activity_month                          4752 non-null float64\n",
      "trans_activity_day                            4752 non-null float64\n",
      "transd_mcc                                    4752 non-null float64\n",
      "trans_days_interval_filter                    4746 non-null float64\n",
      "trans_days_interval                           4752 non-null float64\n",
      "regional_mobility                             4752 non-null float64\n",
      "student_feature                               1756 non-null float64\n",
      "repayment_capability                          4754 non-null int64\n",
      "is_high_user                                  4754 non-null int64\n",
      "number_of_trans_from_2011                     4752 non-null float64\n",
      "first_transaction_time                        4752 non-null float64\n",
      "historical_trans_amount                       4754 non-null int64\n",
      "historical_trans_day                          4752 non-null float64\n",
      "rank_trad_1_month                             4752 non-null float64\n",
      "trans_amount_3_month                          4754 non-null int64\n",
      "avg_consume_less_12_valid_month               4752 non-null float64\n",
      "abs                                           4754 non-null int64\n",
      "top_trans_count_last_1_month                  4752 non-null float64\n",
      "avg_price_last_12_month                       4754 non-null int64\n",
      "avg_price_top_last_12_valid_month             4650 non-null float64\n",
      "reg_preference_for_trad                       4752 non-null object\n",
      "trans_top_time_last_1_month                   4746 non-null float64\n",
      "trans_top_time_last_6_month                   4746 non-null float64\n",
      "consume_top_time_last_1_month                 4746 non-null float64\n",
      "consume_top_time_last_6_month                 4746 non-null float64\n",
      "cross_consume_count_last_1_month              4328 non-null float64\n",
      "trans_fail_top_count_enum_last_1_month        4738 non-null float64\n",
      "trans_fail_top_count_enum_last_6_month        4738 non-null float64\n",
      "trans_fail_top_count_enum_last_12_month       4738 non-null float64\n",
      "consume_mini_time_last_1_month                4728 non-null float64\n",
      "max_cumulative_consume_later_1_month          4754 non-null int64\n",
      "max_consume_count_later_6_month               4746 non-null float64\n",
      "railway_consume_count_last_12_month           4742 non-null float64\n",
      "pawns_auctions_trusts_consume_last_1_month    4754 non-null int64\n",
      "pawns_auctions_trusts_consume_last_6_month    4754 non-null int64\n",
      "jewelry_consume_count_last_6_month            4742 non-null float64\n",
      "status                                        4754 non-null int64\n",
      "source                                        4754 non-null object\n",
      "first_transaction_day                         4752 non-null float64\n",
      "trans_day_last_12_month                       4752 non-null float64\n",
      "id_name                                       4478 non-null object\n",
      "apply_score                                   4450 non-null float64\n",
      "apply_credibility                             4450 non-null float64\n",
      "query_org_count                               4450 non-null float64\n",
      "query_finance_count                           4450 non-null float64\n",
      "query_cash_count                              4450 non-null float64\n",
      "query_sum_count                               4450 non-null float64\n",
      "latest_query_time                             4450 non-null object\n",
      "latest_one_month_apply                        4450 non-null float64\n",
      "latest_three_month_apply                      4450 non-null float64\n",
      "latest_six_month_apply                        4450 non-null float64\n",
      "loans_score                                   4457 non-null float64\n",
      "loans_credibility_behavior                    4457 non-null float64\n",
      "loans_count                                   4457 non-null float64\n",
      "loans_settle_count                            4457 non-null float64\n",
      "loans_overdue_count                           4457 non-null float64\n",
      "loans_org_count_behavior                      4457 non-null float64\n",
      "consfin_org_count_behavior                    4457 non-null float64\n",
      "loans_cash_count                              4457 non-null float64\n",
      "latest_one_month_loan                         4457 non-null float64\n",
      "latest_three_month_loan                       4457 non-null float64\n",
      "latest_six_month_loan                         4457 non-null float64\n",
      "history_suc_fee                               4457 non-null float64\n",
      "history_fail_fee                              4457 non-null float64\n",
      "latest_one_month_suc                          4457 non-null float64\n",
      "latest_one_month_fail                         4457 non-null float64\n",
      "loans_long_time                               4457 non-null float64\n",
      "loans_latest_time                             4457 non-null object\n",
      "loans_credit_limit                            4457 non-null float64\n",
      "loans_credibility_limit                       4457 non-null float64\n",
      "loans_org_count_current                       4457 non-null float64\n",
      "loans_product_count                           4457 non-null float64\n",
      "loans_max_limit                               4457 non-null float64\n",
      "loans_avg_limit                               4457 non-null float64\n",
      "consfin_credit_limit                          4457 non-null float64\n",
      "consfin_credibility                           4457 non-null float64\n",
      "consfin_org_count_current                     4457 non-null float64\n",
      "consfin_product_count                         4457 non-null float64\n",
      "consfin_max_limit                             4457 non-null float64\n",
      "consfin_avg_limit                             4457 non-null float64\n",
      "latest_query_day                              4450 non-null float64\n",
      "loans_latest_day                              4457 non-null float64\n",
      "dtypes: float64(70), int64(13), object(7)\n",
      "memory usage: 3.3+ MB\n"
     ]
    },
    {
     "data": {
      "text/plain": [
       "(4754, 90)"
      ]
     },
     "execution_count": 5,
     "metadata": {
      "tags": []
     },
     "output_type": "execute_result"
    }
   ],
   "source": [
    "data.info()\n",
    "data.shape"
   ]
  },
  {
   "cell_type": "markdown",
   "metadata": {
    "colab_type": "text",
    "id": "WYyR0sw_wXkp"
   },
   "source": [
    "### 2. 重复值分析"
   ]
  },
  {
   "cell_type": "code",
   "execution_count": 6,
   "metadata": {
    "colab": {
     "base_uri": "https://localhost:8080/",
     "height": 34
    },
    "colab_type": "code",
    "id": "2dHn8lqYwXkp",
    "outputId": "32418545-f495-4dc9-d76b-e30e8fbedd67"
   },
   "outputs": [
    {
     "data": {
      "text/plain": [
       "False"
      ]
     },
     "execution_count": 6,
     "metadata": {
      "tags": []
     },
     "output_type": "execute_result"
    }
   ],
   "source": [
    "# 检查是否要重复数据\n",
    "data.duplicated().any()"
   ]
  },
  {
   "cell_type": "code",
   "execution_count": 7,
   "metadata": {
    "colab": {
     "base_uri": "https://localhost:8080/",
     "height": 34
    },
    "colab_type": "code",
    "id": "_6YxZKPXwXks",
    "outputId": "f2df75b8-f410-4b80-c803-7b3da566b805"
   },
   "outputs": [
    {
     "data": {
      "text/plain": [
       "False"
      ]
     },
     "execution_count": 7,
     "metadata": {
      "tags": []
     },
     "output_type": "execute_result"
    }
   ],
   "source": [
    "# 检查是否用重复的用户，结果False\n",
    "data[\"custid\"].duplicated().any()"
   ]
  },
  {
   "cell_type": "markdown",
   "metadata": {
    "colab_type": "text",
    "id": "8pYeCbT0wXku"
   },
   "source": [
    "### 3. 无关特征删除、类型转换"
   ]
  },
  {
   "cell_type": "markdown",
   "metadata": {
    "colab_type": "text",
    "id": "leDj8RZzwXkv"
   },
   "source": [
    "#### 3.1 object类型的数据"
   ]
  },
  {
   "cell_type": "code",
   "execution_count": 8,
   "metadata": {
    "colab": {
     "base_uri": "https://localhost:8080/",
     "height": 68
    },
    "colab_type": "code",
    "id": "yOIQr6f0wXkw",
    "outputId": "03fbff4c-5b17-49c7-94a9-c62853b86e88"
   },
   "outputs": [
    {
     "data": {
      "text/plain": [
       "Index(['trade_no', 'bank_card_no', 'reg_preference_for_trad', 'source',\n",
       "       'id_name', 'latest_query_time', 'loans_latest_time'],\n",
       "      dtype='object')"
      ]
     },
     "execution_count": 8,
     "metadata": {
      "tags": []
     },
     "output_type": "execute_result"
    }
   ],
   "source": [
    "data.select_dtypes(include=\"object\").columns"
   ]
  },
  {
   "cell_type": "code",
   "execution_count": 9,
   "metadata": {
    "colab": {
     "base_uri": "https://localhost:8080/",
     "height": 187
    },
    "colab_type": "code",
    "id": "LChzQDVHwXky",
    "outputId": "16db1b17-2655-40c3-e9bf-d029607c0dc2"
   },
   "outputs": [
    {
     "data": {
      "text/plain": [
       "卡号1    4754\n",
       "Name: bank_card_no, dtype: int64"
      ]
     },
     "metadata": {
      "tags": []
     },
     "output_type": "display_data"
    },
    {
     "data": {
      "text/plain": [
       "一线城市    3403\n",
       "三线城市    1064\n",
       "境外       150\n",
       "二线城市     131\n",
       "其他城市       4\n",
       "Name: reg_preference_for_trad, dtype: int64"
      ]
     },
     "metadata": {
      "tags": []
     },
     "output_type": "display_data"
    },
    {
     "data": {
      "text/plain": [
       "xs    4754\n",
       "Name: source, dtype: int64"
      ]
     },
     "metadata": {
      "tags": []
     },
     "output_type": "display_data"
    }
   ],
   "source": [
    "'''分析object类型数据'''\n",
    "# 检查是否有重复的trade_no，结果False，且交易的单号不影响结果需要删除\n",
    "# display(data[\"trade_no\"].duplicated().any())\n",
    "# 检查bank_card_no，全为相同内容，需要删除\n",
    "display(data[\"bank_card_no\"].value_counts())\n",
    "# 检查reg_preference_for_trad，分为5大类需要使用LabelEncoder编码\n",
    "display(data[\"reg_preference_for_trad\"].value_counts())\n",
    "# 检查source，全为相同内容，需要删除\n",
    "display(data[\"source\"].value_counts())\n",
    "# loans_latest_time、latest_query_time 时间内容需要调整\n",
    "#id_name为用户姓名不影响结果需要删除"
   ]
  },
  {
   "cell_type": "code",
   "execution_count": 10,
   "metadata": {
    "colab": {
     "base_uri": "https://localhost:8080/",
     "height": 34
    },
    "colab_type": "code",
    "id": "3FQjHGHQwXk1",
    "outputId": "9bb86052-dbdc-4763-adbd-78bb656687f2"
   },
   "outputs": [
    {
     "data": {
      "text/plain": [
       "Index(['reg_preference_for_trad', 'latest_query_time', 'loans_latest_time'], dtype='object')"
      ]
     },
     "execution_count": 10,
     "metadata": {
      "tags": []
     },
     "output_type": "execute_result"
    }
   ],
   "source": [
    "'''处理object类型数据'''\n",
    "#删除trade_no、bank_card_no、source、id_name、source列\n",
    "data.drop(columns=[\"trade_no\",\"bank_card_no\",\"id_name\",\"source\"], axis=1, inplace=True)\n",
    "data.select_dtypes(include=\"object\").columns"
   ]
  },
  {
   "cell_type": "code",
   "execution_count": 11,
   "metadata": {
    "colab": {
     "base_uri": "https://localhost:8080/",
     "height": 136
    },
    "colab_type": "code",
    "id": "4JfXLpquwXk4",
    "outputId": "6a43c683-b43d-41eb-90f2-aa01f97f7386"
   },
   "outputs": [
    {
     "data": {
      "text/plain": [
       "1    3403\n",
       "2    1064\n",
       "5     150\n",
       "3     131\n",
       "4       4\n",
       "0       2\n",
       "Name: reg_preference_for_trad, dtype: int64"
      ]
     },
     "execution_count": 11,
     "metadata": {
      "tags": []
     },
     "output_type": "execute_result"
    }
   ],
   "source": [
    "#LabelEncoder编码处理reg_preference_for_trad\n",
    "from sklearn.preprocessing import LabelEncoder\n",
    "lb = LabelEncoder()\n",
    "data[\"reg_preference_for_trad\"] = lb.fit_transform(data[\"reg_preference_for_trad\"].astype(str))\n",
    "data[\"reg_preference_for_trad\"].value_counts()"
   ]
  },
  {
   "cell_type": "code",
   "execution_count": 0,
   "metadata": {
    "colab": {},
    "colab_type": "code",
    "id": "On_jWksuwXk6"
   },
   "outputs": [],
   "source": [
    "# 将'latest_query_time', 'loans_latest_time'转换成日期格式，然后计算与当前日期的天数差值\n",
    "data['latest_query_time'] = (pd.to_datetime(data['latest_query_time']) - pd.to_datetime('today')).apply(lambda col: col.days)\n",
    "data['loans_latest_time'] = (pd.to_datetime(data['loans_latest_time']) - pd.to_datetime('today')).apply(lambda col: col.days)"
   ]
  },
  {
   "cell_type": "markdown",
   "metadata": {
    "colab_type": "text",
    "id": "JYO5NS4mwXk8"
   },
   "source": [
    "#### 3.2 非object类型的数据"
   ]
  },
  {
   "cell_type": "code",
   "execution_count": 0,
   "metadata": {
    "colab": {},
    "colab_type": "code",
    "id": "qcsT5ZejwXk9"
   },
   "outputs": [],
   "source": [
    "# Unnamed: 0 为序号需要删除，custid为用户id需要删除\n",
    "data.drop(columns=[\"Unnamed: 0\",\"custid\"], axis=1, inplace=True)"
   ]
  },
  {
   "cell_type": "markdown",
   "metadata": {
    "colab_type": "text",
    "id": "vMRTPU6LwXk_"
   },
   "source": [
    "### 4. 缺失值处理"
   ]
  },
  {
   "cell_type": "code",
   "execution_count": 14,
   "metadata": {
    "colab": {
     "base_uri": "https://localhost:8080/",
     "height": 238
    },
    "colab_type": "code",
    "id": "hRPyz_t6wXlA",
    "outputId": "9904f017-fe69-4b18-ba22-5f168c24a4bb",
    "scrolled": true
   },
   "outputs": [
    {
     "data": {
      "text/plain": [
       "297     30\n",
       "2       15\n",
       "0       12\n",
       "304     11\n",
       "8        6\n",
       "16       3\n",
       "12       2\n",
       "104      1\n",
       "2998     1\n",
       "426      1\n",
       "26       1\n",
       "3        1\n",
       "dtype: int64"
      ]
     },
     "execution_count": 14,
     "metadata": {
      "tags": []
     },
     "output_type": "execute_result"
    }
   ],
   "source": [
    "data.isnull().sum().value_counts()"
   ]
  },
  {
   "cell_type": "code",
   "execution_count": 15,
   "metadata": {
    "colab": {
     "base_uri": "https://localhost:8080/",
     "height": 170
    },
    "colab_type": "code",
    "id": "LFfLfqpiwXlE",
    "outputId": "357f3636-5a61-4299-f651-f27e1eff9354"
   },
   "outputs": [
    {
     "name": "stderr",
     "output_type": "stream",
     "text": [
      "/usr/local/lib/python3.6/dist-packages/ipykernel_launcher.py:1: FutureWarning: \n",
      "The current behaviour of 'Series.argmax' is deprecated, use 'idxmax'\n",
      "instead.\n",
      "The behavior of 'argmax' will be corrected to return the positional\n",
      "maximum in the future. For now, use 'series.values.argmax' or\n",
      "'np.argmax(np.array(values))' to get the position of the maximum\n",
      "row.\n",
      "  \"\"\"Entry point for launching an IPython kernel.\n"
     ]
    },
    {
     "data": {
      "text/plain": [
       "'student_feature'"
      ]
     },
     "execution_count": 15,
     "metadata": {
      "tags": []
     },
     "output_type": "execute_result"
    }
   ],
   "source": [
    "data.isnull().sum().argmax()"
   ]
  },
  {
   "cell_type": "code",
   "execution_count": 0,
   "metadata": {
    "colab": {},
    "colab_type": "code",
    "id": "gxU1Zp4QwXlH"
   },
   "outputs": [],
   "source": [
    "#找出缺失值最多的特征，经检查为student_feature，预估含义是用户的学生类型，考虑将空值设成0\n",
    "data[\"student_feature\"].fillna(value=0,inplace=True)"
   ]
  },
  {
   "cell_type": "code",
   "execution_count": 17,
   "metadata": {
    "colab": {
     "base_uri": "https://localhost:8080/",
     "height": 357
    },
    "colab_type": "code",
    "id": "EcY74FwswXlK",
    "outputId": "afcdaacf-96ba-432f-b6aa-314d15ed7553"
   },
   "outputs": [
    {
     "data": {
      "text/plain": [
       "0     3983\n",
       "1      385\n",
       "41     249\n",
       "2       37\n",
       "42      27\n",
       "11      22\n",
       "31      12\n",
       "30       8\n",
       "3        7\n",
       "4        7\n",
       "12       5\n",
       "10       3\n",
       "5        3\n",
       "6        1\n",
       "13       1\n",
       "15       1\n",
       "44       1\n",
       "32       1\n",
       "43       1\n",
       "dtype: int64"
      ]
     },
     "execution_count": 17,
     "metadata": {
      "tags": []
     },
     "output_type": "execute_result"
    }
   ],
   "source": [
    "data.isnull().sum(axis=1).value_counts()"
   ]
  },
  {
   "cell_type": "code",
   "execution_count": 18,
   "metadata": {
    "colab": {
     "base_uri": "https://localhost:8080/",
     "height": 323
    },
    "colab_type": "code",
    "id": "9A2spx2TwXlP",
    "outputId": "432a2652-8791-4605-c71f-f479e6a9720e",
    "scrolled": false
   },
   "outputs": [
    {
     "data": {
      "text/plain": [
       "(4754, 84)"
      ]
     },
     "metadata": {
      "tags": []
     },
     "output_type": "display_data"
    },
    {
     "data": {
      "text/plain": [
       "(4476, 84)"
      ]
     },
     "metadata": {
      "tags": []
     },
     "output_type": "display_data"
    },
    {
     "data": {
      "text/plain": [
       "0     3983\n",
       "1      385\n",
       "2       37\n",
       "11      22\n",
       "31      12\n",
       "30       8\n",
       "3        7\n",
       "4        7\n",
       "12       5\n",
       "10       3\n",
       "5        3\n",
       "15       1\n",
       "6        1\n",
       "13       1\n",
       "32       1\n",
       "dtype: int64"
      ]
     },
     "execution_count": 18,
     "metadata": {
      "tags": []
     },
     "output_type": "execute_result"
    }
   ],
   "source": [
    "# 仅保留至少包含49个非NA值的行。\n",
    "display(data.shape)\n",
    "data.dropna(thresh=49,inplace=True)\n",
    "# data.info()\n",
    "data[\"status\"].isnull().any()\n",
    "display(data.shape)\n",
    "data.isnull().sum(axis=1).value_counts()"
   ]
  },
  {
   "cell_type": "code",
   "execution_count": 19,
   "metadata": {
    "colab": {
     "base_uri": "https://localhost:8080/",
     "height": 1683
    },
    "colab_type": "code",
    "id": "A_W9pcm0wXlU",
    "outputId": "42ee4d47-cbf5-42a9-f2f5-3a4e7f2bd1e8",
    "scrolled": false
   },
   "outputs": [
    {
     "name": "stdout",
     "output_type": "stream",
     "text": [
      "<class 'pandas.core.frame.DataFrame'>\n",
      "Int64Index: 4476 entries, 0 to 4753\n",
      "Data columns (total 84 columns):\n",
      "low_volume_percent                            4474 non-null float64\n",
      "middle_volume_percent                         4474 non-null float64\n",
      "take_amount_in_later_12_month_highest         4476 non-null int64\n",
      "trans_amount_increase_rate_lately             4473 non-null float64\n",
      "trans_activity_month                          4474 non-null float64\n",
      "trans_activity_day                            4474 non-null float64\n",
      "transd_mcc                                    4474 non-null float64\n",
      "trans_days_interval_filter                    4468 non-null float64\n",
      "trans_days_interval                           4474 non-null float64\n",
      "regional_mobility                             4474 non-null float64\n",
      "student_feature                               4476 non-null float64\n",
      "repayment_capability                          4476 non-null int64\n",
      "is_high_user                                  4476 non-null int64\n",
      "number_of_trans_from_2011                     4474 non-null float64\n",
      "first_transaction_time                        4474 non-null float64\n",
      "historical_trans_amount                       4476 non-null int64\n",
      "historical_trans_day                          4474 non-null float64\n",
      "rank_trad_1_month                             4474 non-null float64\n",
      "trans_amount_3_month                          4476 non-null int64\n",
      "avg_consume_less_12_valid_month               4474 non-null float64\n",
      "abs                                           4476 non-null int64\n",
      "top_trans_count_last_1_month                  4474 non-null float64\n",
      "avg_price_last_12_month                       4476 non-null int64\n",
      "avg_price_top_last_12_valid_month             4376 non-null float64\n",
      "reg_preference_for_trad                       4476 non-null int64\n",
      "trans_top_time_last_1_month                   4468 non-null float64\n",
      "trans_top_time_last_6_month                   4468 non-null float64\n",
      "consume_top_time_last_1_month                 4468 non-null float64\n",
      "consume_top_time_last_6_month                 4468 non-null float64\n",
      "cross_consume_count_last_1_month              4075 non-null float64\n",
      "trans_fail_top_count_enum_last_1_month        4461 non-null float64\n",
      "trans_fail_top_count_enum_last_6_month        4461 non-null float64\n",
      "trans_fail_top_count_enum_last_12_month       4461 non-null float64\n",
      "consume_mini_time_last_1_month                4450 non-null float64\n",
      "max_cumulative_consume_later_1_month          4476 non-null int64\n",
      "max_consume_count_later_6_month               4468 non-null float64\n",
      "railway_consume_count_last_12_month           4464 non-null float64\n",
      "pawns_auctions_trusts_consume_last_1_month    4476 non-null int64\n",
      "pawns_auctions_trusts_consume_last_6_month    4476 non-null int64\n",
      "jewelry_consume_count_last_6_month            4464 non-null float64\n",
      "status                                        4476 non-null int64\n",
      "first_transaction_day                         4474 non-null float64\n",
      "trans_day_last_12_month                       4474 non-null float64\n",
      "apply_score                                   4450 non-null float64\n",
      "apply_credibility                             4450 non-null float64\n",
      "query_org_count                               4450 non-null float64\n",
      "query_finance_count                           4450 non-null float64\n",
      "query_cash_count                              4450 non-null float64\n",
      "query_sum_count                               4450 non-null float64\n",
      "latest_query_time                             4450 non-null float64\n",
      "latest_one_month_apply                        4450 non-null float64\n",
      "latest_three_month_apply                      4450 non-null float64\n",
      "latest_six_month_apply                        4450 non-null float64\n",
      "loans_score                                   4457 non-null float64\n",
      "loans_credibility_behavior                    4457 non-null float64\n",
      "loans_count                                   4457 non-null float64\n",
      "loans_settle_count                            4457 non-null float64\n",
      "loans_overdue_count                           4457 non-null float64\n",
      "loans_org_count_behavior                      4457 non-null float64\n",
      "consfin_org_count_behavior                    4457 non-null float64\n",
      "loans_cash_count                              4457 non-null float64\n",
      "latest_one_month_loan                         4457 non-null float64\n",
      "latest_three_month_loan                       4457 non-null float64\n",
      "latest_six_month_loan                         4457 non-null float64\n",
      "history_suc_fee                               4457 non-null float64\n",
      "history_fail_fee                              4457 non-null float64\n",
      "latest_one_month_suc                          4457 non-null float64\n",
      "latest_one_month_fail                         4457 non-null float64\n",
      "loans_long_time                               4457 non-null float64\n",
      "loans_latest_time                             4457 non-null float64\n",
      "loans_credit_limit                            4457 non-null float64\n",
      "loans_credibility_limit                       4457 non-null float64\n",
      "loans_org_count_current                       4457 non-null float64\n",
      "loans_product_count                           4457 non-null float64\n",
      "loans_max_limit                               4457 non-null float64\n",
      "loans_avg_limit                               4457 non-null float64\n",
      "consfin_credit_limit                          4457 non-null float64\n",
      "consfin_credibility                           4457 non-null float64\n",
      "consfin_org_count_current                     4457 non-null float64\n",
      "consfin_product_count                         4457 non-null float64\n",
      "consfin_max_limit                             4457 non-null float64\n",
      "consfin_avg_limit                             4457 non-null float64\n",
      "latest_query_day                              4450 non-null float64\n",
      "loans_latest_day                              4457 non-null float64\n",
      "dtypes: float64(72), int64(12)\n",
      "memory usage: 2.9 MB\n"
     ]
    },
    {
     "name": "stderr",
     "output_type": "stream",
     "text": [
      "/usr/local/lib/python3.6/dist-packages/ipykernel_launcher.py:2: FutureWarning: \n",
      "The current behaviour of 'Series.argmax' is deprecated, use 'idxmax'\n",
      "instead.\n",
      "The behavior of 'argmax' will be corrected to return the positional\n",
      "maximum in the future. For now, use 'series.values.argmax' or\n",
      "'np.argmax(np.array(values))' to get the position of the maximum\n",
      "row.\n",
      "  \n"
     ]
    },
    {
     "data": {
      "text/plain": [
       "'cross_consume_count_last_1_month'"
      ]
     },
     "execution_count": 19,
     "metadata": {
      "tags": []
     },
     "output_type": "execute_result"
    }
   ],
   "source": [
    "data.info()\n",
    "data.isnull().sum().argmax()"
   ]
  },
  {
   "cell_type": "code",
   "execution_count": 20,
   "metadata": {
    "colab": {
     "base_uri": "https://localhost:8080/",
     "height": 1071
    },
    "colab_type": "code",
    "id": "mvIVWaa8wXlX",
    "outputId": "d1528389-c1cd-40d5-c62b-d657f8e819ed",
    "scrolled": true
   },
   "outputs": [
    {
     "data": {
      "text/plain": [
       "0       1.0\n",
       "1       0.0\n",
       "2       0.0\n",
       "3       0.0\n",
       "4       0.0\n",
       "5       1.0\n",
       "6       NaN\n",
       "8       2.0\n",
       "9       0.0\n",
       "10      0.0\n",
       "11      0.0\n",
       "12      4.0\n",
       "13      0.0\n",
       "14      1.0\n",
       "15      0.0\n",
       "16      0.0\n",
       "17      0.0\n",
       "18      0.0\n",
       "19      1.0\n",
       "20      2.0\n",
       "21      0.0\n",
       "22      2.0\n",
       "23      2.0\n",
       "24      0.0\n",
       "25      NaN\n",
       "26      3.0\n",
       "27      0.0\n",
       "28      0.0\n",
       "29      0.0\n",
       "30      4.0\n",
       "       ... \n",
       "4723    0.0\n",
       "4724    0.0\n",
       "4725    NaN\n",
       "4726    0.0\n",
       "4727    0.0\n",
       "4728    0.0\n",
       "4729    0.0\n",
       "4730    0.0\n",
       "4731    0.0\n",
       "4732    NaN\n",
       "4733    0.0\n",
       "4734    0.0\n",
       "4735    0.0\n",
       "4736    0.0\n",
       "4737    0.0\n",
       "4738    3.0\n",
       "4739    1.0\n",
       "4740    1.0\n",
       "4741    0.0\n",
       "4742    0.0\n",
       "4743    0.0\n",
       "4744    0.0\n",
       "4745    1.0\n",
       "4747    3.0\n",
       "4748    NaN\n",
       "4749    0.0\n",
       "4750    1.0\n",
       "4751    1.0\n",
       "4752    0.0\n",
       "4753    1.0\n",
       "Name: cross_consume_count_last_1_month, Length: 4476, dtype: float64"
      ]
     },
     "execution_count": 20,
     "metadata": {
      "tags": []
     },
     "output_type": "execute_result"
    }
   ],
   "source": [
    "data[\"cross_consume_count_last_1_month\"]"
   ]
  },
  {
   "cell_type": "code",
   "execution_count": 0,
   "metadata": {
    "colab": {},
    "colab_type": "code",
    "id": "hDb-Z8l2wXlZ"
   },
   "outputs": [],
   "source": [
    "# 找出缺失值最多的特征，cross_consume_count_last_1_month，预估含义是用户超过一个月消费的累计次数，故考虑填充为0\n",
    "data[\"cross_consume_count_last_1_month\"].fillna(value=0,inplace=True)"
   ]
  },
  {
   "cell_type": "code",
   "execution_count": 0,
   "metadata": {
    "colab": {},
    "colab_type": "code",
    "id": "eoaTirR-wXlc"
   },
   "outputs": [],
   "source": [
    "# 其余缺失值考虑用均值来代替\n",
    "data.fillna(data.mean(),inplace=True)"
   ]
  },
  {
   "cell_type": "markdown",
   "metadata": {
    "colab_type": "text",
    "id": "rWquKLRhwXld"
   },
   "source": [
    "## 三. 数据切分"
   ]
  },
  {
   "cell_type": "code",
   "execution_count": 0,
   "metadata": {
    "colab": {},
    "colab_type": "code",
    "id": "Vij5USPnwXle",
    "scrolled": true
   },
   "outputs": [],
   "source": [
    "# 将标签和特征拆分\n",
    "y = data[\"status\"]\n",
    "data.drop([\"status\"], axis=1, inplace=True)\n",
    "x = data"
   ]
  },
  {
   "cell_type": "code",
   "execution_count": 24,
   "metadata": {
    "colab": {
     "base_uri": "https://localhost:8080/",
     "height": 85
    },
    "colab_type": "code",
    "id": "ma4h6XUywXlf",
    "outputId": "57588722-520e-4511-bd2c-77f4166337eb",
    "scrolled": true
   },
   "outputs": [
    {
     "data": {
      "text/plain": [
       "(3133, 83)"
      ]
     },
     "metadata": {
      "tags": []
     },
     "output_type": "display_data"
    },
    {
     "data": {
      "text/plain": [
       "(1343, 83)"
      ]
     },
     "metadata": {
      "tags": []
     },
     "output_type": "display_data"
    },
    {
     "data": {
      "text/plain": [
       "(3133,)"
      ]
     },
     "metadata": {
      "tags": []
     },
     "output_type": "display_data"
    },
    {
     "data": {
      "text/plain": [
       "(1343,)"
      ]
     },
     "metadata": {
      "tags": []
     },
     "output_type": "display_data"
    }
   ],
   "source": [
    "# 将数据按3:7拆分测试集和训练集\n",
    "from sklearn.model_selection import train_test_split\n",
    "\n",
    "x_train, x_test, y_train, y_test = train_test_split(x, y, test_size=0.3, random_state=2018)\n",
    "display(x_train.shape)\n",
    "display(x_test.shape)\n",
    "display(y_train.shape)\n",
    "display(y_test.shape)"
   ]
  },
  {
   "cell_type": "markdown",
   "metadata": {
    "colab_type": "text",
    "id": "lV8nYiHiwXli"
   },
   "source": [
    "# 任务2：特征工程 5.13-5.14\n",
    "目标\n",
    "预测贷款用户是否会逾期。表格中 \"status\" 是结果标签：0表示未逾期，1表示逾期。\n",
    "\n",
    "要求\n",
    "1. 特征衍生\n",
    "2. 特征挑选：分别用IV值和随机森林等进行特征选择\n",
    "3. 其他特征工程处理"
   ]
  },
  {
   "cell_type": "markdown",
   "metadata": {
    "colab_type": "text",
    "id": "gSxsOJ-0wXlj"
   },
   "source": [
    "## 一. 随机森林进行特征选择"
   ]
  },
  {
   "cell_type": "code",
   "execution_count": 25,
   "metadata": {
    "colab": {
     "base_uri": "https://localhost:8080/",
     "height": 136
    },
    "colab_type": "code",
    "id": "0KNgclG2wXlm",
    "outputId": "bc304b71-b40c-41c0-c76f-2b4066cf9ea7"
   },
   "outputs": [
    {
     "data": {
      "text/plain": [
       "RandomForestClassifier(bootstrap=True, class_weight=None, criterion='gini',\n",
       "            max_depth=None, max_features='auto', max_leaf_nodes=None,\n",
       "            min_impurity_decrease=0.0, min_impurity_split=None,\n",
       "            min_samples_leaf=1, min_samples_split=2,\n",
       "            min_weight_fraction_leaf=0.0, n_estimators=1000, n_jobs=None,\n",
       "            oob_score=False, random_state=2019, verbose=0,\n",
       "            warm_start=False)"
      ]
     },
     "execution_count": 25,
     "metadata": {
      "tags": []
     },
     "output_type": "execute_result"
    }
   ],
   "source": [
    "# 随机森林进行特征选择\n",
    "from sklearn.ensemble import RandomForestClassifier\n",
    "forest = RandomForestClassifier(n_estimators=1000, random_state=2019)\n",
    "forest.fit(x_train, y_train)"
   ]
  },
  {
   "cell_type": "code",
   "execution_count": 26,
   "metadata": {
    "colab": {
     "base_uri": "https://localhost:8080/",
     "height": 1428
    },
    "colab_type": "code",
    "id": "3WXfARKwwXlo",
    "outputId": "02c17884-3527-446f-ecc9-764ca30fadaa"
   },
   "outputs": [
    {
     "name": "stdout",
     "output_type": "stream",
     "text": [
      " 1) history_fail_fee 0.048756\n",
      " 2) trans_fail_top_count_enum_last_1_month 0.045476\n",
      " 3) loans_score 0.037631\n",
      " 4) apply_score 0.030467\n",
      " 5) latest_one_month_fail 0.029355\n",
      " 6) loans_overdue_count 0.023539\n",
      " 7) trans_amount_3_month 0.016490\n",
      " 8) max_cumulative_consume_later_1_month 0.016106\n",
      " 9) latest_query_day 0.015476\n",
      "10) loans_avg_limit 0.015357\n",
      "11) repayment_capability 0.015348\n",
      "12) abs        0.015252\n",
      "13) trans_amount_increase_rate_lately 0.015173\n",
      "14) first_transaction_day 0.014736\n",
      "15) latest_query_time 0.014623\n",
      "16) consfin_avg_limit 0.014615\n",
      "17) historical_trans_amount 0.014606\n",
      "18) avg_price_last_12_month 0.014443\n",
      "19) first_transaction_time 0.014205\n",
      "20) consfin_credit_limit 0.013508\n",
      "21) historical_trans_day 0.013403\n",
      "22) pawns_auctions_trusts_consume_last_6_month 0.013393\n",
      "23) trans_activity_day 0.013350\n",
      "24) loans_long_time 0.013197\n",
      "25) history_suc_fee 0.013087\n",
      "26) loans_latest_day 0.013012\n",
      "27) loans_latest_time 0.012875\n",
      "28) trans_day_last_12_month 0.012810\n",
      "29) trans_days_interval_filter 0.012800\n",
      "30) trans_fail_top_count_enum_last_12_month 0.012766\n",
      "31) apply_credibility 0.012093\n",
      "32) trans_fail_top_count_enum_last_6_month 0.012057\n",
      "33) consfin_max_limit 0.011960\n",
      "34) loans_settle_count 0.011669\n",
      "35) loans_max_limit 0.011541\n",
      "36) loans_credit_limit 0.011482\n",
      "37) number_of_trans_from_2011 0.011406\n",
      "38) trans_days_interval 0.011321\n",
      "39) consume_top_time_last_6_month 0.011159\n",
      "40) trans_top_time_last_6_month 0.011085\n",
      "41) transd_mcc 0.010853\n",
      "42) loans_count 0.010814\n",
      "43) rank_trad_1_month 0.010726\n",
      "44) trans_top_time_last_1_month 0.010590\n",
      "45) query_sum_count 0.010553\n",
      "46) latest_six_month_apply 0.009894\n",
      "47) trans_activity_month 0.009861\n",
      "48) latest_one_month_suc 0.009841\n",
      "49) consume_mini_time_last_1_month 0.009788\n",
      "50) latest_six_month_loan 0.009735\n",
      "51) latest_three_month_apply 0.009727\n",
      "52) consume_top_time_last_1_month 0.009643\n",
      "53) take_amount_in_later_12_month_highest 0.009637\n",
      "54) query_org_count 0.009609\n",
      "55) middle_volume_percent 0.009393\n",
      "56) consfin_credibility 0.009292\n",
      "57) loans_org_count_behavior 0.009154\n",
      "58) loans_credibility_behavior 0.009138\n",
      "59) avg_price_top_last_12_valid_month 0.009003\n",
      "60) loans_credibility_limit 0.008951\n",
      "61) query_finance_count 0.008853\n",
      "62) max_consume_count_later_6_month 0.008446\n",
      "63) pawns_auctions_trusts_consume_last_1_month 0.008444\n",
      "64) latest_one_month_apply 0.008258\n",
      "65) latest_three_month_loan 0.008180\n",
      "66) loans_product_count 0.007872\n",
      "67) query_cash_count 0.007710\n",
      "68) loans_cash_count 0.007568\n",
      "69) loans_org_count_current 0.007474\n",
      "70) consfin_product_count 0.007419\n",
      "71) top_trans_count_last_1_month 0.007190\n",
      "72) avg_consume_less_12_valid_month 0.007066\n",
      "73) consfin_org_count_behavior 0.006798\n",
      "74) low_volume_percent 0.006792\n",
      "75) consfin_org_count_current 0.006665\n",
      "76) regional_mobility 0.004474\n",
      "77) latest_one_month_loan 0.003534\n",
      "78) cross_consume_count_last_1_month 0.003233\n",
      "79) reg_preference_for_trad 0.002663\n",
      "80) student_feature 0.001871\n",
      "81) railway_consume_count_last_12_month 0.001077\n",
      "82) jewelry_consume_count_last_6_month 0.000299\n",
      "83) is_high_user 0.000291\n"
     ]
    }
   ],
   "source": [
    "feat_labels = data.columns\n",
    "importances =forest.feature_importances_\n",
    "indices = np.argsort(importances)[::-1]\n",
    "for f in range (x_train.shape[1]):\n",
    "    print(\"%2d) %-*s %f\" % (f + 1, 10, feat_labels[indices[f]], importances[indices[f]]))"
   ]
  },
  {
   "cell_type": "code",
   "execution_count": 27,
   "metadata": {
    "colab": {
     "base_uri": "https://localhost:8080/",
     "height": 833
    },
    "colab_type": "code",
    "id": "92IEWxYPwXlr",
    "outputId": "af49dfd9-bd66-40cf-9b31-9c952e1f2dfd",
    "scrolled": true
   },
   "outputs": [
    {
     "data": {
      "text/plain": [
       "(83,)"
      ]
     },
     "metadata": {
      "tags": []
     },
     "output_type": "display_data"
    },
    {
     "data": {
      "text/plain": [
       "['trans_amount_increase_rate_lately',\n",
       " 'trans_activity_day',\n",
       " 'transd_mcc',\n",
       " 'trans_days_interval_filter',\n",
       " 'trans_days_interval',\n",
       " 'repayment_capability',\n",
       " 'number_of_trans_from_2011',\n",
       " 'first_transaction_time',\n",
       " 'historical_trans_amount',\n",
       " 'historical_trans_day',\n",
       " 'rank_trad_1_month',\n",
       " 'trans_amount_3_month',\n",
       " 'abs',\n",
       " 'avg_price_last_12_month',\n",
       " 'trans_top_time_last_1_month',\n",
       " 'trans_top_time_last_6_month',\n",
       " 'consume_top_time_last_6_month',\n",
       " 'trans_fail_top_count_enum_last_1_month',\n",
       " 'trans_fail_top_count_enum_last_6_month',\n",
       " 'trans_fail_top_count_enum_last_12_month',\n",
       " 'max_cumulative_consume_later_1_month',\n",
       " 'pawns_auctions_trusts_consume_last_6_month',\n",
       " 'first_transaction_day',\n",
       " 'trans_day_last_12_month',\n",
       " 'apply_score',\n",
       " 'apply_credibility',\n",
       " 'query_sum_count',\n",
       " 'latest_query_time',\n",
       " 'loans_score',\n",
       " 'loans_count',\n",
       " 'loans_settle_count',\n",
       " 'loans_overdue_count',\n",
       " 'history_suc_fee',\n",
       " 'history_fail_fee',\n",
       " 'latest_one_month_fail',\n",
       " 'loans_long_time',\n",
       " 'loans_latest_time',\n",
       " 'loans_credit_limit',\n",
       " 'loans_max_limit',\n",
       " 'loans_avg_limit',\n",
       " 'consfin_credit_limit',\n",
       " 'consfin_max_limit',\n",
       " 'consfin_avg_limit',\n",
       " 'latest_query_day',\n",
       " 'loans_latest_day']"
      ]
     },
     "metadata": {
      "tags": []
     },
     "output_type": "display_data"
    },
    {
     "data": {
      "text/plain": [
       "(3133, 45)"
      ]
     },
     "metadata": {
      "tags": []
     },
     "output_type": "display_data"
    },
    {
     "data": {
      "text/plain": [
       "(1343, 45)"
      ]
     },
     "metadata": {
      "tags": []
     },
     "output_type": "display_data"
    }
   ],
   "source": [
    "display(importances.shape)\n",
    "\n",
    "threshold = 0.01\n",
    "x_selected = list(x_train.columns[importances> threshold])\n",
    "display(x_selected)\n",
    "x_train_sel = x_train[x_selected]\n",
    "display(x_train_sel.shape)\n",
    "x_test_sel = x_test[x_selected]\n",
    "display(x_test_sel.shape)"
   ]
  },
  {
   "cell_type": "markdown",
   "metadata": {
    "colab_type": "text",
    "id": "xvl_G8N1wXlu"
   },
   "source": [
    "## 二. IV值进行特征选择"
   ]
  },
  {
   "cell_type": "code",
   "execution_count": 0,
   "metadata": {
    "colab": {},
    "colab_type": "code",
    "id": "28E7QIy8wXlu"
   },
   "outputs": [],
   "source": [
    "# 参考别的同学代码，还得再研究研究\n",
    "import math\n",
    "from sklearn.utils.multiclass import type_of_target\n",
    "from scipy import stats\n",
    "#求woe值和iv值\n",
    "def woe(X, y, event):\n",
    "    res_woe = []  #列表存放woe字典\n",
    "    res_iv = []  #列表存放iv\n",
    "    X1 = feature_discretion(X) #对连续型特征进行处理\n",
    "    for i in range(0, X1.shape[-1]):  #遍历所有特征\n",
    "        x = X1[:, i]  #单个特征\n",
    "        woe_dict, iv1 = woe_single_x(x, y, event)  #计算单个特征的woe值\n",
    "        res_woe.append(woe_dict)\n",
    "        res_iv.append(iv1)\n",
    "    return np.array(res_woe), np.array(res_iv)  #返回数组\n",
    "\n",
    "#求单个特征的woe值\n",
    "def woe_single_x(x, y, event):\n",
    "    event_total, non_event_total = count_binary(y, event) #计算好人坏人总数\n",
    "    x_labels = np.unique(x) #特征中的分段\n",
    "    woe_dict = {}  #存放每个分段的名称 以及 其对应的woe值\n",
    "    iv = 0\n",
    "    for x1 in x_labels: #遍历每个分段\n",
    "        y1 = y[np.where(x == x1)[0]]\n",
    "        event_count, non_event_count = count_binary(y1, event=event)\n",
    "        rate_event = 1.0 * event_count / event_total\n",
    "        rate_non_event = 1.0 * non_event_count / non_event_total\n",
    "        #woe无穷大时处理\n",
    "        if rate_event == 0:\n",
    "            print()#print(\"{'\",x1,\"'}\"+\":全是好人\") #只输出不做处理\n",
    "        elif rate_non_event == 0:\n",
    "            print()#print(\"{'\",x1,\"'}\"+\":全是坏人\")\n",
    "        else:\n",
    "            woe1 = math.log(rate_event / rate_non_event)\n",
    "            woe_dict[x1] = woe1  \n",
    "            iv += (rate_event - rate_non_event) * woe1\n",
    "    return woe_dict, iv\n",
    "\n",
    "#计算个数\n",
    "def count_binary(a, event):\n",
    "    event_count = (a == event).sum()\n",
    "    non_event_count = a.shape[-1] - event_count\n",
    "    return event_count, non_event_count\n",
    "\n",
    "#判断特征数据是否为离散型\n",
    "def feature_discretion(X):\n",
    "    temp = []\n",
    "    for i in range(0, X.shape[-1]):\n",
    "        x = X[:, i]\n",
    "        x_type = type_of_target(x)\n",
    "        if pd.Series(list(x)).dtype != 'O':\n",
    "            x1 = discrete(x)\n",
    "            temp.append(x1)\n",
    "        else:\n",
    "            temp.append(x)\n",
    "    return np.array(temp).T\n",
    "\n",
    "#对连续型特征进行离散化\n",
    "def discrete(x):\n",
    "    res = np.array([0] * x.shape[-1], dtype=int)\n",
    "    for i in range(5):\n",
    "        point1 = stats.scoreatpercentile(x, i * 20)\n",
    "        point2 = stats.scoreatpercentile(x, (i + 1) * 20)\n",
    "        x1 = x[np.where((x >= point1) & (x <= point2))]\n",
    "        mask = np.in1d(x, x1)\n",
    "        res[mask] = (i + 1)\n",
    "    return res"
   ]
  },
  {
   "cell_type": "code",
   "execution_count": 29,
   "metadata": {
    "colab": {
     "base_uri": "https://localhost:8080/",
     "height": 1462
    },
    "colab_type": "code",
    "id": "S5aMIjTjwXlw",
    "outputId": "a3e0f441-8801-4aaa-a400-203b347a9e4d",
    "scrolled": true
   },
   "outputs": [
    {
     "name": "stdout",
     "output_type": "stream",
     "text": [
      "\n",
      "\n"
     ]
    },
    {
     "data": {
      "text/plain": [
       "[('trans_fail_top_count_enum_last_1_month', 0.5248772375361611),\n",
       " ('history_fail_fee', 0.5182986633722628),\n",
       " ('loans_score', 0.452489516316483),\n",
       " ('apply_score', 0.35559944136124455),\n",
       " ('loans_overdue_count', 0.34429411897272244),\n",
       " ('trans_fail_top_count_enum_last_12_month', 0.2102113960316464),\n",
       " ('trans_fail_top_count_enum_last_6_month', 0.20334118478792862),\n",
       " ('latest_one_month_fail', 0.1676951302166592),\n",
       " ('latest_one_month_suc', 0.13658960583308047),\n",
       " ('rank_trad_1_month', 0.08850389928144903),\n",
       " ('max_cumulative_consume_later_1_month', 0.08709447156340241),\n",
       " ('trans_day_last_12_month', 0.07519987825898371),\n",
       " ('trans_top_time_last_1_month', 0.07200473738156228),\n",
       " ('top_trans_count_last_1_month', 0.05925078215773383),\n",
       " ('pawns_auctions_trusts_consume_last_1_month', 0.05710932443358767),\n",
       " ('consfin_avg_limit', 0.04623664582308415),\n",
       " ('latest_query_time', 0.04435584273650805),\n",
       " ('latest_query_day', 0.03964158427506999),\n",
       " ('consfin_credit_limit', 0.03846353095825428),\n",
       " ('trans_amount_3_month', 0.03613710613665517),\n",
       " ('consume_top_time_last_1_month', 0.034625001098685916),\n",
       " ('latest_one_month_apply', 0.03413737857726804),\n",
       " ('trans_days_interval', 0.032560494841575485),\n",
       " ('avg_price_top_last_12_valid_month', 0.031079656320995484),\n",
       " ('latest_six_month_loan', 0.027326674511148372),\n",
       " ('latest_three_month_loan', 0.026862251104747728),\n",
       " ('avg_price_last_12_month', 0.026466227882690287),\n",
       " ('query_cash_count', 0.025662803002254226),\n",
       " ('trans_amount_increase_rate_lately', 0.023784085602847026),\n",
       " ('consfin_max_limit', 0.022894168895154804),\n",
       " ('loans_credit_limit', 0.019105144855110622),\n",
       " ('number_of_trans_from_2011', 0.018424967616676193),\n",
       " ('loans_max_limit', 0.017789921416510625),\n",
       " ('historical_trans_amount', 0.01772951741623687),\n",
       " ('pawns_auctions_trusts_consume_last_6_month', 0.017106423823775092),\n",
       " ('latest_three_month_apply', 0.017080121304326283),\n",
       " ('consfin_product_count', 0.016733585001389082),\n",
       " ('first_transaction_time', 0.015059672191446657),\n",
       " ('low_volume_percent', 0.015048944792159744),\n",
       " ('first_transaction_day', 0.014871134476672463),\n",
       " ('cross_consume_count_last_1_month', 0.014737033277150221),\n",
       " ('loans_count', 0.013530871851163152),\n",
       " ('consfin_org_count_behavior', 0.01332009629762118),\n",
       " ('consfin_org_count_current', 0.01332009629762118),\n",
       " ('history_suc_fee', 0.012920138591212799),\n",
       " ('consume_mini_time_last_1_month', 0.012589897073017782),\n",
       " ('trans_activity_day', 0.011970320198504483),\n",
       " ('loans_avg_limit', 0.011955048870861283),\n",
       " ('loans_latest_time', 0.01175834524600114),\n",
       " ('loans_org_count_behavior', 0.011661026874189157),\n",
       " ('middle_volume_percent', 0.010822028707659352),\n",
       " ('loans_long_time', 0.010814704169246098),\n",
       " ('loans_cash_count', 0.01023040215121564),\n",
       " ('loans_org_count_current', 0.01023040215121564),\n",
       " ('trans_top_time_last_6_month', 0.00980819605514745),\n",
       " ('query_finance_count', 0.00972361586362725),\n",
       " ('historical_trans_day', 0.00897654627479034),\n",
       " ('consume_top_time_last_6_month', 0.008815049670325542),\n",
       " ('max_consume_count_later_6_month', 0.008746922528183994),\n",
       " ('loans_latest_day', 0.008711071898486768),\n",
       " ('transd_mcc', 0.008163966469001943),\n",
       " ('trans_activity_month', 0.00813566274480798),\n",
       " ('loans_product_count', 0.008131898302013335),\n",
       " ('apply_credibility', 0.007697132059971251),\n",
       " ('abs', 0.0074803994110067915),\n",
       " ('query_org_count', 0.007439801510931561),\n",
       " ('trans_days_interval_filter', 0.0068744867372175075),\n",
       " ('take_amount_in_later_12_month_highest', 0.004908038770557543),\n",
       " ('avg_consume_less_12_valid_month', 0.004424762718105233),\n",
       " ('loans_settle_count', 0.004335454147359518),\n",
       " ('latest_one_month_loan', 0.004015135389527376),\n",
       " ('consfin_credibility', 0.003957011328495726),\n",
       " ('latest_six_month_apply', 0.0038624584084030436),\n",
       " ('query_sum_count', 0.0035152708955272683),\n",
       " ('regional_mobility', 0.0034506262641538403),\n",
       " ('loans_credibility_limit', 0.0019249850572735689),\n",
       " ('repayment_capability', 0.001767443773842792),\n",
       " ('loans_credibility_behavior', 0.0014273021149960583),\n",
       " ('student_feature', 0.0011100964344815194),\n",
       " ('reg_preference_for_trad', 0.00017815323672663928),\n",
       " ('is_high_user', 0.0),\n",
       " ('railway_consume_count_last_12_month', 0.0),\n",
       " ('jewelry_consume_count_last_6_month', 0.0)]"
      ]
     },
     "metadata": {
      "tags": []
     },
     "output_type": "display_data"
    }
   ],
   "source": [
    "a, b = woe(x_train.values, y_train.values, 1)\n",
    "dic = dict(zip(x_train.columns, b))\n",
    "dic_sort= sorted(dic.items(),key = lambda x:x[1],reverse = True)\n",
    "display(dic_sort)"
   ]
  },
  {
   "cell_type": "markdown",
   "metadata": {
    "colab_type": "text",
    "id": "hLnjVtUKwXlz"
   },
   "source": [
    "# 任务3： 模型构建 5.15-5.16\n",
    "目标 模型构建，评价方式考虑：F1-Score、ROC、AUC\n",
    "\n",
    "要求：\n",
    "1. 用逻辑回归、svm和决策树；\n",
    "2. 随机森林和XGBoost进行模型构建\n",
    "\n",
    "打卡链接：https://shimo.im/docs/YvF2ijUqSaoBH5Jn"
   ]
  },
  {
   "cell_type": "code",
   "execution_count": 0,
   "metadata": {
    "colab": {},
    "colab_type": "code",
    "id": "NxokLB14wXl0"
   },
   "outputs": [],
   "source": [
    "from sklearn.metrics import classification_report"
   ]
  },
  {
   "cell_type": "markdown",
   "metadata": {
    "colab_type": "text",
    "id": "KAXi1BZowXl2"
   },
   "source": [
    "## 一、逻辑回归"
   ]
  },
  {
   "cell_type": "code",
   "execution_count": 31,
   "metadata": {
    "colab": {
     "base_uri": "https://localhost:8080/",
     "height": 173
    },
    "colab_type": "code",
    "id": "jvrIowrRwXl2",
    "outputId": "5b1fee0a-3a6a-4aac-c634-29882d200ab9"
   },
   "outputs": [
    {
     "name": "stderr",
     "output_type": "stream",
     "text": [
      "/usr/local/lib/python3.6/dist-packages/sklearn/preprocessing/data.py:645: DataConversionWarning: Data with input dtype int64, float64 were all converted to float64 by StandardScaler.\n",
      "  return self.partial_fit(X, y)\n",
      "/usr/local/lib/python3.6/dist-packages/sklearn/base.py:464: DataConversionWarning: Data with input dtype int64, float64 were all converted to float64 by StandardScaler.\n",
      "  return self.fit(X, **fit_params).transform(X)\n",
      "/usr/local/lib/python3.6/dist-packages/sklearn/preprocessing/data.py:645: DataConversionWarning: Data with input dtype int64, float64 were all converted to float64 by StandardScaler.\n",
      "  return self.partial_fit(X, y)\n",
      "/usr/local/lib/python3.6/dist-packages/sklearn/base.py:464: DataConversionWarning: Data with input dtype int64, float64 were all converted to float64 by StandardScaler.\n",
      "  return self.fit(X, **fit_params).transform(X)\n"
     ]
    }
   ],
   "source": [
    "# 数据的标准化处理\n",
    "from sklearn.preprocessing import StandardScaler\n",
    "sc = StandardScaler()\n",
    "x_train_sel_sc = sc.fit_transform(x_train_sel)\n",
    "x_test_sel_sc = sc.fit_transform(x_test_sel)"
   ]
  },
  {
   "cell_type": "code",
   "execution_count": 32,
   "metadata": {
    "colab": {
     "base_uri": "https://localhost:8080/",
     "height": 224
    },
    "colab_type": "code",
    "id": "Ask-KnpgwXl6",
    "outputId": "43d4ad53-ab3f-4265-e2ad-edc1079fe852"
   },
   "outputs": [
    {
     "name": "stderr",
     "output_type": "stream",
     "text": [
      "/usr/local/lib/python3.6/dist-packages/sklearn/linear_model/logistic.py:433: FutureWarning: Default solver will be changed to 'lbfgs' in 0.22. Specify a solver to silence this warning.\n",
      "  FutureWarning)\n"
     ]
    },
    {
     "name": "stdout",
     "output_type": "stream",
     "text": [
      "              precision    recall  f1-score   support\n",
      "\n",
      "           0       0.94      0.80      0.87      1171\n",
      "           1       0.34      0.68      0.45       172\n",
      "\n",
      "   micro avg       0.79      0.79      0.79      1343\n",
      "   macro avg       0.64      0.74      0.66      1343\n",
      "weighted avg       0.87      0.79      0.82      1343\n",
      "\n"
     ]
    }
   ],
   "source": [
    "from sklearn.linear_model import LogisticRegression\n",
    "lr = LogisticRegression()\n",
    "lr.fit(x_train_sel_sc, y_train)\n",
    "y_pre_lr = lr.predict(x_test_sel_sc)\n",
    "print(classification_report(y_pre_lr, y_test))"
   ]
  },
  {
   "cell_type": "markdown",
   "metadata": {
    "colab_type": "text",
    "id": "Bi23ttF_wXl9"
   },
   "source": [
    "## 二. SVM"
   ]
  },
  {
   "cell_type": "code",
   "execution_count": 33,
   "metadata": {
    "colab": {
     "base_uri": "https://localhost:8080/",
     "height": 170
    },
    "colab_type": "code",
    "id": "MdnsdRiRwXl-",
    "outputId": "804913dd-00f0-44f4-859d-69d92b98df9b"
   },
   "outputs": [
    {
     "name": "stdout",
     "output_type": "stream",
     "text": [
      "              precision    recall  f1-score   support\n",
      "\n",
      "           0       0.97      0.79      0.87      1222\n",
      "           1       0.27      0.78      0.40       121\n",
      "\n",
      "   micro avg       0.79      0.79      0.79      1343\n",
      "   macro avg       0.62      0.79      0.64      1343\n",
      "weighted avg       0.91      0.79      0.83      1343\n",
      "\n"
     ]
    }
   ],
   "source": [
    "from sklearn.svm import SVC\n",
    "# 'linear', 'poly', 'rbf', 'sigmoid'\n",
    "svc = SVC()\n",
    "svc.fit(x_train_sel_sc, y_train)\n",
    "y_pre_svc = svc.predict(x_test_sel_sc)\n",
    "print(classification_report(y_pre_svc, y_test))"
   ]
  },
  {
   "cell_type": "markdown",
   "metadata": {
    "colab_type": "text",
    "id": "Ok8knBygwXmA"
   },
   "source": [
    "## 三. 决策树"
   ]
  },
  {
   "cell_type": "code",
   "execution_count": 34,
   "metadata": {
    "colab": {
     "base_uri": "https://localhost:8080/",
     "height": 170
    },
    "colab_type": "code",
    "id": "y9JASOq7wXmA",
    "outputId": "76923331-bdde-4c66-fbd5-b864fea35173"
   },
   "outputs": [
    {
     "name": "stdout",
     "output_type": "stream",
     "text": [
      "              precision    recall  f1-score   support\n",
      "\n",
      "           0       0.69      0.80      0.74       860\n",
      "           1       0.49      0.35      0.41       483\n",
      "\n",
      "   micro avg       0.64      0.64      0.64      1343\n",
      "   macro avg       0.59      0.57      0.57      1343\n",
      "weighted avg       0.62      0.64      0.62      1343\n",
      "\n"
     ]
    }
   ],
   "source": [
    "from sklearn.tree import DecisionTreeClassifier\n",
    "dtc = DecisionTreeClassifier()\n",
    "dtc.fit(x_train_sel_sc, y_train)\n",
    "y_pre_dtc = dtc.predict(x_test_sel_sc)\n",
    "print(classification_report(y_pre_dtc, y_test))"
   ]
  },
  {
   "cell_type": "markdown",
   "metadata": {
    "colab_type": "text",
    "id": "D9XEMawYwXmD"
   },
   "source": [
    "## 四. 随机森林"
   ]
  },
  {
   "cell_type": "code",
   "execution_count": 35,
   "metadata": {
    "colab": {
     "base_uri": "https://localhost:8080/",
     "height": 224
    },
    "colab_type": "code",
    "id": "YW79cKaAwXmE",
    "outputId": "43ab9db4-598d-49bc-9f93-0b7011329ae7"
   },
   "outputs": [
    {
     "name": "stdout",
     "output_type": "stream",
     "text": [
      "              precision    recall  f1-score   support\n",
      "\n",
      "           0       0.69      0.80      0.74       860\n",
      "           1       0.49      0.35      0.41       483\n",
      "\n",
      "   micro avg       0.64      0.64      0.64      1343\n",
      "   macro avg       0.59      0.57      0.57      1343\n",
      "weighted avg       0.62      0.64      0.62      1343\n",
      "\n"
     ]
    },
    {
     "name": "stderr",
     "output_type": "stream",
     "text": [
      "/usr/local/lib/python3.6/dist-packages/sklearn/ensemble/forest.py:246: FutureWarning: The default value of n_estimators will change from 10 in version 0.20 to 100 in 0.22.\n",
      "  \"10 in version 0.20 to 100 in 0.22.\", FutureWarning)\n"
     ]
    }
   ],
   "source": [
    "rf = RandomForestClassifier()\n",
    "rf.fit(x_train_sel_sc, y_train)\n",
    "y_pre_rf = dtc.predict(x_test_sel_sc)\n",
    "print(classification_report(y_pre_rf, y_test))"
   ]
  },
  {
   "cell_type": "markdown",
   "metadata": {
    "colab_type": "text",
    "id": "StSdp5CNwXmH"
   },
   "source": [
    "## 五. XGBoost"
   ]
  },
  {
   "cell_type": "code",
   "execution_count": 36,
   "metadata": {
    "colab": {
     "base_uri": "https://localhost:8080/",
     "height": 170
    },
    "colab_type": "code",
    "id": "wwGCIDlowXmI",
    "outputId": "6c191c64-7161-443b-95bb-2a63482f46bd"
   },
   "outputs": [
    {
     "name": "stdout",
     "output_type": "stream",
     "text": [
      "              precision    recall  f1-score   support\n",
      "\n",
      "           0       0.69      0.80      0.74       860\n",
      "           1       0.49      0.35      0.41       483\n",
      "\n",
      "   micro avg       0.64      0.64      0.64      1343\n",
      "   macro avg       0.59      0.57      0.57      1343\n",
      "weighted avg       0.62      0.64      0.62      1343\n",
      "\n"
     ]
    }
   ],
   "source": [
    "from xgboost import XGBClassifier\n",
    "xgb = XGBClassifier()\n",
    "xgb.fit(x_train_sel_sc, y_train)\n",
    "y_pre_xgb = dtc.predict(x_test_sel_sc)\n",
    "print(classification_report(y_pre_xgb, y_test))"
   ]
  }
 ],
 "metadata": {
  "colab": {
   "name": "datamining_task_3.ipynb",
   "provenance": [],
   "version": "0.3.2"
  },
  "kernelspec": {
   "display_name": "Python 3",
   "language": "python",
   "name": "python3"
  },
  "language_info": {
   "codemirror_mode": {
    "name": "ipython",
    "version": 3
   },
   "file_extension": ".py",
   "mimetype": "text/x-python",
   "name": "python",
   "nbconvert_exporter": "python",
   "pygments_lexer": "ipython3",
   "version": "3.7.1"
  }
 },
 "nbformat": 4,
 "nbformat_minor": 1
}
