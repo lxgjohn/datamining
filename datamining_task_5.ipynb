{
  "nbformat": 4,
  "nbformat_minor": 0,
  "metadata": {
    "colab": {
      "name": "datamining_task_5.ipynb",
      "version": "0.3.2",
      "provenance": [],
      "toc_visible": true
    },
    "language_info": {
      "codemirror_mode": {
        "name": "ipython",
        "version": 3
      },
      "file_extension": ".py",
      "mimetype": "text/x-python",
      "name": "python",
      "nbconvert_exporter": "python",
      "pygments_lexer": "ipython3",
      "version": "3.7.1"
    },
    "kernelspec": {
      "name": "python3",
      "display_name": "Python 3"
    },
    "accelerator": "TPU"
  },
  "cells": [
    {
      "cell_type": "markdown",
      "metadata": {
        "id": "bbYqXEHKwXkb",
        "colab_type": "text"
      },
      "source": [
        "# 任务1：对数据进行探索和分析 5.11-5.12\n",
        "数据集是金融数据（非原始数据，已经处理过了），我们要做的是预测贷款用户是否会逾期。\n",
        "表格中 \"status\" 是结果标签：0表示未逾期，1表示逾期。\n",
        "\n",
        "要求：\n",
        "1. 数据切分方式 - 三七分，其中测试集30%，训练集70%，随机种子设置为2018\n",
        "2. 数据类型的分析\n",
        "3. 无关特征删除\n",
        "4. 数据类型转换\n",
        "5. 缺失值处理\n",
        "6. 其他可借鉴的数据分析处理"
      ]
    },
    {
      "cell_type": "code",
      "metadata": {
        "id": "D6R0enHGwXkc",
        "colab_type": "code",
        "colab": {}
      },
      "source": [
        "import numpy as np\n",
        "import pandas as pd"
      ],
      "execution_count": 0,
      "outputs": []
    },
    {
      "cell_type": "markdown",
      "metadata": {
        "id": "f-TVfhvywXkf",
        "colab_type": "text"
      },
      "source": [
        "## 一. 读取数据\n",
        "读取任务1中csv文件是要将编码格式制定成gbk；\n",
        "中文字符的Unicode编码0x0800-0xFFFF之间,(utf-8包含了部分汉字)\n",
        "当你试图将该“中文字符”转成U码的utf-8时超出了其范筹\n",
        "而GBK 规范收录了ISO 10646.1中的全部 CJK 汉字和符号，并有所补充，\n",
        "所以解决方法是将.decode('utf-8')改为.decode('gbk')\n",
        "参考：https://blog.csdn.net/stone9159/article/details/79071316"
      ]
    },
    {
      "cell_type": "code",
      "metadata": {
        "scrolled": true,
        "id": "wq_b2HtjwXkg",
        "colab_type": "code",
        "outputId": "91dbe668-d5d0-4bdf-b7a9-c04bcf4bec66",
        "colab": {
          "base_uri": "https://localhost:8080/",
          "height": 396
        }
      },
      "source": [
        "# 导入数据\n",
        "data = pd.read_csv(r\"task1_data.csv\",encoding=\"gbk\")\n",
        "# 将显示的最大列数设置成100，以展示全部列\n",
        "pd.set_option(\"max_columns\", 100)\n",
        "# 抽样查看数据\n",
        "data.sample(10)"
      ],
      "execution_count": 2,
      "outputs": [
        {
          "output_type": "execute_result",
          "data": {
            "text/html": [
              "<div>\n",
              "<style scoped>\n",
              "    .dataframe tbody tr th:only-of-type {\n",
              "        vertical-align: middle;\n",
              "    }\n",
              "\n",
              "    .dataframe tbody tr th {\n",
              "        vertical-align: top;\n",
              "    }\n",
              "\n",
              "    .dataframe thead th {\n",
              "        text-align: right;\n",
              "    }\n",
              "</style>\n",
              "<table border=\"1\" class=\"dataframe\">\n",
              "  <thead>\n",
              "    <tr style=\"text-align: right;\">\n",
              "      <th></th>\n",
              "      <th>Unnamed: 0</th>\n",
              "      <th>custid</th>\n",
              "      <th>trade_no</th>\n",
              "      <th>bank_card_no</th>\n",
              "      <th>low_volume_percent</th>\n",
              "      <th>middle_volume_percent</th>\n",
              "      <th>take_amount_in_later_12_month_highest</th>\n",
              "      <th>trans_amount_increase_rate_lately</th>\n",
              "      <th>trans_activity_month</th>\n",
              "      <th>trans_activity_day</th>\n",
              "      <th>transd_mcc</th>\n",
              "      <th>trans_days_interval_filter</th>\n",
              "      <th>trans_days_interval</th>\n",
              "      <th>regional_mobility</th>\n",
              "      <th>student_feature</th>\n",
              "      <th>repayment_capability</th>\n",
              "      <th>is_high_user</th>\n",
              "      <th>number_of_trans_from_2011</th>\n",
              "      <th>first_transaction_time</th>\n",
              "      <th>historical_trans_amount</th>\n",
              "      <th>historical_trans_day</th>\n",
              "      <th>rank_trad_1_month</th>\n",
              "      <th>trans_amount_3_month</th>\n",
              "      <th>avg_consume_less_12_valid_month</th>\n",
              "      <th>abs</th>\n",
              "      <th>top_trans_count_last_1_month</th>\n",
              "      <th>avg_price_last_12_month</th>\n",
              "      <th>avg_price_top_last_12_valid_month</th>\n",
              "      <th>reg_preference_for_trad</th>\n",
              "      <th>trans_top_time_last_1_month</th>\n",
              "      <th>trans_top_time_last_6_month</th>\n",
              "      <th>consume_top_time_last_1_month</th>\n",
              "      <th>consume_top_time_last_6_month</th>\n",
              "      <th>cross_consume_count_last_1_month</th>\n",
              "      <th>trans_fail_top_count_enum_last_1_month</th>\n",
              "      <th>trans_fail_top_count_enum_last_6_month</th>\n",
              "      <th>trans_fail_top_count_enum_last_12_month</th>\n",
              "      <th>consume_mini_time_last_1_month</th>\n",
              "      <th>max_cumulative_consume_later_1_month</th>\n",
              "      <th>max_consume_count_later_6_month</th>\n",
              "      <th>railway_consume_count_last_12_month</th>\n",
              "      <th>pawns_auctions_trusts_consume_last_1_month</th>\n",
              "      <th>pawns_auctions_trusts_consume_last_6_month</th>\n",
              "      <th>jewelry_consume_count_last_6_month</th>\n",
              "      <th>status</th>\n",
              "      <th>source</th>\n",
              "      <th>first_transaction_day</th>\n",
              "      <th>trans_day_last_12_month</th>\n",
              "      <th>id_name</th>\n",
              "      <th>apply_score</th>\n",
              "      <th>apply_credibility</th>\n",
              "      <th>query_org_count</th>\n",
              "      <th>query_finance_count</th>\n",
              "      <th>query_cash_count</th>\n",
              "      <th>query_sum_count</th>\n",
              "      <th>latest_query_time</th>\n",
              "      <th>latest_one_month_apply</th>\n",
              "      <th>latest_three_month_apply</th>\n",
              "      <th>latest_six_month_apply</th>\n",
              "      <th>loans_score</th>\n",
              "      <th>loans_credibility_behavior</th>\n",
              "      <th>loans_count</th>\n",
              "      <th>loans_settle_count</th>\n",
              "      <th>loans_overdue_count</th>\n",
              "      <th>loans_org_count_behavior</th>\n",
              "      <th>consfin_org_count_behavior</th>\n",
              "      <th>loans_cash_count</th>\n",
              "      <th>latest_one_month_loan</th>\n",
              "      <th>latest_three_month_loan</th>\n",
              "      <th>latest_six_month_loan</th>\n",
              "      <th>history_suc_fee</th>\n",
              "      <th>history_fail_fee</th>\n",
              "      <th>latest_one_month_suc</th>\n",
              "      <th>latest_one_month_fail</th>\n",
              "      <th>loans_long_time</th>\n",
              "      <th>loans_latest_time</th>\n",
              "      <th>loans_credit_limit</th>\n",
              "      <th>loans_credibility_limit</th>\n",
              "      <th>loans_org_count_current</th>\n",
              "      <th>loans_product_count</th>\n",
              "      <th>loans_max_limit</th>\n",
              "      <th>loans_avg_limit</th>\n",
              "      <th>consfin_credit_limit</th>\n",
              "      <th>consfin_credibility</th>\n",
              "      <th>consfin_org_count_current</th>\n",
              "      <th>consfin_product_count</th>\n",
              "      <th>consfin_max_limit</th>\n",
              "      <th>consfin_avg_limit</th>\n",
              "      <th>latest_query_day</th>\n",
              "      <th>loans_latest_day</th>\n",
              "    </tr>\n",
              "  </thead>\n",
              "  <tbody>\n",
              "    <tr>\n",
              "      <th>3604</th>\n",
              "      <td>9098</td>\n",
              "      <td>2144372</td>\n",
              "      <td>20180507115819718000000388220657</td>\n",
              "      <td>卡号1</td>\n",
              "      <td>0.02</td>\n",
              "      <td>0.98</td>\n",
              "      <td>300</td>\n",
              "      <td>2.14</td>\n",
              "      <td>0.43</td>\n",
              "      <td>0.255</td>\n",
              "      <td>17.0</td>\n",
              "      <td>28.0</td>\n",
              "      <td>15.0</td>\n",
              "      <td>4.0</td>\n",
              "      <td>1.0</td>\n",
              "      <td>9060</td>\n",
              "      <td>0</td>\n",
              "      <td>30.0</td>\n",
              "      <td>20120520.0</td>\n",
              "      <td>58500</td>\n",
              "      <td>126.0</td>\n",
              "      <td>0.35</td>\n",
              "      <td>19150</td>\n",
              "      <td>7.0</td>\n",
              "      <td>4010</td>\n",
              "      <td>0.15</td>\n",
              "      <td>910</td>\n",
              "      <td>0.55</td>\n",
              "      <td>一线城市</td>\n",
              "      <td>7.0</td>\n",
              "      <td>28.0</td>\n",
              "      <td>7.0</td>\n",
              "      <td>28.0</td>\n",
              "      <td>NaN</td>\n",
              "      <td>2.0</td>\n",
              "      <td>2.0</td>\n",
              "      <td>7.0</td>\n",
              "      <td>344948.0</td>\n",
              "      <td>1500</td>\n",
              "      <td>3.0</td>\n",
              "      <td>0.0</td>\n",
              "      <td>0</td>\n",
              "      <td>1090</td>\n",
              "      <td>0.0</td>\n",
              "      <td>0</td>\n",
              "      <td>xs</td>\n",
              "      <td>2192.0</td>\n",
              "      <td>82.0</td>\n",
              "      <td>刘凯</td>\n",
              "      <td>621.0</td>\n",
              "      <td>72.0</td>\n",
              "      <td>5.0</td>\n",
              "      <td>2.0</td>\n",
              "      <td>3.0</td>\n",
              "      <td>9.0</td>\n",
              "      <td>2018-01-08</td>\n",
              "      <td>0.0</td>\n",
              "      <td>0.0</td>\n",
              "      <td>4.0</td>\n",
              "      <td>589.0</td>\n",
              "      <td>69.0</td>\n",
              "      <td>5.0</td>\n",
              "      <td>5.0</td>\n",
              "      <td>0.0</td>\n",
              "      <td>3.0</td>\n",
              "      <td>0.0</td>\n",
              "      <td>3.0</td>\n",
              "      <td>0.0</td>\n",
              "      <td>0.0</td>\n",
              "      <td>3.0</td>\n",
              "      <td>5.0</td>\n",
              "      <td>1.0</td>\n",
              "      <td>0.0</td>\n",
              "      <td>0.0</td>\n",
              "      <td>234.0</td>\n",
              "      <td>2017-12-12</td>\n",
              "      <td>1100.0</td>\n",
              "      <td>69.0</td>\n",
              "      <td>3.0</td>\n",
              "      <td>3.0</td>\n",
              "      <td>2300.0</td>\n",
              "      <td>1300.0</td>\n",
              "      <td>0.0</td>\n",
              "      <td>0.0</td>\n",
              "      <td>0.0</td>\n",
              "      <td>0.0</td>\n",
              "      <td>0.0</td>\n",
              "      <td>0.0</td>\n",
              "      <td>119.0</td>\n",
              "      <td>146.0</td>\n",
              "    </tr>\n",
              "    <tr>\n",
              "      <th>1618</th>\n",
              "      <td>4146</td>\n",
              "      <td>3435371</td>\n",
              "      <td>20180504181848584000000021295823</td>\n",
              "      <td>卡号1</td>\n",
              "      <td>0.04</td>\n",
              "      <td>0.54</td>\n",
              "      <td>0</td>\n",
              "      <td>0.52</td>\n",
              "      <td>0.96</td>\n",
              "      <td>0.452</td>\n",
              "      <td>22.0</td>\n",
              "      <td>44.0</td>\n",
              "      <td>17.0</td>\n",
              "      <td>3.0</td>\n",
              "      <td>NaN</td>\n",
              "      <td>17120</td>\n",
              "      <td>0</td>\n",
              "      <td>22.0</td>\n",
              "      <td>20160425.0</td>\n",
              "      <td>185220</td>\n",
              "      <td>211.0</td>\n",
              "      <td>0.15</td>\n",
              "      <td>60790</td>\n",
              "      <td>9.0</td>\n",
              "      <td>11190</td>\n",
              "      <td>0.05</td>\n",
              "      <td>1050</td>\n",
              "      <td>0.50</td>\n",
              "      <td>三线城市</td>\n",
              "      <td>4.0</td>\n",
              "      <td>17.0</td>\n",
              "      <td>4.0</td>\n",
              "      <td>17.0</td>\n",
              "      <td>2.0</td>\n",
              "      <td>3.0</td>\n",
              "      <td>3.0</td>\n",
              "      <td>3.0</td>\n",
              "      <td>654.0</td>\n",
              "      <td>3550</td>\n",
              "      <td>7.0</td>\n",
              "      <td>0.0</td>\n",
              "      <td>1270</td>\n",
              "      <td>84610</td>\n",
              "      <td>0.0</td>\n",
              "      <td>0</td>\n",
              "      <td>xs</td>\n",
              "      <td>756.0</td>\n",
              "      <td>82.0</td>\n",
              "      <td>倪舒康</td>\n",
              "      <td>629.0</td>\n",
              "      <td>74.0</td>\n",
              "      <td>21.0</td>\n",
              "      <td>13.0</td>\n",
              "      <td>5.0</td>\n",
              "      <td>30.0</td>\n",
              "      <td>2018-05-05</td>\n",
              "      <td>11.0</td>\n",
              "      <td>15.0</td>\n",
              "      <td>24.0</td>\n",
              "      <td>594.0</td>\n",
              "      <td>80.0</td>\n",
              "      <td>6.0</td>\n",
              "      <td>2.0</td>\n",
              "      <td>0.0</td>\n",
              "      <td>3.0</td>\n",
              "      <td>2.0</td>\n",
              "      <td>1.0</td>\n",
              "      <td>2.0</td>\n",
              "      <td>2.0</td>\n",
              "      <td>5.0</td>\n",
              "      <td>2.0</td>\n",
              "      <td>4.0</td>\n",
              "      <td>0.0</td>\n",
              "      <td>2.0</td>\n",
              "      <td>359.0</td>\n",
              "      <td>2018-04-30</td>\n",
              "      <td>4300.0</td>\n",
              "      <td>79.0</td>\n",
              "      <td>1.0</td>\n",
              "      <td>2.0</td>\n",
              "      <td>4300.0</td>\n",
              "      <td>4300.0</td>\n",
              "      <td>1200.0</td>\n",
              "      <td>80.0</td>\n",
              "      <td>2.0</td>\n",
              "      <td>3.0</td>\n",
              "      <td>1200.0</td>\n",
              "      <td>1100.0</td>\n",
              "      <td>-1.0</td>\n",
              "      <td>4.0</td>\n",
              "    </tr>\n",
              "    <tr>\n",
              "      <th>2956</th>\n",
              "      <td>7383</td>\n",
              "      <td>627789</td>\n",
              "      <td>20180507120419845000000388242958</td>\n",
              "      <td>卡号1</td>\n",
              "      <td>0.01</td>\n",
              "      <td>0.99</td>\n",
              "      <td>0</td>\n",
              "      <td>18.90</td>\n",
              "      <td>1.00</td>\n",
              "      <td>0.111</td>\n",
              "      <td>14.0</td>\n",
              "      <td>30.0</td>\n",
              "      <td>29.0</td>\n",
              "      <td>3.0</td>\n",
              "      <td>NaN</td>\n",
              "      <td>10850</td>\n",
              "      <td>0</td>\n",
              "      <td>17.0</td>\n",
              "      <td>20161019.0</td>\n",
              "      <td>72070</td>\n",
              "      <td>66.0</td>\n",
              "      <td>0.85</td>\n",
              "      <td>2240</td>\n",
              "      <td>8.0</td>\n",
              "      <td>1350</td>\n",
              "      <td>1.00</td>\n",
              "      <td>1190</td>\n",
              "      <td>0.50</td>\n",
              "      <td>一线城市</td>\n",
              "      <td>0.0</td>\n",
              "      <td>29.0</td>\n",
              "      <td>0.0</td>\n",
              "      <td>29.0</td>\n",
              "      <td>0.0</td>\n",
              "      <td>0.0</td>\n",
              "      <td>7.0</td>\n",
              "      <td>7.0</td>\n",
              "      <td>0.0</td>\n",
              "      <td>230</td>\n",
              "      <td>4.0</td>\n",
              "      <td>0.0</td>\n",
              "      <td>230</td>\n",
              "      <td>460</td>\n",
              "      <td>0.0</td>\n",
              "      <td>1</td>\n",
              "      <td>xs</td>\n",
              "      <td>579.0</td>\n",
              "      <td>101.0</td>\n",
              "      <td>孙海强</td>\n",
              "      <td>639.0</td>\n",
              "      <td>80.0</td>\n",
              "      <td>9.0</td>\n",
              "      <td>5.0</td>\n",
              "      <td>3.0</td>\n",
              "      <td>11.0</td>\n",
              "      <td>2018-04-13</td>\n",
              "      <td>3.0</td>\n",
              "      <td>4.0</td>\n",
              "      <td>8.0</td>\n",
              "      <td>598.0</td>\n",
              "      <td>75.0</td>\n",
              "      <td>12.0</td>\n",
              "      <td>10.0</td>\n",
              "      <td>0.0</td>\n",
              "      <td>8.0</td>\n",
              "      <td>3.0</td>\n",
              "      <td>5.0</td>\n",
              "      <td>0.0</td>\n",
              "      <td>1.0</td>\n",
              "      <td>5.0</td>\n",
              "      <td>11.0</td>\n",
              "      <td>8.0</td>\n",
              "      <td>0.0</td>\n",
              "      <td>0.0</td>\n",
              "      <td>233.0</td>\n",
              "      <td>2018-03-10</td>\n",
              "      <td>2000.0</td>\n",
              "      <td>74.0</td>\n",
              "      <td>5.0</td>\n",
              "      <td>5.0</td>\n",
              "      <td>2400.0</td>\n",
              "      <td>1700.0</td>\n",
              "      <td>9100.0</td>\n",
              "      <td>78.0</td>\n",
              "      <td>3.0</td>\n",
              "      <td>4.0</td>\n",
              "      <td>13200.0</td>\n",
              "      <td>6533.0</td>\n",
              "      <td>24.0</td>\n",
              "      <td>58.0</td>\n",
              "    </tr>\n",
              "    <tr>\n",
              "      <th>333</th>\n",
              "      <td>837</td>\n",
              "      <td>934519</td>\n",
              "      <td>20180507114720536000000388185425</td>\n",
              "      <td>卡号1</td>\n",
              "      <td>0.06</td>\n",
              "      <td>0.89</td>\n",
              "      <td>1000</td>\n",
              "      <td>1.15</td>\n",
              "      <td>0.96</td>\n",
              "      <td>0.291</td>\n",
              "      <td>20.0</td>\n",
              "      <td>24.0</td>\n",
              "      <td>23.0</td>\n",
              "      <td>3.0</td>\n",
              "      <td>NaN</td>\n",
              "      <td>11430</td>\n",
              "      <td>0</td>\n",
              "      <td>26.0</td>\n",
              "      <td>20151218.0</td>\n",
              "      <td>167970</td>\n",
              "      <td>159.0</td>\n",
              "      <td>0.55</td>\n",
              "      <td>21130</td>\n",
              "      <td>8.0</td>\n",
              "      <td>4570</td>\n",
              "      <td>0.40</td>\n",
              "      <td>730</td>\n",
              "      <td>0.60</td>\n",
              "      <td>一线城市</td>\n",
              "      <td>6.0</td>\n",
              "      <td>24.0</td>\n",
              "      <td>6.0</td>\n",
              "      <td>24.0</td>\n",
              "      <td>0.0</td>\n",
              "      <td>0.0</td>\n",
              "      <td>1.0</td>\n",
              "      <td>2.0</td>\n",
              "      <td>30.0</td>\n",
              "      <td>1300</td>\n",
              "      <td>9.0</td>\n",
              "      <td>0.0</td>\n",
              "      <td>0</td>\n",
              "      <td>9450</td>\n",
              "      <td>0.0</td>\n",
              "      <td>0</td>\n",
              "      <td>xs</td>\n",
              "      <td>885.0</td>\n",
              "      <td>84.0</td>\n",
              "      <td>周盼盼</td>\n",
              "      <td>654.0</td>\n",
              "      <td>72.0</td>\n",
              "      <td>11.0</td>\n",
              "      <td>4.0</td>\n",
              "      <td>3.0</td>\n",
              "      <td>18.0</td>\n",
              "      <td>2018-04-29</td>\n",
              "      <td>13.0</td>\n",
              "      <td>17.0</td>\n",
              "      <td>18.0</td>\n",
              "      <td>629.0</td>\n",
              "      <td>77.0</td>\n",
              "      <td>18.0</td>\n",
              "      <td>14.0</td>\n",
              "      <td>1.0</td>\n",
              "      <td>8.0</td>\n",
              "      <td>4.0</td>\n",
              "      <td>4.0</td>\n",
              "      <td>1.0</td>\n",
              "      <td>1.0</td>\n",
              "      <td>11.0</td>\n",
              "      <td>81.0</td>\n",
              "      <td>10.0</td>\n",
              "      <td>4.0</td>\n",
              "      <td>2.0</td>\n",
              "      <td>354.0</td>\n",
              "      <td>2018-04-26</td>\n",
              "      <td>1900.0</td>\n",
              "      <td>72.0</td>\n",
              "      <td>4.0</td>\n",
              "      <td>4.0</td>\n",
              "      <td>2400.0</td>\n",
              "      <td>1825.0</td>\n",
              "      <td>7100.0</td>\n",
              "      <td>79.0</td>\n",
              "      <td>4.0</td>\n",
              "      <td>5.0</td>\n",
              "      <td>10200.0</td>\n",
              "      <td>7200.0</td>\n",
              "      <td>8.0</td>\n",
              "      <td>11.0</td>\n",
              "    </tr>\n",
              "    <tr>\n",
              "      <th>4358</th>\n",
              "      <td>11011</td>\n",
              "      <td>2552406</td>\n",
              "      <td>20180507121830007000000388296643</td>\n",
              "      <td>卡号1</td>\n",
              "      <td>0.02</td>\n",
              "      <td>0.98</td>\n",
              "      <td>0</td>\n",
              "      <td>2.24</td>\n",
              "      <td>1.00</td>\n",
              "      <td>0.203</td>\n",
              "      <td>12.0</td>\n",
              "      <td>28.0</td>\n",
              "      <td>27.0</td>\n",
              "      <td>2.0</td>\n",
              "      <td>NaN</td>\n",
              "      <td>13030</td>\n",
              "      <td>0</td>\n",
              "      <td>15.0</td>\n",
              "      <td>20161030.0</td>\n",
              "      <td>59460</td>\n",
              "      <td>72.0</td>\n",
              "      <td>1.00</td>\n",
              "      <td>8610</td>\n",
              "      <td>6.0</td>\n",
              "      <td>20</td>\n",
              "      <td>1.00</td>\n",
              "      <td>1000</td>\n",
              "      <td>0.45</td>\n",
              "      <td>一线城市</td>\n",
              "      <td>0.0</td>\n",
              "      <td>8.0</td>\n",
              "      <td>0.0</td>\n",
              "      <td>8.0</td>\n",
              "      <td>0.0</td>\n",
              "      <td>3.0</td>\n",
              "      <td>3.0</td>\n",
              "      <td>3.0</td>\n",
              "      <td>0.0</td>\n",
              "      <td>0</td>\n",
              "      <td>3.0</td>\n",
              "      <td>0.0</td>\n",
              "      <td>0</td>\n",
              "      <td>7710</td>\n",
              "      <td>0.0</td>\n",
              "      <td>1</td>\n",
              "      <td>xs</td>\n",
              "      <td>568.0</td>\n",
              "      <td>154.0</td>\n",
              "      <td>李少青</td>\n",
              "      <td>523.0</td>\n",
              "      <td>73.0</td>\n",
              "      <td>12.0</td>\n",
              "      <td>6.0</td>\n",
              "      <td>2.0</td>\n",
              "      <td>14.0</td>\n",
              "      <td>2018-04-14</td>\n",
              "      <td>6.0</td>\n",
              "      <td>7.0</td>\n",
              "      <td>11.0</td>\n",
              "      <td>459.0</td>\n",
              "      <td>75.0</td>\n",
              "      <td>24.0</td>\n",
              "      <td>15.0</td>\n",
              "      <td>8.0</td>\n",
              "      <td>11.0</td>\n",
              "      <td>5.0</td>\n",
              "      <td>6.0</td>\n",
              "      <td>0.0</td>\n",
              "      <td>5.0</td>\n",
              "      <td>14.0</td>\n",
              "      <td>20.0</td>\n",
              "      <td>131.0</td>\n",
              "      <td>0.0</td>\n",
              "      <td>4.0</td>\n",
              "      <td>299.0</td>\n",
              "      <td>2018-03-15</td>\n",
              "      <td>2600.0</td>\n",
              "      <td>75.0</td>\n",
              "      <td>6.0</td>\n",
              "      <td>7.0</td>\n",
              "      <td>3300.0</td>\n",
              "      <td>1933.0</td>\n",
              "      <td>3900.0</td>\n",
              "      <td>74.0</td>\n",
              "      <td>5.0</td>\n",
              "      <td>6.0</td>\n",
              "      <td>6600.0</td>\n",
              "      <td>2820.0</td>\n",
              "      <td>23.0</td>\n",
              "      <td>53.0</td>\n",
              "    </tr>\n",
              "    <tr>\n",
              "      <th>4590</th>\n",
              "      <td>11611</td>\n",
              "      <td>681576</td>\n",
              "      <td>20180504165030318000000021195044</td>\n",
              "      <td>卡号1</td>\n",
              "      <td>0.01</td>\n",
              "      <td>0.99</td>\n",
              "      <td>0</td>\n",
              "      <td>1.31</td>\n",
              "      <td>0.95</td>\n",
              "      <td>0.266</td>\n",
              "      <td>15.0</td>\n",
              "      <td>37.0</td>\n",
              "      <td>19.0</td>\n",
              "      <td>4.0</td>\n",
              "      <td>NaN</td>\n",
              "      <td>2250</td>\n",
              "      <td>0</td>\n",
              "      <td>20.0</td>\n",
              "      <td>20160604.0</td>\n",
              "      <td>160580</td>\n",
              "      <td>146.0</td>\n",
              "      <td>0.60</td>\n",
              "      <td>18440</td>\n",
              "      <td>5.0</td>\n",
              "      <td>470</td>\n",
              "      <td>1.00</td>\n",
              "      <td>1500</td>\n",
              "      <td>0.45</td>\n",
              "      <td>一线城市</td>\n",
              "      <td>0.0</td>\n",
              "      <td>37.0</td>\n",
              "      <td>0.0</td>\n",
              "      <td>37.0</td>\n",
              "      <td>0.0</td>\n",
              "      <td>1.0</td>\n",
              "      <td>2.0</td>\n",
              "      <td>3.0</td>\n",
              "      <td>0.0</td>\n",
              "      <td>1230</td>\n",
              "      <td>2.0</td>\n",
              "      <td>0.0</td>\n",
              "      <td>0</td>\n",
              "      <td>6320</td>\n",
              "      <td>0.0</td>\n",
              "      <td>1</td>\n",
              "      <td>xs</td>\n",
              "      <td>716.0</td>\n",
              "      <td>93.0</td>\n",
              "      <td>代格鑫</td>\n",
              "      <td>594.0</td>\n",
              "      <td>75.0</td>\n",
              "      <td>6.0</td>\n",
              "      <td>5.0</td>\n",
              "      <td>1.0</td>\n",
              "      <td>8.0</td>\n",
              "      <td>2018-03-30</td>\n",
              "      <td>0.0</td>\n",
              "      <td>3.0</td>\n",
              "      <td>6.0</td>\n",
              "      <td>568.0</td>\n",
              "      <td>77.0</td>\n",
              "      <td>39.0</td>\n",
              "      <td>36.0</td>\n",
              "      <td>1.0</td>\n",
              "      <td>14.0</td>\n",
              "      <td>4.0</td>\n",
              "      <td>10.0</td>\n",
              "      <td>1.0</td>\n",
              "      <td>1.0</td>\n",
              "      <td>11.0</td>\n",
              "      <td>40.0</td>\n",
              "      <td>15.0</td>\n",
              "      <td>1.0</td>\n",
              "      <td>0.0</td>\n",
              "      <td>358.0</td>\n",
              "      <td>2018-04-20</td>\n",
              "      <td>2600.0</td>\n",
              "      <td>76.0</td>\n",
              "      <td>10.0</td>\n",
              "      <td>12.0</td>\n",
              "      <td>3800.0</td>\n",
              "      <td>2240.0</td>\n",
              "      <td>13800.0</td>\n",
              "      <td>82.0</td>\n",
              "      <td>4.0</td>\n",
              "      <td>4.0</td>\n",
              "      <td>22800.0</td>\n",
              "      <td>9175.0</td>\n",
              "      <td>35.0</td>\n",
              "      <td>14.0</td>\n",
              "    </tr>\n",
              "    <tr>\n",
              "      <th>2276</th>\n",
              "      <td>5770</td>\n",
              "      <td>45741</td>\n",
              "      <td>20180507114825932000000388188527</td>\n",
              "      <td>卡号1</td>\n",
              "      <td>0.01</td>\n",
              "      <td>0.97</td>\n",
              "      <td>1900</td>\n",
              "      <td>0.94</td>\n",
              "      <td>0.52</td>\n",
              "      <td>0.438</td>\n",
              "      <td>17.0</td>\n",
              "      <td>27.0</td>\n",
              "      <td>21.0</td>\n",
              "      <td>3.0</td>\n",
              "      <td>NaN</td>\n",
              "      <td>22620</td>\n",
              "      <td>0</td>\n",
              "      <td>30.0</td>\n",
              "      <td>20130516.0</td>\n",
              "      <td>322950</td>\n",
              "      <td>223.0</td>\n",
              "      <td>0.45</td>\n",
              "      <td>35800</td>\n",
              "      <td>7.0</td>\n",
              "      <td>3540</td>\n",
              "      <td>0.30</td>\n",
              "      <td>1410</td>\n",
              "      <td>0.45</td>\n",
              "      <td>一线城市</td>\n",
              "      <td>2.0</td>\n",
              "      <td>27.0</td>\n",
              "      <td>2.0</td>\n",
              "      <td>27.0</td>\n",
              "      <td>1.0</td>\n",
              "      <td>1.0</td>\n",
              "      <td>4.0</td>\n",
              "      <td>4.0</td>\n",
              "      <td>0.0</td>\n",
              "      <td>1620</td>\n",
              "      <td>7.0</td>\n",
              "      <td>0.0</td>\n",
              "      <td>0</td>\n",
              "      <td>38180</td>\n",
              "      <td>0.0</td>\n",
              "      <td>0</td>\n",
              "      <td>xs</td>\n",
              "      <td>1831.0</td>\n",
              "      <td>82.0</td>\n",
              "      <td>钟玉梅</td>\n",
              "      <td>556.0</td>\n",
              "      <td>74.0</td>\n",
              "      <td>19.0</td>\n",
              "      <td>8.0</td>\n",
              "      <td>7.0</td>\n",
              "      <td>23.0</td>\n",
              "      <td>2018-04-18</td>\n",
              "      <td>6.0</td>\n",
              "      <td>12.0</td>\n",
              "      <td>16.0</td>\n",
              "      <td>505.0</td>\n",
              "      <td>75.0</td>\n",
              "      <td>109.0</td>\n",
              "      <td>98.0</td>\n",
              "      <td>5.0</td>\n",
              "      <td>22.0</td>\n",
              "      <td>6.0</td>\n",
              "      <td>16.0</td>\n",
              "      <td>4.0</td>\n",
              "      <td>5.0</td>\n",
              "      <td>31.0</td>\n",
              "      <td>115.0</td>\n",
              "      <td>31.0</td>\n",
              "      <td>5.0</td>\n",
              "      <td>1.0</td>\n",
              "      <td>360.0</td>\n",
              "      <td>2018-05-05</td>\n",
              "      <td>2200.0</td>\n",
              "      <td>73.0</td>\n",
              "      <td>16.0</td>\n",
              "      <td>17.0</td>\n",
              "      <td>3000.0</td>\n",
              "      <td>1700.0</td>\n",
              "      <td>24200.0</td>\n",
              "      <td>82.0</td>\n",
              "      <td>6.0</td>\n",
              "      <td>6.0</td>\n",
              "      <td>45000.0</td>\n",
              "      <td>16300.0</td>\n",
              "      <td>19.0</td>\n",
              "      <td>2.0</td>\n",
              "    </tr>\n",
              "    <tr>\n",
              "      <th>3826</th>\n",
              "      <td>9681</td>\n",
              "      <td>1366554</td>\n",
              "      <td>20180507122527950000000388332144</td>\n",
              "      <td>卡号1</td>\n",
              "      <td>0.05</td>\n",
              "      <td>0.95</td>\n",
              "      <td>800</td>\n",
              "      <td>0.56</td>\n",
              "      <td>0.95</td>\n",
              "      <td>0.636</td>\n",
              "      <td>24.0</td>\n",
              "      <td>9.0</td>\n",
              "      <td>7.0</td>\n",
              "      <td>3.0</td>\n",
              "      <td>1.0</td>\n",
              "      <td>13560</td>\n",
              "      <td>0</td>\n",
              "      <td>41.0</td>\n",
              "      <td>20140816.0</td>\n",
              "      <td>308730</td>\n",
              "      <td>513.0</td>\n",
              "      <td>0.20</td>\n",
              "      <td>52360</td>\n",
              "      <td>7.0</td>\n",
              "      <td>7480</td>\n",
              "      <td>0.05</td>\n",
              "      <td>640</td>\n",
              "      <td>0.65</td>\n",
              "      <td>一线城市</td>\n",
              "      <td>5.0</td>\n",
              "      <td>7.0</td>\n",
              "      <td>5.0</td>\n",
              "      <td>7.0</td>\n",
              "      <td>3.0</td>\n",
              "      <td>2.0</td>\n",
              "      <td>3.0</td>\n",
              "      <td>3.0</td>\n",
              "      <td>66796.0</td>\n",
              "      <td>3590</td>\n",
              "      <td>10.0</td>\n",
              "      <td>0.0</td>\n",
              "      <td>2330</td>\n",
              "      <td>31160</td>\n",
              "      <td>0.0</td>\n",
              "      <td>0</td>\n",
              "      <td>xs</td>\n",
              "      <td>1374.0</td>\n",
              "      <td>83.0</td>\n",
              "      <td>魏源</td>\n",
              "      <td>536.0</td>\n",
              "      <td>76.0</td>\n",
              "      <td>6.0</td>\n",
              "      <td>3.0</td>\n",
              "      <td>3.0</td>\n",
              "      <td>6.0</td>\n",
              "      <td>2018-02-27</td>\n",
              "      <td>0.0</td>\n",
              "      <td>2.0</td>\n",
              "      <td>3.0</td>\n",
              "      <td>517.0</td>\n",
              "      <td>75.0</td>\n",
              "      <td>77.0</td>\n",
              "      <td>76.0</td>\n",
              "      <td>1.0</td>\n",
              "      <td>20.0</td>\n",
              "      <td>9.0</td>\n",
              "      <td>11.0</td>\n",
              "      <td>5.0</td>\n",
              "      <td>11.0</td>\n",
              "      <td>31.0</td>\n",
              "      <td>119.0</td>\n",
              "      <td>11.0</td>\n",
              "      <td>5.0</td>\n",
              "      <td>1.0</td>\n",
              "      <td>357.0</td>\n",
              "      <td>2018-05-06</td>\n",
              "      <td>1300.0</td>\n",
              "      <td>74.0</td>\n",
              "      <td>11.0</td>\n",
              "      <td>11.0</td>\n",
              "      <td>2300.0</td>\n",
              "      <td>1436.0</td>\n",
              "      <td>14500.0</td>\n",
              "      <td>78.0</td>\n",
              "      <td>9.0</td>\n",
              "      <td>11.0</td>\n",
              "      <td>20400.0</td>\n",
              "      <td>6611.0</td>\n",
              "      <td>69.0</td>\n",
              "      <td>1.0</td>\n",
              "    </tr>\n",
              "    <tr>\n",
              "      <th>1325</th>\n",
              "      <td>3464</td>\n",
              "      <td>703931</td>\n",
              "      <td>20180507114758690000000023050323</td>\n",
              "      <td>卡号1</td>\n",
              "      <td>0.11</td>\n",
              "      <td>0.67</td>\n",
              "      <td>3000</td>\n",
              "      <td>1.53</td>\n",
              "      <td>1.00</td>\n",
              "      <td>0.269</td>\n",
              "      <td>18.0</td>\n",
              "      <td>18.0</td>\n",
              "      <td>15.0</td>\n",
              "      <td>1.0</td>\n",
              "      <td>NaN</td>\n",
              "      <td>3800</td>\n",
              "      <td>0</td>\n",
              "      <td>15.0</td>\n",
              "      <td>20161204.0</td>\n",
              "      <td>110850</td>\n",
              "      <td>117.0</td>\n",
              "      <td>0.65</td>\n",
              "      <td>5080</td>\n",
              "      <td>9.0</td>\n",
              "      <td>380</td>\n",
              "      <td>0.10</td>\n",
              "      <td>570</td>\n",
              "      <td>0.65</td>\n",
              "      <td>一线城市</td>\n",
              "      <td>9.0</td>\n",
              "      <td>17.0</td>\n",
              "      <td>9.0</td>\n",
              "      <td>17.0</td>\n",
              "      <td>0.0</td>\n",
              "      <td>0.0</td>\n",
              "      <td>2.0</td>\n",
              "      <td>2.0</td>\n",
              "      <td>323.0</td>\n",
              "      <td>350</td>\n",
              "      <td>15.0</td>\n",
              "      <td>0.0</td>\n",
              "      <td>140</td>\n",
              "      <td>3670</td>\n",
              "      <td>0.0</td>\n",
              "      <td>0</td>\n",
              "      <td>xs</td>\n",
              "      <td>533.0</td>\n",
              "      <td>87.0</td>\n",
              "      <td>魏嘉</td>\n",
              "      <td>631.0</td>\n",
              "      <td>82.0</td>\n",
              "      <td>3.0</td>\n",
              "      <td>3.0</td>\n",
              "      <td>0.0</td>\n",
              "      <td>4.0</td>\n",
              "      <td>2018-04-26</td>\n",
              "      <td>1.0</td>\n",
              "      <td>1.0</td>\n",
              "      <td>1.0</td>\n",
              "      <td>603.0</td>\n",
              "      <td>77.0</td>\n",
              "      <td>6.0</td>\n",
              "      <td>6.0</td>\n",
              "      <td>0.0</td>\n",
              "      <td>4.0</td>\n",
              "      <td>2.0</td>\n",
              "      <td>2.0</td>\n",
              "      <td>0.0</td>\n",
              "      <td>0.0</td>\n",
              "      <td>2.0</td>\n",
              "      <td>7.0</td>\n",
              "      <td>0.0</td>\n",
              "      <td>0.0</td>\n",
              "      <td>0.0</td>\n",
              "      <td>307.0</td>\n",
              "      <td>2018-01-06</td>\n",
              "      <td>3100.0</td>\n",
              "      <td>74.0</td>\n",
              "      <td>2.0</td>\n",
              "      <td>2.0</td>\n",
              "      <td>4100.0</td>\n",
              "      <td>2950.0</td>\n",
              "      <td>11700.0</td>\n",
              "      <td>82.0</td>\n",
              "      <td>2.0</td>\n",
              "      <td>2.0</td>\n",
              "      <td>16800.0</td>\n",
              "      <td>12000.0</td>\n",
              "      <td>11.0</td>\n",
              "      <td>121.0</td>\n",
              "    </tr>\n",
              "    <tr>\n",
              "      <th>2663</th>\n",
              "      <td>6653</td>\n",
              "      <td>2127885</td>\n",
              "      <td>20180507120916681000000388264188</td>\n",
              "      <td>卡号1</td>\n",
              "      <td>0.02</td>\n",
              "      <td>0.95</td>\n",
              "      <td>1000</td>\n",
              "      <td>0.81</td>\n",
              "      <td>1.00</td>\n",
              "      <td>0.547</td>\n",
              "      <td>20.0</td>\n",
              "      <td>14.0</td>\n",
              "      <td>14.0</td>\n",
              "      <td>3.0</td>\n",
              "      <td>1.0</td>\n",
              "      <td>20580</td>\n",
              "      <td>0</td>\n",
              "      <td>27.0</td>\n",
              "      <td>20151217.0</td>\n",
              "      <td>382280</td>\n",
              "      <td>292.0</td>\n",
              "      <td>0.25</td>\n",
              "      <td>67270</td>\n",
              "      <td>6.0</td>\n",
              "      <td>12860</td>\n",
              "      <td>0.15</td>\n",
              "      <td>1330</td>\n",
              "      <td>0.50</td>\n",
              "      <td>三线城市</td>\n",
              "      <td>8.0</td>\n",
              "      <td>14.0</td>\n",
              "      <td>8.0</td>\n",
              "      <td>14.0</td>\n",
              "      <td>0.0</td>\n",
              "      <td>1.0</td>\n",
              "      <td>18.0</td>\n",
              "      <td>18.0</td>\n",
              "      <td>50.0</td>\n",
              "      <td>3020</td>\n",
              "      <td>8.0</td>\n",
              "      <td>0.0</td>\n",
              "      <td>6040</td>\n",
              "      <td>34330</td>\n",
              "      <td>0.0</td>\n",
              "      <td>0</td>\n",
              "      <td>xs</td>\n",
              "      <td>886.0</td>\n",
              "      <td>83.0</td>\n",
              "      <td>梁强</td>\n",
              "      <td>524.0</td>\n",
              "      <td>74.0</td>\n",
              "      <td>15.0</td>\n",
              "      <td>8.0</td>\n",
              "      <td>5.0</td>\n",
              "      <td>26.0</td>\n",
              "      <td>2018-04-19</td>\n",
              "      <td>3.0</td>\n",
              "      <td>11.0</td>\n",
              "      <td>14.0</td>\n",
              "      <td>494.0</td>\n",
              "      <td>74.0</td>\n",
              "      <td>70.0</td>\n",
              "      <td>63.0</td>\n",
              "      <td>4.0</td>\n",
              "      <td>21.0</td>\n",
              "      <td>6.0</td>\n",
              "      <td>15.0</td>\n",
              "      <td>0.0</td>\n",
              "      <td>1.0</td>\n",
              "      <td>19.0</td>\n",
              "      <td>76.0</td>\n",
              "      <td>18.0</td>\n",
              "      <td>0.0</td>\n",
              "      <td>2.0</td>\n",
              "      <td>351.0</td>\n",
              "      <td>2018-03-28</td>\n",
              "      <td>2300.0</td>\n",
              "      <td>72.0</td>\n",
              "      <td>15.0</td>\n",
              "      <td>15.0</td>\n",
              "      <td>5600.0</td>\n",
              "      <td>2026.0</td>\n",
              "      <td>5500.0</td>\n",
              "      <td>81.0</td>\n",
              "      <td>6.0</td>\n",
              "      <td>7.0</td>\n",
              "      <td>9600.0</td>\n",
              "      <td>5450.0</td>\n",
              "      <td>18.0</td>\n",
              "      <td>40.0</td>\n",
              "    </tr>\n",
              "  </tbody>\n",
              "</table>\n",
              "</div>"
            ],
            "text/plain": [
              "      Unnamed: 0   custid                          trade_no bank_card_no  \\\n",
              "3604        9098  2144372  20180507115819718000000388220657          卡号1   \n",
              "1618        4146  3435371  20180504181848584000000021295823          卡号1   \n",
              "2956        7383   627789  20180507120419845000000388242958          卡号1   \n",
              "333          837   934519  20180507114720536000000388185425          卡号1   \n",
              "4358       11011  2552406  20180507121830007000000388296643          卡号1   \n",
              "4590       11611   681576  20180504165030318000000021195044          卡号1   \n",
              "2276        5770    45741  20180507114825932000000388188527          卡号1   \n",
              "3826        9681  1366554  20180507122527950000000388332144          卡号1   \n",
              "1325        3464   703931  20180507114758690000000023050323          卡号1   \n",
              "2663        6653  2127885  20180507120916681000000388264188          卡号1   \n",
              "\n",
              "      low_volume_percent  middle_volume_percent  \\\n",
              "3604                0.02                   0.98   \n",
              "1618                0.04                   0.54   \n",
              "2956                0.01                   0.99   \n",
              "333                 0.06                   0.89   \n",
              "4358                0.02                   0.98   \n",
              "4590                0.01                   0.99   \n",
              "2276                0.01                   0.97   \n",
              "3826                0.05                   0.95   \n",
              "1325                0.11                   0.67   \n",
              "2663                0.02                   0.95   \n",
              "\n",
              "      take_amount_in_later_12_month_highest  \\\n",
              "3604                                    300   \n",
              "1618                                      0   \n",
              "2956                                      0   \n",
              "333                                    1000   \n",
              "4358                                      0   \n",
              "4590                                      0   \n",
              "2276                                   1900   \n",
              "3826                                    800   \n",
              "1325                                   3000   \n",
              "2663                                   1000   \n",
              "\n",
              "      trans_amount_increase_rate_lately  trans_activity_month  \\\n",
              "3604                               2.14                  0.43   \n",
              "1618                               0.52                  0.96   \n",
              "2956                              18.90                  1.00   \n",
              "333                                1.15                  0.96   \n",
              "4358                               2.24                  1.00   \n",
              "4590                               1.31                  0.95   \n",
              "2276                               0.94                  0.52   \n",
              "3826                               0.56                  0.95   \n",
              "1325                               1.53                  1.00   \n",
              "2663                               0.81                  1.00   \n",
              "\n",
              "      trans_activity_day  transd_mcc  trans_days_interval_filter  \\\n",
              "3604               0.255        17.0                        28.0   \n",
              "1618               0.452        22.0                        44.0   \n",
              "2956               0.111        14.0                        30.0   \n",
              "333                0.291        20.0                        24.0   \n",
              "4358               0.203        12.0                        28.0   \n",
              "4590               0.266        15.0                        37.0   \n",
              "2276               0.438        17.0                        27.0   \n",
              "3826               0.636        24.0                         9.0   \n",
              "1325               0.269        18.0                        18.0   \n",
              "2663               0.547        20.0                        14.0   \n",
              "\n",
              "      trans_days_interval  regional_mobility  student_feature  \\\n",
              "3604                 15.0                4.0              1.0   \n",
              "1618                 17.0                3.0              NaN   \n",
              "2956                 29.0                3.0              NaN   \n",
              "333                  23.0                3.0              NaN   \n",
              "4358                 27.0                2.0              NaN   \n",
              "4590                 19.0                4.0              NaN   \n",
              "2276                 21.0                3.0              NaN   \n",
              "3826                  7.0                3.0              1.0   \n",
              "1325                 15.0                1.0              NaN   \n",
              "2663                 14.0                3.0              1.0   \n",
              "\n",
              "      repayment_capability  is_high_user  number_of_trans_from_2011  \\\n",
              "3604                  9060             0                       30.0   \n",
              "1618                 17120             0                       22.0   \n",
              "2956                 10850             0                       17.0   \n",
              "333                  11430             0                       26.0   \n",
              "4358                 13030             0                       15.0   \n",
              "4590                  2250             0                       20.0   \n",
              "2276                 22620             0                       30.0   \n",
              "3826                 13560             0                       41.0   \n",
              "1325                  3800             0                       15.0   \n",
              "2663                 20580             0                       27.0   \n",
              "\n",
              "      first_transaction_time  historical_trans_amount  historical_trans_day  \\\n",
              "3604              20120520.0                    58500                 126.0   \n",
              "1618              20160425.0                   185220                 211.0   \n",
              "2956              20161019.0                    72070                  66.0   \n",
              "333               20151218.0                   167970                 159.0   \n",
              "4358              20161030.0                    59460                  72.0   \n",
              "4590              20160604.0                   160580                 146.0   \n",
              "2276              20130516.0                   322950                 223.0   \n",
              "3826              20140816.0                   308730                 513.0   \n",
              "1325              20161204.0                   110850                 117.0   \n",
              "2663              20151217.0                   382280                 292.0   \n",
              "\n",
              "      rank_trad_1_month  trans_amount_3_month  \\\n",
              "3604               0.35                 19150   \n",
              "1618               0.15                 60790   \n",
              "2956               0.85                  2240   \n",
              "333                0.55                 21130   \n",
              "4358               1.00                  8610   \n",
              "4590               0.60                 18440   \n",
              "2276               0.45                 35800   \n",
              "3826               0.20                 52360   \n",
              "1325               0.65                  5080   \n",
              "2663               0.25                 67270   \n",
              "\n",
              "      avg_consume_less_12_valid_month    abs  top_trans_count_last_1_month  \\\n",
              "3604                              7.0   4010                          0.15   \n",
              "1618                              9.0  11190                          0.05   \n",
              "2956                              8.0   1350                          1.00   \n",
              "333                               8.0   4570                          0.40   \n",
              "4358                              6.0     20                          1.00   \n",
              "4590                              5.0    470                          1.00   \n",
              "2276                              7.0   3540                          0.30   \n",
              "3826                              7.0   7480                          0.05   \n",
              "1325                              9.0    380                          0.10   \n",
              "2663                              6.0  12860                          0.15   \n",
              "\n",
              "      avg_price_last_12_month  avg_price_top_last_12_valid_month  \\\n",
              "3604                      910                               0.55   \n",
              "1618                     1050                               0.50   \n",
              "2956                     1190                               0.50   \n",
              "333                       730                               0.60   \n",
              "4358                     1000                               0.45   \n",
              "4590                     1500                               0.45   \n",
              "2276                     1410                               0.45   \n",
              "3826                      640                               0.65   \n",
              "1325                      570                               0.65   \n",
              "2663                     1330                               0.50   \n",
              "\n",
              "     reg_preference_for_trad  trans_top_time_last_1_month  \\\n",
              "3604                    一线城市                          7.0   \n",
              "1618                    三线城市                          4.0   \n",
              "2956                    一线城市                          0.0   \n",
              "333                     一线城市                          6.0   \n",
              "4358                    一线城市                          0.0   \n",
              "4590                    一线城市                          0.0   \n",
              "2276                    一线城市                          2.0   \n",
              "3826                    一线城市                          5.0   \n",
              "1325                    一线城市                          9.0   \n",
              "2663                    三线城市                          8.0   \n",
              "\n",
              "      trans_top_time_last_6_month  consume_top_time_last_1_month  \\\n",
              "3604                         28.0                            7.0   \n",
              "1618                         17.0                            4.0   \n",
              "2956                         29.0                            0.0   \n",
              "333                          24.0                            6.0   \n",
              "4358                          8.0                            0.0   \n",
              "4590                         37.0                            0.0   \n",
              "2276                         27.0                            2.0   \n",
              "3826                          7.0                            5.0   \n",
              "1325                         17.0                            9.0   \n",
              "2663                         14.0                            8.0   \n",
              "\n",
              "      consume_top_time_last_6_month  cross_consume_count_last_1_month  \\\n",
              "3604                           28.0                               NaN   \n",
              "1618                           17.0                               2.0   \n",
              "2956                           29.0                               0.0   \n",
              "333                            24.0                               0.0   \n",
              "4358                            8.0                               0.0   \n",
              "4590                           37.0                               0.0   \n",
              "2276                           27.0                               1.0   \n",
              "3826                            7.0                               3.0   \n",
              "1325                           17.0                               0.0   \n",
              "2663                           14.0                               0.0   \n",
              "\n",
              "      trans_fail_top_count_enum_last_1_month  \\\n",
              "3604                                     2.0   \n",
              "1618                                     3.0   \n",
              "2956                                     0.0   \n",
              "333                                      0.0   \n",
              "4358                                     3.0   \n",
              "4590                                     1.0   \n",
              "2276                                     1.0   \n",
              "3826                                     2.0   \n",
              "1325                                     0.0   \n",
              "2663                                     1.0   \n",
              "\n",
              "      trans_fail_top_count_enum_last_6_month  \\\n",
              "3604                                     2.0   \n",
              "1618                                     3.0   \n",
              "2956                                     7.0   \n",
              "333                                      1.0   \n",
              "4358                                     3.0   \n",
              "4590                                     2.0   \n",
              "2276                                     4.0   \n",
              "3826                                     3.0   \n",
              "1325                                     2.0   \n",
              "2663                                    18.0   \n",
              "\n",
              "      trans_fail_top_count_enum_last_12_month  consume_mini_time_last_1_month  \\\n",
              "3604                                      7.0                        344948.0   \n",
              "1618                                      3.0                           654.0   \n",
              "2956                                      7.0                             0.0   \n",
              "333                                       2.0                            30.0   \n",
              "4358                                      3.0                             0.0   \n",
              "4590                                      3.0                             0.0   \n",
              "2276                                      4.0                             0.0   \n",
              "3826                                      3.0                         66796.0   \n",
              "1325                                      2.0                           323.0   \n",
              "2663                                     18.0                            50.0   \n",
              "\n",
              "      max_cumulative_consume_later_1_month  max_consume_count_later_6_month  \\\n",
              "3604                                  1500                              3.0   \n",
              "1618                                  3550                              7.0   \n",
              "2956                                   230                              4.0   \n",
              "333                                   1300                              9.0   \n",
              "4358                                     0                              3.0   \n",
              "4590                                  1230                              2.0   \n",
              "2276                                  1620                              7.0   \n",
              "3826                                  3590                             10.0   \n",
              "1325                                   350                             15.0   \n",
              "2663                                  3020                              8.0   \n",
              "\n",
              "      railway_consume_count_last_12_month  \\\n",
              "3604                                  0.0   \n",
              "1618                                  0.0   \n",
              "2956                                  0.0   \n",
              "333                                   0.0   \n",
              "4358                                  0.0   \n",
              "4590                                  0.0   \n",
              "2276                                  0.0   \n",
              "3826                                  0.0   \n",
              "1325                                  0.0   \n",
              "2663                                  0.0   \n",
              "\n",
              "      pawns_auctions_trusts_consume_last_1_month  \\\n",
              "3604                                           0   \n",
              "1618                                        1270   \n",
              "2956                                         230   \n",
              "333                                            0   \n",
              "4358                                           0   \n",
              "4590                                           0   \n",
              "2276                                           0   \n",
              "3826                                        2330   \n",
              "1325                                         140   \n",
              "2663                                        6040   \n",
              "\n",
              "      pawns_auctions_trusts_consume_last_6_month  \\\n",
              "3604                                        1090   \n",
              "1618                                       84610   \n",
              "2956                                         460   \n",
              "333                                         9450   \n",
              "4358                                        7710   \n",
              "4590                                        6320   \n",
              "2276                                       38180   \n",
              "3826                                       31160   \n",
              "1325                                        3670   \n",
              "2663                                       34330   \n",
              "\n",
              "      jewelry_consume_count_last_6_month  status source  \\\n",
              "3604                                 0.0       0     xs   \n",
              "1618                                 0.0       0     xs   \n",
              "2956                                 0.0       1     xs   \n",
              "333                                  0.0       0     xs   \n",
              "4358                                 0.0       1     xs   \n",
              "4590                                 0.0       1     xs   \n",
              "2276                                 0.0       0     xs   \n",
              "3826                                 0.0       0     xs   \n",
              "1325                                 0.0       0     xs   \n",
              "2663                                 0.0       0     xs   \n",
              "\n",
              "      first_transaction_day  trans_day_last_12_month id_name  apply_score  \\\n",
              "3604                 2192.0                     82.0      刘凯        621.0   \n",
              "1618                  756.0                     82.0     倪舒康        629.0   \n",
              "2956                  579.0                    101.0     孙海强        639.0   \n",
              "333                   885.0                     84.0     周盼盼        654.0   \n",
              "4358                  568.0                    154.0     李少青        523.0   \n",
              "4590                  716.0                     93.0     代格鑫        594.0   \n",
              "2276                 1831.0                     82.0     钟玉梅        556.0   \n",
              "3826                 1374.0                     83.0      魏源        536.0   \n",
              "1325                  533.0                     87.0      魏嘉        631.0   \n",
              "2663                  886.0                     83.0      梁强        524.0   \n",
              "\n",
              "      apply_credibility  query_org_count  query_finance_count  \\\n",
              "3604               72.0              5.0                  2.0   \n",
              "1618               74.0             21.0                 13.0   \n",
              "2956               80.0              9.0                  5.0   \n",
              "333                72.0             11.0                  4.0   \n",
              "4358               73.0             12.0                  6.0   \n",
              "4590               75.0              6.0                  5.0   \n",
              "2276               74.0             19.0                  8.0   \n",
              "3826               76.0              6.0                  3.0   \n",
              "1325               82.0              3.0                  3.0   \n",
              "2663               74.0             15.0                  8.0   \n",
              "\n",
              "      query_cash_count  query_sum_count latest_query_time  \\\n",
              "3604               3.0              9.0        2018-01-08   \n",
              "1618               5.0             30.0        2018-05-05   \n",
              "2956               3.0             11.0        2018-04-13   \n",
              "333                3.0             18.0        2018-04-29   \n",
              "4358               2.0             14.0        2018-04-14   \n",
              "4590               1.0              8.0        2018-03-30   \n",
              "2276               7.0             23.0        2018-04-18   \n",
              "3826               3.0              6.0        2018-02-27   \n",
              "1325               0.0              4.0        2018-04-26   \n",
              "2663               5.0             26.0        2018-04-19   \n",
              "\n",
              "      latest_one_month_apply  latest_three_month_apply  \\\n",
              "3604                     0.0                       0.0   \n",
              "1618                    11.0                      15.0   \n",
              "2956                     3.0                       4.0   \n",
              "333                     13.0                      17.0   \n",
              "4358                     6.0                       7.0   \n",
              "4590                     0.0                       3.0   \n",
              "2276                     6.0                      12.0   \n",
              "3826                     0.0                       2.0   \n",
              "1325                     1.0                       1.0   \n",
              "2663                     3.0                      11.0   \n",
              "\n",
              "      latest_six_month_apply  loans_score  loans_credibility_behavior  \\\n",
              "3604                     4.0        589.0                        69.0   \n",
              "1618                    24.0        594.0                        80.0   \n",
              "2956                     8.0        598.0                        75.0   \n",
              "333                     18.0        629.0                        77.0   \n",
              "4358                    11.0        459.0                        75.0   \n",
              "4590                     6.0        568.0                        77.0   \n",
              "2276                    16.0        505.0                        75.0   \n",
              "3826                     3.0        517.0                        75.0   \n",
              "1325                     1.0        603.0                        77.0   \n",
              "2663                    14.0        494.0                        74.0   \n",
              "\n",
              "      loans_count  loans_settle_count  loans_overdue_count  \\\n",
              "3604          5.0                 5.0                  0.0   \n",
              "1618          6.0                 2.0                  0.0   \n",
              "2956         12.0                10.0                  0.0   \n",
              "333          18.0                14.0                  1.0   \n",
              "4358         24.0                15.0                  8.0   \n",
              "4590         39.0                36.0                  1.0   \n",
              "2276        109.0                98.0                  5.0   \n",
              "3826         77.0                76.0                  1.0   \n",
              "1325          6.0                 6.0                  0.0   \n",
              "2663         70.0                63.0                  4.0   \n",
              "\n",
              "      loans_org_count_behavior  consfin_org_count_behavior  loans_cash_count  \\\n",
              "3604                       3.0                         0.0               3.0   \n",
              "1618                       3.0                         2.0               1.0   \n",
              "2956                       8.0                         3.0               5.0   \n",
              "333                        8.0                         4.0               4.0   \n",
              "4358                      11.0                         5.0               6.0   \n",
              "4590                      14.0                         4.0              10.0   \n",
              "2276                      22.0                         6.0              16.0   \n",
              "3826                      20.0                         9.0              11.0   \n",
              "1325                       4.0                         2.0               2.0   \n",
              "2663                      21.0                         6.0              15.0   \n",
              "\n",
              "      latest_one_month_loan  latest_three_month_loan  latest_six_month_loan  \\\n",
              "3604                    0.0                      0.0                    3.0   \n",
              "1618                    2.0                      2.0                    5.0   \n",
              "2956                    0.0                      1.0                    5.0   \n",
              "333                     1.0                      1.0                   11.0   \n",
              "4358                    0.0                      5.0                   14.0   \n",
              "4590                    1.0                      1.0                   11.0   \n",
              "2276                    4.0                      5.0                   31.0   \n",
              "3826                    5.0                     11.0                   31.0   \n",
              "1325                    0.0                      0.0                    2.0   \n",
              "2663                    0.0                      1.0                   19.0   \n",
              "\n",
              "      history_suc_fee  history_fail_fee  latest_one_month_suc  \\\n",
              "3604              5.0               1.0                   0.0   \n",
              "1618              2.0               4.0                   0.0   \n",
              "2956             11.0               8.0                   0.0   \n",
              "333              81.0              10.0                   4.0   \n",
              "4358             20.0             131.0                   0.0   \n",
              "4590             40.0              15.0                   1.0   \n",
              "2276            115.0              31.0                   5.0   \n",
              "3826            119.0              11.0                   5.0   \n",
              "1325              7.0               0.0                   0.0   \n",
              "2663             76.0              18.0                   0.0   \n",
              "\n",
              "      latest_one_month_fail  loans_long_time loans_latest_time  \\\n",
              "3604                    0.0            234.0        2017-12-12   \n",
              "1618                    2.0            359.0        2018-04-30   \n",
              "2956                    0.0            233.0        2018-03-10   \n",
              "333                     2.0            354.0        2018-04-26   \n",
              "4358                    4.0            299.0        2018-03-15   \n",
              "4590                    0.0            358.0        2018-04-20   \n",
              "2276                    1.0            360.0        2018-05-05   \n",
              "3826                    1.0            357.0        2018-05-06   \n",
              "1325                    0.0            307.0        2018-01-06   \n",
              "2663                    2.0            351.0        2018-03-28   \n",
              "\n",
              "      loans_credit_limit  loans_credibility_limit  loans_org_count_current  \\\n",
              "3604              1100.0                     69.0                      3.0   \n",
              "1618              4300.0                     79.0                      1.0   \n",
              "2956              2000.0                     74.0                      5.0   \n",
              "333               1900.0                     72.0                      4.0   \n",
              "4358              2600.0                     75.0                      6.0   \n",
              "4590              2600.0                     76.0                     10.0   \n",
              "2276              2200.0                     73.0                     16.0   \n",
              "3826              1300.0                     74.0                     11.0   \n",
              "1325              3100.0                     74.0                      2.0   \n",
              "2663              2300.0                     72.0                     15.0   \n",
              "\n",
              "      loans_product_count  loans_max_limit  loans_avg_limit  \\\n",
              "3604                  3.0           2300.0           1300.0   \n",
              "1618                  2.0           4300.0           4300.0   \n",
              "2956                  5.0           2400.0           1700.0   \n",
              "333                   4.0           2400.0           1825.0   \n",
              "4358                  7.0           3300.0           1933.0   \n",
              "4590                 12.0           3800.0           2240.0   \n",
              "2276                 17.0           3000.0           1700.0   \n",
              "3826                 11.0           2300.0           1436.0   \n",
              "1325                  2.0           4100.0           2950.0   \n",
              "2663                 15.0           5600.0           2026.0   \n",
              "\n",
              "      consfin_credit_limit  consfin_credibility  consfin_org_count_current  \\\n",
              "3604                   0.0                  0.0                        0.0   \n",
              "1618                1200.0                 80.0                        2.0   \n",
              "2956                9100.0                 78.0                        3.0   \n",
              "333                 7100.0                 79.0                        4.0   \n",
              "4358                3900.0                 74.0                        5.0   \n",
              "4590               13800.0                 82.0                        4.0   \n",
              "2276               24200.0                 82.0                        6.0   \n",
              "3826               14500.0                 78.0                        9.0   \n",
              "1325               11700.0                 82.0                        2.0   \n",
              "2663                5500.0                 81.0                        6.0   \n",
              "\n",
              "      consfin_product_count  consfin_max_limit  consfin_avg_limit  \\\n",
              "3604                    0.0                0.0                0.0   \n",
              "1618                    3.0             1200.0             1100.0   \n",
              "2956                    4.0            13200.0             6533.0   \n",
              "333                     5.0            10200.0             7200.0   \n",
              "4358                    6.0             6600.0             2820.0   \n",
              "4590                    4.0            22800.0             9175.0   \n",
              "2276                    6.0            45000.0            16300.0   \n",
              "3826                   11.0            20400.0             6611.0   \n",
              "1325                    2.0            16800.0            12000.0   \n",
              "2663                    7.0             9600.0             5450.0   \n",
              "\n",
              "      latest_query_day  loans_latest_day  \n",
              "3604             119.0             146.0  \n",
              "1618              -1.0               4.0  \n",
              "2956              24.0              58.0  \n",
              "333                8.0              11.0  \n",
              "4358              23.0              53.0  \n",
              "4590              35.0              14.0  \n",
              "2276              19.0               2.0  \n",
              "3826              69.0               1.0  \n",
              "1325              11.0             121.0  \n",
              "2663              18.0              40.0  "
            ]
          },
          "metadata": {
            "tags": []
          },
          "execution_count": 2
        }
      ]
    },
    {
      "cell_type": "markdown",
      "metadata": {
        "id": "XT9p8xEFwXkk",
        "colab_type": "text"
      },
      "source": [
        "## 二. 数据分析与处理\n",
        "1. 数据类型、重复值分析\n",
        "2. 无关特征删除、类型转换\n",
        "3. 缺失值处理\n",
        "4. 其他可借鉴的数据分析处理"
      ]
    },
    {
      "cell_type": "markdown",
      "metadata": {
        "id": "qrSKapkEwXkl",
        "colab_type": "text"
      },
      "source": [
        "### 1. 数据类型分析"
      ]
    },
    {
      "cell_type": "code",
      "metadata": {
        "scrolled": true,
        "id": "m8J3i1NhwXkm",
        "colab_type": "code",
        "outputId": "754a378d-45fb-4688-f7ec-852b32f08328",
        "colab": {
          "base_uri": "https://localhost:8080/",
          "height": 1649
        }
      },
      "source": [
        "data.info()\n",
        "data.shape"
      ],
      "execution_count": 3,
      "outputs": [
        {
          "output_type": "stream",
          "text": [
            "<class 'pandas.core.frame.DataFrame'>\n",
            "RangeIndex: 4754 entries, 0 to 4753\n",
            "Data columns (total 90 columns):\n",
            "Unnamed: 0                                    4754 non-null int64\n",
            "custid                                        4754 non-null int64\n",
            "trade_no                                      4754 non-null object\n",
            "bank_card_no                                  4754 non-null object\n",
            "low_volume_percent                            4752 non-null float64\n",
            "middle_volume_percent                         4752 non-null float64\n",
            "take_amount_in_later_12_month_highest         4754 non-null int64\n",
            "trans_amount_increase_rate_lately             4751 non-null float64\n",
            "trans_activity_month                          4752 non-null float64\n",
            "trans_activity_day                            4752 non-null float64\n",
            "transd_mcc                                    4752 non-null float64\n",
            "trans_days_interval_filter                    4746 non-null float64\n",
            "trans_days_interval                           4752 non-null float64\n",
            "regional_mobility                             4752 non-null float64\n",
            "student_feature                               1756 non-null float64\n",
            "repayment_capability                          4754 non-null int64\n",
            "is_high_user                                  4754 non-null int64\n",
            "number_of_trans_from_2011                     4752 non-null float64\n",
            "first_transaction_time                        4752 non-null float64\n",
            "historical_trans_amount                       4754 non-null int64\n",
            "historical_trans_day                          4752 non-null float64\n",
            "rank_trad_1_month                             4752 non-null float64\n",
            "trans_amount_3_month                          4754 non-null int64\n",
            "avg_consume_less_12_valid_month               4752 non-null float64\n",
            "abs                                           4754 non-null int64\n",
            "top_trans_count_last_1_month                  4752 non-null float64\n",
            "avg_price_last_12_month                       4754 non-null int64\n",
            "avg_price_top_last_12_valid_month             4650 non-null float64\n",
            "reg_preference_for_trad                       4752 non-null object\n",
            "trans_top_time_last_1_month                   4746 non-null float64\n",
            "trans_top_time_last_6_month                   4746 non-null float64\n",
            "consume_top_time_last_1_month                 4746 non-null float64\n",
            "consume_top_time_last_6_month                 4746 non-null float64\n",
            "cross_consume_count_last_1_month              4328 non-null float64\n",
            "trans_fail_top_count_enum_last_1_month        4738 non-null float64\n",
            "trans_fail_top_count_enum_last_6_month        4738 non-null float64\n",
            "trans_fail_top_count_enum_last_12_month       4738 non-null float64\n",
            "consume_mini_time_last_1_month                4728 non-null float64\n",
            "max_cumulative_consume_later_1_month          4754 non-null int64\n",
            "max_consume_count_later_6_month               4746 non-null float64\n",
            "railway_consume_count_last_12_month           4742 non-null float64\n",
            "pawns_auctions_trusts_consume_last_1_month    4754 non-null int64\n",
            "pawns_auctions_trusts_consume_last_6_month    4754 non-null int64\n",
            "jewelry_consume_count_last_6_month            4742 non-null float64\n",
            "status                                        4754 non-null int64\n",
            "source                                        4754 non-null object\n",
            "first_transaction_day                         4752 non-null float64\n",
            "trans_day_last_12_month                       4752 non-null float64\n",
            "id_name                                       4478 non-null object\n",
            "apply_score                                   4450 non-null float64\n",
            "apply_credibility                             4450 non-null float64\n",
            "query_org_count                               4450 non-null float64\n",
            "query_finance_count                           4450 non-null float64\n",
            "query_cash_count                              4450 non-null float64\n",
            "query_sum_count                               4450 non-null float64\n",
            "latest_query_time                             4450 non-null object\n",
            "latest_one_month_apply                        4450 non-null float64\n",
            "latest_three_month_apply                      4450 non-null float64\n",
            "latest_six_month_apply                        4450 non-null float64\n",
            "loans_score                                   4457 non-null float64\n",
            "loans_credibility_behavior                    4457 non-null float64\n",
            "loans_count                                   4457 non-null float64\n",
            "loans_settle_count                            4457 non-null float64\n",
            "loans_overdue_count                           4457 non-null float64\n",
            "loans_org_count_behavior                      4457 non-null float64\n",
            "consfin_org_count_behavior                    4457 non-null float64\n",
            "loans_cash_count                              4457 non-null float64\n",
            "latest_one_month_loan                         4457 non-null float64\n",
            "latest_three_month_loan                       4457 non-null float64\n",
            "latest_six_month_loan                         4457 non-null float64\n",
            "history_suc_fee                               4457 non-null float64\n",
            "history_fail_fee                              4457 non-null float64\n",
            "latest_one_month_suc                          4457 non-null float64\n",
            "latest_one_month_fail                         4457 non-null float64\n",
            "loans_long_time                               4457 non-null float64\n",
            "loans_latest_time                             4457 non-null object\n",
            "loans_credit_limit                            4457 non-null float64\n",
            "loans_credibility_limit                       4457 non-null float64\n",
            "loans_org_count_current                       4457 non-null float64\n",
            "loans_product_count                           4457 non-null float64\n",
            "loans_max_limit                               4457 non-null float64\n",
            "loans_avg_limit                               4457 non-null float64\n",
            "consfin_credit_limit                          4457 non-null float64\n",
            "consfin_credibility                           4457 non-null float64\n",
            "consfin_org_count_current                     4457 non-null float64\n",
            "consfin_product_count                         4457 non-null float64\n",
            "consfin_max_limit                             4457 non-null float64\n",
            "consfin_avg_limit                             4457 non-null float64\n",
            "latest_query_day                              4450 non-null float64\n",
            "loans_latest_day                              4457 non-null float64\n",
            "dtypes: float64(70), int64(13), object(7)\n",
            "memory usage: 3.3+ MB\n"
          ],
          "name": "stdout"
        },
        {
          "output_type": "execute_result",
          "data": {
            "text/plain": [
              "(4754, 90)"
            ]
          },
          "metadata": {
            "tags": []
          },
          "execution_count": 3
        }
      ]
    },
    {
      "cell_type": "markdown",
      "metadata": {
        "id": "WYyR0sw_wXkp",
        "colab_type": "text"
      },
      "source": [
        "### 2. 重复值分析"
      ]
    },
    {
      "cell_type": "code",
      "metadata": {
        "id": "2dHn8lqYwXkp",
        "colab_type": "code",
        "outputId": "8507deb8-8f62-477c-f805-2730f23b2b2a",
        "colab": {
          "base_uri": "https://localhost:8080/",
          "height": 34
        }
      },
      "source": [
        "# 检查是否要重复数据\n",
        "data.duplicated().any()"
      ],
      "execution_count": 4,
      "outputs": [
        {
          "output_type": "execute_result",
          "data": {
            "text/plain": [
              "False"
            ]
          },
          "metadata": {
            "tags": []
          },
          "execution_count": 4
        }
      ]
    },
    {
      "cell_type": "code",
      "metadata": {
        "id": "_6YxZKPXwXks",
        "colab_type": "code",
        "outputId": "2046979f-2028-442b-ae72-15709256be38",
        "colab": {
          "base_uri": "https://localhost:8080/",
          "height": 34
        }
      },
      "source": [
        "# 检查是否用重复的用户，结果False\n",
        "data[\"custid\"].duplicated().any()"
      ],
      "execution_count": 5,
      "outputs": [
        {
          "output_type": "execute_result",
          "data": {
            "text/plain": [
              "False"
            ]
          },
          "metadata": {
            "tags": []
          },
          "execution_count": 5
        }
      ]
    },
    {
      "cell_type": "markdown",
      "metadata": {
        "id": "8pYeCbT0wXku",
        "colab_type": "text"
      },
      "source": [
        "### 3. 无关特征删除、类型转换"
      ]
    },
    {
      "cell_type": "markdown",
      "metadata": {
        "id": "leDj8RZzwXkv",
        "colab_type": "text"
      },
      "source": [
        "#### 3.1 object类型的数据"
      ]
    },
    {
      "cell_type": "code",
      "metadata": {
        "id": "yOIQr6f0wXkw",
        "colab_type": "code",
        "outputId": "c12aa325-43bc-44c3-a22d-262c3785ad56",
        "colab": {
          "base_uri": "https://localhost:8080/",
          "height": 68
        }
      },
      "source": [
        "data.select_dtypes(include=\"object\").columns"
      ],
      "execution_count": 6,
      "outputs": [
        {
          "output_type": "execute_result",
          "data": {
            "text/plain": [
              "Index(['trade_no', 'bank_card_no', 'reg_preference_for_trad', 'source',\n",
              "       'id_name', 'latest_query_time', 'loans_latest_time'],\n",
              "      dtype='object')"
            ]
          },
          "metadata": {
            "tags": []
          },
          "execution_count": 6
        }
      ]
    },
    {
      "cell_type": "code",
      "metadata": {
        "id": "LChzQDVHwXky",
        "colab_type": "code",
        "outputId": "2f24d214-16e5-4ca0-bf8d-d5bfee4f67be",
        "colab": {
          "base_uri": "https://localhost:8080/",
          "height": 187
        }
      },
      "source": [
        "'''分析object类型数据'''\n",
        "# 检查是否有重复的trade_no，结果False，且交易的单号不影响结果需要删除\n",
        "# display(data[\"trade_no\"].duplicated().any())\n",
        "# 检查bank_card_no，全为相同内容，需要删除\n",
        "display(data[\"bank_card_no\"].value_counts())\n",
        "# 检查reg_preference_for_trad，分为5大类需要使用LabelEncoder编码\n",
        "display(data[\"reg_preference_for_trad\"].value_counts())\n",
        "# 检查source，全为相同内容，需要删除\n",
        "display(data[\"source\"].value_counts())\n",
        "# loans_latest_time、latest_query_time 时间内容需要调整\n",
        "#id_name为用户姓名不影响结果需要删除"
      ],
      "execution_count": 7,
      "outputs": [
        {
          "output_type": "display_data",
          "data": {
            "text/plain": [
              "卡号1    4754\n",
              "Name: bank_card_no, dtype: int64"
            ]
          },
          "metadata": {
            "tags": []
          }
        },
        {
          "output_type": "display_data",
          "data": {
            "text/plain": [
              "一线城市    3403\n",
              "三线城市    1064\n",
              "境外       150\n",
              "二线城市     131\n",
              "其他城市       4\n",
              "Name: reg_preference_for_trad, dtype: int64"
            ]
          },
          "metadata": {
            "tags": []
          }
        },
        {
          "output_type": "display_data",
          "data": {
            "text/plain": [
              "xs    4754\n",
              "Name: source, dtype: int64"
            ]
          },
          "metadata": {
            "tags": []
          }
        }
      ]
    },
    {
      "cell_type": "code",
      "metadata": {
        "id": "3FQjHGHQwXk1",
        "colab_type": "code",
        "outputId": "5f2beef0-be75-457f-ef5d-c7a2e33eeac6",
        "colab": {
          "base_uri": "https://localhost:8080/",
          "height": 34
        }
      },
      "source": [
        "'''处理object类型数据'''\n",
        "#删除trade_no、bank_card_no、source、id_name、source列\n",
        "data.drop(columns=[\"trade_no\",\"bank_card_no\",\"id_name\",\"source\"], axis=1, inplace=True)\n",
        "data.select_dtypes(include=\"object\").columns"
      ],
      "execution_count": 8,
      "outputs": [
        {
          "output_type": "execute_result",
          "data": {
            "text/plain": [
              "Index(['reg_preference_for_trad', 'latest_query_time', 'loans_latest_time'], dtype='object')"
            ]
          },
          "metadata": {
            "tags": []
          },
          "execution_count": 8
        }
      ]
    },
    {
      "cell_type": "code",
      "metadata": {
        "id": "4JfXLpquwXk4",
        "colab_type": "code",
        "outputId": "75568a58-fdd2-4676-a52f-774831fc1a4e",
        "colab": {
          "base_uri": "https://localhost:8080/",
          "height": 136
        }
      },
      "source": [
        "#LabelEncoder编码处理reg_preference_for_trad\n",
        "from sklearn.preprocessing import LabelEncoder\n",
        "lb = LabelEncoder()\n",
        "data[\"reg_preference_for_trad\"] = lb.fit_transform(data[\"reg_preference_for_trad\"].astype(str))\n",
        "data[\"reg_preference_for_trad\"].value_counts()"
      ],
      "execution_count": 9,
      "outputs": [
        {
          "output_type": "execute_result",
          "data": {
            "text/plain": [
              "1    3403\n",
              "2    1064\n",
              "5     150\n",
              "3     131\n",
              "4       4\n",
              "0       2\n",
              "Name: reg_preference_for_trad, dtype: int64"
            ]
          },
          "metadata": {
            "tags": []
          },
          "execution_count": 9
        }
      ]
    },
    {
      "cell_type": "code",
      "metadata": {
        "id": "On_jWksuwXk6",
        "colab_type": "code",
        "colab": {}
      },
      "source": [
        "# 将'latest_query_time', 'loans_latest_time'转换成日期格式，然后计算与当前日期的天数差值\n",
        "data['latest_query_time'] = (pd.to_datetime(data['latest_query_time']) - pd.to_datetime('today')).apply(lambda col: col.days)\n",
        "data['loans_latest_time'] = (pd.to_datetime(data['loans_latest_time']) - pd.to_datetime('today')).apply(lambda col: col.days)"
      ],
      "execution_count": 0,
      "outputs": []
    },
    {
      "cell_type": "markdown",
      "metadata": {
        "id": "JYO5NS4mwXk8",
        "colab_type": "text"
      },
      "source": [
        "#### 3.2 非object类型的数据"
      ]
    },
    {
      "cell_type": "code",
      "metadata": {
        "id": "qcsT5ZejwXk9",
        "colab_type": "code",
        "colab": {}
      },
      "source": [
        "# Unnamed: 0 为序号需要删除，custid为用户id需要删除\n",
        "data.drop(columns=[\"Unnamed: 0\",\"custid\"], axis=1, inplace=True)"
      ],
      "execution_count": 0,
      "outputs": []
    },
    {
      "cell_type": "markdown",
      "metadata": {
        "id": "vMRTPU6LwXk_",
        "colab_type": "text"
      },
      "source": [
        "### 4. 缺失值处理"
      ]
    },
    {
      "cell_type": "code",
      "metadata": {
        "scrolled": true,
        "id": "hRPyz_t6wXlA",
        "colab_type": "code",
        "outputId": "8a68a9bf-6a57-4f58-93be-84f91d384214",
        "colab": {
          "base_uri": "https://localhost:8080/",
          "height": 238
        }
      },
      "source": [
        "data.isnull().sum().value_counts()"
      ],
      "execution_count": 12,
      "outputs": [
        {
          "output_type": "execute_result",
          "data": {
            "text/plain": [
              "297     30\n",
              "2       15\n",
              "0       12\n",
              "304     11\n",
              "8        6\n",
              "16       3\n",
              "12       2\n",
              "104      1\n",
              "2998     1\n",
              "426      1\n",
              "26       1\n",
              "3        1\n",
              "dtype: int64"
            ]
          },
          "metadata": {
            "tags": []
          },
          "execution_count": 12
        }
      ]
    },
    {
      "cell_type": "code",
      "metadata": {
        "id": "LFfLfqpiwXlE",
        "colab_type": "code",
        "outputId": "528a0e85-2809-456e-f3c5-9f4b7d0b79f2",
        "colab": {
          "base_uri": "https://localhost:8080/",
          "height": 170
        }
      },
      "source": [
        "data.isnull().sum().argmax()"
      ],
      "execution_count": 13,
      "outputs": [
        {
          "output_type": "stream",
          "text": [
            "/usr/local/lib/python3.6/dist-packages/ipykernel_launcher.py:1: FutureWarning: \n",
            "The current behaviour of 'Series.argmax' is deprecated, use 'idxmax'\n",
            "instead.\n",
            "The behavior of 'argmax' will be corrected to return the positional\n",
            "maximum in the future. For now, use 'series.values.argmax' or\n",
            "'np.argmax(np.array(values))' to get the position of the maximum\n",
            "row.\n",
            "  \"\"\"Entry point for launching an IPython kernel.\n"
          ],
          "name": "stderr"
        },
        {
          "output_type": "execute_result",
          "data": {
            "text/plain": [
              "'student_feature'"
            ]
          },
          "metadata": {
            "tags": []
          },
          "execution_count": 13
        }
      ]
    },
    {
      "cell_type": "code",
      "metadata": {
        "id": "gxU1Zp4QwXlH",
        "colab_type": "code",
        "colab": {}
      },
      "source": [
        "#找出缺失值最多的特征，经检查为student_feature，预估含义是用户的学生类型，考虑将空值设成0\n",
        "data[\"student_feature\"].fillna(value=0,inplace=True)"
      ],
      "execution_count": 0,
      "outputs": []
    },
    {
      "cell_type": "code",
      "metadata": {
        "id": "EcY74FwswXlK",
        "colab_type": "code",
        "outputId": "c099a43d-0e3d-4df2-f091-4a4e06ab135e",
        "colab": {
          "base_uri": "https://localhost:8080/",
          "height": 357
        }
      },
      "source": [
        "data.isnull().sum(axis=1).value_counts()"
      ],
      "execution_count": 15,
      "outputs": [
        {
          "output_type": "execute_result",
          "data": {
            "text/plain": [
              "0     3983\n",
              "1      385\n",
              "41     249\n",
              "2       37\n",
              "42      27\n",
              "11      22\n",
              "31      12\n",
              "30       8\n",
              "3        7\n",
              "4        7\n",
              "12       5\n",
              "10       3\n",
              "5        3\n",
              "6        1\n",
              "13       1\n",
              "15       1\n",
              "44       1\n",
              "32       1\n",
              "43       1\n",
              "dtype: int64"
            ]
          },
          "metadata": {
            "tags": []
          },
          "execution_count": 15
        }
      ]
    },
    {
      "cell_type": "code",
      "metadata": {
        "scrolled": false,
        "id": "9A2spx2TwXlP",
        "colab_type": "code",
        "outputId": "b6d2bc45-9724-49e1-bf1d-79e775762a36",
        "colab": {
          "base_uri": "https://localhost:8080/",
          "height": 323
        }
      },
      "source": [
        "# 仅保留至少包含49个非NA值的行。\n",
        "display(data.shape)\n",
        "data.dropna(thresh=49,inplace=True)\n",
        "# data.info()\n",
        "data[\"status\"].isnull().any()\n",
        "display(data.shape)\n",
        "data.isnull().sum(axis=1).value_counts()"
      ],
      "execution_count": 16,
      "outputs": [
        {
          "output_type": "display_data",
          "data": {
            "text/plain": [
              "(4754, 84)"
            ]
          },
          "metadata": {
            "tags": []
          }
        },
        {
          "output_type": "display_data",
          "data": {
            "text/plain": [
              "(4476, 84)"
            ]
          },
          "metadata": {
            "tags": []
          }
        },
        {
          "output_type": "execute_result",
          "data": {
            "text/plain": [
              "0     3983\n",
              "1      385\n",
              "2       37\n",
              "11      22\n",
              "31      12\n",
              "30       8\n",
              "3        7\n",
              "4        7\n",
              "12       5\n",
              "10       3\n",
              "5        3\n",
              "15       1\n",
              "6        1\n",
              "13       1\n",
              "32       1\n",
              "dtype: int64"
            ]
          },
          "metadata": {
            "tags": []
          },
          "execution_count": 16
        }
      ]
    },
    {
      "cell_type": "code",
      "metadata": {
        "scrolled": false,
        "id": "A_W9pcm0wXlU",
        "colab_type": "code",
        "outputId": "e964b6cd-8a6e-418a-c7c3-2b4edef897d6",
        "colab": {
          "base_uri": "https://localhost:8080/",
          "height": 1683
        }
      },
      "source": [
        "data.info()\n",
        "data.isnull().sum().argmax()"
      ],
      "execution_count": 17,
      "outputs": [
        {
          "output_type": "stream",
          "text": [
            "<class 'pandas.core.frame.DataFrame'>\n",
            "Int64Index: 4476 entries, 0 to 4753\n",
            "Data columns (total 84 columns):\n",
            "low_volume_percent                            4474 non-null float64\n",
            "middle_volume_percent                         4474 non-null float64\n",
            "take_amount_in_later_12_month_highest         4476 non-null int64\n",
            "trans_amount_increase_rate_lately             4473 non-null float64\n",
            "trans_activity_month                          4474 non-null float64\n",
            "trans_activity_day                            4474 non-null float64\n",
            "transd_mcc                                    4474 non-null float64\n",
            "trans_days_interval_filter                    4468 non-null float64\n",
            "trans_days_interval                           4474 non-null float64\n",
            "regional_mobility                             4474 non-null float64\n",
            "student_feature                               4476 non-null float64\n",
            "repayment_capability                          4476 non-null int64\n",
            "is_high_user                                  4476 non-null int64\n",
            "number_of_trans_from_2011                     4474 non-null float64\n",
            "first_transaction_time                        4474 non-null float64\n",
            "historical_trans_amount                       4476 non-null int64\n",
            "historical_trans_day                          4474 non-null float64\n",
            "rank_trad_1_month                             4474 non-null float64\n",
            "trans_amount_3_month                          4476 non-null int64\n",
            "avg_consume_less_12_valid_month               4474 non-null float64\n",
            "abs                                           4476 non-null int64\n",
            "top_trans_count_last_1_month                  4474 non-null float64\n",
            "avg_price_last_12_month                       4476 non-null int64\n",
            "avg_price_top_last_12_valid_month             4376 non-null float64\n",
            "reg_preference_for_trad                       4476 non-null int64\n",
            "trans_top_time_last_1_month                   4468 non-null float64\n",
            "trans_top_time_last_6_month                   4468 non-null float64\n",
            "consume_top_time_last_1_month                 4468 non-null float64\n",
            "consume_top_time_last_6_month                 4468 non-null float64\n",
            "cross_consume_count_last_1_month              4075 non-null float64\n",
            "trans_fail_top_count_enum_last_1_month        4461 non-null float64\n",
            "trans_fail_top_count_enum_last_6_month        4461 non-null float64\n",
            "trans_fail_top_count_enum_last_12_month       4461 non-null float64\n",
            "consume_mini_time_last_1_month                4450 non-null float64\n",
            "max_cumulative_consume_later_1_month          4476 non-null int64\n",
            "max_consume_count_later_6_month               4468 non-null float64\n",
            "railway_consume_count_last_12_month           4464 non-null float64\n",
            "pawns_auctions_trusts_consume_last_1_month    4476 non-null int64\n",
            "pawns_auctions_trusts_consume_last_6_month    4476 non-null int64\n",
            "jewelry_consume_count_last_6_month            4464 non-null float64\n",
            "status                                        4476 non-null int64\n",
            "first_transaction_day                         4474 non-null float64\n",
            "trans_day_last_12_month                       4474 non-null float64\n",
            "apply_score                                   4450 non-null float64\n",
            "apply_credibility                             4450 non-null float64\n",
            "query_org_count                               4450 non-null float64\n",
            "query_finance_count                           4450 non-null float64\n",
            "query_cash_count                              4450 non-null float64\n",
            "query_sum_count                               4450 non-null float64\n",
            "latest_query_time                             4450 non-null float64\n",
            "latest_one_month_apply                        4450 non-null float64\n",
            "latest_three_month_apply                      4450 non-null float64\n",
            "latest_six_month_apply                        4450 non-null float64\n",
            "loans_score                                   4457 non-null float64\n",
            "loans_credibility_behavior                    4457 non-null float64\n",
            "loans_count                                   4457 non-null float64\n",
            "loans_settle_count                            4457 non-null float64\n",
            "loans_overdue_count                           4457 non-null float64\n",
            "loans_org_count_behavior                      4457 non-null float64\n",
            "consfin_org_count_behavior                    4457 non-null float64\n",
            "loans_cash_count                              4457 non-null float64\n",
            "latest_one_month_loan                         4457 non-null float64\n",
            "latest_three_month_loan                       4457 non-null float64\n",
            "latest_six_month_loan                         4457 non-null float64\n",
            "history_suc_fee                               4457 non-null float64\n",
            "history_fail_fee                              4457 non-null float64\n",
            "latest_one_month_suc                          4457 non-null float64\n",
            "latest_one_month_fail                         4457 non-null float64\n",
            "loans_long_time                               4457 non-null float64\n",
            "loans_latest_time                             4457 non-null float64\n",
            "loans_credit_limit                            4457 non-null float64\n",
            "loans_credibility_limit                       4457 non-null float64\n",
            "loans_org_count_current                       4457 non-null float64\n",
            "loans_product_count                           4457 non-null float64\n",
            "loans_max_limit                               4457 non-null float64\n",
            "loans_avg_limit                               4457 non-null float64\n",
            "consfin_credit_limit                          4457 non-null float64\n",
            "consfin_credibility                           4457 non-null float64\n",
            "consfin_org_count_current                     4457 non-null float64\n",
            "consfin_product_count                         4457 non-null float64\n",
            "consfin_max_limit                             4457 non-null float64\n",
            "consfin_avg_limit                             4457 non-null float64\n",
            "latest_query_day                              4450 non-null float64\n",
            "loans_latest_day                              4457 non-null float64\n",
            "dtypes: float64(72), int64(12)\n",
            "memory usage: 2.9 MB\n"
          ],
          "name": "stdout"
        },
        {
          "output_type": "stream",
          "text": [
            "/usr/local/lib/python3.6/dist-packages/ipykernel_launcher.py:2: FutureWarning: \n",
            "The current behaviour of 'Series.argmax' is deprecated, use 'idxmax'\n",
            "instead.\n",
            "The behavior of 'argmax' will be corrected to return the positional\n",
            "maximum in the future. For now, use 'series.values.argmax' or\n",
            "'np.argmax(np.array(values))' to get the position of the maximum\n",
            "row.\n",
            "  \n"
          ],
          "name": "stderr"
        },
        {
          "output_type": "execute_result",
          "data": {
            "text/plain": [
              "'cross_consume_count_last_1_month'"
            ]
          },
          "metadata": {
            "tags": []
          },
          "execution_count": 17
        }
      ]
    },
    {
      "cell_type": "code",
      "metadata": {
        "scrolled": true,
        "id": "mvIVWaa8wXlX",
        "colab_type": "code",
        "outputId": "305c1f77-1261-4c1a-9101-7157a3d1a02a",
        "colab": {
          "base_uri": "https://localhost:8080/",
          "height": 1071
        }
      },
      "source": [
        "data[\"cross_consume_count_last_1_month\"]"
      ],
      "execution_count": 18,
      "outputs": [
        {
          "output_type": "execute_result",
          "data": {
            "text/plain": [
              "0       1.0\n",
              "1       0.0\n",
              "2       0.0\n",
              "3       0.0\n",
              "4       0.0\n",
              "5       1.0\n",
              "6       NaN\n",
              "8       2.0\n",
              "9       0.0\n",
              "10      0.0\n",
              "11      0.0\n",
              "12      4.0\n",
              "13      0.0\n",
              "14      1.0\n",
              "15      0.0\n",
              "16      0.0\n",
              "17      0.0\n",
              "18      0.0\n",
              "19      1.0\n",
              "20      2.0\n",
              "21      0.0\n",
              "22      2.0\n",
              "23      2.0\n",
              "24      0.0\n",
              "25      NaN\n",
              "26      3.0\n",
              "27      0.0\n",
              "28      0.0\n",
              "29      0.0\n",
              "30      4.0\n",
              "       ... \n",
              "4723    0.0\n",
              "4724    0.0\n",
              "4725    NaN\n",
              "4726    0.0\n",
              "4727    0.0\n",
              "4728    0.0\n",
              "4729    0.0\n",
              "4730    0.0\n",
              "4731    0.0\n",
              "4732    NaN\n",
              "4733    0.0\n",
              "4734    0.0\n",
              "4735    0.0\n",
              "4736    0.0\n",
              "4737    0.0\n",
              "4738    3.0\n",
              "4739    1.0\n",
              "4740    1.0\n",
              "4741    0.0\n",
              "4742    0.0\n",
              "4743    0.0\n",
              "4744    0.0\n",
              "4745    1.0\n",
              "4747    3.0\n",
              "4748    NaN\n",
              "4749    0.0\n",
              "4750    1.0\n",
              "4751    1.0\n",
              "4752    0.0\n",
              "4753    1.0\n",
              "Name: cross_consume_count_last_1_month, Length: 4476, dtype: float64"
            ]
          },
          "metadata": {
            "tags": []
          },
          "execution_count": 18
        }
      ]
    },
    {
      "cell_type": "code",
      "metadata": {
        "id": "hDb-Z8l2wXlZ",
        "colab_type": "code",
        "colab": {}
      },
      "source": [
        "# 找出缺失值最多的特征，cross_consume_count_last_1_month，预估含义是用户超过一个月消费的累计次数，故考虑填充为0\n",
        "data[\"cross_consume_count_last_1_month\"].fillna(value=0,inplace=True)"
      ],
      "execution_count": 0,
      "outputs": []
    },
    {
      "cell_type": "code",
      "metadata": {
        "id": "eoaTirR-wXlc",
        "colab_type": "code",
        "colab": {}
      },
      "source": [
        "# 其余缺失值考虑用均值来代替\n",
        "data.fillna(data.mean(),inplace=True)"
      ],
      "execution_count": 0,
      "outputs": []
    },
    {
      "cell_type": "markdown",
      "metadata": {
        "id": "rWquKLRhwXld",
        "colab_type": "text"
      },
      "source": [
        "## 三. 数据切分"
      ]
    },
    {
      "cell_type": "code",
      "metadata": {
        "scrolled": true,
        "id": "Vij5USPnwXle",
        "colab_type": "code",
        "colab": {}
      },
      "source": [
        "# 将标签和特征拆分\n",
        "y = data[\"status\"]\n",
        "data.drop([\"status\"], axis=1, inplace=True)\n",
        "x = data"
      ],
      "execution_count": 0,
      "outputs": []
    },
    {
      "cell_type": "code",
      "metadata": {
        "scrolled": true,
        "id": "ma4h6XUywXlf",
        "colab_type": "code",
        "outputId": "433f16ab-bb01-4db3-dce1-818696018b38",
        "colab": {
          "base_uri": "https://localhost:8080/",
          "height": 85
        }
      },
      "source": [
        "# 将数据按3:7拆分测试集和训练集\n",
        "from sklearn.model_selection import train_test_split\n",
        "\n",
        "x_train, x_test, y_train, y_test = train_test_split(x, y, test_size=0.3, random_state=2018)\n",
        "display(x_train.shape)\n",
        "display(x_test.shape)\n",
        "display(y_train.shape)\n",
        "display(y_test.shape)"
      ],
      "execution_count": 22,
      "outputs": [
        {
          "output_type": "display_data",
          "data": {
            "text/plain": [
              "(3133, 83)"
            ]
          },
          "metadata": {
            "tags": []
          }
        },
        {
          "output_type": "display_data",
          "data": {
            "text/plain": [
              "(1343, 83)"
            ]
          },
          "metadata": {
            "tags": []
          }
        },
        {
          "output_type": "display_data",
          "data": {
            "text/plain": [
              "(3133,)"
            ]
          },
          "metadata": {
            "tags": []
          }
        },
        {
          "output_type": "display_data",
          "data": {
            "text/plain": [
              "(1343,)"
            ]
          },
          "metadata": {
            "tags": []
          }
        }
      ]
    },
    {
      "cell_type": "markdown",
      "metadata": {
        "id": "lV8nYiHiwXli",
        "colab_type": "text"
      },
      "source": [
        "# 任务2：特征工程 5.13-5.14\n",
        "目标\n",
        "预测贷款用户是否会逾期。表格中 \"status\" 是结果标签：0表示未逾期，1表示逾期。\n",
        "\n",
        "要求\n",
        "1. 特征衍生\n",
        "2. 特征挑选：分别用IV值和随机森林等进行特征选择\n",
        "3. 其他特征工程处理"
      ]
    },
    {
      "cell_type": "markdown",
      "metadata": {
        "id": "gSxsOJ-0wXlj",
        "colab_type": "text"
      },
      "source": [
        "## 一. 随机森林进行特征选择"
      ]
    },
    {
      "cell_type": "code",
      "metadata": {
        "id": "0KNgclG2wXlm",
        "colab_type": "code",
        "outputId": "391b5069-5451-466b-f81e-25a7e6a0834d",
        "colab": {
          "base_uri": "https://localhost:8080/",
          "height": 136
        }
      },
      "source": [
        "# 随机森林进行特征选择\n",
        "from sklearn.ensemble import RandomForestClassifier\n",
        "forest = RandomForestClassifier(n_estimators=1000, random_state=2019)\n",
        "forest.fit(x_train, y_train)"
      ],
      "execution_count": 23,
      "outputs": [
        {
          "output_type": "execute_result",
          "data": {
            "text/plain": [
              "RandomForestClassifier(bootstrap=True, class_weight=None, criterion='gini',\n",
              "            max_depth=None, max_features='auto', max_leaf_nodes=None,\n",
              "            min_impurity_decrease=0.0, min_impurity_split=None,\n",
              "            min_samples_leaf=1, min_samples_split=2,\n",
              "            min_weight_fraction_leaf=0.0, n_estimators=1000, n_jobs=None,\n",
              "            oob_score=False, random_state=2019, verbose=0,\n",
              "            warm_start=False)"
            ]
          },
          "metadata": {
            "tags": []
          },
          "execution_count": 23
        }
      ]
    },
    {
      "cell_type": "code",
      "metadata": {
        "id": "3WXfARKwwXlo",
        "colab_type": "code",
        "outputId": "540388d3-fcd7-4f27-8a68-f6907a06a3b1",
        "colab": {
          "base_uri": "https://localhost:8080/",
          "height": 1428
        }
      },
      "source": [
        "feat_labels = data.columns\n",
        "importances =forest.feature_importances_\n",
        "indices = np.argsort(importances)[::-1]\n",
        "for f in range (x_train.shape[1]):\n",
        "    print(\"%2d) %-*s %f\" % (f + 1, 10, feat_labels[indices[f]], importances[indices[f]]))"
      ],
      "execution_count": 24,
      "outputs": [
        {
          "output_type": "stream",
          "text": [
            " 1) history_fail_fee 0.048756\n",
            " 2) trans_fail_top_count_enum_last_1_month 0.045476\n",
            " 3) loans_score 0.037631\n",
            " 4) apply_score 0.030467\n",
            " 5) latest_one_month_fail 0.029355\n",
            " 6) loans_overdue_count 0.023539\n",
            " 7) trans_amount_3_month 0.016490\n",
            " 8) max_cumulative_consume_later_1_month 0.016106\n",
            " 9) latest_query_day 0.015476\n",
            "10) loans_avg_limit 0.015357\n",
            "11) repayment_capability 0.015348\n",
            "12) abs        0.015252\n",
            "13) trans_amount_increase_rate_lately 0.015173\n",
            "14) first_transaction_day 0.014736\n",
            "15) latest_query_time 0.014623\n",
            "16) consfin_avg_limit 0.014615\n",
            "17) historical_trans_amount 0.014606\n",
            "18) avg_price_last_12_month 0.014443\n",
            "19) first_transaction_time 0.014205\n",
            "20) consfin_credit_limit 0.013508\n",
            "21) historical_trans_day 0.013403\n",
            "22) pawns_auctions_trusts_consume_last_6_month 0.013393\n",
            "23) trans_activity_day 0.013350\n",
            "24) loans_long_time 0.013197\n",
            "25) history_suc_fee 0.013087\n",
            "26) loans_latest_day 0.013012\n",
            "27) loans_latest_time 0.012875\n",
            "28) trans_day_last_12_month 0.012810\n",
            "29) trans_days_interval_filter 0.012800\n",
            "30) trans_fail_top_count_enum_last_12_month 0.012766\n",
            "31) apply_credibility 0.012093\n",
            "32) trans_fail_top_count_enum_last_6_month 0.012057\n",
            "33) consfin_max_limit 0.011960\n",
            "34) loans_settle_count 0.011669\n",
            "35) loans_max_limit 0.011541\n",
            "36) loans_credit_limit 0.011482\n",
            "37) number_of_trans_from_2011 0.011406\n",
            "38) trans_days_interval 0.011321\n",
            "39) consume_top_time_last_6_month 0.011159\n",
            "40) trans_top_time_last_6_month 0.011085\n",
            "41) transd_mcc 0.010853\n",
            "42) loans_count 0.010814\n",
            "43) rank_trad_1_month 0.010726\n",
            "44) trans_top_time_last_1_month 0.010590\n",
            "45) query_sum_count 0.010553\n",
            "46) latest_six_month_apply 0.009894\n",
            "47) trans_activity_month 0.009861\n",
            "48) latest_one_month_suc 0.009841\n",
            "49) consume_mini_time_last_1_month 0.009788\n",
            "50) latest_six_month_loan 0.009735\n",
            "51) latest_three_month_apply 0.009727\n",
            "52) consume_top_time_last_1_month 0.009643\n",
            "53) take_amount_in_later_12_month_highest 0.009637\n",
            "54) query_org_count 0.009609\n",
            "55) middle_volume_percent 0.009393\n",
            "56) consfin_credibility 0.009292\n",
            "57) loans_org_count_behavior 0.009154\n",
            "58) loans_credibility_behavior 0.009138\n",
            "59) avg_price_top_last_12_valid_month 0.009003\n",
            "60) loans_credibility_limit 0.008951\n",
            "61) query_finance_count 0.008853\n",
            "62) max_consume_count_later_6_month 0.008446\n",
            "63) pawns_auctions_trusts_consume_last_1_month 0.008444\n",
            "64) latest_one_month_apply 0.008258\n",
            "65) latest_three_month_loan 0.008180\n",
            "66) loans_product_count 0.007872\n",
            "67) query_cash_count 0.007710\n",
            "68) loans_cash_count 0.007568\n",
            "69) loans_org_count_current 0.007474\n",
            "70) consfin_product_count 0.007419\n",
            "71) top_trans_count_last_1_month 0.007190\n",
            "72) avg_consume_less_12_valid_month 0.007066\n",
            "73) consfin_org_count_behavior 0.006798\n",
            "74) low_volume_percent 0.006792\n",
            "75) consfin_org_count_current 0.006665\n",
            "76) regional_mobility 0.004474\n",
            "77) latest_one_month_loan 0.003534\n",
            "78) cross_consume_count_last_1_month 0.003233\n",
            "79) reg_preference_for_trad 0.002663\n",
            "80) student_feature 0.001871\n",
            "81) railway_consume_count_last_12_month 0.001077\n",
            "82) jewelry_consume_count_last_6_month 0.000299\n",
            "83) is_high_user 0.000291\n"
          ],
          "name": "stdout"
        }
      ]
    },
    {
      "cell_type": "code",
      "metadata": {
        "scrolled": true,
        "id": "92IEWxYPwXlr",
        "colab_type": "code",
        "outputId": "43d97938-eb5f-427a-f8cd-9117be65c4fd",
        "colab": {
          "base_uri": "https://localhost:8080/",
          "height": 833
        }
      },
      "source": [
        "display(importances.shape)\n",
        "\n",
        "threshold = 0.01\n",
        "x_selected = list(x_train.columns[importances> threshold])\n",
        "display(x_selected)\n",
        "x_train_sel = x_train[x_selected]\n",
        "display(x_train_sel.shape)\n",
        "x_test_sel = x_test[x_selected]\n",
        "display(x_test_sel.shape)"
      ],
      "execution_count": 25,
      "outputs": [
        {
          "output_type": "display_data",
          "data": {
            "text/plain": [
              "(83,)"
            ]
          },
          "metadata": {
            "tags": []
          }
        },
        {
          "output_type": "display_data",
          "data": {
            "text/plain": [
              "['trans_amount_increase_rate_lately',\n",
              " 'trans_activity_day',\n",
              " 'transd_mcc',\n",
              " 'trans_days_interval_filter',\n",
              " 'trans_days_interval',\n",
              " 'repayment_capability',\n",
              " 'number_of_trans_from_2011',\n",
              " 'first_transaction_time',\n",
              " 'historical_trans_amount',\n",
              " 'historical_trans_day',\n",
              " 'rank_trad_1_month',\n",
              " 'trans_amount_3_month',\n",
              " 'abs',\n",
              " 'avg_price_last_12_month',\n",
              " 'trans_top_time_last_1_month',\n",
              " 'trans_top_time_last_6_month',\n",
              " 'consume_top_time_last_6_month',\n",
              " 'trans_fail_top_count_enum_last_1_month',\n",
              " 'trans_fail_top_count_enum_last_6_month',\n",
              " 'trans_fail_top_count_enum_last_12_month',\n",
              " 'max_cumulative_consume_later_1_month',\n",
              " 'pawns_auctions_trusts_consume_last_6_month',\n",
              " 'first_transaction_day',\n",
              " 'trans_day_last_12_month',\n",
              " 'apply_score',\n",
              " 'apply_credibility',\n",
              " 'query_sum_count',\n",
              " 'latest_query_time',\n",
              " 'loans_score',\n",
              " 'loans_count',\n",
              " 'loans_settle_count',\n",
              " 'loans_overdue_count',\n",
              " 'history_suc_fee',\n",
              " 'history_fail_fee',\n",
              " 'latest_one_month_fail',\n",
              " 'loans_long_time',\n",
              " 'loans_latest_time',\n",
              " 'loans_credit_limit',\n",
              " 'loans_max_limit',\n",
              " 'loans_avg_limit',\n",
              " 'consfin_credit_limit',\n",
              " 'consfin_max_limit',\n",
              " 'consfin_avg_limit',\n",
              " 'latest_query_day',\n",
              " 'loans_latest_day']"
            ]
          },
          "metadata": {
            "tags": []
          }
        },
        {
          "output_type": "display_data",
          "data": {
            "text/plain": [
              "(3133, 45)"
            ]
          },
          "metadata": {
            "tags": []
          }
        },
        {
          "output_type": "display_data",
          "data": {
            "text/plain": [
              "(1343, 45)"
            ]
          },
          "metadata": {
            "tags": []
          }
        }
      ]
    },
    {
      "cell_type": "markdown",
      "metadata": {
        "id": "xvl_G8N1wXlu",
        "colab_type": "text"
      },
      "source": [
        "## 二. IV值进行特征选择"
      ]
    },
    {
      "cell_type": "code",
      "metadata": {
        "id": "28E7QIy8wXlu",
        "colab_type": "code",
        "colab": {}
      },
      "source": [
        "# 参考别的同学代码，还得再研究研究\n",
        "import math\n",
        "from sklearn.utils.multiclass import type_of_target\n",
        "from scipy import stats\n",
        "#求woe值和iv值\n",
        "def woe(X, y, event):\n",
        "    res_woe = []  #列表存放woe字典\n",
        "    res_iv = []  #列表存放iv\n",
        "    X1 = feature_discretion(X) #对连续型特征进行处理\n",
        "    for i in range(0, X1.shape[-1]):  #遍历所有特征\n",
        "        x = X1[:, i]  #单个特征\n",
        "        woe_dict, iv1 = woe_single_x(x, y, event)  #计算单个特征的woe值\n",
        "        res_woe.append(woe_dict)\n",
        "        res_iv.append(iv1)\n",
        "    return np.array(res_woe), np.array(res_iv)  #返回数组\n",
        "\n",
        "#求单个特征的woe值\n",
        "def woe_single_x(x, y, event):\n",
        "    event_total, non_event_total = count_binary(y, event) #计算好人坏人总数\n",
        "    x_labels = np.unique(x) #特征中的分段\n",
        "    woe_dict = {}  #存放每个分段的名称 以及 其对应的woe值\n",
        "    iv = 0\n",
        "    for x1 in x_labels: #遍历每个分段\n",
        "        y1 = y[np.where(x == x1)[0]]\n",
        "        event_count, non_event_count = count_binary(y1, event=event)\n",
        "        rate_event = 1.0 * event_count / event_total\n",
        "        rate_non_event = 1.0 * non_event_count / non_event_total\n",
        "        #woe无穷大时处理\n",
        "        if rate_event == 0:\n",
        "            print()#print(\"{'\",x1,\"'}\"+\":全是好人\") #只输出不做处理\n",
        "        elif rate_non_event == 0:\n",
        "            print()#print(\"{'\",x1,\"'}\"+\":全是坏人\")\n",
        "        else:\n",
        "            woe1 = math.log(rate_event / rate_non_event)\n",
        "            woe_dict[x1] = woe1  \n",
        "            iv += (rate_event - rate_non_event) * woe1\n",
        "    return woe_dict, iv\n",
        "\n",
        "#计算个数\n",
        "def count_binary(a, event):\n",
        "    event_count = (a == event).sum()\n",
        "    non_event_count = a.shape[-1] - event_count\n",
        "    return event_count, non_event_count\n",
        "\n",
        "#判断特征数据是否为离散型\n",
        "def feature_discretion(X):\n",
        "    temp = []\n",
        "    for i in range(0, X.shape[-1]):\n",
        "        x = X[:, i]\n",
        "        x_type = type_of_target(x)\n",
        "        if pd.Series(list(x)).dtype != 'O':\n",
        "            x1 = discrete(x)\n",
        "            temp.append(x1)\n",
        "        else:\n",
        "            temp.append(x)\n",
        "    return np.array(temp).T\n",
        "\n",
        "#对连续型特征进行离散化\n",
        "def discrete(x):\n",
        "    res = np.array([0] * x.shape[-1], dtype=int)\n",
        "    for i in range(5):\n",
        "        point1 = stats.scoreatpercentile(x, i * 20)\n",
        "        point2 = stats.scoreatpercentile(x, (i + 1) * 20)\n",
        "        x1 = x[np.where((x >= point1) & (x <= point2))]\n",
        "        mask = np.in1d(x, x1)\n",
        "        res[mask] = (i + 1)\n",
        "    return res"
      ],
      "execution_count": 0,
      "outputs": []
    },
    {
      "cell_type": "code",
      "metadata": {
        "scrolled": true,
        "id": "S5aMIjTjwXlw",
        "colab_type": "code",
        "outputId": "bf31406d-f970-41c9-9eb7-87fac323fd4d",
        "colab": {
          "base_uri": "https://localhost:8080/",
          "height": 1462
        }
      },
      "source": [
        "a, b = woe(x_train.values, y_train.values, 1)\n",
        "dic = dict(zip(x_train.columns, b))\n",
        "dic_sort= sorted(dic.items(),key = lambda x:x[1],reverse = True)\n",
        "display(dic_sort)"
      ],
      "execution_count": 27,
      "outputs": [
        {
          "output_type": "stream",
          "text": [
            "\n",
            "\n"
          ],
          "name": "stdout"
        },
        {
          "output_type": "display_data",
          "data": {
            "text/plain": [
              "[('trans_fail_top_count_enum_last_1_month', 0.5248772375361611),\n",
              " ('history_fail_fee', 0.5182986633722628),\n",
              " ('loans_score', 0.452489516316483),\n",
              " ('apply_score', 0.35559944136124455),\n",
              " ('loans_overdue_count', 0.34429411897272244),\n",
              " ('trans_fail_top_count_enum_last_12_month', 0.2102113960316464),\n",
              " ('trans_fail_top_count_enum_last_6_month', 0.20334118478792862),\n",
              " ('latest_one_month_fail', 0.1676951302166592),\n",
              " ('latest_one_month_suc', 0.13658960583308047),\n",
              " ('rank_trad_1_month', 0.08850389928144903),\n",
              " ('max_cumulative_consume_later_1_month', 0.08709447156340241),\n",
              " ('trans_day_last_12_month', 0.07519987825898371),\n",
              " ('trans_top_time_last_1_month', 0.07200473738156228),\n",
              " ('top_trans_count_last_1_month', 0.05925078215773383),\n",
              " ('pawns_auctions_trusts_consume_last_1_month', 0.05710932443358767),\n",
              " ('consfin_avg_limit', 0.04623664582308415),\n",
              " ('latest_query_time', 0.04435584273650805),\n",
              " ('latest_query_day', 0.03964158427506999),\n",
              " ('consfin_credit_limit', 0.03846353095825428),\n",
              " ('trans_amount_3_month', 0.03613710613665517),\n",
              " ('consume_top_time_last_1_month', 0.034625001098685916),\n",
              " ('latest_one_month_apply', 0.03413737857726804),\n",
              " ('trans_days_interval', 0.032560494841575485),\n",
              " ('avg_price_top_last_12_valid_month', 0.031079656320995484),\n",
              " ('latest_six_month_loan', 0.027326674511148372),\n",
              " ('latest_three_month_loan', 0.026862251104747728),\n",
              " ('avg_price_last_12_month', 0.026466227882690287),\n",
              " ('query_cash_count', 0.025662803002254226),\n",
              " ('trans_amount_increase_rate_lately', 0.023784085602847026),\n",
              " ('consfin_max_limit', 0.022894168895154804),\n",
              " ('loans_credit_limit', 0.019105144855110622),\n",
              " ('number_of_trans_from_2011', 0.018424967616676193),\n",
              " ('loans_max_limit', 0.017789921416510625),\n",
              " ('historical_trans_amount', 0.01772951741623687),\n",
              " ('pawns_auctions_trusts_consume_last_6_month', 0.017106423823775092),\n",
              " ('latest_three_month_apply', 0.017080121304326283),\n",
              " ('consfin_product_count', 0.016733585001389082),\n",
              " ('first_transaction_time', 0.015059672191446657),\n",
              " ('low_volume_percent', 0.015048944792159744),\n",
              " ('first_transaction_day', 0.014871134476672463),\n",
              " ('cross_consume_count_last_1_month', 0.014737033277150221),\n",
              " ('loans_count', 0.013530871851163152),\n",
              " ('consfin_org_count_behavior', 0.01332009629762118),\n",
              " ('consfin_org_count_current', 0.01332009629762118),\n",
              " ('history_suc_fee', 0.012920138591212799),\n",
              " ('consume_mini_time_last_1_month', 0.012589897073017782),\n",
              " ('trans_activity_day', 0.011970320198504483),\n",
              " ('loans_avg_limit', 0.011955048870861283),\n",
              " ('loans_latest_time', 0.01175834524600114),\n",
              " ('loans_org_count_behavior', 0.011661026874189157),\n",
              " ('middle_volume_percent', 0.010822028707659352),\n",
              " ('loans_long_time', 0.010814704169246098),\n",
              " ('loans_cash_count', 0.01023040215121564),\n",
              " ('loans_org_count_current', 0.01023040215121564),\n",
              " ('trans_top_time_last_6_month', 0.00980819605514745),\n",
              " ('query_finance_count', 0.00972361586362725),\n",
              " ('historical_trans_day', 0.00897654627479034),\n",
              " ('consume_top_time_last_6_month', 0.008815049670325542),\n",
              " ('max_consume_count_later_6_month', 0.008746922528183994),\n",
              " ('loans_latest_day', 0.008711071898486768),\n",
              " ('transd_mcc', 0.008163966469001943),\n",
              " ('trans_activity_month', 0.00813566274480798),\n",
              " ('loans_product_count', 0.008131898302013335),\n",
              " ('apply_credibility', 0.007697132059971251),\n",
              " ('abs', 0.0074803994110067915),\n",
              " ('query_org_count', 0.007439801510931561),\n",
              " ('trans_days_interval_filter', 0.0068744867372175075),\n",
              " ('take_amount_in_later_12_month_highest', 0.004908038770557543),\n",
              " ('avg_consume_less_12_valid_month', 0.004424762718105233),\n",
              " ('loans_settle_count', 0.004335454147359518),\n",
              " ('latest_one_month_loan', 0.004015135389527376),\n",
              " ('consfin_credibility', 0.003957011328495726),\n",
              " ('latest_six_month_apply', 0.0038624584084030436),\n",
              " ('query_sum_count', 0.0035152708955272683),\n",
              " ('regional_mobility', 0.0034506262641538403),\n",
              " ('loans_credibility_limit', 0.0019249850572735689),\n",
              " ('repayment_capability', 0.001767443773842792),\n",
              " ('loans_credibility_behavior', 0.0014273021149960583),\n",
              " ('student_feature', 0.0011100964344815194),\n",
              " ('reg_preference_for_trad', 0.00017815323672663928),\n",
              " ('is_high_user', 0.0),\n",
              " ('railway_consume_count_last_12_month', 0.0),\n",
              " ('jewelry_consume_count_last_6_month', 0.0)]"
            ]
          },
          "metadata": {
            "tags": []
          }
        }
      ]
    },
    {
      "cell_type": "code",
      "metadata": {
        "id": "jvrIowrRwXl2",
        "colab_type": "code",
        "outputId": "aac73d21-9587-4d5b-d60f-affe9dacbf81",
        "colab": {
          "base_uri": "https://localhost:8080/",
          "height": 173
        }
      },
      "source": [
        "# 数据的标准化处理\n",
        "from sklearn.preprocessing import StandardScaler\n",
        "sc = StandardScaler()\n",
        "x_train_sel_sc = sc.fit_transform(x_train_sel)\n",
        "x_test_sel_sc = sc.fit_transform(x_test_sel)"
      ],
      "execution_count": 28,
      "outputs": [
        {
          "output_type": "stream",
          "text": [
            "/usr/local/lib/python3.6/dist-packages/sklearn/preprocessing/data.py:645: DataConversionWarning: Data with input dtype int64, float64 were all converted to float64 by StandardScaler.\n",
            "  return self.partial_fit(X, y)\n",
            "/usr/local/lib/python3.6/dist-packages/sklearn/base.py:464: DataConversionWarning: Data with input dtype int64, float64 were all converted to float64 by StandardScaler.\n",
            "  return self.fit(X, **fit_params).transform(X)\n",
            "/usr/local/lib/python3.6/dist-packages/sklearn/preprocessing/data.py:645: DataConversionWarning: Data with input dtype int64, float64 were all converted to float64 by StandardScaler.\n",
            "  return self.partial_fit(X, y)\n",
            "/usr/local/lib/python3.6/dist-packages/sklearn/base.py:464: DataConversionWarning: Data with input dtype int64, float64 were all converted to float64 by StandardScaler.\n",
            "  return self.fit(X, **fit_params).transform(X)\n"
          ],
          "name": "stderr"
        }
      ]
    },
    {
      "cell_type": "markdown",
      "metadata": {
        "id": "hLnjVtUKwXlz",
        "colab_type": "text"
      },
      "source": [
        "# 任务3： 模型构建 5.15-5.16\n",
        "目标 模型构建，评价方式考虑：accuracy、precision，recall和F1-score、auc值的评分表格\n",
        "\n",
        "要求：\n",
        "1. 用逻辑回归、svm和决策树；\n",
        "2. 随机森林和XGBoost进行模型构建\n",
        "\n",
        "# 任务4：模型评价 5.17-5.18\n",
        "增加评价指标ROC曲线。\n",
        "参考文档：[sklearn.metrics.roc_curve](https://scikit-learn.org/stable/modules/generated/sklearn.metrics.roc_curve.html)\n",
        "\n",
        "# 任务5：模型调优 5.19-5.21\n",
        "使用网格搜索法对5个模型进行调优（调参时采用五折交叉验证的方式），并进行模型评估。"
      ]
    },
    {
      "cell_type": "code",
      "metadata": {
        "id": "NxokLB14wXl0",
        "colab_type": "code",
        "colab": {}
      },
      "source": [
        "from sklearn.metrics import classification_report, accuracy_score, roc_curve\n",
        "import matplotlib as mpl\n",
        "import matplotlib.pyplot as plt\n",
        "from sklearn.model_selection import GridSearchCV"
      ],
      "execution_count": 0,
      "outputs": []
    },
    {
      "cell_type": "code",
      "metadata": {
        "id": "Y48Pe-emhSJx",
        "colab_type": "code",
        "colab": {}
      },
      "source": [
        "import warnings\n",
        "warnings.filterwarnings(\"ignore\")"
      ],
      "execution_count": 0,
      "outputs": []
    },
    {
      "cell_type": "markdown",
      "metadata": {
        "id": "KAXi1BZowXl2",
        "colab_type": "text"
      },
      "source": [
        "## 一、逻辑回归"
      ]
    },
    {
      "cell_type": "code",
      "metadata": {
        "id": "Ask-KnpgwXl6",
        "colab_type": "code",
        "outputId": "f87655fc-593d-4549-f5cf-741415cfcc42",
        "colab": {
          "base_uri": "https://localhost:8080/",
          "height": 204
        }
      },
      "source": [
        "from sklearn.linear_model import LogisticRegression\n",
        "lr = LogisticRegression()\n",
        "lr_parameters = {'penalty':['l1', 'l2'], 'C':[0.001, 0.01, 0.1, 1, 10, 100, 1000]}\n",
        "lr_gridsearch = GridSearchCV(lr, param_grid=lr_parameters, cv=5)\n",
        "lr_gridsearch.fit(x_train_sel_sc, y_train)\n",
        "print(lr_gridsearch.best_params_)\n",
        "y_pre_lr = lr_gridsearch.predict(x_test_sel_sc)\n",
        "display(accuracy_score(y_pre_lr, y_test))\n",
        "print(classification_report(y_pre_lr, y_test))"
      ],
      "execution_count": 31,
      "outputs": [
        {
          "output_type": "stream",
          "text": [
            "{'C': 0.001, 'penalty': 'l2'}\n"
          ],
          "name": "stdout"
        },
        {
          "output_type": "display_data",
          "data": {
            "text/plain": [
              "0.7810871183916605"
            ]
          },
          "metadata": {
            "tags": []
          }
        },
        {
          "output_type": "stream",
          "text": [
            "              precision    recall  f1-score   support\n",
            "\n",
            "           0       0.91      0.81      0.86      1119\n",
            "           1       0.40      0.62      0.48       224\n",
            "\n",
            "   micro avg       0.78      0.78      0.78      1343\n",
            "   macro avg       0.66      0.72      0.67      1343\n",
            "weighted avg       0.83      0.78      0.80      1343\n",
            "\n"
          ],
          "name": "stdout"
        }
      ]
    },
    {
      "cell_type": "code",
      "metadata": {
        "id": "lTzp5gAZX6qK",
        "colab_type": "code",
        "outputId": "fbea4540-5805-495b-8386-6faa65724fb3",
        "colab": {
          "base_uri": "https://localhost:8080/",
          "height": 295
        }
      },
      "source": [
        "plt.plot([0, 1], [0, 1], 'k--')\n",
        "fpr_lr, tpr_lr, _  = roc_curve(y_test, y_pre_lr)\n",
        "plt.plot(fpr_lr, tpr_lr, label='LR ROC')\n",
        "plt.xlabel('False positive rate')\n",
        "plt.ylabel('True positive rate')\n",
        "plt.title('LR ROC curve')\n",
        "plt.legend(loc='best')\n",
        "plt.show()"
      ],
      "execution_count": 32,
      "outputs": [
        {
          "output_type": "display_data",
          "data": {
            "image/png": "[encoded data removed]",
            "text/plain": [
              "<Figure size 432x288 with 1 Axes>"
            ]
          },
          "metadata": {
            "tags": []
          }
        }
      ]
    },
    {
      "cell_type": "markdown",
      "metadata": {
        "id": "Bi23ttF_wXl9",
        "colab_type": "text"
      },
      "source": [
        "## 二. SVM"
      ]
    },
    {
      "cell_type": "code",
      "metadata": {
        "id": "MdnsdRiRwXl-",
        "colab_type": "code",
        "outputId": "6c65fe7c-9d32-44b5-93fa-8b1b45c90814",
        "colab": {
          "base_uri": "https://localhost:8080/",
          "height": 204
        }
      },
      "source": [
        "from sklearn.svm import SVC\n",
        "# 'linear', 'poly', 'rbf', 'sigmoid'\n",
        "svc = SVC()\n",
        "svc_parameters = {'kernel':['linear', 'poly', 'rbf', 'sigmoid'], 'C':[0.001, 0.01, 0.1, 1, 10, 100]}\n",
        "svc_gridsearch = GridSearchCV(svc, param_grid=svc_parameters, cv=5)\n",
        "svc_gridsearch.fit(x_train_sel_sc, y_train)\n",
        "print(svc_gridsearch.best_params_)\n",
        "svc_gridsearch.fit(x_train_sel_sc, y_train)\n",
        "y_pre_svc = svc_gridsearch.predict(x_test_sel_sc)\n",
        "display(accuracy_score(y_pre_svc, y_test))\n",
        "print(classification_report(y_pre_svc, y_test))"
      ],
      "execution_count": 33,
      "outputs": [
        {
          "output_type": "stream",
          "text": [
            "{'C': 1, 'kernel': 'rbf'}\n"
          ],
          "name": "stdout"
        },
        {
          "output_type": "display_data",
          "data": {
            "text/plain": [
              "0.7922561429635145"
            ]
          },
          "metadata": {
            "tags": []
          }
        },
        {
          "output_type": "stream",
          "text": [
            "              precision    recall  f1-score   support\n",
            "\n",
            "           0       0.97      0.79      0.87      1222\n",
            "           1       0.27      0.78      0.40       121\n",
            "\n",
            "   micro avg       0.79      0.79      0.79      1343\n",
            "   macro avg       0.62      0.79      0.64      1343\n",
            "weighted avg       0.91      0.79      0.83      1343\n",
            "\n"
          ],
          "name": "stdout"
        }
      ]
    },
    {
      "cell_type": "code",
      "metadata": {
        "id": "IzJqBO5iZkO3",
        "colab_type": "code",
        "outputId": "a0035f3a-dc68-4bf3-8d00-3b15fb806851",
        "colab": {
          "base_uri": "https://localhost:8080/",
          "height": 295
        }
      },
      "source": [
        "plt.plot([0, 1], [0, 1], 'k--')\n",
        "fpr_svc, tpr_svc, _  = roc_curve(y_test, y_pre_svc)\n",
        "plt.plot(fpr_svc, tpr_svc, label='SVC ROC')\n",
        "plt.xlabel('False positive rate')\n",
        "plt.ylabel('True positive rate')\n",
        "plt.title('SVC ROC curve')\n",
        "plt.legend(loc='best')\n",
        "plt.show()"
      ],
      "execution_count": 34,
      "outputs": [
        {
          "output_type": "display_data",
          "data": {
            "image/png": "[encoded data removed]",
            "text/plain": [
              "<Figure size 432x288 with 1 Axes>"
            ]
          },
          "metadata": {
            "tags": []
          }
        }
      ]
    },
    {
      "cell_type": "markdown",
      "metadata": {
        "id": "Ok8knBygwXmA",
        "colab_type": "text"
      },
      "source": [
        "## 三. 决策树"
      ]
    },
    {
      "cell_type": "code",
      "metadata": {
        "id": "y9JASOq7wXmA",
        "colab_type": "code",
        "outputId": "0c1d46dc-b944-410d-9fff-eac93708b049",
        "colab": {
          "base_uri": "https://localhost:8080/",
          "height": 204
        }
      },
      "source": [
        "from sklearn.tree import DecisionTreeClassifier\n",
        "dtc = DecisionTreeClassifier()\n",
        "dtc_parameters = {'criterion':['gini', 'entropy'], 'max_depth':range(1,100)}\n",
        "dtc_gridsearch = GridSearchCV(dtc, param_grid=dtc_parameters, cv=5)\n",
        "dtc_gridsearch.fit(x_train_sel_sc, y_train)\n",
        "print(dtc_gridsearch.best_params_)\n",
        "dtc_gridsearch.fit(x_train_sel_sc, y_train)\n",
        "y_pre_dtc = dtc_gridsearch.predict(x_test_sel_sc)\n",
        "display(accuracy_score(y_pre_dtc, y_test))\n",
        "print(classification_report(y_pre_dtc, y_test))"
      ],
      "execution_count": 35,
      "outputs": [
        {
          "output_type": "stream",
          "text": [
            "{'criterion': 'gini', 'max_depth': 3}\n"
          ],
          "name": "stdout"
        },
        {
          "output_type": "display_data",
          "data": {
            "text/plain": [
              "0.7728965003723008"
            ]
          },
          "metadata": {
            "tags": []
          }
        },
        {
          "output_type": "stream",
          "text": [
            "              precision    recall  f1-score   support\n",
            "\n",
            "           0       0.96      0.78      0.86      1218\n",
            "           1       0.24      0.66      0.35       125\n",
            "\n",
            "   micro avg       0.77      0.77      0.77      1343\n",
            "   macro avg       0.60      0.72      0.61      1343\n",
            "weighted avg       0.89      0.77      0.81      1343\n",
            "\n"
          ],
          "name": "stdout"
        }
      ]
    },
    {
      "cell_type": "code",
      "metadata": {
        "id": "txrA7XV6Z3sh",
        "colab_type": "code",
        "outputId": "d2916d1f-b8bb-4018-8c41-335ef90828c8",
        "colab": {
          "base_uri": "https://localhost:8080/",
          "height": 295
        }
      },
      "source": [
        "plt.plot([0, 1], [0, 1], 'k--')\n",
        "fpr_dtc, tpr_dtc, _  = roc_curve(y_test, y_pre_dtc)\n",
        "plt.plot(fpr_dtc, tpr_dtc, label='DTC ROC')\n",
        "plt.xlabel('False positive rate')\n",
        "plt.ylabel('True positive rate')\n",
        "plt.title('DecisionTree ROC curve')\n",
        "plt.legend(loc='best')\n",
        "plt.show()"
      ],
      "execution_count": 36,
      "outputs": [
        {
          "output_type": "display_data",
          "data": {
            "image/png": "[encoded data removed]",
            "text/plain": [
              "<Figure size 432x288 with 1 Axes>"
            ]
          },
          "metadata": {
            "tags": []
          }
        }
      ]
    },
    {
      "cell_type": "markdown",
      "metadata": {
        "id": "D9XEMawYwXmD",
        "colab_type": "text"
      },
      "source": [
        "## 四. 随机森林"
      ]
    },
    {
      "cell_type": "code",
      "metadata": {
        "id": "YW79cKaAwXmE",
        "colab_type": "code",
        "outputId": "92f61a92-a305-4b4d-ca79-3ededca72123",
        "colab": {
          "base_uri": "https://localhost:8080/",
          "height": 204
        }
      },
      "source": [
        "rf = RandomForestClassifier()\n",
        "rf_parameters = {'criterion':['gini', 'entropy'], 'max_depth':range(1,100)}\n",
        "rf_gridsearch = GridSearchCV(rf, param_grid=rf_parameters, cv=5)\n",
        "rf_gridsearch.fit(x_train_sel_sc, y_train)\n",
        "print(rf_gridsearch.best_params_)\n",
        "rf_gridsearch.fit(x_train_sel_sc, y_train)\n",
        "y_pre_rf = rf_gridsearch.predict(x_test_sel_sc)\n",
        "display(accuracy_score(y_pre_rf, y_test))\n",
        "print(classification_report(y_pre_rf, y_test))"
      ],
      "execution_count": 37,
      "outputs": [
        {
          "output_type": "stream",
          "text": [
            "{'criterion': 'gini', 'max_depth': 61}\n"
          ],
          "name": "stdout"
        },
        {
          "output_type": "display_data",
          "data": {
            "text/plain": [
              "0.7803425167535368"
            ]
          },
          "metadata": {
            "tags": []
          }
        },
        {
          "output_type": "stream",
          "text": [
            "              precision    recall  f1-score   support\n",
            "\n",
            "           0       0.97      0.78      0.87      1236\n",
            "           1       0.23      0.74      0.35       107\n",
            "\n",
            "   micro avg       0.78      0.78      0.78      1343\n",
            "   macro avg       0.60      0.76      0.61      1343\n",
            "weighted avg       0.91      0.78      0.83      1343\n",
            "\n"
          ],
          "name": "stdout"
        }
      ]
    },
    {
      "cell_type": "code",
      "metadata": {
        "id": "yOw_y8O0aIlm",
        "colab_type": "code",
        "outputId": "41880256-ef4d-4a6f-efd7-8d626289d022",
        "colab": {
          "base_uri": "https://localhost:8080/",
          "height": 295
        }
      },
      "source": [
        "plt.plot([0, 1], [0, 1], 'k--')\n",
        "fpr_rf, tpr_rf, _  = roc_curve(y_test, y_pre_rf)\n",
        "plt.plot(fpr_rf, tpr_rf, label='RF ROC')\n",
        "plt.xlabel('False positive rate')\n",
        "plt.ylabel('True positive rate')\n",
        "plt.title('RandomForest ROC curve')\n",
        "plt.legend(loc='best')\n",
        "plt.show()"
      ],
      "execution_count": 38,
      "outputs": [
        {
          "output_type": "display_data",
          "data": {
            "image/png": "[encoded data removed]",
            "text/plain": [
              "<Figure size 432x288 with 1 Axes>"
            ]
          },
          "metadata": {
            "tags": []
          }
        }
      ]
    },
    {
      "cell_type": "markdown",
      "metadata": {
        "id": "StSdp5CNwXmH",
        "colab_type": "text"
      },
      "source": [
        "## 五. XGBoost"
      ]
    },
    {
      "cell_type": "code",
      "metadata": {
        "id": "wwGCIDlowXmI",
        "colab_type": "code",
        "outputId": "d777291a-825b-4690-bf6e-fa7c3c8037f0",
        "colab": {
          "base_uri": "https://localhost:8080/",
          "height": 204
        }
      },
      "source": [
        "from xgboost import XGBClassifier\n",
        "xgb = XGBClassifier()\n",
        "xgb_parameters = {'max_depth':range(3,10,2),'min_child_weight':range(1,6,2)}\n",
        "xgb_gridsearch = GridSearchCV(xgb, param_grid=xgb_parameters, cv=5)\n",
        "xgb_gridsearch.fit(x_train_sel_sc, y_train)\n",
        "print(xgb_gridsearch.best_params_)\n",
        "xgb_gridsearch.fit(x_train_sel_sc, y_train)\n",
        "y_pre_xgb = xgb_gridsearch.predict(x_test_sel_sc)\n",
        "display(accuracy_score(y_pre_xgb, y_test))\n",
        "print(classification_report(y_pre_xgb, y_test))"
      ],
      "execution_count": 41,
      "outputs": [
        {
          "output_type": "stream",
          "text": [
            "{'max_depth': 5, 'min_child_weight': 1}\n"
          ],
          "name": "stdout"
        },
        {
          "output_type": "display_data",
          "data": {
            "text/plain": [
              "0.7781087118391661"
            ]
          },
          "metadata": {
            "tags": []
          }
        },
        {
          "output_type": "stream",
          "text": [
            "              precision    recall  f1-score   support\n",
            "\n",
            "           0       0.97      0.78      0.87      1235\n",
            "           1       0.23      0.72      0.34       108\n",
            "\n",
            "   micro avg       0.78      0.78      0.78      1343\n",
            "   macro avg       0.60      0.75      0.61      1343\n",
            "weighted avg       0.91      0.78      0.82      1343\n",
            "\n"
          ],
          "name": "stdout"
        }
      ]
    },
    {
      "cell_type": "code",
      "metadata": {
        "id": "DDEWzAj-abpa",
        "colab_type": "code",
        "outputId": "af1a5370-e71a-49d9-9966-c316c0090776",
        "colab": {
          "base_uri": "https://localhost:8080/",
          "height": 295
        }
      },
      "source": [
        "plt.plot([0, 1], [0, 1], 'k--')\n",
        "fpr_xgb, tpr_xgb, _  = roc_curve(y_test, y_pre_xgb)\n",
        "plt.plot(fpr_xgb, tpr_xgb, label='XGBoost ROC')\n",
        "plt.xlabel('False positive rate')\n",
        "plt.ylabel('True positive rate')\n",
        "plt.title('XGBoost ROC curve')\n",
        "plt.legend(loc='best')\n",
        "plt.show()"
      ],
      "execution_count": 42,
      "outputs": [
        {
          "output_type": "display_data",
          "data": {
            "image/png": "[encoded data removed]",
            "text/plain": [
              "<Figure size 432x288 with 1 Axes>"
            ]
          },
          "metadata": {
            "tags": []
          }
        }
      ]
    }
  ]
}