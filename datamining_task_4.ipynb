{
  "nbformat": 4,
  "nbformat_minor": 0,
  "metadata": {
    "colab": {
      "name": "datamining_task_4.ipynb",
      "version": "0.3.2",
      "provenance": [],
      "toc_visible": true
    },
    "language_info": {
      "codemirror_mode": {
        "name": "ipython",
        "version": 3
      },
      "file_extension": ".py",
      "mimetype": "text/x-python",
      "name": "python",
      "nbconvert_exporter": "python",
      "pygments_lexer": "ipython3",
      "version": "3.7.1"
    },
    "kernelspec": {
      "display_name": "Python 3",
      "language": "python",
      "name": "python3"
    }
  },
  "cells": [
    {
      "cell_type": "markdown",
      "metadata": {
        "id": "bbYqXEHKwXkb",
        "colab_type": "text"
      },
      "source": [
        "# 任务1：对数据进行探索和分析 5.11-5.12\n",
        "数据集是金融数据（非原始数据，已经处理过了），我们要做的是预测贷款用户是否会逾期。\n",
        "表格中 \"status\" 是结果标签：0表示未逾期，1表示逾期。\n",
        "\n",
        "要求：\n",
        "1. 数据切分方式 - 三七分，其中测试集30%，训练集70%，随机种子设置为2018\n",
        "2. 数据类型的分析\n",
        "3. 无关特征删除\n",
        "4. 数据类型转换\n",
        "5. 缺失值处理\n",
        "6. 其他可借鉴的数据分析处理"
      ]
    },
    {
      "cell_type": "code",
      "metadata": {
        "id": "D6R0enHGwXkc",
        "colab_type": "code",
        "colab": {}
      },
      "source": [
        "import numpy as np\n",
        "import pandas as pd"
      ],
      "execution_count": 0,
      "outputs": []
    },
    {
      "cell_type": "markdown",
      "metadata": {
        "id": "f-TVfhvywXkf",
        "colab_type": "text"
      },
      "source": [
        "## 一. 读取数据\n",
        "读取任务1中csv文件是要将编码格式制定成gbk；\n",
        "中文字符的Unicode编码0x0800-0xFFFF之间,(utf-8包含了部分汉字)\n",
        "当你试图将该“中文字符”转成U码的utf-8时超出了其范筹\n",
        "而GBK 规范收录了ISO 10646.1中的全部 CJK 汉字和符号，并有所补充，\n",
        "所以解决方法是将.decode('utf-8')改为.decode('gbk')\n",
        "参考：https://blog.csdn.net/stone9159/article/details/79071316"
      ]
    },
    {
      "cell_type": "code",
      "metadata": {
        "scrolled": true,
        "id": "wq_b2HtjwXkg",
        "colab_type": "code",
        "outputId": "b2cfde05-c916-4a56-a691-dd2d016a3d42",
        "colab": {
          "base_uri": "https://localhost:8080/",
          "height": 396
        }
      },
      "source": [
        "# 导入数据\n",
        "data = pd.read_csv(r\"task1_data.csv\",encoding=\"gbk\")\n",
        "# 将显示的最大列数设置成100，以展示全部列\n",
        "pd.set_option(\"max_columns\", 100)\n",
        "# 抽样查看数据\n",
        "data.sample(10)"
      ],
      "execution_count": 44,
      "outputs": [
        {
          "output_type": "execute_result",
          "data": {
            "text/html": [
              "<div>\n",
              "<style scoped>\n",
              "    .dataframe tbody tr th:only-of-type {\n",
              "        vertical-align: middle;\n",
              "    }\n",
              "\n",
              "    .dataframe tbody tr th {\n",
              "        vertical-align: top;\n",
              "    }\n",
              "\n",
              "    .dataframe thead th {\n",
              "        text-align: right;\n",
              "    }\n",
              "</style>\n",
              "<table border=\"1\" class=\"dataframe\">\n",
              "  <thead>\n",
              "    <tr style=\"text-align: right;\">\n",
              "      <th></th>\n",
              "      <th>Unnamed: 0</th>\n",
              "      <th>custid</th>\n",
              "      <th>trade_no</th>\n",
              "      <th>bank_card_no</th>\n",
              "      <th>low_volume_percent</th>\n",
              "      <th>middle_volume_percent</th>\n",
              "      <th>take_amount_in_later_12_month_highest</th>\n",
              "      <th>trans_amount_increase_rate_lately</th>\n",
              "      <th>trans_activity_month</th>\n",
              "      <th>trans_activity_day</th>\n",
              "      <th>transd_mcc</th>\n",
              "      <th>trans_days_interval_filter</th>\n",
              "      <th>trans_days_interval</th>\n",
              "      <th>regional_mobility</th>\n",
              "      <th>student_feature</th>\n",
              "      <th>repayment_capability</th>\n",
              "      <th>is_high_user</th>\n",
              "      <th>number_of_trans_from_2011</th>\n",
              "      <th>first_transaction_time</th>\n",
              "      <th>historical_trans_amount</th>\n",
              "      <th>historical_trans_day</th>\n",
              "      <th>rank_trad_1_month</th>\n",
              "      <th>trans_amount_3_month</th>\n",
              "      <th>avg_consume_less_12_valid_month</th>\n",
              "      <th>abs</th>\n",
              "      <th>top_trans_count_last_1_month</th>\n",
              "      <th>avg_price_last_12_month</th>\n",
              "      <th>avg_price_top_last_12_valid_month</th>\n",
              "      <th>reg_preference_for_trad</th>\n",
              "      <th>trans_top_time_last_1_month</th>\n",
              "      <th>trans_top_time_last_6_month</th>\n",
              "      <th>consume_top_time_last_1_month</th>\n",
              "      <th>consume_top_time_last_6_month</th>\n",
              "      <th>cross_consume_count_last_1_month</th>\n",
              "      <th>trans_fail_top_count_enum_last_1_month</th>\n",
              "      <th>trans_fail_top_count_enum_last_6_month</th>\n",
              "      <th>trans_fail_top_count_enum_last_12_month</th>\n",
              "      <th>consume_mini_time_last_1_month</th>\n",
              "      <th>max_cumulative_consume_later_1_month</th>\n",
              "      <th>max_consume_count_later_6_month</th>\n",
              "      <th>railway_consume_count_last_12_month</th>\n",
              "      <th>pawns_auctions_trusts_consume_last_1_month</th>\n",
              "      <th>pawns_auctions_trusts_consume_last_6_month</th>\n",
              "      <th>jewelry_consume_count_last_6_month</th>\n",
              "      <th>status</th>\n",
              "      <th>source</th>\n",
              "      <th>first_transaction_day</th>\n",
              "      <th>trans_day_last_12_month</th>\n",
              "      <th>id_name</th>\n",
              "      <th>apply_score</th>\n",
              "      <th>apply_credibility</th>\n",
              "      <th>query_org_count</th>\n",
              "      <th>query_finance_count</th>\n",
              "      <th>query_cash_count</th>\n",
              "      <th>query_sum_count</th>\n",
              "      <th>latest_query_time</th>\n",
              "      <th>latest_one_month_apply</th>\n",
              "      <th>latest_three_month_apply</th>\n",
              "      <th>latest_six_month_apply</th>\n",
              "      <th>loans_score</th>\n",
              "      <th>loans_credibility_behavior</th>\n",
              "      <th>loans_count</th>\n",
              "      <th>loans_settle_count</th>\n",
              "      <th>loans_overdue_count</th>\n",
              "      <th>loans_org_count_behavior</th>\n",
              "      <th>consfin_org_count_behavior</th>\n",
              "      <th>loans_cash_count</th>\n",
              "      <th>latest_one_month_loan</th>\n",
              "      <th>latest_three_month_loan</th>\n",
              "      <th>latest_six_month_loan</th>\n",
              "      <th>history_suc_fee</th>\n",
              "      <th>history_fail_fee</th>\n",
              "      <th>latest_one_month_suc</th>\n",
              "      <th>latest_one_month_fail</th>\n",
              "      <th>loans_long_time</th>\n",
              "      <th>loans_latest_time</th>\n",
              "      <th>loans_credit_limit</th>\n",
              "      <th>loans_credibility_limit</th>\n",
              "      <th>loans_org_count_current</th>\n",
              "      <th>loans_product_count</th>\n",
              "      <th>loans_max_limit</th>\n",
              "      <th>loans_avg_limit</th>\n",
              "      <th>consfin_credit_limit</th>\n",
              "      <th>consfin_credibility</th>\n",
              "      <th>consfin_org_count_current</th>\n",
              "      <th>consfin_product_count</th>\n",
              "      <th>consfin_max_limit</th>\n",
              "      <th>consfin_avg_limit</th>\n",
              "      <th>latest_query_day</th>\n",
              "      <th>loans_latest_day</th>\n",
              "    </tr>\n",
              "  </thead>\n",
              "  <tbody>\n",
              "    <tr>\n",
              "      <th>1076</th>\n",
              "      <td>2797</td>\n",
              "      <td>3568608</td>\n",
              "      <td>20180507114724241000000388185488</td>\n",
              "      <td>卡号1</td>\n",
              "      <td>0.01</td>\n",
              "      <td>0.99</td>\n",
              "      <td>5000</td>\n",
              "      <td>0.47</td>\n",
              "      <td>0.75</td>\n",
              "      <td>0.383</td>\n",
              "      <td>18.0</td>\n",
              "      <td>34.0</td>\n",
              "      <td>15.0</td>\n",
              "      <td>2.0</td>\n",
              "      <td>1.0</td>\n",
              "      <td>11320</td>\n",
              "      <td>0</td>\n",
              "      <td>27.0</td>\n",
              "      <td>20150304.0</td>\n",
              "      <td>164430</td>\n",
              "      <td>211.0</td>\n",
              "      <td>0.20</td>\n",
              "      <td>49160</td>\n",
              "      <td>6.0</td>\n",
              "      <td>19380</td>\n",
              "      <td>0.05</td>\n",
              "      <td>1260</td>\n",
              "      <td>0.50</td>\n",
              "      <td>三线城市</td>\n",
              "      <td>4.0</td>\n",
              "      <td>12.0</td>\n",
              "      <td>4.0</td>\n",
              "      <td>12.0</td>\n",
              "      <td>3.0</td>\n",
              "      <td>2.0</td>\n",
              "      <td>6.0</td>\n",
              "      <td>6.0</td>\n",
              "      <td>2.0</td>\n",
              "      <td>2170</td>\n",
              "      <td>6.0</td>\n",
              "      <td>1.0</td>\n",
              "      <td>2150</td>\n",
              "      <td>13060</td>\n",
              "      <td>0.0</td>\n",
              "      <td>0</td>\n",
              "      <td>xs</td>\n",
              "      <td>1174.0</td>\n",
              "      <td>82.0</td>\n",
              "      <td>史成禹</td>\n",
              "      <td>543.0</td>\n",
              "      <td>73.0</td>\n",
              "      <td>29.0</td>\n",
              "      <td>14.0</td>\n",
              "      <td>12.0</td>\n",
              "      <td>58.0</td>\n",
              "      <td>2018-04-29</td>\n",
              "      <td>24.0</td>\n",
              "      <td>43.0</td>\n",
              "      <td>48.0</td>\n",
              "      <td>520.0</td>\n",
              "      <td>73.0</td>\n",
              "      <td>39.0</td>\n",
              "      <td>33.0</td>\n",
              "      <td>3.0</td>\n",
              "      <td>12.0</td>\n",
              "      <td>3.0</td>\n",
              "      <td>9.0</td>\n",
              "      <td>4.0</td>\n",
              "      <td>6.0</td>\n",
              "      <td>21.0</td>\n",
              "      <td>39.0</td>\n",
              "      <td>18.0</td>\n",
              "      <td>1.0</td>\n",
              "      <td>5.0</td>\n",
              "      <td>304.0</td>\n",
              "      <td>2018-05-03</td>\n",
              "      <td>2600.0</td>\n",
              "      <td>73.0</td>\n",
              "      <td>9.0</td>\n",
              "      <td>10.0</td>\n",
              "      <td>5000.0</td>\n",
              "      <td>1800.0</td>\n",
              "      <td>6800.0</td>\n",
              "      <td>74.0</td>\n",
              "      <td>3.0</td>\n",
              "      <td>3.0</td>\n",
              "      <td>13200.0</td>\n",
              "      <td>6900.0</td>\n",
              "      <td>8.0</td>\n",
              "      <td>4.0</td>\n",
              "    </tr>\n",
              "    <tr>\n",
              "      <th>1393</th>\n",
              "      <td>3628</td>\n",
              "      <td>897923</td>\n",
              "      <td>20180504163757565000000021187090</td>\n",
              "      <td>卡号1</td>\n",
              "      <td>0.06</td>\n",
              "      <td>0.95</td>\n",
              "      <td>500</td>\n",
              "      <td>0.02</td>\n",
              "      <td>1.00</td>\n",
              "      <td>0.261</td>\n",
              "      <td>16.0</td>\n",
              "      <td>22.0</td>\n",
              "      <td>21.0</td>\n",
              "      <td>3.0</td>\n",
              "      <td>NaN</td>\n",
              "      <td>10420</td>\n",
              "      <td>0</td>\n",
              "      <td>17.0</td>\n",
              "      <td>20161030.0</td>\n",
              "      <td>104910</td>\n",
              "      <td>114.0</td>\n",
              "      <td>0.40</td>\n",
              "      <td>13200</td>\n",
              "      <td>5.0</td>\n",
              "      <td>2020</td>\n",
              "      <td>0.15</td>\n",
              "      <td>780</td>\n",
              "      <td>0.60</td>\n",
              "      <td>一线城市</td>\n",
              "      <td>9.0</td>\n",
              "      <td>15.0</td>\n",
              "      <td>9.0</td>\n",
              "      <td>15.0</td>\n",
              "      <td>1.0</td>\n",
              "      <td>1.0</td>\n",
              "      <td>4.0</td>\n",
              "      <td>4.0</td>\n",
              "      <td>216576.0</td>\n",
              "      <td>1540</td>\n",
              "      <td>6.0</td>\n",
              "      <td>0.0</td>\n",
              "      <td>630</td>\n",
              "      <td>5160</td>\n",
              "      <td>0.0</td>\n",
              "      <td>0</td>\n",
              "      <td>xs</td>\n",
              "      <td>568.0</td>\n",
              "      <td>84.0</td>\n",
              "      <td>方升平</td>\n",
              "      <td>652.0</td>\n",
              "      <td>75.0</td>\n",
              "      <td>10.0</td>\n",
              "      <td>7.0</td>\n",
              "      <td>3.0</td>\n",
              "      <td>17.0</td>\n",
              "      <td>2018-04-27</td>\n",
              "      <td>7.0</td>\n",
              "      <td>9.0</td>\n",
              "      <td>14.0</td>\n",
              "      <td>618.0</td>\n",
              "      <td>75.0</td>\n",
              "      <td>28.0</td>\n",
              "      <td>26.0</td>\n",
              "      <td>0.0</td>\n",
              "      <td>14.0</td>\n",
              "      <td>7.0</td>\n",
              "      <td>7.0</td>\n",
              "      <td>0.0</td>\n",
              "      <td>1.0</td>\n",
              "      <td>9.0</td>\n",
              "      <td>48.0</td>\n",
              "      <td>11.0</td>\n",
              "      <td>0.0</td>\n",
              "      <td>0.0</td>\n",
              "      <td>308.0</td>\n",
              "      <td>2018-03-07</td>\n",
              "      <td>2100.0</td>\n",
              "      <td>72.0</td>\n",
              "      <td>7.0</td>\n",
              "      <td>7.0</td>\n",
              "      <td>2900.0</td>\n",
              "      <td>1657.0</td>\n",
              "      <td>7700.0</td>\n",
              "      <td>78.0</td>\n",
              "      <td>7.0</td>\n",
              "      <td>7.0</td>\n",
              "      <td>16200.0</td>\n",
              "      <td>5685.0</td>\n",
              "      <td>7.0</td>\n",
              "      <td>58.0</td>\n",
              "    </tr>\n",
              "    <tr>\n",
              "      <th>3468</th>\n",
              "      <td>8752</td>\n",
              "      <td>147301</td>\n",
              "      <td>20180504164714787000000381482762</td>\n",
              "      <td>卡号1</td>\n",
              "      <td>0.01</td>\n",
              "      <td>0.70</td>\n",
              "      <td>2400</td>\n",
              "      <td>1.20</td>\n",
              "      <td>0.79</td>\n",
              "      <td>0.588</td>\n",
              "      <td>21.0</td>\n",
              "      <td>10.0</td>\n",
              "      <td>9.0</td>\n",
              "      <td>2.0</td>\n",
              "      <td>1.0</td>\n",
              "      <td>50940</td>\n",
              "      <td>0</td>\n",
              "      <td>30.0</td>\n",
              "      <td>20150108.0</td>\n",
              "      <td>668950</td>\n",
              "      <td>353.0</td>\n",
              "      <td>0.10</td>\n",
              "      <td>87410</td>\n",
              "      <td>6.0</td>\n",
              "      <td>9000</td>\n",
              "      <td>0.05</td>\n",
              "      <td>2020</td>\n",
              "      <td>0.50</td>\n",
              "      <td>一线城市</td>\n",
              "      <td>9.0</td>\n",
              "      <td>10.0</td>\n",
              "      <td>9.0</td>\n",
              "      <td>10.0</td>\n",
              "      <td>0.0</td>\n",
              "      <td>2.0</td>\n",
              "      <td>3.0</td>\n",
              "      <td>5.0</td>\n",
              "      <td>244.0</td>\n",
              "      <td>8170</td>\n",
              "      <td>4.0</td>\n",
              "      <td>0.0</td>\n",
              "      <td>20760</td>\n",
              "      <td>147890</td>\n",
              "      <td>0.0</td>\n",
              "      <td>1</td>\n",
              "      <td>xs</td>\n",
              "      <td>1229.0</td>\n",
              "      <td>86.0</td>\n",
              "      <td>史江雄</td>\n",
              "      <td>529.0</td>\n",
              "      <td>79.0</td>\n",
              "      <td>6.0</td>\n",
              "      <td>2.0</td>\n",
              "      <td>2.0</td>\n",
              "      <td>7.0</td>\n",
              "      <td>2018-04-13</td>\n",
              "      <td>2.0</td>\n",
              "      <td>4.0</td>\n",
              "      <td>7.0</td>\n",
              "      <td>495.0</td>\n",
              "      <td>76.0</td>\n",
              "      <td>37.0</td>\n",
              "      <td>30.0</td>\n",
              "      <td>6.0</td>\n",
              "      <td>21.0</td>\n",
              "      <td>11.0</td>\n",
              "      <td>10.0</td>\n",
              "      <td>0.0</td>\n",
              "      <td>2.0</td>\n",
              "      <td>13.0</td>\n",
              "      <td>43.0</td>\n",
              "      <td>35.0</td>\n",
              "      <td>0.0</td>\n",
              "      <td>3.0</td>\n",
              "      <td>350.0</td>\n",
              "      <td>2018-03-31</td>\n",
              "      <td>3000.0</td>\n",
              "      <td>74.0</td>\n",
              "      <td>10.0</td>\n",
              "      <td>10.0</td>\n",
              "      <td>7600.0</td>\n",
              "      <td>2840.0</td>\n",
              "      <td>13800.0</td>\n",
              "      <td>79.0</td>\n",
              "      <td>11.0</td>\n",
              "      <td>13.0</td>\n",
              "      <td>23400.0</td>\n",
              "      <td>10027.0</td>\n",
              "      <td>21.0</td>\n",
              "      <td>34.0</td>\n",
              "    </tr>\n",
              "    <tr>\n",
              "      <th>2206</th>\n",
              "      <td>5595</td>\n",
              "      <td>764784</td>\n",
              "      <td>20180507120654836000000388251090</td>\n",
              "      <td>卡号1</td>\n",
              "      <td>0.03</td>\n",
              "      <td>0.97</td>\n",
              "      <td>0</td>\n",
              "      <td>1.21</td>\n",
              "      <td>0.75</td>\n",
              "      <td>0.050</td>\n",
              "      <td>6.0</td>\n",
              "      <td>90.0</td>\n",
              "      <td>62.0</td>\n",
              "      <td>4.0</td>\n",
              "      <td>NaN</td>\n",
              "      <td>10560</td>\n",
              "      <td>0</td>\n",
              "      <td>33.0</td>\n",
              "      <td>20140711.0</td>\n",
              "      <td>94680</td>\n",
              "      <td>134.0</td>\n",
              "      <td>0.85</td>\n",
              "      <td>1990</td>\n",
              "      <td>5.0</td>\n",
              "      <td>700</td>\n",
              "      <td>1.00</td>\n",
              "      <td>920</td>\n",
              "      <td>NaN</td>\n",
              "      <td>一线城市</td>\n",
              "      <td>0.0</td>\n",
              "      <td>57.0</td>\n",
              "      <td>0.0</td>\n",
              "      <td>57.0</td>\n",
              "      <td>NaN</td>\n",
              "      <td>1.0</td>\n",
              "      <td>1.0</td>\n",
              "      <td>1.0</td>\n",
              "      <td>0.0</td>\n",
              "      <td>200</td>\n",
              "      <td>1.0</td>\n",
              "      <td>0.0</td>\n",
              "      <td>0</td>\n",
              "      <td>0</td>\n",
              "      <td>0.0</td>\n",
              "      <td>1</td>\n",
              "      <td>xs</td>\n",
              "      <td>1410.0</td>\n",
              "      <td>108.0</td>\n",
              "      <td>贾文雄</td>\n",
              "      <td>614.0</td>\n",
              "      <td>71.0</td>\n",
              "      <td>3.0</td>\n",
              "      <td>1.0</td>\n",
              "      <td>1.0</td>\n",
              "      <td>3.0</td>\n",
              "      <td>2018-04-02</td>\n",
              "      <td>0.0</td>\n",
              "      <td>1.0</td>\n",
              "      <td>2.0</td>\n",
              "      <td>590.0</td>\n",
              "      <td>79.0</td>\n",
              "      <td>6.0</td>\n",
              "      <td>3.0</td>\n",
              "      <td>0.0</td>\n",
              "      <td>3.0</td>\n",
              "      <td>2.0</td>\n",
              "      <td>1.0</td>\n",
              "      <td>0.0</td>\n",
              "      <td>2.0</td>\n",
              "      <td>3.0</td>\n",
              "      <td>5.0</td>\n",
              "      <td>4.0</td>\n",
              "      <td>0.0</td>\n",
              "      <td>1.0</td>\n",
              "      <td>275.0</td>\n",
              "      <td>2018-04-06</td>\n",
              "      <td>500.0</td>\n",
              "      <td>72.0</td>\n",
              "      <td>1.0</td>\n",
              "      <td>1.0</td>\n",
              "      <td>500.0</td>\n",
              "      <td>500.0</td>\n",
              "      <td>19000.0</td>\n",
              "      <td>80.0</td>\n",
              "      <td>2.0</td>\n",
              "      <td>2.0</td>\n",
              "      <td>26400.0</td>\n",
              "      <td>18600.0</td>\n",
              "      <td>35.0</td>\n",
              "      <td>31.0</td>\n",
              "    </tr>\n",
              "    <tr>\n",
              "      <th>3500</th>\n",
              "      <td>8824</td>\n",
              "      <td>1108810</td>\n",
              "      <td>20180507120717988000000388256387</td>\n",
              "      <td>卡号1</td>\n",
              "      <td>0.00</td>\n",
              "      <td>0.97</td>\n",
              "      <td>0</td>\n",
              "      <td>1.07</td>\n",
              "      <td>1.00</td>\n",
              "      <td>0.625</td>\n",
              "      <td>20.0</td>\n",
              "      <td>11.0</td>\n",
              "      <td>8.0</td>\n",
              "      <td>2.0</td>\n",
              "      <td>NaN</td>\n",
              "      <td>17860</td>\n",
              "      <td>0</td>\n",
              "      <td>22.0</td>\n",
              "      <td>20160526.0</td>\n",
              "      <td>519570</td>\n",
              "      <td>296.0</td>\n",
              "      <td>0.20</td>\n",
              "      <td>80650</td>\n",
              "      <td>7.0</td>\n",
              "      <td>4130</td>\n",
              "      <td>0.05</td>\n",
              "      <td>1440</td>\n",
              "      <td>0.45</td>\n",
              "      <td>一线城市</td>\n",
              "      <td>5.0</td>\n",
              "      <td>7.0</td>\n",
              "      <td>5.0</td>\n",
              "      <td>7.0</td>\n",
              "      <td>0.0</td>\n",
              "      <td>0.0</td>\n",
              "      <td>9.0</td>\n",
              "      <td>9.0</td>\n",
              "      <td>86467.0</td>\n",
              "      <td>2580</td>\n",
              "      <td>8.0</td>\n",
              "      <td>0.0</td>\n",
              "      <td>2640</td>\n",
              "      <td>30940</td>\n",
              "      <td>0.0</td>\n",
              "      <td>0</td>\n",
              "      <td>xs</td>\n",
              "      <td>725.0</td>\n",
              "      <td>82.0</td>\n",
              "      <td>刘辉</td>\n",
              "      <td>539.0</td>\n",
              "      <td>72.0</td>\n",
              "      <td>16.0</td>\n",
              "      <td>6.0</td>\n",
              "      <td>8.0</td>\n",
              "      <td>19.0</td>\n",
              "      <td>2018-04-14</td>\n",
              "      <td>1.0</td>\n",
              "      <td>5.0</td>\n",
              "      <td>12.0</td>\n",
              "      <td>505.0</td>\n",
              "      <td>75.0</td>\n",
              "      <td>76.0</td>\n",
              "      <td>71.0</td>\n",
              "      <td>1.0</td>\n",
              "      <td>25.0</td>\n",
              "      <td>5.0</td>\n",
              "      <td>20.0</td>\n",
              "      <td>2.0</td>\n",
              "      <td>4.0</td>\n",
              "      <td>27.0</td>\n",
              "      <td>80.0</td>\n",
              "      <td>12.0</td>\n",
              "      <td>1.0</td>\n",
              "      <td>1.0</td>\n",
              "      <td>359.0</td>\n",
              "      <td>2018-05-01</td>\n",
              "      <td>2100.0</td>\n",
              "      <td>75.0</td>\n",
              "      <td>20.0</td>\n",
              "      <td>22.0</td>\n",
              "      <td>4900.0</td>\n",
              "      <td>1795.0</td>\n",
              "      <td>13600.0</td>\n",
              "      <td>78.0</td>\n",
              "      <td>5.0</td>\n",
              "      <td>5.0</td>\n",
              "      <td>20400.0</td>\n",
              "      <td>9740.0</td>\n",
              "      <td>23.0</td>\n",
              "      <td>6.0</td>\n",
              "    </tr>\n",
              "    <tr>\n",
              "      <th>3601</th>\n",
              "      <td>9086</td>\n",
              "      <td>478449</td>\n",
              "      <td>20180507124436449000000388402336</td>\n",
              "      <td>卡号1</td>\n",
              "      <td>0.03</td>\n",
              "      <td>0.97</td>\n",
              "      <td>1000</td>\n",
              "      <td>0.14</td>\n",
              "      <td>0.66</td>\n",
              "      <td>0.461</td>\n",
              "      <td>22.0</td>\n",
              "      <td>23.0</td>\n",
              "      <td>11.0</td>\n",
              "      <td>2.0</td>\n",
              "      <td>1.0</td>\n",
              "      <td>19620</td>\n",
              "      <td>0</td>\n",
              "      <td>25.0</td>\n",
              "      <td>20150120.0</td>\n",
              "      <td>128820</td>\n",
              "      <td>215.0</td>\n",
              "      <td>0.35</td>\n",
              "      <td>24300</td>\n",
              "      <td>6.0</td>\n",
              "      <td>32260</td>\n",
              "      <td>0.20</td>\n",
              "      <td>1010</td>\n",
              "      <td>0.55</td>\n",
              "      <td>一线城市</td>\n",
              "      <td>2.0</td>\n",
              "      <td>20.0</td>\n",
              "      <td>2.0</td>\n",
              "      <td>20.0</td>\n",
              "      <td>0.0</td>\n",
              "      <td>5.0</td>\n",
              "      <td>5.0</td>\n",
              "      <td>5.0</td>\n",
              "      <td>0.0</td>\n",
              "      <td>3720</td>\n",
              "      <td>4.0</td>\n",
              "      <td>0.0</td>\n",
              "      <td>0</td>\n",
              "      <td>14260</td>\n",
              "      <td>0.0</td>\n",
              "      <td>1</td>\n",
              "      <td>xs</td>\n",
              "      <td>1217.0</td>\n",
              "      <td>87.0</td>\n",
              "      <td>卢星成</td>\n",
              "      <td>539.0</td>\n",
              "      <td>79.0</td>\n",
              "      <td>5.0</td>\n",
              "      <td>4.0</td>\n",
              "      <td>1.0</td>\n",
              "      <td>5.0</td>\n",
              "      <td>2018-03-27</td>\n",
              "      <td>0.0</td>\n",
              "      <td>1.0</td>\n",
              "      <td>5.0</td>\n",
              "      <td>475.0</td>\n",
              "      <td>77.0</td>\n",
              "      <td>24.0</td>\n",
              "      <td>18.0</td>\n",
              "      <td>6.0</td>\n",
              "      <td>13.0</td>\n",
              "      <td>7.0</td>\n",
              "      <td>6.0</td>\n",
              "      <td>0.0</td>\n",
              "      <td>0.0</td>\n",
              "      <td>8.0</td>\n",
              "      <td>34.0</td>\n",
              "      <td>75.0</td>\n",
              "      <td>0.0</td>\n",
              "      <td>8.0</td>\n",
              "      <td>348.0</td>\n",
              "      <td>2018-02-02</td>\n",
              "      <td>2300.0</td>\n",
              "      <td>75.0</td>\n",
              "      <td>6.0</td>\n",
              "      <td>6.0</td>\n",
              "      <td>3100.0</td>\n",
              "      <td>1950.0</td>\n",
              "      <td>8700.0</td>\n",
              "      <td>78.0</td>\n",
              "      <td>7.0</td>\n",
              "      <td>8.0</td>\n",
              "      <td>15600.0</td>\n",
              "      <td>4342.0</td>\n",
              "      <td>41.0</td>\n",
              "      <td>94.0</td>\n",
              "    </tr>\n",
              "    <tr>\n",
              "      <th>1026</th>\n",
              "      <td>2671</td>\n",
              "      <td>2103168</td>\n",
              "      <td>20180504183425386000000381889643</td>\n",
              "      <td>卡号1</td>\n",
              "      <td>0.05</td>\n",
              "      <td>0.95</td>\n",
              "      <td>3000</td>\n",
              "      <td>1.72</td>\n",
              "      <td>0.92</td>\n",
              "      <td>0.263</td>\n",
              "      <td>18.0</td>\n",
              "      <td>23.0</td>\n",
              "      <td>15.0</td>\n",
              "      <td>2.0</td>\n",
              "      <td>1.0</td>\n",
              "      <td>12780</td>\n",
              "      <td>0</td>\n",
              "      <td>24.0</td>\n",
              "      <td>20160103.0</td>\n",
              "      <td>59970</td>\n",
              "      <td>122.0</td>\n",
              "      <td>0.45</td>\n",
              "      <td>18720</td>\n",
              "      <td>9.0</td>\n",
              "      <td>750</td>\n",
              "      <td>0.20</td>\n",
              "      <td>700</td>\n",
              "      <td>0.65</td>\n",
              "      <td>三线城市</td>\n",
              "      <td>11.0</td>\n",
              "      <td>23.0</td>\n",
              "      <td>11.0</td>\n",
              "      <td>24.0</td>\n",
              "      <td>0.0</td>\n",
              "      <td>2.0</td>\n",
              "      <td>9.0</td>\n",
              "      <td>9.0</td>\n",
              "      <td>2.0</td>\n",
              "      <td>1010</td>\n",
              "      <td>4.0</td>\n",
              "      <td>0.0</td>\n",
              "      <td>760</td>\n",
              "      <td>2620</td>\n",
              "      <td>0.0</td>\n",
              "      <td>0</td>\n",
              "      <td>xs</td>\n",
              "      <td>869.0</td>\n",
              "      <td>83.0</td>\n",
              "      <td>孙海源</td>\n",
              "      <td>540.0</td>\n",
              "      <td>74.0</td>\n",
              "      <td>15.0</td>\n",
              "      <td>6.0</td>\n",
              "      <td>8.0</td>\n",
              "      <td>25.0</td>\n",
              "      <td>2018-04-27</td>\n",
              "      <td>2.0</td>\n",
              "      <td>7.0</td>\n",
              "      <td>19.0</td>\n",
              "      <td>485.0</td>\n",
              "      <td>73.0</td>\n",
              "      <td>13.0</td>\n",
              "      <td>9.0</td>\n",
              "      <td>1.0</td>\n",
              "      <td>9.0</td>\n",
              "      <td>1.0</td>\n",
              "      <td>8.0</td>\n",
              "      <td>1.0</td>\n",
              "      <td>2.0</td>\n",
              "      <td>11.0</td>\n",
              "      <td>9.0</td>\n",
              "      <td>11.0</td>\n",
              "      <td>1.0</td>\n",
              "      <td>0.0</td>\n",
              "      <td>203.0</td>\n",
              "      <td>2018-04-27</td>\n",
              "      <td>1200.0</td>\n",
              "      <td>73.0</td>\n",
              "      <td>8.0</td>\n",
              "      <td>8.0</td>\n",
              "      <td>1500.0</td>\n",
              "      <td>1000.0</td>\n",
              "      <td>4800.0</td>\n",
              "      <td>75.0</td>\n",
              "      <td>1.0</td>\n",
              "      <td>2.0</td>\n",
              "      <td>4800.0</td>\n",
              "      <td>4800.0</td>\n",
              "      <td>7.0</td>\n",
              "      <td>7.0</td>\n",
              "    </tr>\n",
              "    <tr>\n",
              "      <th>3996</th>\n",
              "      <td>10107</td>\n",
              "      <td>1123176</td>\n",
              "      <td>20180507122223598000000388318152</td>\n",
              "      <td>卡号1</td>\n",
              "      <td>0.01</td>\n",
              "      <td>0.99</td>\n",
              "      <td>1000</td>\n",
              "      <td>1.11</td>\n",
              "      <td>0.48</td>\n",
              "      <td>0.669</td>\n",
              "      <td>23.0</td>\n",
              "      <td>8.0</td>\n",
              "      <td>7.0</td>\n",
              "      <td>4.0</td>\n",
              "      <td>1.0</td>\n",
              "      <td>25680</td>\n",
              "      <td>0</td>\n",
              "      <td>32.0</td>\n",
              "      <td>20120824.0</td>\n",
              "      <td>539080</td>\n",
              "      <td>347.0</td>\n",
              "      <td>0.25</td>\n",
              "      <td>71810</td>\n",
              "      <td>5.0</td>\n",
              "      <td>12440</td>\n",
              "      <td>0.05</td>\n",
              "      <td>1170</td>\n",
              "      <td>0.50</td>\n",
              "      <td>一线城市</td>\n",
              "      <td>5.0</td>\n",
              "      <td>8.0</td>\n",
              "      <td>6.0</td>\n",
              "      <td>12.0</td>\n",
              "      <td>1.0</td>\n",
              "      <td>1.0</td>\n",
              "      <td>10.0</td>\n",
              "      <td>10.0</td>\n",
              "      <td>74.0</td>\n",
              "      <td>2500</td>\n",
              "      <td>6.0</td>\n",
              "      <td>1.0</td>\n",
              "      <td>230</td>\n",
              "      <td>6000</td>\n",
              "      <td>0.0</td>\n",
              "      <td>0</td>\n",
              "      <td>xs</td>\n",
              "      <td>2096.0</td>\n",
              "      <td>82.0</td>\n",
              "      <td>张东林</td>\n",
              "      <td>537.0</td>\n",
              "      <td>78.0</td>\n",
              "      <td>12.0</td>\n",
              "      <td>8.0</td>\n",
              "      <td>4.0</td>\n",
              "      <td>18.0</td>\n",
              "      <td>2018-04-24</td>\n",
              "      <td>2.0</td>\n",
              "      <td>8.0</td>\n",
              "      <td>14.0</td>\n",
              "      <td>482.0</td>\n",
              "      <td>76.0</td>\n",
              "      <td>53.0</td>\n",
              "      <td>48.0</td>\n",
              "      <td>5.0</td>\n",
              "      <td>21.0</td>\n",
              "      <td>10.0</td>\n",
              "      <td>11.0</td>\n",
              "      <td>1.0</td>\n",
              "      <td>4.0</td>\n",
              "      <td>22.0</td>\n",
              "      <td>63.0</td>\n",
              "      <td>20.0</td>\n",
              "      <td>1.0</td>\n",
              "      <td>1.0</td>\n",
              "      <td>359.0</td>\n",
              "      <td>2018-04-21</td>\n",
              "      <td>2700.0</td>\n",
              "      <td>74.0</td>\n",
              "      <td>11.0</td>\n",
              "      <td>11.0</td>\n",
              "      <td>4700.0</td>\n",
              "      <td>2281.0</td>\n",
              "      <td>10900.0</td>\n",
              "      <td>79.0</td>\n",
              "      <td>10.0</td>\n",
              "      <td>11.0</td>\n",
              "      <td>20400.0</td>\n",
              "      <td>6130.0</td>\n",
              "      <td>13.0</td>\n",
              "      <td>16.0</td>\n",
              "    </tr>\n",
              "    <tr>\n",
              "      <th>2300</th>\n",
              "      <td>5837</td>\n",
              "      <td>3335097</td>\n",
              "      <td>20180507115527924000000388211278</td>\n",
              "      <td>卡号1</td>\n",
              "      <td>0.09</td>\n",
              "      <td>0.91</td>\n",
              "      <td>0</td>\n",
              "      <td>24.73</td>\n",
              "      <td>0.43</td>\n",
              "      <td>0.095</td>\n",
              "      <td>8.0</td>\n",
              "      <td>30.0</td>\n",
              "      <td>55.0</td>\n",
              "      <td>2.0</td>\n",
              "      <td>1.0</td>\n",
              "      <td>11350</td>\n",
              "      <td>0</td>\n",
              "      <td>20.0</td>\n",
              "      <td>20140412.0</td>\n",
              "      <td>8500</td>\n",
              "      <td>48.0</td>\n",
              "      <td>0.80</td>\n",
              "      <td>2130</td>\n",
              "      <td>3.0</td>\n",
              "      <td>110</td>\n",
              "      <td>0.65</td>\n",
              "      <td>510</td>\n",
              "      <td>0.70</td>\n",
              "      <td>三线城市</td>\n",
              "      <td>1.0</td>\n",
              "      <td>30.0</td>\n",
              "      <td>1.0</td>\n",
              "      <td>30.0</td>\n",
              "      <td>NaN</td>\n",
              "      <td>1.0</td>\n",
              "      <td>2.0</td>\n",
              "      <td>2.0</td>\n",
              "      <td>0.0</td>\n",
              "      <td>200</td>\n",
              "      <td>1.0</td>\n",
              "      <td>0.0</td>\n",
              "      <td>200</td>\n",
              "      <td>4930</td>\n",
              "      <td>0.0</td>\n",
              "      <td>1</td>\n",
              "      <td>xs</td>\n",
              "      <td>1500.0</td>\n",
              "      <td>94.0</td>\n",
              "      <td>姚心空</td>\n",
              "      <td>592.0</td>\n",
              "      <td>64.0</td>\n",
              "      <td>2.0</td>\n",
              "      <td>1.0</td>\n",
              "      <td>1.0</td>\n",
              "      <td>4.0</td>\n",
              "      <td>2018-01-26</td>\n",
              "      <td>0.0</td>\n",
              "      <td>0.0</td>\n",
              "      <td>1.0</td>\n",
              "      <td>567.0</td>\n",
              "      <td>78.0</td>\n",
              "      <td>1.0</td>\n",
              "      <td>0.0</td>\n",
              "      <td>0.0</td>\n",
              "      <td>1.0</td>\n",
              "      <td>1.0</td>\n",
              "      <td>0.0</td>\n",
              "      <td>0.0</td>\n",
              "      <td>0.0</td>\n",
              "      <td>1.0</td>\n",
              "      <td>0.0</td>\n",
              "      <td>1.0</td>\n",
              "      <td>0.0</td>\n",
              "      <td>0.0</td>\n",
              "      <td>142.0</td>\n",
              "      <td>2017-12-16</td>\n",
              "      <td>0.0</td>\n",
              "      <td>0.0</td>\n",
              "      <td>0.0</td>\n",
              "      <td>0.0</td>\n",
              "      <td>0.0</td>\n",
              "      <td>0.0</td>\n",
              "      <td>3600.0</td>\n",
              "      <td>78.0</td>\n",
              "      <td>1.0</td>\n",
              "      <td>1.0</td>\n",
              "      <td>3600.0</td>\n",
              "      <td>3600.0</td>\n",
              "      <td>101.0</td>\n",
              "      <td>142.0</td>\n",
              "    </tr>\n",
              "    <tr>\n",
              "      <th>3145</th>\n",
              "      <td>7881</td>\n",
              "      <td>3217794</td>\n",
              "      <td>20180507120619080000000388249906</td>\n",
              "      <td>卡号1</td>\n",
              "      <td>0.02</td>\n",
              "      <td>0.98</td>\n",
              "      <td>200</td>\n",
              "      <td>2.26</td>\n",
              "      <td>1.00</td>\n",
              "      <td>0.300</td>\n",
              "      <td>17.0</td>\n",
              "      <td>30.0</td>\n",
              "      <td>13.0</td>\n",
              "      <td>3.0</td>\n",
              "      <td>NaN</td>\n",
              "      <td>7720</td>\n",
              "      <td>0</td>\n",
              "      <td>22.0</td>\n",
              "      <td>20160520.0</td>\n",
              "      <td>108590</td>\n",
              "      <td>135.0</td>\n",
              "      <td>0.45</td>\n",
              "      <td>9610</td>\n",
              "      <td>7.0</td>\n",
              "      <td>4010</td>\n",
              "      <td>0.40</td>\n",
              "      <td>1340</td>\n",
              "      <td>0.50</td>\n",
              "      <td>一线城市</td>\n",
              "      <td>14.0</td>\n",
              "      <td>30.0</td>\n",
              "      <td>14.0</td>\n",
              "      <td>30.0</td>\n",
              "      <td>0.0</td>\n",
              "      <td>0.0</td>\n",
              "      <td>3.0</td>\n",
              "      <td>3.0</td>\n",
              "      <td>0.0</td>\n",
              "      <td>2290</td>\n",
              "      <td>3.0</td>\n",
              "      <td>0.0</td>\n",
              "      <td>0</td>\n",
              "      <td>13750</td>\n",
              "      <td>0.0</td>\n",
              "      <td>0</td>\n",
              "      <td>xs</td>\n",
              "      <td>731.0</td>\n",
              "      <td>88.0</td>\n",
              "      <td>高峰</td>\n",
              "      <td>591.0</td>\n",
              "      <td>76.0</td>\n",
              "      <td>14.0</td>\n",
              "      <td>7.0</td>\n",
              "      <td>4.0</td>\n",
              "      <td>19.0</td>\n",
              "      <td>2018-04-14</td>\n",
              "      <td>5.0</td>\n",
              "      <td>13.0</td>\n",
              "      <td>19.0</td>\n",
              "      <td>580.0</td>\n",
              "      <td>77.0</td>\n",
              "      <td>38.0</td>\n",
              "      <td>34.0</td>\n",
              "      <td>1.0</td>\n",
              "      <td>17.0</td>\n",
              "      <td>5.0</td>\n",
              "      <td>12.0</td>\n",
              "      <td>5.0</td>\n",
              "      <td>7.0</td>\n",
              "      <td>15.0</td>\n",
              "      <td>47.0</td>\n",
              "      <td>25.0</td>\n",
              "      <td>6.0</td>\n",
              "      <td>2.0</td>\n",
              "      <td>346.0</td>\n",
              "      <td>2018-04-28</td>\n",
              "      <td>2500.0</td>\n",
              "      <td>75.0</td>\n",
              "      <td>12.0</td>\n",
              "      <td>14.0</td>\n",
              "      <td>3900.0</td>\n",
              "      <td>1816.0</td>\n",
              "      <td>3400.0</td>\n",
              "      <td>83.0</td>\n",
              "      <td>5.0</td>\n",
              "      <td>6.0</td>\n",
              "      <td>8400.0</td>\n",
              "      <td>4760.0</td>\n",
              "      <td>23.0</td>\n",
              "      <td>9.0</td>\n",
              "    </tr>\n",
              "  </tbody>\n",
              "</table>\n",
              "</div>"
            ],
            "text/plain": [
              "      Unnamed: 0   custid                          trade_no bank_card_no  \\\n",
              "1076        2797  3568608  20180507114724241000000388185488          卡号1   \n",
              "1393        3628   897923  20180504163757565000000021187090          卡号1   \n",
              "3468        8752   147301  20180504164714787000000381482762          卡号1   \n",
              "2206        5595   764784  20180507120654836000000388251090          卡号1   \n",
              "3500        8824  1108810  20180507120717988000000388256387          卡号1   \n",
              "3601        9086   478449  20180507124436449000000388402336          卡号1   \n",
              "1026        2671  2103168  20180504183425386000000381889643          卡号1   \n",
              "3996       10107  1123176  20180507122223598000000388318152          卡号1   \n",
              "2300        5837  3335097  20180507115527924000000388211278          卡号1   \n",
              "3145        7881  3217794  20180507120619080000000388249906          卡号1   \n",
              "\n",
              "      low_volume_percent  middle_volume_percent  \\\n",
              "1076                0.01                   0.99   \n",
              "1393                0.06                   0.95   \n",
              "3468                0.01                   0.70   \n",
              "2206                0.03                   0.97   \n",
              "3500                0.00                   0.97   \n",
              "3601                0.03                   0.97   \n",
              "1026                0.05                   0.95   \n",
              "3996                0.01                   0.99   \n",
              "2300                0.09                   0.91   \n",
              "3145                0.02                   0.98   \n",
              "\n",
              "      take_amount_in_later_12_month_highest  \\\n",
              "1076                                   5000   \n",
              "1393                                    500   \n",
              "3468                                   2400   \n",
              "2206                                      0   \n",
              "3500                                      0   \n",
              "3601                                   1000   \n",
              "1026                                   3000   \n",
              "3996                                   1000   \n",
              "2300                                      0   \n",
              "3145                                    200   \n",
              "\n",
              "      trans_amount_increase_rate_lately  trans_activity_month  \\\n",
              "1076                               0.47                  0.75   \n",
              "1393                               0.02                  1.00   \n",
              "3468                               1.20                  0.79   \n",
              "2206                               1.21                  0.75   \n",
              "3500                               1.07                  1.00   \n",
              "3601                               0.14                  0.66   \n",
              "1026                               1.72                  0.92   \n",
              "3996                               1.11                  0.48   \n",
              "2300                              24.73                  0.43   \n",
              "3145                               2.26                  1.00   \n",
              "\n",
              "      trans_activity_day  transd_mcc  trans_days_interval_filter  \\\n",
              "1076               0.383        18.0                        34.0   \n",
              "1393               0.261        16.0                        22.0   \n",
              "3468               0.588        21.0                        10.0   \n",
              "2206               0.050         6.0                        90.0   \n",
              "3500               0.625        20.0                        11.0   \n",
              "3601               0.461        22.0                        23.0   \n",
              "1026               0.263        18.0                        23.0   \n",
              "3996               0.669        23.0                         8.0   \n",
              "2300               0.095         8.0                        30.0   \n",
              "3145               0.300        17.0                        30.0   \n",
              "\n",
              "      trans_days_interval  regional_mobility  student_feature  \\\n",
              "1076                 15.0                2.0              1.0   \n",
              "1393                 21.0                3.0              NaN   \n",
              "3468                  9.0                2.0              1.0   \n",
              "2206                 62.0                4.0              NaN   \n",
              "3500                  8.0                2.0              NaN   \n",
              "3601                 11.0                2.0              1.0   \n",
              "1026                 15.0                2.0              1.0   \n",
              "3996                  7.0                4.0              1.0   \n",
              "2300                 55.0                2.0              1.0   \n",
              "3145                 13.0                3.0              NaN   \n",
              "\n",
              "      repayment_capability  is_high_user  number_of_trans_from_2011  \\\n",
              "1076                 11320             0                       27.0   \n",
              "1393                 10420             0                       17.0   \n",
              "3468                 50940             0                       30.0   \n",
              "2206                 10560             0                       33.0   \n",
              "3500                 17860             0                       22.0   \n",
              "3601                 19620             0                       25.0   \n",
              "1026                 12780             0                       24.0   \n",
              "3996                 25680             0                       32.0   \n",
              "2300                 11350             0                       20.0   \n",
              "3145                  7720             0                       22.0   \n",
              "\n",
              "      first_transaction_time  historical_trans_amount  historical_trans_day  \\\n",
              "1076              20150304.0                   164430                 211.0   \n",
              "1393              20161030.0                   104910                 114.0   \n",
              "3468              20150108.0                   668950                 353.0   \n",
              "2206              20140711.0                    94680                 134.0   \n",
              "3500              20160526.0                   519570                 296.0   \n",
              "3601              20150120.0                   128820                 215.0   \n",
              "1026              20160103.0                    59970                 122.0   \n",
              "3996              20120824.0                   539080                 347.0   \n",
              "2300              20140412.0                     8500                  48.0   \n",
              "3145              20160520.0                   108590                 135.0   \n",
              "\n",
              "      rank_trad_1_month  trans_amount_3_month  \\\n",
              "1076               0.20                 49160   \n",
              "1393               0.40                 13200   \n",
              "3468               0.10                 87410   \n",
              "2206               0.85                  1990   \n",
              "3500               0.20                 80650   \n",
              "3601               0.35                 24300   \n",
              "1026               0.45                 18720   \n",
              "3996               0.25                 71810   \n",
              "2300               0.80                  2130   \n",
              "3145               0.45                  9610   \n",
              "\n",
              "      avg_consume_less_12_valid_month    abs  top_trans_count_last_1_month  \\\n",
              "1076                              6.0  19380                          0.05   \n",
              "1393                              5.0   2020                          0.15   \n",
              "3468                              6.0   9000                          0.05   \n",
              "2206                              5.0    700                          1.00   \n",
              "3500                              7.0   4130                          0.05   \n",
              "3601                              6.0  32260                          0.20   \n",
              "1026                              9.0    750                          0.20   \n",
              "3996                              5.0  12440                          0.05   \n",
              "2300                              3.0    110                          0.65   \n",
              "3145                              7.0   4010                          0.40   \n",
              "\n",
              "      avg_price_last_12_month  avg_price_top_last_12_valid_month  \\\n",
              "1076                     1260                               0.50   \n",
              "1393                      780                               0.60   \n",
              "3468                     2020                               0.50   \n",
              "2206                      920                                NaN   \n",
              "3500                     1440                               0.45   \n",
              "3601                     1010                               0.55   \n",
              "1026                      700                               0.65   \n",
              "3996                     1170                               0.50   \n",
              "2300                      510                               0.70   \n",
              "3145                     1340                               0.50   \n",
              "\n",
              "     reg_preference_for_trad  trans_top_time_last_1_month  \\\n",
              "1076                    三线城市                          4.0   \n",
              "1393                    一线城市                          9.0   \n",
              "3468                    一线城市                          9.0   \n",
              "2206                    一线城市                          0.0   \n",
              "3500                    一线城市                          5.0   \n",
              "3601                    一线城市                          2.0   \n",
              "1026                    三线城市                         11.0   \n",
              "3996                    一线城市                          5.0   \n",
              "2300                    三线城市                          1.0   \n",
              "3145                    一线城市                         14.0   \n",
              "\n",
              "      trans_top_time_last_6_month  consume_top_time_last_1_month  \\\n",
              "1076                         12.0                            4.0   \n",
              "1393                         15.0                            9.0   \n",
              "3468                         10.0                            9.0   \n",
              "2206                         57.0                            0.0   \n",
              "3500                          7.0                            5.0   \n",
              "3601                         20.0                            2.0   \n",
              "1026                         23.0                           11.0   \n",
              "3996                          8.0                            6.0   \n",
              "2300                         30.0                            1.0   \n",
              "3145                         30.0                           14.0   \n",
              "\n",
              "      consume_top_time_last_6_month  cross_consume_count_last_1_month  \\\n",
              "1076                           12.0                               3.0   \n",
              "1393                           15.0                               1.0   \n",
              "3468                           10.0                               0.0   \n",
              "2206                           57.0                               NaN   \n",
              "3500                            7.0                               0.0   \n",
              "3601                           20.0                               0.0   \n",
              "1026                           24.0                               0.0   \n",
              "3996                           12.0                               1.0   \n",
              "2300                           30.0                               NaN   \n",
              "3145                           30.0                               0.0   \n",
              "\n",
              "      trans_fail_top_count_enum_last_1_month  \\\n",
              "1076                                     2.0   \n",
              "1393                                     1.0   \n",
              "3468                                     2.0   \n",
              "2206                                     1.0   \n",
              "3500                                     0.0   \n",
              "3601                                     5.0   \n",
              "1026                                     2.0   \n",
              "3996                                     1.0   \n",
              "2300                                     1.0   \n",
              "3145                                     0.0   \n",
              "\n",
              "      trans_fail_top_count_enum_last_6_month  \\\n",
              "1076                                     6.0   \n",
              "1393                                     4.0   \n",
              "3468                                     3.0   \n",
              "2206                                     1.0   \n",
              "3500                                     9.0   \n",
              "3601                                     5.0   \n",
              "1026                                     9.0   \n",
              "3996                                    10.0   \n",
              "2300                                     2.0   \n",
              "3145                                     3.0   \n",
              "\n",
              "      trans_fail_top_count_enum_last_12_month  consume_mini_time_last_1_month  \\\n",
              "1076                                      6.0                             2.0   \n",
              "1393                                      4.0                        216576.0   \n",
              "3468                                      5.0                           244.0   \n",
              "2206                                      1.0                             0.0   \n",
              "3500                                      9.0                         86467.0   \n",
              "3601                                      5.0                             0.0   \n",
              "1026                                      9.0                             2.0   \n",
              "3996                                     10.0                            74.0   \n",
              "2300                                      2.0                             0.0   \n",
              "3145                                      3.0                             0.0   \n",
              "\n",
              "      max_cumulative_consume_later_1_month  max_consume_count_later_6_month  \\\n",
              "1076                                  2170                              6.0   \n",
              "1393                                  1540                              6.0   \n",
              "3468                                  8170                              4.0   \n",
              "2206                                   200                              1.0   \n",
              "3500                                  2580                              8.0   \n",
              "3601                                  3720                              4.0   \n",
              "1026                                  1010                              4.0   \n",
              "3996                                  2500                              6.0   \n",
              "2300                                   200                              1.0   \n",
              "3145                                  2290                              3.0   \n",
              "\n",
              "      railway_consume_count_last_12_month  \\\n",
              "1076                                  1.0   \n",
              "1393                                  0.0   \n",
              "3468                                  0.0   \n",
              "2206                                  0.0   \n",
              "3500                                  0.0   \n",
              "3601                                  0.0   \n",
              "1026                                  0.0   \n",
              "3996                                  1.0   \n",
              "2300                                  0.0   \n",
              "3145                                  0.0   \n",
              "\n",
              "      pawns_auctions_trusts_consume_last_1_month  \\\n",
              "1076                                        2150   \n",
              "1393                                         630   \n",
              "3468                                       20760   \n",
              "2206                                           0   \n",
              "3500                                        2640   \n",
              "3601                                           0   \n",
              "1026                                         760   \n",
              "3996                                         230   \n",
              "2300                                         200   \n",
              "3145                                           0   \n",
              "\n",
              "      pawns_auctions_trusts_consume_last_6_month  \\\n",
              "1076                                       13060   \n",
              "1393                                        5160   \n",
              "3468                                      147890   \n",
              "2206                                           0   \n",
              "3500                                       30940   \n",
              "3601                                       14260   \n",
              "1026                                        2620   \n",
              "3996                                        6000   \n",
              "2300                                        4930   \n",
              "3145                                       13750   \n",
              "\n",
              "      jewelry_consume_count_last_6_month  status source  \\\n",
              "1076                                 0.0       0     xs   \n",
              "1393                                 0.0       0     xs   \n",
              "3468                                 0.0       1     xs   \n",
              "2206                                 0.0       1     xs   \n",
              "3500                                 0.0       0     xs   \n",
              "3601                                 0.0       1     xs   \n",
              "1026                                 0.0       0     xs   \n",
              "3996                                 0.0       0     xs   \n",
              "2300                                 0.0       1     xs   \n",
              "3145                                 0.0       0     xs   \n",
              "\n",
              "      first_transaction_day  trans_day_last_12_month id_name  apply_score  \\\n",
              "1076                 1174.0                     82.0     史成禹        543.0   \n",
              "1393                  568.0                     84.0     方升平        652.0   \n",
              "3468                 1229.0                     86.0     史江雄        529.0   \n",
              "2206                 1410.0                    108.0     贾文雄        614.0   \n",
              "3500                  725.0                     82.0      刘辉        539.0   \n",
              "3601                 1217.0                     87.0     卢星成        539.0   \n",
              "1026                  869.0                     83.0     孙海源        540.0   \n",
              "3996                 2096.0                     82.0     张东林        537.0   \n",
              "2300                 1500.0                     94.0     姚心空        592.0   \n",
              "3145                  731.0                     88.0      高峰        591.0   \n",
              "\n",
              "      apply_credibility  query_org_count  query_finance_count  \\\n",
              "1076               73.0             29.0                 14.0   \n",
              "1393               75.0             10.0                  7.0   \n",
              "3468               79.0              6.0                  2.0   \n",
              "2206               71.0              3.0                  1.0   \n",
              "3500               72.0             16.0                  6.0   \n",
              "3601               79.0              5.0                  4.0   \n",
              "1026               74.0             15.0                  6.0   \n",
              "3996               78.0             12.0                  8.0   \n",
              "2300               64.0              2.0                  1.0   \n",
              "3145               76.0             14.0                  7.0   \n",
              "\n",
              "      query_cash_count  query_sum_count latest_query_time  \\\n",
              "1076              12.0             58.0        2018-04-29   \n",
              "1393               3.0             17.0        2018-04-27   \n",
              "3468               2.0              7.0        2018-04-13   \n",
              "2206               1.0              3.0        2018-04-02   \n",
              "3500               8.0             19.0        2018-04-14   \n",
              "3601               1.0              5.0        2018-03-27   \n",
              "1026               8.0             25.0        2018-04-27   \n",
              "3996               4.0             18.0        2018-04-24   \n",
              "2300               1.0              4.0        2018-01-26   \n",
              "3145               4.0             19.0        2018-04-14   \n",
              "\n",
              "      latest_one_month_apply  latest_three_month_apply  \\\n",
              "1076                    24.0                      43.0   \n",
              "1393                     7.0                       9.0   \n",
              "3468                     2.0                       4.0   \n",
              "2206                     0.0                       1.0   \n",
              "3500                     1.0                       5.0   \n",
              "3601                     0.0                       1.0   \n",
              "1026                     2.0                       7.0   \n",
              "3996                     2.0                       8.0   \n",
              "2300                     0.0                       0.0   \n",
              "3145                     5.0                      13.0   \n",
              "\n",
              "      latest_six_month_apply  loans_score  loans_credibility_behavior  \\\n",
              "1076                    48.0        520.0                        73.0   \n",
              "1393                    14.0        618.0                        75.0   \n",
              "3468                     7.0        495.0                        76.0   \n",
              "2206                     2.0        590.0                        79.0   \n",
              "3500                    12.0        505.0                        75.0   \n",
              "3601                     5.0        475.0                        77.0   \n",
              "1026                    19.0        485.0                        73.0   \n",
              "3996                    14.0        482.0                        76.0   \n",
              "2300                     1.0        567.0                        78.0   \n",
              "3145                    19.0        580.0                        77.0   \n",
              "\n",
              "      loans_count  loans_settle_count  loans_overdue_count  \\\n",
              "1076         39.0                33.0                  3.0   \n",
              "1393         28.0                26.0                  0.0   \n",
              "3468         37.0                30.0                  6.0   \n",
              "2206          6.0                 3.0                  0.0   \n",
              "3500         76.0                71.0                  1.0   \n",
              "3601         24.0                18.0                  6.0   \n",
              "1026         13.0                 9.0                  1.0   \n",
              "3996         53.0                48.0                  5.0   \n",
              "2300          1.0                 0.0                  0.0   \n",
              "3145         38.0                34.0                  1.0   \n",
              "\n",
              "      loans_org_count_behavior  consfin_org_count_behavior  loans_cash_count  \\\n",
              "1076                      12.0                         3.0               9.0   \n",
              "1393                      14.0                         7.0               7.0   \n",
              "3468                      21.0                        11.0              10.0   \n",
              "2206                       3.0                         2.0               1.0   \n",
              "3500                      25.0                         5.0              20.0   \n",
              "3601                      13.0                         7.0               6.0   \n",
              "1026                       9.0                         1.0               8.0   \n",
              "3996                      21.0                        10.0              11.0   \n",
              "2300                       1.0                         1.0               0.0   \n",
              "3145                      17.0                         5.0              12.0   \n",
              "\n",
              "      latest_one_month_loan  latest_three_month_loan  latest_six_month_loan  \\\n",
              "1076                    4.0                      6.0                   21.0   \n",
              "1393                    0.0                      1.0                    9.0   \n",
              "3468                    0.0                      2.0                   13.0   \n",
              "2206                    0.0                      2.0                    3.0   \n",
              "3500                    2.0                      4.0                   27.0   \n",
              "3601                    0.0                      0.0                    8.0   \n",
              "1026                    1.0                      2.0                   11.0   \n",
              "3996                    1.0                      4.0                   22.0   \n",
              "2300                    0.0                      0.0                    1.0   \n",
              "3145                    5.0                      7.0                   15.0   \n",
              "\n",
              "      history_suc_fee  history_fail_fee  latest_one_month_suc  \\\n",
              "1076             39.0              18.0                   1.0   \n",
              "1393             48.0              11.0                   0.0   \n",
              "3468             43.0              35.0                   0.0   \n",
              "2206              5.0               4.0                   0.0   \n",
              "3500             80.0              12.0                   1.0   \n",
              "3601             34.0              75.0                   0.0   \n",
              "1026              9.0              11.0                   1.0   \n",
              "3996             63.0              20.0                   1.0   \n",
              "2300              0.0               1.0                   0.0   \n",
              "3145             47.0              25.0                   6.0   \n",
              "\n",
              "      latest_one_month_fail  loans_long_time loans_latest_time  \\\n",
              "1076                    5.0            304.0        2018-05-03   \n",
              "1393                    0.0            308.0        2018-03-07   \n",
              "3468                    3.0            350.0        2018-03-31   \n",
              "2206                    1.0            275.0        2018-04-06   \n",
              "3500                    1.0            359.0        2018-05-01   \n",
              "3601                    8.0            348.0        2018-02-02   \n",
              "1026                    0.0            203.0        2018-04-27   \n",
              "3996                    1.0            359.0        2018-04-21   \n",
              "2300                    0.0            142.0        2017-12-16   \n",
              "3145                    2.0            346.0        2018-04-28   \n",
              "\n",
              "      loans_credit_limit  loans_credibility_limit  loans_org_count_current  \\\n",
              "1076              2600.0                     73.0                      9.0   \n",
              "1393              2100.0                     72.0                      7.0   \n",
              "3468              3000.0                     74.0                     10.0   \n",
              "2206               500.0                     72.0                      1.0   \n",
              "3500              2100.0                     75.0                     20.0   \n",
              "3601              2300.0                     75.0                      6.0   \n",
              "1026              1200.0                     73.0                      8.0   \n",
              "3996              2700.0                     74.0                     11.0   \n",
              "2300                 0.0                      0.0                      0.0   \n",
              "3145              2500.0                     75.0                     12.0   \n",
              "\n",
              "      loans_product_count  loans_max_limit  loans_avg_limit  \\\n",
              "1076                 10.0           5000.0           1800.0   \n",
              "1393                  7.0           2900.0           1657.0   \n",
              "3468                 10.0           7600.0           2840.0   \n",
              "2206                  1.0            500.0            500.0   \n",
              "3500                 22.0           4900.0           1795.0   \n",
              "3601                  6.0           3100.0           1950.0   \n",
              "1026                  8.0           1500.0           1000.0   \n",
              "3996                 11.0           4700.0           2281.0   \n",
              "2300                  0.0              0.0              0.0   \n",
              "3145                 14.0           3900.0           1816.0   \n",
              "\n",
              "      consfin_credit_limit  consfin_credibility  consfin_org_count_current  \\\n",
              "1076                6800.0                 74.0                        3.0   \n",
              "1393                7700.0                 78.0                        7.0   \n",
              "3468               13800.0                 79.0                       11.0   \n",
              "2206               19000.0                 80.0                        2.0   \n",
              "3500               13600.0                 78.0                        5.0   \n",
              "3601                8700.0                 78.0                        7.0   \n",
              "1026                4800.0                 75.0                        1.0   \n",
              "3996               10900.0                 79.0                       10.0   \n",
              "2300                3600.0                 78.0                        1.0   \n",
              "3145                3400.0                 83.0                        5.0   \n",
              "\n",
              "      consfin_product_count  consfin_max_limit  consfin_avg_limit  \\\n",
              "1076                    3.0            13200.0             6900.0   \n",
              "1393                    7.0            16200.0             5685.0   \n",
              "3468                   13.0            23400.0            10027.0   \n",
              "2206                    2.0            26400.0            18600.0   \n",
              "3500                    5.0            20400.0             9740.0   \n",
              "3601                    8.0            15600.0             4342.0   \n",
              "1026                    2.0             4800.0             4800.0   \n",
              "3996                   11.0            20400.0             6130.0   \n",
              "2300                    1.0             3600.0             3600.0   \n",
              "3145                    6.0             8400.0             4760.0   \n",
              "\n",
              "      latest_query_day  loans_latest_day  \n",
              "1076               8.0               4.0  \n",
              "1393               7.0              58.0  \n",
              "3468              21.0              34.0  \n",
              "2206              35.0              31.0  \n",
              "3500              23.0               6.0  \n",
              "3601              41.0              94.0  \n",
              "1026               7.0               7.0  \n",
              "3996              13.0              16.0  \n",
              "2300             101.0             142.0  \n",
              "3145              23.0               9.0  "
            ]
          },
          "metadata": {
            "tags": []
          },
          "execution_count": 44
        }
      ]
    },
    {
      "cell_type": "markdown",
      "metadata": {
        "id": "XT9p8xEFwXkk",
        "colab_type": "text"
      },
      "source": [
        "## 二. 数据分析与处理\n",
        "1. 数据类型、重复值分析\n",
        "2. 无关特征删除、类型转换\n",
        "3. 缺失值处理\n",
        "4. 其他可借鉴的数据分析处理"
      ]
    },
    {
      "cell_type": "markdown",
      "metadata": {
        "id": "qrSKapkEwXkl",
        "colab_type": "text"
      },
      "source": [
        "### 1. 数据类型分析"
      ]
    },
    {
      "cell_type": "code",
      "metadata": {
        "scrolled": true,
        "id": "m8J3i1NhwXkm",
        "colab_type": "code",
        "outputId": "18e1dbd0-574d-478a-ac5e-ea7edea1af5f",
        "colab": {
          "base_uri": "https://localhost:8080/",
          "height": 1649
        }
      },
      "source": [
        "data.info()\n",
        "data.shape"
      ],
      "execution_count": 45,
      "outputs": [
        {
          "output_type": "stream",
          "text": [
            "<class 'pandas.core.frame.DataFrame'>\n",
            "RangeIndex: 4754 entries, 0 to 4753\n",
            "Data columns (total 90 columns):\n",
            "Unnamed: 0                                    4754 non-null int64\n",
            "custid                                        4754 non-null int64\n",
            "trade_no                                      4754 non-null object\n",
            "bank_card_no                                  4754 non-null object\n",
            "low_volume_percent                            4752 non-null float64\n",
            "middle_volume_percent                         4752 non-null float64\n",
            "take_amount_in_later_12_month_highest         4754 non-null int64\n",
            "trans_amount_increase_rate_lately             4751 non-null float64\n",
            "trans_activity_month                          4752 non-null float64\n",
            "trans_activity_day                            4752 non-null float64\n",
            "transd_mcc                                    4752 non-null float64\n",
            "trans_days_interval_filter                    4746 non-null float64\n",
            "trans_days_interval                           4752 non-null float64\n",
            "regional_mobility                             4752 non-null float64\n",
            "student_feature                               1756 non-null float64\n",
            "repayment_capability                          4754 non-null int64\n",
            "is_high_user                                  4754 non-null int64\n",
            "number_of_trans_from_2011                     4752 non-null float64\n",
            "first_transaction_time                        4752 non-null float64\n",
            "historical_trans_amount                       4754 non-null int64\n",
            "historical_trans_day                          4752 non-null float64\n",
            "rank_trad_1_month                             4752 non-null float64\n",
            "trans_amount_3_month                          4754 non-null int64\n",
            "avg_consume_less_12_valid_month               4752 non-null float64\n",
            "abs                                           4754 non-null int64\n",
            "top_trans_count_last_1_month                  4752 non-null float64\n",
            "avg_price_last_12_month                       4754 non-null int64\n",
            "avg_price_top_last_12_valid_month             4650 non-null float64\n",
            "reg_preference_for_trad                       4752 non-null object\n",
            "trans_top_time_last_1_month                   4746 non-null float64\n",
            "trans_top_time_last_6_month                   4746 non-null float64\n",
            "consume_top_time_last_1_month                 4746 non-null float64\n",
            "consume_top_time_last_6_month                 4746 non-null float64\n",
            "cross_consume_count_last_1_month              4328 non-null float64\n",
            "trans_fail_top_count_enum_last_1_month        4738 non-null float64\n",
            "trans_fail_top_count_enum_last_6_month        4738 non-null float64\n",
            "trans_fail_top_count_enum_last_12_month       4738 non-null float64\n",
            "consume_mini_time_last_1_month                4728 non-null float64\n",
            "max_cumulative_consume_later_1_month          4754 non-null int64\n",
            "max_consume_count_later_6_month               4746 non-null float64\n",
            "railway_consume_count_last_12_month           4742 non-null float64\n",
            "pawns_auctions_trusts_consume_last_1_month    4754 non-null int64\n",
            "pawns_auctions_trusts_consume_last_6_month    4754 non-null int64\n",
            "jewelry_consume_count_last_6_month            4742 non-null float64\n",
            "status                                        4754 non-null int64\n",
            "source                                        4754 non-null object\n",
            "first_transaction_day                         4752 non-null float64\n",
            "trans_day_last_12_month                       4752 non-null float64\n",
            "id_name                                       4478 non-null object\n",
            "apply_score                                   4450 non-null float64\n",
            "apply_credibility                             4450 non-null float64\n",
            "query_org_count                               4450 non-null float64\n",
            "query_finance_count                           4450 non-null float64\n",
            "query_cash_count                              4450 non-null float64\n",
            "query_sum_count                               4450 non-null float64\n",
            "latest_query_time                             4450 non-null object\n",
            "latest_one_month_apply                        4450 non-null float64\n",
            "latest_three_month_apply                      4450 non-null float64\n",
            "latest_six_month_apply                        4450 non-null float64\n",
            "loans_score                                   4457 non-null float64\n",
            "loans_credibility_behavior                    4457 non-null float64\n",
            "loans_count                                   4457 non-null float64\n",
            "loans_settle_count                            4457 non-null float64\n",
            "loans_overdue_count                           4457 non-null float64\n",
            "loans_org_count_behavior                      4457 non-null float64\n",
            "consfin_org_count_behavior                    4457 non-null float64\n",
            "loans_cash_count                              4457 non-null float64\n",
            "latest_one_month_loan                         4457 non-null float64\n",
            "latest_three_month_loan                       4457 non-null float64\n",
            "latest_six_month_loan                         4457 non-null float64\n",
            "history_suc_fee                               4457 non-null float64\n",
            "history_fail_fee                              4457 non-null float64\n",
            "latest_one_month_suc                          4457 non-null float64\n",
            "latest_one_month_fail                         4457 non-null float64\n",
            "loans_long_time                               4457 non-null float64\n",
            "loans_latest_time                             4457 non-null object\n",
            "loans_credit_limit                            4457 non-null float64\n",
            "loans_credibility_limit                       4457 non-null float64\n",
            "loans_org_count_current                       4457 non-null float64\n",
            "loans_product_count                           4457 non-null float64\n",
            "loans_max_limit                               4457 non-null float64\n",
            "loans_avg_limit                               4457 non-null float64\n",
            "consfin_credit_limit                          4457 non-null float64\n",
            "consfin_credibility                           4457 non-null float64\n",
            "consfin_org_count_current                     4457 non-null float64\n",
            "consfin_product_count                         4457 non-null float64\n",
            "consfin_max_limit                             4457 non-null float64\n",
            "consfin_avg_limit                             4457 non-null float64\n",
            "latest_query_day                              4450 non-null float64\n",
            "loans_latest_day                              4457 non-null float64\n",
            "dtypes: float64(70), int64(13), object(7)\n",
            "memory usage: 3.3+ MB\n"
          ],
          "name": "stdout"
        },
        {
          "output_type": "execute_result",
          "data": {
            "text/plain": [
              "(4754, 90)"
            ]
          },
          "metadata": {
            "tags": []
          },
          "execution_count": 45
        }
      ]
    },
    {
      "cell_type": "markdown",
      "metadata": {
        "id": "WYyR0sw_wXkp",
        "colab_type": "text"
      },
      "source": [
        "### 2. 重复值分析"
      ]
    },
    {
      "cell_type": "code",
      "metadata": {
        "id": "2dHn8lqYwXkp",
        "colab_type": "code",
        "outputId": "9c86bec3-be9a-41f2-a3da-5f730f8860d6",
        "colab": {
          "base_uri": "https://localhost:8080/",
          "height": 34
        }
      },
      "source": [
        "# 检查是否要重复数据\n",
        "data.duplicated().any()"
      ],
      "execution_count": 46,
      "outputs": [
        {
          "output_type": "execute_result",
          "data": {
            "text/plain": [
              "False"
            ]
          },
          "metadata": {
            "tags": []
          },
          "execution_count": 46
        }
      ]
    },
    {
      "cell_type": "code",
      "metadata": {
        "id": "_6YxZKPXwXks",
        "colab_type": "code",
        "outputId": "a715f551-d452-4154-fd32-2788a2559f60",
        "colab": {
          "base_uri": "https://localhost:8080/",
          "height": 34
        }
      },
      "source": [
        "# 检查是否用重复的用户，结果False\n",
        "data[\"custid\"].duplicated().any()"
      ],
      "execution_count": 47,
      "outputs": [
        {
          "output_type": "execute_result",
          "data": {
            "text/plain": [
              "False"
            ]
          },
          "metadata": {
            "tags": []
          },
          "execution_count": 47
        }
      ]
    },
    {
      "cell_type": "markdown",
      "metadata": {
        "id": "8pYeCbT0wXku",
        "colab_type": "text"
      },
      "source": [
        "### 3. 无关特征删除、类型转换"
      ]
    },
    {
      "cell_type": "markdown",
      "metadata": {
        "id": "leDj8RZzwXkv",
        "colab_type": "text"
      },
      "source": [
        "#### 3.1 object类型的数据"
      ]
    },
    {
      "cell_type": "code",
      "metadata": {
        "id": "yOIQr6f0wXkw",
        "colab_type": "code",
        "outputId": "e894b073-23c2-4e5c-9520-011fd15ba584",
        "colab": {
          "base_uri": "https://localhost:8080/",
          "height": 68
        }
      },
      "source": [
        "data.select_dtypes(include=\"object\").columns"
      ],
      "execution_count": 48,
      "outputs": [
        {
          "output_type": "execute_result",
          "data": {
            "text/plain": [
              "Index(['trade_no', 'bank_card_no', 'reg_preference_for_trad', 'source',\n",
              "       'id_name', 'latest_query_time', 'loans_latest_time'],\n",
              "      dtype='object')"
            ]
          },
          "metadata": {
            "tags": []
          },
          "execution_count": 48
        }
      ]
    },
    {
      "cell_type": "code",
      "metadata": {
        "id": "LChzQDVHwXky",
        "colab_type": "code",
        "outputId": "43b3fb88-23a6-43d3-dfb8-fcc8b1544e18",
        "colab": {
          "base_uri": "https://localhost:8080/",
          "height": 187
        }
      },
      "source": [
        "'''分析object类型数据'''\n",
        "# 检查是否有重复的trade_no，结果False，且交易的单号不影响结果需要删除\n",
        "# display(data[\"trade_no\"].duplicated().any())\n",
        "# 检查bank_card_no，全为相同内容，需要删除\n",
        "display(data[\"bank_card_no\"].value_counts())\n",
        "# 检查reg_preference_for_trad，分为5大类需要使用LabelEncoder编码\n",
        "display(data[\"reg_preference_for_trad\"].value_counts())\n",
        "# 检查source，全为相同内容，需要删除\n",
        "display(data[\"source\"].value_counts())\n",
        "# loans_latest_time、latest_query_time 时间内容需要调整\n",
        "#id_name为用户姓名不影响结果需要删除"
      ],
      "execution_count": 49,
      "outputs": [
        {
          "output_type": "display_data",
          "data": {
            "text/plain": [
              "卡号1    4754\n",
              "Name: bank_card_no, dtype: int64"
            ]
          },
          "metadata": {
            "tags": []
          }
        },
        {
          "output_type": "display_data",
          "data": {
            "text/plain": [
              "一线城市    3403\n",
              "三线城市    1064\n",
              "境外       150\n",
              "二线城市     131\n",
              "其他城市       4\n",
              "Name: reg_preference_for_trad, dtype: int64"
            ]
          },
          "metadata": {
            "tags": []
          }
        },
        {
          "output_type": "display_data",
          "data": {
            "text/plain": [
              "xs    4754\n",
              "Name: source, dtype: int64"
            ]
          },
          "metadata": {
            "tags": []
          }
        }
      ]
    },
    {
      "cell_type": "code",
      "metadata": {
        "id": "3FQjHGHQwXk1",
        "colab_type": "code",
        "outputId": "13160930-0e21-4aca-8b40-e547e247c0a0",
        "colab": {
          "base_uri": "https://localhost:8080/",
          "height": 34
        }
      },
      "source": [
        "'''处理object类型数据'''\n",
        "#删除trade_no、bank_card_no、source、id_name、source列\n",
        "data.drop(columns=[\"trade_no\",\"bank_card_no\",\"id_name\",\"source\"], axis=1, inplace=True)\n",
        "data.select_dtypes(include=\"object\").columns"
      ],
      "execution_count": 50,
      "outputs": [
        {
          "output_type": "execute_result",
          "data": {
            "text/plain": [
              "Index(['reg_preference_for_trad', 'latest_query_time', 'loans_latest_time'], dtype='object')"
            ]
          },
          "metadata": {
            "tags": []
          },
          "execution_count": 50
        }
      ]
    },
    {
      "cell_type": "code",
      "metadata": {
        "id": "4JfXLpquwXk4",
        "colab_type": "code",
        "outputId": "f62b0507-ff23-452e-de0a-da3c56058e6e",
        "colab": {
          "base_uri": "https://localhost:8080/",
          "height": 136
        }
      },
      "source": [
        "#LabelEncoder编码处理reg_preference_for_trad\n",
        "from sklearn.preprocessing import LabelEncoder\n",
        "lb = LabelEncoder()\n",
        "data[\"reg_preference_for_trad\"] = lb.fit_transform(data[\"reg_preference_for_trad\"].astype(str))\n",
        "data[\"reg_preference_for_trad\"].value_counts()"
      ],
      "execution_count": 51,
      "outputs": [
        {
          "output_type": "execute_result",
          "data": {
            "text/plain": [
              "1    3403\n",
              "2    1064\n",
              "5     150\n",
              "3     131\n",
              "4       4\n",
              "0       2\n",
              "Name: reg_preference_for_trad, dtype: int64"
            ]
          },
          "metadata": {
            "tags": []
          },
          "execution_count": 51
        }
      ]
    },
    {
      "cell_type": "code",
      "metadata": {
        "id": "On_jWksuwXk6",
        "colab_type": "code",
        "colab": {}
      },
      "source": [
        "# 将'latest_query_time', 'loans_latest_time'转换成日期格式，然后计算与当前日期的天数差值\n",
        "data['latest_query_time'] = (pd.to_datetime(data['latest_query_time']) - pd.to_datetime('today')).apply(lambda col: col.days)\n",
        "data['loans_latest_time'] = (pd.to_datetime(data['loans_latest_time']) - pd.to_datetime('today')).apply(lambda col: col.days)"
      ],
      "execution_count": 0,
      "outputs": []
    },
    {
      "cell_type": "markdown",
      "metadata": {
        "id": "JYO5NS4mwXk8",
        "colab_type": "text"
      },
      "source": [
        "#### 3.2 非object类型的数据"
      ]
    },
    {
      "cell_type": "code",
      "metadata": {
        "id": "qcsT5ZejwXk9",
        "colab_type": "code",
        "colab": {}
      },
      "source": [
        "# Unnamed: 0 为序号需要删除，custid为用户id需要删除\n",
        "data.drop(columns=[\"Unnamed: 0\",\"custid\"], axis=1, inplace=True)"
      ],
      "execution_count": 0,
      "outputs": []
    },
    {
      "cell_type": "markdown",
      "metadata": {
        "id": "vMRTPU6LwXk_",
        "colab_type": "text"
      },
      "source": [
        "### 4. 缺失值处理"
      ]
    },
    {
      "cell_type": "code",
      "metadata": {
        "scrolled": true,
        "id": "hRPyz_t6wXlA",
        "colab_type": "code",
        "outputId": "54d55f7d-39f8-4d27-9da0-f58eee74c0f5",
        "colab": {
          "base_uri": "https://localhost:8080/",
          "height": 238
        }
      },
      "source": [
        "data.isnull().sum().value_counts()"
      ],
      "execution_count": 54,
      "outputs": [
        {
          "output_type": "execute_result",
          "data": {
            "text/plain": [
              "297     30\n",
              "2       15\n",
              "0       12\n",
              "304     11\n",
              "8        6\n",
              "16       3\n",
              "12       2\n",
              "104      1\n",
              "2998     1\n",
              "426      1\n",
              "26       1\n",
              "3        1\n",
              "dtype: int64"
            ]
          },
          "metadata": {
            "tags": []
          },
          "execution_count": 54
        }
      ]
    },
    {
      "cell_type": "code",
      "metadata": {
        "id": "LFfLfqpiwXlE",
        "colab_type": "code",
        "outputId": "cb0e980b-78c2-44e1-a37a-d0e10b588706",
        "colab": {
          "base_uri": "https://localhost:8080/",
          "height": 170
        }
      },
      "source": [
        "data.isnull().sum().argmax()"
      ],
      "execution_count": 55,
      "outputs": [
        {
          "output_type": "stream",
          "text": [
            "/usr/local/lib/python3.6/dist-packages/ipykernel_launcher.py:1: FutureWarning: \n",
            "The current behaviour of 'Series.argmax' is deprecated, use 'idxmax'\n",
            "instead.\n",
            "The behavior of 'argmax' will be corrected to return the positional\n",
            "maximum in the future. For now, use 'series.values.argmax' or\n",
            "'np.argmax(np.array(values))' to get the position of the maximum\n",
            "row.\n",
            "  \"\"\"Entry point for launching an IPython kernel.\n"
          ],
          "name": "stderr"
        },
        {
          "output_type": "execute_result",
          "data": {
            "text/plain": [
              "'student_feature'"
            ]
          },
          "metadata": {
            "tags": []
          },
          "execution_count": 55
        }
      ]
    },
    {
      "cell_type": "code",
      "metadata": {
        "id": "gxU1Zp4QwXlH",
        "colab_type": "code",
        "colab": {}
      },
      "source": [
        "#找出缺失值最多的特征，经检查为student_feature，预估含义是用户的学生类型，考虑将空值设成0\n",
        "data[\"student_feature\"].fillna(value=0,inplace=True)"
      ],
      "execution_count": 0,
      "outputs": []
    },
    {
      "cell_type": "code",
      "metadata": {
        "id": "EcY74FwswXlK",
        "colab_type": "code",
        "outputId": "ad1afeb5-0c17-4c33-e988-e4f54171c7e2",
        "colab": {
          "base_uri": "https://localhost:8080/",
          "height": 357
        }
      },
      "source": [
        "data.isnull().sum(axis=1).value_counts()"
      ],
      "execution_count": 57,
      "outputs": [
        {
          "output_type": "execute_result",
          "data": {
            "text/plain": [
              "0     3983\n",
              "1      385\n",
              "41     249\n",
              "2       37\n",
              "42      27\n",
              "11      22\n",
              "31      12\n",
              "30       8\n",
              "3        7\n",
              "4        7\n",
              "12       5\n",
              "10       3\n",
              "5        3\n",
              "6        1\n",
              "13       1\n",
              "15       1\n",
              "44       1\n",
              "32       1\n",
              "43       1\n",
              "dtype: int64"
            ]
          },
          "metadata": {
            "tags": []
          },
          "execution_count": 57
        }
      ]
    },
    {
      "cell_type": "code",
      "metadata": {
        "scrolled": false,
        "id": "9A2spx2TwXlP",
        "colab_type": "code",
        "outputId": "fe34400f-4662-4c70-d23d-bfffa3e2c704",
        "colab": {
          "base_uri": "https://localhost:8080/",
          "height": 323
        }
      },
      "source": [
        "# 仅保留至少包含49个非NA值的行。\n",
        "display(data.shape)\n",
        "data.dropna(thresh=49,inplace=True)\n",
        "# data.info()\n",
        "data[\"status\"].isnull().any()\n",
        "display(data.shape)\n",
        "data.isnull().sum(axis=1).value_counts()"
      ],
      "execution_count": 58,
      "outputs": [
        {
          "output_type": "display_data",
          "data": {
            "text/plain": [
              "(4754, 84)"
            ]
          },
          "metadata": {
            "tags": []
          }
        },
        {
          "output_type": "display_data",
          "data": {
            "text/plain": [
              "(4476, 84)"
            ]
          },
          "metadata": {
            "tags": []
          }
        },
        {
          "output_type": "execute_result",
          "data": {
            "text/plain": [
              "0     3983\n",
              "1      385\n",
              "2       37\n",
              "11      22\n",
              "31      12\n",
              "30       8\n",
              "3        7\n",
              "4        7\n",
              "12       5\n",
              "10       3\n",
              "5        3\n",
              "15       1\n",
              "6        1\n",
              "13       1\n",
              "32       1\n",
              "dtype: int64"
            ]
          },
          "metadata": {
            "tags": []
          },
          "execution_count": 58
        }
      ]
    },
    {
      "cell_type": "code",
      "metadata": {
        "scrolled": false,
        "id": "A_W9pcm0wXlU",
        "colab_type": "code",
        "outputId": "d177fd5c-f629-4ca0-9168-ebdfda4cd446",
        "colab": {
          "base_uri": "https://localhost:8080/",
          "height": 1683
        }
      },
      "source": [
        "data.info()\n",
        "data.isnull().sum().argmax()"
      ],
      "execution_count": 59,
      "outputs": [
        {
          "output_type": "stream",
          "text": [
            "<class 'pandas.core.frame.DataFrame'>\n",
            "Int64Index: 4476 entries, 0 to 4753\n",
            "Data columns (total 84 columns):\n",
            "low_volume_percent                            4474 non-null float64\n",
            "middle_volume_percent                         4474 non-null float64\n",
            "take_amount_in_later_12_month_highest         4476 non-null int64\n",
            "trans_amount_increase_rate_lately             4473 non-null float64\n",
            "trans_activity_month                          4474 non-null float64\n",
            "trans_activity_day                            4474 non-null float64\n",
            "transd_mcc                                    4474 non-null float64\n",
            "trans_days_interval_filter                    4468 non-null float64\n",
            "trans_days_interval                           4474 non-null float64\n",
            "regional_mobility                             4474 non-null float64\n",
            "student_feature                               4476 non-null float64\n",
            "repayment_capability                          4476 non-null int64\n",
            "is_high_user                                  4476 non-null int64\n",
            "number_of_trans_from_2011                     4474 non-null float64\n",
            "first_transaction_time                        4474 non-null float64\n",
            "historical_trans_amount                       4476 non-null int64\n",
            "historical_trans_day                          4474 non-null float64\n",
            "rank_trad_1_month                             4474 non-null float64\n",
            "trans_amount_3_month                          4476 non-null int64\n",
            "avg_consume_less_12_valid_month               4474 non-null float64\n",
            "abs                                           4476 non-null int64\n",
            "top_trans_count_last_1_month                  4474 non-null float64\n",
            "avg_price_last_12_month                       4476 non-null int64\n",
            "avg_price_top_last_12_valid_month             4376 non-null float64\n",
            "reg_preference_for_trad                       4476 non-null int64\n",
            "trans_top_time_last_1_month                   4468 non-null float64\n",
            "trans_top_time_last_6_month                   4468 non-null float64\n",
            "consume_top_time_last_1_month                 4468 non-null float64\n",
            "consume_top_time_last_6_month                 4468 non-null float64\n",
            "cross_consume_count_last_1_month              4075 non-null float64\n",
            "trans_fail_top_count_enum_last_1_month        4461 non-null float64\n",
            "trans_fail_top_count_enum_last_6_month        4461 non-null float64\n",
            "trans_fail_top_count_enum_last_12_month       4461 non-null float64\n",
            "consume_mini_time_last_1_month                4450 non-null float64\n",
            "max_cumulative_consume_later_1_month          4476 non-null int64\n",
            "max_consume_count_later_6_month               4468 non-null float64\n",
            "railway_consume_count_last_12_month           4464 non-null float64\n",
            "pawns_auctions_trusts_consume_last_1_month    4476 non-null int64\n",
            "pawns_auctions_trusts_consume_last_6_month    4476 non-null int64\n",
            "jewelry_consume_count_last_6_month            4464 non-null float64\n",
            "status                                        4476 non-null int64\n",
            "first_transaction_day                         4474 non-null float64\n",
            "trans_day_last_12_month                       4474 non-null float64\n",
            "apply_score                                   4450 non-null float64\n",
            "apply_credibility                             4450 non-null float64\n",
            "query_org_count                               4450 non-null float64\n",
            "query_finance_count                           4450 non-null float64\n",
            "query_cash_count                              4450 non-null float64\n",
            "query_sum_count                               4450 non-null float64\n",
            "latest_query_time                             4450 non-null float64\n",
            "latest_one_month_apply                        4450 non-null float64\n",
            "latest_three_month_apply                      4450 non-null float64\n",
            "latest_six_month_apply                        4450 non-null float64\n",
            "loans_score                                   4457 non-null float64\n",
            "loans_credibility_behavior                    4457 non-null float64\n",
            "loans_count                                   4457 non-null float64\n",
            "loans_settle_count                            4457 non-null float64\n",
            "loans_overdue_count                           4457 non-null float64\n",
            "loans_org_count_behavior                      4457 non-null float64\n",
            "consfin_org_count_behavior                    4457 non-null float64\n",
            "loans_cash_count                              4457 non-null float64\n",
            "latest_one_month_loan                         4457 non-null float64\n",
            "latest_three_month_loan                       4457 non-null float64\n",
            "latest_six_month_loan                         4457 non-null float64\n",
            "history_suc_fee                               4457 non-null float64\n",
            "history_fail_fee                              4457 non-null float64\n",
            "latest_one_month_suc                          4457 non-null float64\n",
            "latest_one_month_fail                         4457 non-null float64\n",
            "loans_long_time                               4457 non-null float64\n",
            "loans_latest_time                             4457 non-null float64\n",
            "loans_credit_limit                            4457 non-null float64\n",
            "loans_credibility_limit                       4457 non-null float64\n",
            "loans_org_count_current                       4457 non-null float64\n",
            "loans_product_count                           4457 non-null float64\n",
            "loans_max_limit                               4457 non-null float64\n",
            "loans_avg_limit                               4457 non-null float64\n",
            "consfin_credit_limit                          4457 non-null float64\n",
            "consfin_credibility                           4457 non-null float64\n",
            "consfin_org_count_current                     4457 non-null float64\n",
            "consfin_product_count                         4457 non-null float64\n",
            "consfin_max_limit                             4457 non-null float64\n",
            "consfin_avg_limit                             4457 non-null float64\n",
            "latest_query_day                              4450 non-null float64\n",
            "loans_latest_day                              4457 non-null float64\n",
            "dtypes: float64(72), int64(12)\n",
            "memory usage: 2.9 MB\n"
          ],
          "name": "stdout"
        },
        {
          "output_type": "stream",
          "text": [
            "/usr/local/lib/python3.6/dist-packages/ipykernel_launcher.py:2: FutureWarning: \n",
            "The current behaviour of 'Series.argmax' is deprecated, use 'idxmax'\n",
            "instead.\n",
            "The behavior of 'argmax' will be corrected to return the positional\n",
            "maximum in the future. For now, use 'series.values.argmax' or\n",
            "'np.argmax(np.array(values))' to get the position of the maximum\n",
            "row.\n",
            "  \n"
          ],
          "name": "stderr"
        },
        {
          "output_type": "execute_result",
          "data": {
            "text/plain": [
              "'cross_consume_count_last_1_month'"
            ]
          },
          "metadata": {
            "tags": []
          },
          "execution_count": 59
        }
      ]
    },
    {
      "cell_type": "code",
      "metadata": {
        "scrolled": true,
        "id": "mvIVWaa8wXlX",
        "colab_type": "code",
        "outputId": "49a28639-9d05-4ffd-c414-ea5f12908d7c",
        "colab": {
          "base_uri": "https://localhost:8080/",
          "height": 1071
        }
      },
      "source": [
        "data[\"cross_consume_count_last_1_month\"]"
      ],
      "execution_count": 60,
      "outputs": [
        {
          "output_type": "execute_result",
          "data": {
            "text/plain": [
              "0       1.0\n",
              "1       0.0\n",
              "2       0.0\n",
              "3       0.0\n",
              "4       0.0\n",
              "5       1.0\n",
              "6       NaN\n",
              "8       2.0\n",
              "9       0.0\n",
              "10      0.0\n",
              "11      0.0\n",
              "12      4.0\n",
              "13      0.0\n",
              "14      1.0\n",
              "15      0.0\n",
              "16      0.0\n",
              "17      0.0\n",
              "18      0.0\n",
              "19      1.0\n",
              "20      2.0\n",
              "21      0.0\n",
              "22      2.0\n",
              "23      2.0\n",
              "24      0.0\n",
              "25      NaN\n",
              "26      3.0\n",
              "27      0.0\n",
              "28      0.0\n",
              "29      0.0\n",
              "30      4.0\n",
              "       ... \n",
              "4723    0.0\n",
              "4724    0.0\n",
              "4725    NaN\n",
              "4726    0.0\n",
              "4727    0.0\n",
              "4728    0.0\n",
              "4729    0.0\n",
              "4730    0.0\n",
              "4731    0.0\n",
              "4732    NaN\n",
              "4733    0.0\n",
              "4734    0.0\n",
              "4735    0.0\n",
              "4736    0.0\n",
              "4737    0.0\n",
              "4738    3.0\n",
              "4739    1.0\n",
              "4740    1.0\n",
              "4741    0.0\n",
              "4742    0.0\n",
              "4743    0.0\n",
              "4744    0.0\n",
              "4745    1.0\n",
              "4747    3.0\n",
              "4748    NaN\n",
              "4749    0.0\n",
              "4750    1.0\n",
              "4751    1.0\n",
              "4752    0.0\n",
              "4753    1.0\n",
              "Name: cross_consume_count_last_1_month, Length: 4476, dtype: float64"
            ]
          },
          "metadata": {
            "tags": []
          },
          "execution_count": 60
        }
      ]
    },
    {
      "cell_type": "code",
      "metadata": {
        "id": "hDb-Z8l2wXlZ",
        "colab_type": "code",
        "colab": {}
      },
      "source": [
        "# 找出缺失值最多的特征，cross_consume_count_last_1_month，预估含义是用户超过一个月消费的累计次数，故考虑填充为0\n",
        "data[\"cross_consume_count_last_1_month\"].fillna(value=0,inplace=True)"
      ],
      "execution_count": 0,
      "outputs": []
    },
    {
      "cell_type": "code",
      "metadata": {
        "id": "eoaTirR-wXlc",
        "colab_type": "code",
        "colab": {}
      },
      "source": [
        "# 其余缺失值考虑用均值来代替\n",
        "data.fillna(data.mean(),inplace=True)"
      ],
      "execution_count": 0,
      "outputs": []
    },
    {
      "cell_type": "markdown",
      "metadata": {
        "id": "rWquKLRhwXld",
        "colab_type": "text"
      },
      "source": [
        "## 三. 数据切分"
      ]
    },
    {
      "cell_type": "code",
      "metadata": {
        "scrolled": true,
        "id": "Vij5USPnwXle",
        "colab_type": "code",
        "colab": {}
      },
      "source": [
        "# 将标签和特征拆分\n",
        "y = data[\"status\"]\n",
        "data.drop([\"status\"], axis=1, inplace=True)\n",
        "x = data"
      ],
      "execution_count": 0,
      "outputs": []
    },
    {
      "cell_type": "code",
      "metadata": {
        "scrolled": true,
        "id": "ma4h6XUywXlf",
        "colab_type": "code",
        "outputId": "78dadbf4-19c9-489a-d350-3c776c947e1d",
        "colab": {
          "base_uri": "https://localhost:8080/",
          "height": 85
        }
      },
      "source": [
        "# 将数据按3:7拆分测试集和训练集\n",
        "from sklearn.model_selection import train_test_split\n",
        "\n",
        "x_train, x_test, y_train, y_test = train_test_split(x, y, test_size=0.3, random_state=2018)\n",
        "display(x_train.shape)\n",
        "display(x_test.shape)\n",
        "display(y_train.shape)\n",
        "display(y_test.shape)"
      ],
      "execution_count": 64,
      "outputs": [
        {
          "output_type": "display_data",
          "data": {
            "text/plain": [
              "(3133, 83)"
            ]
          },
          "metadata": {
            "tags": []
          }
        },
        {
          "output_type": "display_data",
          "data": {
            "text/plain": [
              "(1343, 83)"
            ]
          },
          "metadata": {
            "tags": []
          }
        },
        {
          "output_type": "display_data",
          "data": {
            "text/plain": [
              "(3133,)"
            ]
          },
          "metadata": {
            "tags": []
          }
        },
        {
          "output_type": "display_data",
          "data": {
            "text/plain": [
              "(1343,)"
            ]
          },
          "metadata": {
            "tags": []
          }
        }
      ]
    },
    {
      "cell_type": "markdown",
      "metadata": {
        "id": "lV8nYiHiwXli",
        "colab_type": "text"
      },
      "source": [
        "# 任务2：特征工程 5.13-5.14\n",
        "目标\n",
        "预测贷款用户是否会逾期。表格中 \"status\" 是结果标签：0表示未逾期，1表示逾期。\n",
        "\n",
        "要求\n",
        "1. 特征衍生\n",
        "2. 特征挑选：分别用IV值和随机森林等进行特征选择\n",
        "3. 其他特征工程处理"
      ]
    },
    {
      "cell_type": "markdown",
      "metadata": {
        "id": "gSxsOJ-0wXlj",
        "colab_type": "text"
      },
      "source": [
        "## 一. 随机森林进行特征选择"
      ]
    },
    {
      "cell_type": "code",
      "metadata": {
        "id": "0KNgclG2wXlm",
        "colab_type": "code",
        "outputId": "4af6c148-19e2-4f09-9340-5cacfc42309a",
        "colab": {
          "base_uri": "https://localhost:8080/",
          "height": 136
        }
      },
      "source": [
        "# 随机森林进行特征选择\n",
        "from sklearn.ensemble import RandomForestClassifier\n",
        "forest = RandomForestClassifier(n_estimators=1000, random_state=2019)\n",
        "forest.fit(x_train, y_train)"
      ],
      "execution_count": 65,
      "outputs": [
        {
          "output_type": "execute_result",
          "data": {
            "text/plain": [
              "RandomForestClassifier(bootstrap=True, class_weight=None, criterion='gini',\n",
              "            max_depth=None, max_features='auto', max_leaf_nodes=None,\n",
              "            min_impurity_decrease=0.0, min_impurity_split=None,\n",
              "            min_samples_leaf=1, min_samples_split=2,\n",
              "            min_weight_fraction_leaf=0.0, n_estimators=1000, n_jobs=None,\n",
              "            oob_score=False, random_state=2019, verbose=0,\n",
              "            warm_start=False)"
            ]
          },
          "metadata": {
            "tags": []
          },
          "execution_count": 65
        }
      ]
    },
    {
      "cell_type": "code",
      "metadata": {
        "id": "3WXfARKwwXlo",
        "colab_type": "code",
        "outputId": "d60d5cdc-ea87-49a6-9dfe-285d1940b94e",
        "colab": {
          "base_uri": "https://localhost:8080/",
          "height": 1428
        }
      },
      "source": [
        "feat_labels = data.columns\n",
        "importances =forest.feature_importances_\n",
        "indices = np.argsort(importances)[::-1]\n",
        "for f in range (x_train.shape[1]):\n",
        "    print(\"%2d) %-*s %f\" % (f + 1, 10, feat_labels[indices[f]], importances[indices[f]]))"
      ],
      "execution_count": 66,
      "outputs": [
        {
          "output_type": "stream",
          "text": [
            " 1) history_fail_fee 0.048756\n",
            " 2) trans_fail_top_count_enum_last_1_month 0.045476\n",
            " 3) loans_score 0.037631\n",
            " 4) apply_score 0.030467\n",
            " 5) latest_one_month_fail 0.029355\n",
            " 6) loans_overdue_count 0.023539\n",
            " 7) trans_amount_3_month 0.016490\n",
            " 8) max_cumulative_consume_later_1_month 0.016106\n",
            " 9) latest_query_day 0.015476\n",
            "10) loans_avg_limit 0.015357\n",
            "11) repayment_capability 0.015348\n",
            "12) abs        0.015252\n",
            "13) trans_amount_increase_rate_lately 0.015173\n",
            "14) first_transaction_day 0.014736\n",
            "15) latest_query_time 0.014623\n",
            "16) consfin_avg_limit 0.014615\n",
            "17) historical_trans_amount 0.014606\n",
            "18) avg_price_last_12_month 0.014443\n",
            "19) first_transaction_time 0.014205\n",
            "20) consfin_credit_limit 0.013508\n",
            "21) historical_trans_day 0.013403\n",
            "22) pawns_auctions_trusts_consume_last_6_month 0.013393\n",
            "23) trans_activity_day 0.013350\n",
            "24) loans_long_time 0.013197\n",
            "25) history_suc_fee 0.013087\n",
            "26) loans_latest_day 0.013012\n",
            "27) loans_latest_time 0.012875\n",
            "28) trans_day_last_12_month 0.012810\n",
            "29) trans_days_interval_filter 0.012800\n",
            "30) trans_fail_top_count_enum_last_12_month 0.012766\n",
            "31) apply_credibility 0.012093\n",
            "32) trans_fail_top_count_enum_last_6_month 0.012057\n",
            "33) consfin_max_limit 0.011960\n",
            "34) loans_settle_count 0.011669\n",
            "35) loans_max_limit 0.011541\n",
            "36) loans_credit_limit 0.011482\n",
            "37) number_of_trans_from_2011 0.011406\n",
            "38) trans_days_interval 0.011321\n",
            "39) consume_top_time_last_6_month 0.011159\n",
            "40) trans_top_time_last_6_month 0.011085\n",
            "41) transd_mcc 0.010853\n",
            "42) loans_count 0.010814\n",
            "43) rank_trad_1_month 0.010726\n",
            "44) trans_top_time_last_1_month 0.010590\n",
            "45) query_sum_count 0.010553\n",
            "46) latest_six_month_apply 0.009894\n",
            "47) trans_activity_month 0.009861\n",
            "48) latest_one_month_suc 0.009841\n",
            "49) consume_mini_time_last_1_month 0.009788\n",
            "50) latest_six_month_loan 0.009735\n",
            "51) latest_three_month_apply 0.009727\n",
            "52) consume_top_time_last_1_month 0.009643\n",
            "53) take_amount_in_later_12_month_highest 0.009637\n",
            "54) query_org_count 0.009609\n",
            "55) middle_volume_percent 0.009393\n",
            "56) consfin_credibility 0.009292\n",
            "57) loans_org_count_behavior 0.009154\n",
            "58) loans_credibility_behavior 0.009138\n",
            "59) avg_price_top_last_12_valid_month 0.009003\n",
            "60) loans_credibility_limit 0.008951\n",
            "61) query_finance_count 0.008853\n",
            "62) max_consume_count_later_6_month 0.008446\n",
            "63) pawns_auctions_trusts_consume_last_1_month 0.008444\n",
            "64) latest_one_month_apply 0.008258\n",
            "65) latest_three_month_loan 0.008180\n",
            "66) loans_product_count 0.007872\n",
            "67) query_cash_count 0.007710\n",
            "68) loans_cash_count 0.007568\n",
            "69) loans_org_count_current 0.007474\n",
            "70) consfin_product_count 0.007419\n",
            "71) top_trans_count_last_1_month 0.007190\n",
            "72) avg_consume_less_12_valid_month 0.007066\n",
            "73) consfin_org_count_behavior 0.006798\n",
            "74) low_volume_percent 0.006792\n",
            "75) consfin_org_count_current 0.006665\n",
            "76) regional_mobility 0.004474\n",
            "77) latest_one_month_loan 0.003534\n",
            "78) cross_consume_count_last_1_month 0.003233\n",
            "79) reg_preference_for_trad 0.002663\n",
            "80) student_feature 0.001871\n",
            "81) railway_consume_count_last_12_month 0.001077\n",
            "82) jewelry_consume_count_last_6_month 0.000299\n",
            "83) is_high_user 0.000291\n"
          ],
          "name": "stdout"
        }
      ]
    },
    {
      "cell_type": "code",
      "metadata": {
        "scrolled": true,
        "id": "92IEWxYPwXlr",
        "colab_type": "code",
        "outputId": "2f01431c-6549-4a1c-cf1c-8511d77cf949",
        "colab": {
          "base_uri": "https://localhost:8080/",
          "height": 833
        }
      },
      "source": [
        "display(importances.shape)\n",
        "\n",
        "threshold = 0.01\n",
        "x_selected = list(x_train.columns[importances> threshold])\n",
        "display(x_selected)\n",
        "x_train_sel = x_train[x_selected]\n",
        "display(x_train_sel.shape)\n",
        "x_test_sel = x_test[x_selected]\n",
        "display(x_test_sel.shape)"
      ],
      "execution_count": 67,
      "outputs": [
        {
          "output_type": "display_data",
          "data": {
            "text/plain": [
              "(83,)"
            ]
          },
          "metadata": {
            "tags": []
          }
        },
        {
          "output_type": "display_data",
          "data": {
            "text/plain": [
              "['trans_amount_increase_rate_lately',\n",
              " 'trans_activity_day',\n",
              " 'transd_mcc',\n",
              " 'trans_days_interval_filter',\n",
              " 'trans_days_interval',\n",
              " 'repayment_capability',\n",
              " 'number_of_trans_from_2011',\n",
              " 'first_transaction_time',\n",
              " 'historical_trans_amount',\n",
              " 'historical_trans_day',\n",
              " 'rank_trad_1_month',\n",
              " 'trans_amount_3_month',\n",
              " 'abs',\n",
              " 'avg_price_last_12_month',\n",
              " 'trans_top_time_last_1_month',\n",
              " 'trans_top_time_last_6_month',\n",
              " 'consume_top_time_last_6_month',\n",
              " 'trans_fail_top_count_enum_last_1_month',\n",
              " 'trans_fail_top_count_enum_last_6_month',\n",
              " 'trans_fail_top_count_enum_last_12_month',\n",
              " 'max_cumulative_consume_later_1_month',\n",
              " 'pawns_auctions_trusts_consume_last_6_month',\n",
              " 'first_transaction_day',\n",
              " 'trans_day_last_12_month',\n",
              " 'apply_score',\n",
              " 'apply_credibility',\n",
              " 'query_sum_count',\n",
              " 'latest_query_time',\n",
              " 'loans_score',\n",
              " 'loans_count',\n",
              " 'loans_settle_count',\n",
              " 'loans_overdue_count',\n",
              " 'history_suc_fee',\n",
              " 'history_fail_fee',\n",
              " 'latest_one_month_fail',\n",
              " 'loans_long_time',\n",
              " 'loans_latest_time',\n",
              " 'loans_credit_limit',\n",
              " 'loans_max_limit',\n",
              " 'loans_avg_limit',\n",
              " 'consfin_credit_limit',\n",
              " 'consfin_max_limit',\n",
              " 'consfin_avg_limit',\n",
              " 'latest_query_day',\n",
              " 'loans_latest_day']"
            ]
          },
          "metadata": {
            "tags": []
          }
        },
        {
          "output_type": "display_data",
          "data": {
            "text/plain": [
              "(3133, 45)"
            ]
          },
          "metadata": {
            "tags": []
          }
        },
        {
          "output_type": "display_data",
          "data": {
            "text/plain": [
              "(1343, 45)"
            ]
          },
          "metadata": {
            "tags": []
          }
        }
      ]
    },
    {
      "cell_type": "markdown",
      "metadata": {
        "id": "xvl_G8N1wXlu",
        "colab_type": "text"
      },
      "source": [
        "## 二. IV值进行特征选择"
      ]
    },
    {
      "cell_type": "code",
      "metadata": {
        "id": "28E7QIy8wXlu",
        "colab_type": "code",
        "colab": {}
      },
      "source": [
        "# 参考别的同学代码，还得再研究研究\n",
        "import math\n",
        "from sklearn.utils.multiclass import type_of_target\n",
        "from scipy import stats\n",
        "#求woe值和iv值\n",
        "def woe(X, y, event):\n",
        "    res_woe = []  #列表存放woe字典\n",
        "    res_iv = []  #列表存放iv\n",
        "    X1 = feature_discretion(X) #对连续型特征进行处理\n",
        "    for i in range(0, X1.shape[-1]):  #遍历所有特征\n",
        "        x = X1[:, i]  #单个特征\n",
        "        woe_dict, iv1 = woe_single_x(x, y, event)  #计算单个特征的woe值\n",
        "        res_woe.append(woe_dict)\n",
        "        res_iv.append(iv1)\n",
        "    return np.array(res_woe), np.array(res_iv)  #返回数组\n",
        "\n",
        "#求单个特征的woe值\n",
        "def woe_single_x(x, y, event):\n",
        "    event_total, non_event_total = count_binary(y, event) #计算好人坏人总数\n",
        "    x_labels = np.unique(x) #特征中的分段\n",
        "    woe_dict = {}  #存放每个分段的名称 以及 其对应的woe值\n",
        "    iv = 0\n",
        "    for x1 in x_labels: #遍历每个分段\n",
        "        y1 = y[np.where(x == x1)[0]]\n",
        "        event_count, non_event_count = count_binary(y1, event=event)\n",
        "        rate_event = 1.0 * event_count / event_total\n",
        "        rate_non_event = 1.0 * non_event_count / non_event_total\n",
        "        #woe无穷大时处理\n",
        "        if rate_event == 0:\n",
        "            print()#print(\"{'\",x1,\"'}\"+\":全是好人\") #只输出不做处理\n",
        "        elif rate_non_event == 0:\n",
        "            print()#print(\"{'\",x1,\"'}\"+\":全是坏人\")\n",
        "        else:\n",
        "            woe1 = math.log(rate_event / rate_non_event)\n",
        "            woe_dict[x1] = woe1  \n",
        "            iv += (rate_event - rate_non_event) * woe1\n",
        "    return woe_dict, iv\n",
        "\n",
        "#计算个数\n",
        "def count_binary(a, event):\n",
        "    event_count = (a == event).sum()\n",
        "    non_event_count = a.shape[-1] - event_count\n",
        "    return event_count, non_event_count\n",
        "\n",
        "#判断特征数据是否为离散型\n",
        "def feature_discretion(X):\n",
        "    temp = []\n",
        "    for i in range(0, X.shape[-1]):\n",
        "        x = X[:, i]\n",
        "        x_type = type_of_target(x)\n",
        "        if pd.Series(list(x)).dtype != 'O':\n",
        "            x1 = discrete(x)\n",
        "            temp.append(x1)\n",
        "        else:\n",
        "            temp.append(x)\n",
        "    return np.array(temp).T\n",
        "\n",
        "#对连续型特征进行离散化\n",
        "def discrete(x):\n",
        "    res = np.array([0] * x.shape[-1], dtype=int)\n",
        "    for i in range(5):\n",
        "        point1 = stats.scoreatpercentile(x, i * 20)\n",
        "        point2 = stats.scoreatpercentile(x, (i + 1) * 20)\n",
        "        x1 = x[np.where((x >= point1) & (x <= point2))]\n",
        "        mask = np.in1d(x, x1)\n",
        "        res[mask] = (i + 1)\n",
        "    return res"
      ],
      "execution_count": 0,
      "outputs": []
    },
    {
      "cell_type": "code",
      "metadata": {
        "scrolled": true,
        "id": "S5aMIjTjwXlw",
        "colab_type": "code",
        "outputId": "f64a72bf-ff52-4bfc-9325-4f9e85fe4cdb",
        "colab": {
          "base_uri": "https://localhost:8080/",
          "height": 1462
        }
      },
      "source": [
        "a, b = woe(x_train.values, y_train.values, 1)\n",
        "dic = dict(zip(x_train.columns, b))\n",
        "dic_sort= sorted(dic.items(),key = lambda x:x[1],reverse = True)\n",
        "display(dic_sort)"
      ],
      "execution_count": 69,
      "outputs": [
        {
          "output_type": "stream",
          "text": [
            "\n",
            "\n"
          ],
          "name": "stdout"
        },
        {
          "output_type": "display_data",
          "data": {
            "text/plain": [
              "[('trans_fail_top_count_enum_last_1_month', 0.5248772375361611),\n",
              " ('history_fail_fee', 0.5182986633722628),\n",
              " ('loans_score', 0.452489516316483),\n",
              " ('apply_score', 0.35559944136124455),\n",
              " ('loans_overdue_count', 0.34429411897272244),\n",
              " ('trans_fail_top_count_enum_last_12_month', 0.2102113960316464),\n",
              " ('trans_fail_top_count_enum_last_6_month', 0.20334118478792862),\n",
              " ('latest_one_month_fail', 0.1676951302166592),\n",
              " ('latest_one_month_suc', 0.13658960583308047),\n",
              " ('rank_trad_1_month', 0.08850389928144903),\n",
              " ('max_cumulative_consume_later_1_month', 0.08709447156340241),\n",
              " ('trans_day_last_12_month', 0.07519987825898371),\n",
              " ('trans_top_time_last_1_month', 0.07200473738156228),\n",
              " ('top_trans_count_last_1_month', 0.05925078215773383),\n",
              " ('pawns_auctions_trusts_consume_last_1_month', 0.05710932443358767),\n",
              " ('consfin_avg_limit', 0.04623664582308415),\n",
              " ('latest_query_time', 0.04435584273650805),\n",
              " ('latest_query_day', 0.03964158427506999),\n",
              " ('consfin_credit_limit', 0.03846353095825428),\n",
              " ('trans_amount_3_month', 0.03613710613665517),\n",
              " ('consume_top_time_last_1_month', 0.034625001098685916),\n",
              " ('latest_one_month_apply', 0.03413737857726804),\n",
              " ('trans_days_interval', 0.032560494841575485),\n",
              " ('avg_price_top_last_12_valid_month', 0.031079656320995484),\n",
              " ('latest_six_month_loan', 0.027326674511148372),\n",
              " ('latest_three_month_loan', 0.026862251104747728),\n",
              " ('avg_price_last_12_month', 0.026466227882690287),\n",
              " ('query_cash_count', 0.025662803002254226),\n",
              " ('trans_amount_increase_rate_lately', 0.023784085602847026),\n",
              " ('consfin_max_limit', 0.022894168895154804),\n",
              " ('loans_credit_limit', 0.019105144855110622),\n",
              " ('number_of_trans_from_2011', 0.018424967616676193),\n",
              " ('loans_max_limit', 0.017789921416510625),\n",
              " ('historical_trans_amount', 0.01772951741623687),\n",
              " ('pawns_auctions_trusts_consume_last_6_month', 0.017106423823775092),\n",
              " ('latest_three_month_apply', 0.017080121304326283),\n",
              " ('consfin_product_count', 0.016733585001389082),\n",
              " ('first_transaction_time', 0.015059672191446657),\n",
              " ('low_volume_percent', 0.015048944792159744),\n",
              " ('first_transaction_day', 0.014871134476672463),\n",
              " ('cross_consume_count_last_1_month', 0.014737033277150221),\n",
              " ('loans_count', 0.013530871851163152),\n",
              " ('consfin_org_count_behavior', 0.01332009629762118),\n",
              " ('consfin_org_count_current', 0.01332009629762118),\n",
              " ('history_suc_fee', 0.012920138591212799),\n",
              " ('consume_mini_time_last_1_month', 0.012589897073017782),\n",
              " ('trans_activity_day', 0.011970320198504483),\n",
              " ('loans_avg_limit', 0.011955048870861283),\n",
              " ('loans_latest_time', 0.01175834524600114),\n",
              " ('loans_org_count_behavior', 0.011661026874189157),\n",
              " ('middle_volume_percent', 0.010822028707659352),\n",
              " ('loans_long_time', 0.010814704169246098),\n",
              " ('loans_cash_count', 0.01023040215121564),\n",
              " ('loans_org_count_current', 0.01023040215121564),\n",
              " ('trans_top_time_last_6_month', 0.00980819605514745),\n",
              " ('query_finance_count', 0.00972361586362725),\n",
              " ('historical_trans_day', 0.00897654627479034),\n",
              " ('consume_top_time_last_6_month', 0.008815049670325542),\n",
              " ('max_consume_count_later_6_month', 0.008746922528183994),\n",
              " ('loans_latest_day', 0.008711071898486768),\n",
              " ('transd_mcc', 0.008163966469001943),\n",
              " ('trans_activity_month', 0.00813566274480798),\n",
              " ('loans_product_count', 0.008131898302013335),\n",
              " ('apply_credibility', 0.007697132059971251),\n",
              " ('abs', 0.0074803994110067915),\n",
              " ('query_org_count', 0.007439801510931561),\n",
              " ('trans_days_interval_filter', 0.0068744867372175075),\n",
              " ('take_amount_in_later_12_month_highest', 0.004908038770557543),\n",
              " ('avg_consume_less_12_valid_month', 0.004424762718105233),\n",
              " ('loans_settle_count', 0.004335454147359518),\n",
              " ('latest_one_month_loan', 0.004015135389527376),\n",
              " ('consfin_credibility', 0.003957011328495726),\n",
              " ('latest_six_month_apply', 0.0038624584084030436),\n",
              " ('query_sum_count', 0.0035152708955272683),\n",
              " ('regional_mobility', 0.0034506262641538403),\n",
              " ('loans_credibility_limit', 0.0019249850572735689),\n",
              " ('repayment_capability', 0.001767443773842792),\n",
              " ('loans_credibility_behavior', 0.0014273021149960583),\n",
              " ('student_feature', 0.0011100964344815194),\n",
              " ('reg_preference_for_trad', 0.00017815323672663928),\n",
              " ('is_high_user', 0.0),\n",
              " ('railway_consume_count_last_12_month', 0.0),\n",
              " ('jewelry_consume_count_last_6_month', 0.0)]"
            ]
          },
          "metadata": {
            "tags": []
          }
        }
      ]
    },
    {
      "cell_type": "markdown",
      "metadata": {
        "id": "hLnjVtUKwXlz",
        "colab_type": "text"
      },
      "source": [
        "# 任务3： 模型构建 5.15-5.16\n",
        "目标 模型构建，评价方式考虑：accuracy、precision，recall和F1-score、auc值的评分表格\n",
        "\n",
        "要求：\n",
        "1. 用逻辑回归、svm和决策树；\n",
        "2. 随机森林和XGBoost进行模型构建\n",
        "\n",
        "# 任务4：模型评价 5.17-5.18\n",
        "增加评价指标ROC曲线。\n",
        "参考文档：[sklearn.metrics.roc_curve](https://scikit-learn.org/stable/modules/generated/sklearn.metrics.roc_curve.html)"
      ]
    },
    {
      "cell_type": "code",
      "metadata": {
        "id": "NxokLB14wXl0",
        "colab_type": "code",
        "colab": {}
      },
      "source": [
        "from sklearn.metrics import classification_report, accuracy_score, roc_curve\n",
        "import matplotlib as mpl\n",
        "import matplotlib.pyplot as plt"
      ],
      "execution_count": 0,
      "outputs": []
    },
    {
      "cell_type": "markdown",
      "metadata": {
        "id": "KAXi1BZowXl2",
        "colab_type": "text"
      },
      "source": [
        "## 一、逻辑回归"
      ]
    },
    {
      "cell_type": "code",
      "metadata": {
        "id": "jvrIowrRwXl2",
        "colab_type": "code",
        "outputId": "7c6c933d-5938-46c9-febf-d75566f74bc0",
        "colab": {
          "base_uri": "https://localhost:8080/",
          "height": 173
        }
      },
      "source": [
        "# 数据的标准化处理\n",
        "from sklearn.preprocessing import StandardScaler\n",
        "sc = StandardScaler()\n",
        "x_train_sel_sc = sc.fit_transform(x_train_sel)\n",
        "x_test_sel_sc = sc.fit_transform(x_test_sel)"
      ],
      "execution_count": 71,
      "outputs": [
        {
          "output_type": "stream",
          "text": [
            "/usr/local/lib/python3.6/dist-packages/sklearn/preprocessing/data.py:645: DataConversionWarning: Data with input dtype int64, float64 were all converted to float64 by StandardScaler.\n",
            "  return self.partial_fit(X, y)\n",
            "/usr/local/lib/python3.6/dist-packages/sklearn/base.py:464: DataConversionWarning: Data with input dtype int64, float64 were all converted to float64 by StandardScaler.\n",
            "  return self.fit(X, **fit_params).transform(X)\n",
            "/usr/local/lib/python3.6/dist-packages/sklearn/preprocessing/data.py:645: DataConversionWarning: Data with input dtype int64, float64 were all converted to float64 by StandardScaler.\n",
            "  return self.partial_fit(X, y)\n",
            "/usr/local/lib/python3.6/dist-packages/sklearn/base.py:464: DataConversionWarning: Data with input dtype int64, float64 were all converted to float64 by StandardScaler.\n",
            "  return self.fit(X, **fit_params).transform(X)\n"
          ],
          "name": "stderr"
        }
      ]
    },
    {
      "cell_type": "code",
      "metadata": {
        "id": "Ask-KnpgwXl6",
        "colab_type": "code",
        "outputId": "aab39e8f-34c8-4729-cf2f-625dcf2c3c31",
        "colab": {
          "base_uri": "https://localhost:8080/",
          "height": 241
        }
      },
      "source": [
        "from sklearn.linear_model import LogisticRegression\n",
        "lr = LogisticRegression()\n",
        "lr.fit(x_train_sel_sc, y_train)\n",
        "y_pre_lr = lr.predict(x_test_sel_sc)\n",
        "display(accuracy_score(y_pre_lr, y_test))\n",
        "print(classification_report(y_pre_lr, y_test))"
      ],
      "execution_count": 72,
      "outputs": [
        {
          "output_type": "stream",
          "text": [
            "/usr/local/lib/python3.6/dist-packages/sklearn/linear_model/logistic.py:433: FutureWarning: Default solver will be changed to 'lbfgs' in 0.22. Specify a solver to silence this warning.\n",
            "  FutureWarning)\n"
          ],
          "name": "stderr"
        },
        {
          "output_type": "display_data",
          "data": {
            "text/plain": [
              "0.7885331347728965"
            ]
          },
          "metadata": {
            "tags": []
          }
        },
        {
          "output_type": "stream",
          "text": [
            "              precision    recall  f1-score   support\n",
            "\n",
            "           0       0.94      0.80      0.87      1171\n",
            "           1       0.34      0.68      0.45       172\n",
            "\n",
            "   micro avg       0.79      0.79      0.79      1343\n",
            "   macro avg       0.64      0.74      0.66      1343\n",
            "weighted avg       0.87      0.79      0.82      1343\n",
            "\n"
          ],
          "name": "stdout"
        }
      ]
    },
    {
      "cell_type": "code",
      "metadata": {
        "id": "lTzp5gAZX6qK",
        "colab_type": "code",
        "colab": {
          "base_uri": "https://localhost:8080/",
          "height": 295
        },
        "outputId": "b3f43f5e-fdc1-4af9-9b55-66c0b6688db9"
      },
      "source": [
        "plt.plot([0, 1], [0, 1], 'k--')\n",
        "fpr_lr, tpr_lr, _  = roc_curve(y_test, y_pre_lr)\n",
        "plt.plot(fpr_lr, tpr_lr, label='LR ROC')\n",
        "plt.xlabel('False positive rate')\n",
        "plt.ylabel('True positive rate')\n",
        "plt.title('LR ROC curve')\n",
        "plt.legend(loc='best')\n",
        "plt.show()"
      ],
      "execution_count": 73,
      "outputs": [
        {
          "output_type": "display_data",
          "data": {
            "image/png": "[encoded data removed]",
            "text/plain": [
              "<Figure size 432x288 with 1 Axes>"
            ]
          },
          "metadata": {
            "tags": []
          }
        }
      ]
    },
    {
      "cell_type": "markdown",
      "metadata": {
        "id": "Bi23ttF_wXl9",
        "colab_type": "text"
      },
      "source": [
        "## 二. SVM"
      ]
    },
    {
      "cell_type": "code",
      "metadata": {
        "id": "MdnsdRiRwXl-",
        "colab_type": "code",
        "outputId": "421d91cb-7ca8-4b4f-c3f6-091e7e367961",
        "colab": {
          "base_uri": "https://localhost:8080/",
          "height": 187
        }
      },
      "source": [
        "from sklearn.svm import SVC\n",
        "# 'linear', 'poly', 'rbf', 'sigmoid'\n",
        "svc = SVC()\n",
        "svc.fit(x_train_sel_sc, y_train)\n",
        "y_pre_svc = svc.predict(x_test_sel_sc)\n",
        "display(accuracy_score(y_pre_svc, y_test))\n",
        "print(classification_report(y_pre_svc, y_test))"
      ],
      "execution_count": 74,
      "outputs": [
        {
          "output_type": "display_data",
          "data": {
            "text/plain": [
              "0.7922561429635145"
            ]
          },
          "metadata": {
            "tags": []
          }
        },
        {
          "output_type": "stream",
          "text": [
            "              precision    recall  f1-score   support\n",
            "\n",
            "           0       0.97      0.79      0.87      1222\n",
            "           1       0.27      0.78      0.40       121\n",
            "\n",
            "   micro avg       0.79      0.79      0.79      1343\n",
            "   macro avg       0.62      0.79      0.64      1343\n",
            "weighted avg       0.91      0.79      0.83      1343\n",
            "\n"
          ],
          "name": "stdout"
        }
      ]
    },
    {
      "cell_type": "code",
      "metadata": {
        "id": "IzJqBO5iZkO3",
        "colab_type": "code",
        "colab": {
          "base_uri": "https://localhost:8080/",
          "height": 295
        },
        "outputId": "ea056c01-9783-4fad-d9f5-0572b9b061c6"
      },
      "source": [
        "plt.plot([0, 1], [0, 1], 'k--')\n",
        "fpr_svc, tpr_svc, _  = roc_curve(y_test, y_pre_svc)\n",
        "plt.plot(fpr_svc, tpr_svc, label='SVC ROC')\n",
        "plt.xlabel('False positive rate')\n",
        "plt.ylabel('True positive rate')\n",
        "plt.title('SVC ROC curve')\n",
        "plt.legend(loc='best')\n",
        "plt.show()"
      ],
      "execution_count": 75,
      "outputs": [
        {
          "output_type": "display_data",
          "data": {
            "image/png": "[encoded data removed]",
            "text/plain": [
              "<Figure size 432x288 with 1 Axes>"
            ]
          },
          "metadata": {
            "tags": []
          }
        }
      ]
    },
    {
      "cell_type": "markdown",
      "metadata": {
        "id": "Ok8knBygwXmA",
        "colab_type": "text"
      },
      "source": [
        "## 三. 决策树"
      ]
    },
    {
      "cell_type": "code",
      "metadata": {
        "id": "y9JASOq7wXmA",
        "colab_type": "code",
        "outputId": "35b25d82-fb1b-486e-f2d9-cc36622abe18",
        "colab": {
          "base_uri": "https://localhost:8080/",
          "height": 187
        }
      },
      "source": [
        "from sklearn.tree import DecisionTreeClassifier\n",
        "dtc = DecisionTreeClassifier()\n",
        "dtc.fit(x_train_sel_sc, y_train)\n",
        "y_pre_dtc = dtc.predict(x_test_sel_sc)\n",
        "display(accuracy_score(y_pre_dtc, y_test))\n",
        "print(classification_report(y_pre_dtc, y_test))"
      ],
      "execution_count": 76,
      "outputs": [
        {
          "output_type": "display_data",
          "data": {
            "text/plain": [
              "0.6105733432613552"
            ]
          },
          "metadata": {
            "tags": []
          }
        },
        {
          "output_type": "stream",
          "text": [
            "              precision    recall  f1-score   support\n",
            "\n",
            "           0       0.64      0.80      0.71       802\n",
            "           1       0.53      0.34      0.41       541\n",
            "\n",
            "   micro avg       0.61      0.61      0.61      1343\n",
            "   macro avg       0.58      0.57      0.56      1343\n",
            "weighted avg       0.59      0.61      0.59      1343\n",
            "\n"
          ],
          "name": "stdout"
        }
      ]
    },
    {
      "cell_type": "code",
      "metadata": {
        "id": "txrA7XV6Z3sh",
        "colab_type": "code",
        "colab": {
          "base_uri": "https://localhost:8080/",
          "height": 295
        },
        "outputId": "23415bd9-016c-4f76-f9d1-36c07c4dc7b6"
      },
      "source": [
        "plt.plot([0, 1], [0, 1], 'k--')\n",
        "fpr_dtc, tpr_dtc, _  = roc_curve(y_test, y_pre_dtc)\n",
        "plt.plot(fpr_dtc, tpr_dtc, label='DTC ROC')\n",
        "plt.xlabel('False positive rate')\n",
        "plt.ylabel('True positive rate')\n",
        "plt.title('DecisionTree ROC curve')\n",
        "plt.legend(loc='best')\n",
        "plt.show()"
      ],
      "execution_count": 77,
      "outputs": [
        {
          "output_type": "display_data",
          "data": {
            "image/png": "[encoded data removed]",
            "text/plain": [
              "<Figure size 432x288 with 1 Axes>"
            ]
          },
          "metadata": {
            "tags": []
          }
        }
      ]
    },
    {
      "cell_type": "markdown",
      "metadata": {
        "id": "D9XEMawYwXmD",
        "colab_type": "text"
      },
      "source": [
        "## 四. 随机森林"
      ]
    },
    {
      "cell_type": "code",
      "metadata": {
        "id": "YW79cKaAwXmE",
        "colab_type": "code",
        "outputId": "0617186a-5a5a-419b-b5cd-7f7b5e7d0d81",
        "colab": {
          "base_uri": "https://localhost:8080/",
          "height": 241
        }
      },
      "source": [
        "rf = RandomForestClassifier()\n",
        "rf.fit(x_train_sel_sc, y_train)\n",
        "y_pre_rf = dtc.predict(x_test_sel_sc)\n",
        "display(accuracy_score(y_pre_rf, y_test))\n",
        "print(classification_report(y_pre_rf, y_test))"
      ],
      "execution_count": 78,
      "outputs": [
        {
          "output_type": "stream",
          "text": [
            "/usr/local/lib/python3.6/dist-packages/sklearn/ensemble/forest.py:246: FutureWarning: The default value of n_estimators will change from 10 in version 0.20 to 100 in 0.22.\n",
            "  \"10 in version 0.20 to 100 in 0.22.\", FutureWarning)\n"
          ],
          "name": "stderr"
        },
        {
          "output_type": "display_data",
          "data": {
            "text/plain": [
              "0.6105733432613552"
            ]
          },
          "metadata": {
            "tags": []
          }
        },
        {
          "output_type": "stream",
          "text": [
            "              precision    recall  f1-score   support\n",
            "\n",
            "           0       0.64      0.80      0.71       802\n",
            "           1       0.53      0.34      0.41       541\n",
            "\n",
            "   micro avg       0.61      0.61      0.61      1343\n",
            "   macro avg       0.58      0.57      0.56      1343\n",
            "weighted avg       0.59      0.61      0.59      1343\n",
            "\n"
          ],
          "name": "stdout"
        }
      ]
    },
    {
      "cell_type": "code",
      "metadata": {
        "id": "yOw_y8O0aIlm",
        "colab_type": "code",
        "colab": {
          "base_uri": "https://localhost:8080/",
          "height": 295
        },
        "outputId": "dc41b8ad-1ec0-4962-a64d-32d10d107893"
      },
      "source": [
        "plt.plot([0, 1], [0, 1], 'k--')\n",
        "fpr_rf, tpr_rf, _  = roc_curve(y_test, y_pre_rf)\n",
        "plt.plot(fpr_rf, tpr_rf, label='RF ROC')\n",
        "plt.xlabel('False positive rate')\n",
        "plt.ylabel('True positive rate')\n",
        "plt.title('RandomForest ROC curve')\n",
        "plt.legend(loc='best')\n",
        "plt.show()"
      ],
      "execution_count": 79,
      "outputs": [
        {
          "output_type": "display_data",
          "data": {
            "image/png": "[encoded data removed]",
            "text/plain": [
              "<Figure size 432x288 with 1 Axes>"
            ]
          },
          "metadata": {
            "tags": []
          }
        }
      ]
    },
    {
      "cell_type": "markdown",
      "metadata": {
        "id": "StSdp5CNwXmH",
        "colab_type": "text"
      },
      "source": [
        "## 五. XGBoost"
      ]
    },
    {
      "cell_type": "code",
      "metadata": {
        "id": "wwGCIDlowXmI",
        "colab_type": "code",
        "outputId": "0bf08feb-39f5-475b-bb54-1c520fa18edb",
        "colab": {
          "base_uri": "https://localhost:8080/",
          "height": 187
        }
      },
      "source": [
        "from xgboost import XGBClassifier\n",
        "xgb = XGBClassifier()\n",
        "xgb.fit(x_train_sel_sc, y_train)\n",
        "y_pre_xgb = xgb.predict(x_test_sel_sc)\n",
        "display(accuracy_score(y_pre_xgb, y_test))\n",
        "print(classification_report(y_pre_xgb, y_test))"
      ],
      "execution_count": 80,
      "outputs": [
        {
          "output_type": "display_data",
          "data": {
            "text/plain": [
              "0.7885331347728965"
            ]
          },
          "metadata": {
            "tags": []
          }
        },
        {
          "output_type": "stream",
          "text": [
            "              precision    recall  f1-score   support\n",
            "\n",
            "           0       0.96      0.80      0.87      1207\n",
            "           1       0.29      0.73      0.41       136\n",
            "\n",
            "   micro avg       0.79      0.79      0.79      1343\n",
            "   macro avg       0.62      0.76      0.64      1343\n",
            "weighted avg       0.89      0.79      0.82      1343\n",
            "\n"
          ],
          "name": "stdout"
        }
      ]
    },
    {
      "cell_type": "code",
      "metadata": {
        "id": "DDEWzAj-abpa",
        "colab_type": "code",
        "colab": {
          "base_uri": "https://localhost:8080/",
          "height": 295
        },
        "outputId": "ef8c8605-7b6e-4f68-b87b-86b4c375fc65"
      },
      "source": [
        "plt.plot([0, 1], [0, 1], 'k--')\n",
        "fpr_xgb, tpr_xgb, _  = roc_curve(y_test, y_pre_xgb)\n",
        "plt.plot(fpr_xgb, tpr_xgb, label='XGBoost ROC')\n",
        "plt.xlabel('False positive rate')\n",
        "plt.ylabel('True positive rate')\n",
        "plt.title('XGBoost ROC curve')\n",
        "plt.legend(loc='best')\n",
        "plt.show()"
      ],
      "execution_count": 81,
      "outputs": [
        {
          "output_type": "display_data",
          "data": {
            "image/png": "[encoded data removed]",
            "text/plain": [
              "<Figure size 432x288 with 1 Axes>"
            ]
          },
          "metadata": {
            "tags": []
          }
        }
      ]
    }
  ]
}