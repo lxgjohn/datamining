{
  "nbformat": 4,
  "nbformat_minor": 0,
  "metadata": {
    "colab": {
      "name": "datamining_task_6.ipynb",
      "version": "0.3.2",
      "provenance": [],
      "collapsed_sections": [],
      "toc_visible": true
    },
    "language_info": {
      "codemirror_mode": {
        "name": "ipython",
        "version": 3
      },
      "file_extension": ".py",
      "mimetype": "text/x-python",
      "name": "python",
      "nbconvert_exporter": "python",
      "pygments_lexer": "ipython3",
      "version": "3.7.1"
    },
    "kernelspec": {
      "name": "python3",
      "display_name": "Python 3"
    },
    "accelerator": "GPU"
  },
  "cells": [
    {
      "cell_type": "markdown",
      "metadata": {
        "id": "bbYqXEHKwXkb",
        "colab_type": "text"
      },
      "source": [
        "# 任务1：对数据进行探索和分析 5.11-5.12\n",
        "数据集是金融数据（非原始数据，已经处理过了），我们要做的是预测贷款用户是否会逾期。\n",
        "表格中 \"status\" 是结果标签：0表示未逾期，1表示逾期。\n",
        "\n",
        "要求：\n",
        "1. 数据切分方式 - 三七分，其中测试集30%，训练集70%，随机种子设置为2018\n",
        "2. 数据类型的分析\n",
        "3. 无关特征删除\n",
        "4. 数据类型转换\n",
        "5. 缺失值处理\n",
        "6. 其他可借鉴的数据分析处理"
      ]
    },
    {
      "cell_type": "code",
      "metadata": {
        "id": "D6R0enHGwXkc",
        "colab_type": "code",
        "colab": {}
      },
      "source": [
        "import numpy as np\n",
        "import pandas as pd"
      ],
      "execution_count": 0,
      "outputs": []
    },
    {
      "cell_type": "markdown",
      "metadata": {
        "id": "f-TVfhvywXkf",
        "colab_type": "text"
      },
      "source": [
        "## 一. 读取数据\n",
        "读取任务1中csv文件是要将编码格式制定成gbk；\n",
        "中文字符的Unicode编码0x0800-0xFFFF之间,(utf-8包含了部分汉字)\n",
        "当你试图将该“中文字符”转成U码的utf-8时超出了其范筹\n",
        "而GBK 规范收录了ISO 10646.1中的全部 CJK 汉字和符号，并有所补充，\n",
        "所以解决方法是将.decode('utf-8')改为.decode('gbk')\n",
        "参考：https://blog.csdn.net/stone9159/article/details/79071316"
      ]
    },
    {
      "cell_type": "code",
      "metadata": {
        "scrolled": true,
        "id": "wq_b2HtjwXkg",
        "colab_type": "code",
        "outputId": "2cbf58c5-eac5-4d21-871f-62683f668564",
        "colab": {
          "base_uri": "https://localhost:8080/",
          "height": 396
        }
      },
      "source": [
        "# 导入数据\n",
        "data = pd.read_csv(r\"task1_data.csv\",encoding=\"gbk\")\n",
        "# 将显示的最大列数设置成100，以展示全部列\n",
        "pd.set_option(\"max_columns\", 100)\n",
        "# 抽样查看数据\n",
        "data.sample(10)"
      ],
      "execution_count": 2,
      "outputs": [
        {
          "output_type": "execute_result",
          "data": {
            "text/html": [
              "<div>\n",
              "<style scoped>\n",
              "    .dataframe tbody tr th:only-of-type {\n",
              "        vertical-align: middle;\n",
              "    }\n",
              "\n",
              "    .dataframe tbody tr th {\n",
              "        vertical-align: top;\n",
              "    }\n",
              "\n",
              "    .dataframe thead th {\n",
              "        text-align: right;\n",
              "    }\n",
              "</style>\n",
              "<table border=\"1\" class=\"dataframe\">\n",
              "  <thead>\n",
              "    <tr style=\"text-align: right;\">\n",
              "      <th></th>\n",
              "      <th>Unnamed: 0</th>\n",
              "      <th>custid</th>\n",
              "      <th>trade_no</th>\n",
              "      <th>bank_card_no</th>\n",
              "      <th>low_volume_percent</th>\n",
              "      <th>middle_volume_percent</th>\n",
              "      <th>take_amount_in_later_12_month_highest</th>\n",
              "      <th>trans_amount_increase_rate_lately</th>\n",
              "      <th>trans_activity_month</th>\n",
              "      <th>trans_activity_day</th>\n",
              "      <th>transd_mcc</th>\n",
              "      <th>trans_days_interval_filter</th>\n",
              "      <th>trans_days_interval</th>\n",
              "      <th>regional_mobility</th>\n",
              "      <th>student_feature</th>\n",
              "      <th>repayment_capability</th>\n",
              "      <th>is_high_user</th>\n",
              "      <th>number_of_trans_from_2011</th>\n",
              "      <th>first_transaction_time</th>\n",
              "      <th>historical_trans_amount</th>\n",
              "      <th>historical_trans_day</th>\n",
              "      <th>rank_trad_1_month</th>\n",
              "      <th>trans_amount_3_month</th>\n",
              "      <th>avg_consume_less_12_valid_month</th>\n",
              "      <th>abs</th>\n",
              "      <th>top_trans_count_last_1_month</th>\n",
              "      <th>avg_price_last_12_month</th>\n",
              "      <th>avg_price_top_last_12_valid_month</th>\n",
              "      <th>reg_preference_for_trad</th>\n",
              "      <th>trans_top_time_last_1_month</th>\n",
              "      <th>trans_top_time_last_6_month</th>\n",
              "      <th>consume_top_time_last_1_month</th>\n",
              "      <th>consume_top_time_last_6_month</th>\n",
              "      <th>cross_consume_count_last_1_month</th>\n",
              "      <th>trans_fail_top_count_enum_last_1_month</th>\n",
              "      <th>trans_fail_top_count_enum_last_6_month</th>\n",
              "      <th>trans_fail_top_count_enum_last_12_month</th>\n",
              "      <th>consume_mini_time_last_1_month</th>\n",
              "      <th>max_cumulative_consume_later_1_month</th>\n",
              "      <th>max_consume_count_later_6_month</th>\n",
              "      <th>railway_consume_count_last_12_month</th>\n",
              "      <th>pawns_auctions_trusts_consume_last_1_month</th>\n",
              "      <th>pawns_auctions_trusts_consume_last_6_month</th>\n",
              "      <th>jewelry_consume_count_last_6_month</th>\n",
              "      <th>status</th>\n",
              "      <th>source</th>\n",
              "      <th>first_transaction_day</th>\n",
              "      <th>trans_day_last_12_month</th>\n",
              "      <th>id_name</th>\n",
              "      <th>apply_score</th>\n",
              "      <th>apply_credibility</th>\n",
              "      <th>query_org_count</th>\n",
              "      <th>query_finance_count</th>\n",
              "      <th>query_cash_count</th>\n",
              "      <th>query_sum_count</th>\n",
              "      <th>latest_query_time</th>\n",
              "      <th>latest_one_month_apply</th>\n",
              "      <th>latest_three_month_apply</th>\n",
              "      <th>latest_six_month_apply</th>\n",
              "      <th>loans_score</th>\n",
              "      <th>loans_credibility_behavior</th>\n",
              "      <th>loans_count</th>\n",
              "      <th>loans_settle_count</th>\n",
              "      <th>loans_overdue_count</th>\n",
              "      <th>loans_org_count_behavior</th>\n",
              "      <th>consfin_org_count_behavior</th>\n",
              "      <th>loans_cash_count</th>\n",
              "      <th>latest_one_month_loan</th>\n",
              "      <th>latest_three_month_loan</th>\n",
              "      <th>latest_six_month_loan</th>\n",
              "      <th>history_suc_fee</th>\n",
              "      <th>history_fail_fee</th>\n",
              "      <th>latest_one_month_suc</th>\n",
              "      <th>latest_one_month_fail</th>\n",
              "      <th>loans_long_time</th>\n",
              "      <th>loans_latest_time</th>\n",
              "      <th>loans_credit_limit</th>\n",
              "      <th>loans_credibility_limit</th>\n",
              "      <th>loans_org_count_current</th>\n",
              "      <th>loans_product_count</th>\n",
              "      <th>loans_max_limit</th>\n",
              "      <th>loans_avg_limit</th>\n",
              "      <th>consfin_credit_limit</th>\n",
              "      <th>consfin_credibility</th>\n",
              "      <th>consfin_org_count_current</th>\n",
              "      <th>consfin_product_count</th>\n",
              "      <th>consfin_max_limit</th>\n",
              "      <th>consfin_avg_limit</th>\n",
              "      <th>latest_query_day</th>\n",
              "      <th>loans_latest_day</th>\n",
              "    </tr>\n",
              "  </thead>\n",
              "  <tbody>\n",
              "    <tr>\n",
              "      <th>133</th>\n",
              "      <td>350</td>\n",
              "      <td>402057</td>\n",
              "      <td>20180507123955680000000023098632</td>\n",
              "      <td>卡号1</td>\n",
              "      <td>0.01</td>\n",
              "      <td>0.99</td>\n",
              "      <td>1700</td>\n",
              "      <td>1.11</td>\n",
              "      <td>0.68</td>\n",
              "      <td>0.525</td>\n",
              "      <td>19.0</td>\n",
              "      <td>13.0</td>\n",
              "      <td>12.0</td>\n",
              "      <td>4.0</td>\n",
              "      <td>1.0</td>\n",
              "      <td>12360</td>\n",
              "      <td>0</td>\n",
              "      <td>38.0</td>\n",
              "      <td>20130717.0</td>\n",
              "      <td>494860</td>\n",
              "      <td>307.0</td>\n",
              "      <td>0.40</td>\n",
              "      <td>51440</td>\n",
              "      <td>6.0</td>\n",
              "      <td>12290</td>\n",
              "      <td>0.05</td>\n",
              "      <td>1140</td>\n",
              "      <td>0.50</td>\n",
              "      <td>一线城市</td>\n",
              "      <td>12.0</td>\n",
              "      <td>12.0</td>\n",
              "      <td>12.0</td>\n",
              "      <td>12.0</td>\n",
              "      <td>1.0</td>\n",
              "      <td>3.0</td>\n",
              "      <td>8.0</td>\n",
              "      <td>10.0</td>\n",
              "      <td>504817.0</td>\n",
              "      <td>1530</td>\n",
              "      <td>8.0</td>\n",
              "      <td>0.0</td>\n",
              "      <td>500</td>\n",
              "      <td>25440</td>\n",
              "      <td>0.0</td>\n",
              "      <td>1</td>\n",
              "      <td>xs</td>\n",
              "      <td>1769.0</td>\n",
              "      <td>82.0</td>\n",
              "      <td>唐正斌</td>\n",
              "      <td>657.0</td>\n",
              "      <td>77.0</td>\n",
              "      <td>24.0</td>\n",
              "      <td>13.0</td>\n",
              "      <td>9.0</td>\n",
              "      <td>37.0</td>\n",
              "      <td>2018-05-02</td>\n",
              "      <td>4.0</td>\n",
              "      <td>15.0</td>\n",
              "      <td>20.0</td>\n",
              "      <td>636.0</td>\n",
              "      <td>78.0</td>\n",
              "      <td>55.0</td>\n",
              "      <td>50.0</td>\n",
              "      <td>0.0</td>\n",
              "      <td>20.0</td>\n",
              "      <td>5.0</td>\n",
              "      <td>15.0</td>\n",
              "      <td>5.0</td>\n",
              "      <td>7.0</td>\n",
              "      <td>22.0</td>\n",
              "      <td>67.0</td>\n",
              "      <td>11.0</td>\n",
              "      <td>5.0</td>\n",
              "      <td>1.0</td>\n",
              "      <td>334.0</td>\n",
              "      <td>2018-04-29</td>\n",
              "      <td>2400.0</td>\n",
              "      <td>76.0</td>\n",
              "      <td>15.0</td>\n",
              "      <td>16.0</td>\n",
              "      <td>4400.0</td>\n",
              "      <td>2093.0</td>\n",
              "      <td>14300.0</td>\n",
              "      <td>80.0</td>\n",
              "      <td>5.0</td>\n",
              "      <td>5.0</td>\n",
              "      <td>20400.0</td>\n",
              "      <td>10260.0</td>\n",
              "      <td>5.0</td>\n",
              "      <td>8.0</td>\n",
              "    </tr>\n",
              "    <tr>\n",
              "      <th>3248</th>\n",
              "      <td>8140</td>\n",
              "      <td>1664005</td>\n",
              "      <td>20180504175232655000000381748052</td>\n",
              "      <td>卡号1</td>\n",
              "      <td>0.01</td>\n",
              "      <td>0.94</td>\n",
              "      <td>0</td>\n",
              "      <td>0.46</td>\n",
              "      <td>0.94</td>\n",
              "      <td>0.583</td>\n",
              "      <td>22.0</td>\n",
              "      <td>15.0</td>\n",
              "      <td>6.0</td>\n",
              "      <td>3.0</td>\n",
              "      <td>1.0</td>\n",
              "      <td>8770</td>\n",
              "      <td>0</td>\n",
              "      <td>17.0</td>\n",
              "      <td>20160901.0</td>\n",
              "      <td>218640</td>\n",
              "      <td>220.0</td>\n",
              "      <td>0.30</td>\n",
              "      <td>45000</td>\n",
              "      <td>5.0</td>\n",
              "      <td>28180</td>\n",
              "      <td>0.10</td>\n",
              "      <td>1480</td>\n",
              "      <td>0.45</td>\n",
              "      <td>境外</td>\n",
              "      <td>5.0</td>\n",
              "      <td>14.0</td>\n",
              "      <td>5.0</td>\n",
              "      <td>14.0</td>\n",
              "      <td>0.0</td>\n",
              "      <td>2.0</td>\n",
              "      <td>2.0</td>\n",
              "      <td>2.0</td>\n",
              "      <td>33.0</td>\n",
              "      <td>1700</td>\n",
              "      <td>3.0</td>\n",
              "      <td>0.0</td>\n",
              "      <td>4460</td>\n",
              "      <td>50340</td>\n",
              "      <td>0.0</td>\n",
              "      <td>1</td>\n",
              "      <td>xs</td>\n",
              "      <td>627.0</td>\n",
              "      <td>84.0</td>\n",
              "      <td>朱健</td>\n",
              "      <td>542.0</td>\n",
              "      <td>78.0</td>\n",
              "      <td>13.0</td>\n",
              "      <td>6.0</td>\n",
              "      <td>5.0</td>\n",
              "      <td>16.0</td>\n",
              "      <td>2018-04-08</td>\n",
              "      <td>1.0</td>\n",
              "      <td>4.0</td>\n",
              "      <td>12.0</td>\n",
              "      <td>485.0</td>\n",
              "      <td>76.0</td>\n",
              "      <td>14.0</td>\n",
              "      <td>10.0</td>\n",
              "      <td>3.0</td>\n",
              "      <td>7.0</td>\n",
              "      <td>5.0</td>\n",
              "      <td>2.0</td>\n",
              "      <td>0.0</td>\n",
              "      <td>2.0</td>\n",
              "      <td>5.0</td>\n",
              "      <td>41.0</td>\n",
              "      <td>17.0</td>\n",
              "      <td>0.0</td>\n",
              "      <td>4.0</td>\n",
              "      <td>360.0</td>\n",
              "      <td>2018-03-19</td>\n",
              "      <td>2300.0</td>\n",
              "      <td>77.0</td>\n",
              "      <td>2.0</td>\n",
              "      <td>2.0</td>\n",
              "      <td>2800.0</td>\n",
              "      <td>2150.0</td>\n",
              "      <td>5000.0</td>\n",
              "      <td>77.0</td>\n",
              "      <td>5.0</td>\n",
              "      <td>6.0</td>\n",
              "      <td>7200.0</td>\n",
              "      <td>3680.0</td>\n",
              "      <td>26.0</td>\n",
              "      <td>46.0</td>\n",
              "    </tr>\n",
              "    <tr>\n",
              "      <th>2459</th>\n",
              "      <td>6191</td>\n",
              "      <td>1780969</td>\n",
              "      <td>20180507121431605000000388286143</td>\n",
              "      <td>卡号1</td>\n",
              "      <td>0.00</td>\n",
              "      <td>0.52</td>\n",
              "      <td>3000</td>\n",
              "      <td>0.39</td>\n",
              "      <td>0.94</td>\n",
              "      <td>0.525</td>\n",
              "      <td>23.0</td>\n",
              "      <td>11.0</td>\n",
              "      <td>10.0</td>\n",
              "      <td>2.0</td>\n",
              "      <td>NaN</td>\n",
              "      <td>15090</td>\n",
              "      <td>0</td>\n",
              "      <td>31.0</td>\n",
              "      <td>20150611.0</td>\n",
              "      <td>603910</td>\n",
              "      <td>319.0</td>\n",
              "      <td>0.05</td>\n",
              "      <td>152080</td>\n",
              "      <td>6.0</td>\n",
              "      <td>29300</td>\n",
              "      <td>0.05</td>\n",
              "      <td>2500</td>\n",
              "      <td>0.35</td>\n",
              "      <td>一线城市</td>\n",
              "      <td>5.0</td>\n",
              "      <td>8.0</td>\n",
              "      <td>5.0</td>\n",
              "      <td>8.0</td>\n",
              "      <td>0.0</td>\n",
              "      <td>1.0</td>\n",
              "      <td>2.0</td>\n",
              "      <td>6.0</td>\n",
              "      <td>877.0</td>\n",
              "      <td>25370</td>\n",
              "      <td>8.0</td>\n",
              "      <td>0.0</td>\n",
              "      <td>28760</td>\n",
              "      <td>179580</td>\n",
              "      <td>0.0</td>\n",
              "      <td>0</td>\n",
              "      <td>xs</td>\n",
              "      <td>1075.0</td>\n",
              "      <td>85.0</td>\n",
              "      <td>李欢</td>\n",
              "      <td>656.0</td>\n",
              "      <td>71.0</td>\n",
              "      <td>11.0</td>\n",
              "      <td>4.0</td>\n",
              "      <td>3.0</td>\n",
              "      <td>15.0</td>\n",
              "      <td>2018-04-24</td>\n",
              "      <td>8.0</td>\n",
              "      <td>13.0</td>\n",
              "      <td>13.0</td>\n",
              "      <td>642.0</td>\n",
              "      <td>78.0</td>\n",
              "      <td>17.0</td>\n",
              "      <td>15.0</td>\n",
              "      <td>0.0</td>\n",
              "      <td>10.0</td>\n",
              "      <td>7.0</td>\n",
              "      <td>3.0</td>\n",
              "      <td>0.0</td>\n",
              "      <td>2.0</td>\n",
              "      <td>5.0</td>\n",
              "      <td>48.0</td>\n",
              "      <td>8.0</td>\n",
              "      <td>2.0</td>\n",
              "      <td>0.0</td>\n",
              "      <td>350.0</td>\n",
              "      <td>2018-04-02</td>\n",
              "      <td>1900.0</td>\n",
              "      <td>73.0</td>\n",
              "      <td>3.0</td>\n",
              "      <td>3.0</td>\n",
              "      <td>2300.0</td>\n",
              "      <td>1666.0</td>\n",
              "      <td>7200.0</td>\n",
              "      <td>81.0</td>\n",
              "      <td>7.0</td>\n",
              "      <td>8.0</td>\n",
              "      <td>26400.0</td>\n",
              "      <td>9314.0</td>\n",
              "      <td>13.0</td>\n",
              "      <td>35.0</td>\n",
              "    </tr>\n",
              "    <tr>\n",
              "      <th>1070</th>\n",
              "      <td>2785</td>\n",
              "      <td>457072</td>\n",
              "      <td>20180507121756155000000388292768</td>\n",
              "      <td>卡号1</td>\n",
              "      <td>0.04</td>\n",
              "      <td>0.52</td>\n",
              "      <td>3000</td>\n",
              "      <td>1.43</td>\n",
              "      <td>1.00</td>\n",
              "      <td>0.383</td>\n",
              "      <td>20.0</td>\n",
              "      <td>14.0</td>\n",
              "      <td>9.0</td>\n",
              "      <td>3.0</td>\n",
              "      <td>1.0</td>\n",
              "      <td>1570</td>\n",
              "      <td>0</td>\n",
              "      <td>20.0</td>\n",
              "      <td>20160702.0</td>\n",
              "      <td>181670</td>\n",
              "      <td>191.0</td>\n",
              "      <td>0.45</td>\n",
              "      <td>49320</td>\n",
              "      <td>7.0</td>\n",
              "      <td>4040</td>\n",
              "      <td>0.05</td>\n",
              "      <td>1140</td>\n",
              "      <td>0.50</td>\n",
              "      <td>一线城市</td>\n",
              "      <td>13.0</td>\n",
              "      <td>13.0</td>\n",
              "      <td>6.0</td>\n",
              "      <td>25.0</td>\n",
              "      <td>0.0</td>\n",
              "      <td>1.0</td>\n",
              "      <td>3.0</td>\n",
              "      <td>5.0</td>\n",
              "      <td>1.0</td>\n",
              "      <td>810</td>\n",
              "      <td>5.0</td>\n",
              "      <td>0.0</td>\n",
              "      <td>510</td>\n",
              "      <td>13270</td>\n",
              "      <td>0.0</td>\n",
              "      <td>1</td>\n",
              "      <td>xs</td>\n",
              "      <td>688.0</td>\n",
              "      <td>82.0</td>\n",
              "      <td>王铭伟</td>\n",
              "      <td>538.0</td>\n",
              "      <td>72.0</td>\n",
              "      <td>16.0</td>\n",
              "      <td>11.0</td>\n",
              "      <td>3.0</td>\n",
              "      <td>31.0</td>\n",
              "      <td>2018-04-13</td>\n",
              "      <td>6.0</td>\n",
              "      <td>25.0</td>\n",
              "      <td>30.0</td>\n",
              "      <td>509.0</td>\n",
              "      <td>76.0</td>\n",
              "      <td>21.0</td>\n",
              "      <td>15.0</td>\n",
              "      <td>2.0</td>\n",
              "      <td>10.0</td>\n",
              "      <td>5.0</td>\n",
              "      <td>5.0</td>\n",
              "      <td>4.0</td>\n",
              "      <td>9.0</td>\n",
              "      <td>15.0</td>\n",
              "      <td>19.0</td>\n",
              "      <td>30.0</td>\n",
              "      <td>1.0</td>\n",
              "      <td>22.0</td>\n",
              "      <td>355.0</td>\n",
              "      <td>2018-05-05</td>\n",
              "      <td>900.0</td>\n",
              "      <td>74.0</td>\n",
              "      <td>5.0</td>\n",
              "      <td>6.0</td>\n",
              "      <td>1600.0</td>\n",
              "      <td>840.0</td>\n",
              "      <td>2400.0</td>\n",
              "      <td>81.0</td>\n",
              "      <td>5.0</td>\n",
              "      <td>5.0</td>\n",
              "      <td>10200.0</td>\n",
              "      <td>3900.0</td>\n",
              "      <td>24.0</td>\n",
              "      <td>2.0</td>\n",
              "    </tr>\n",
              "    <tr>\n",
              "      <th>2441</th>\n",
              "      <td>6149</td>\n",
              "      <td>2826525</td>\n",
              "      <td>20180507124756034000000388412078</td>\n",
              "      <td>卡号1</td>\n",
              "      <td>0.04</td>\n",
              "      <td>0.96</td>\n",
              "      <td>0</td>\n",
              "      <td>0.76</td>\n",
              "      <td>1.00</td>\n",
              "      <td>0.391</td>\n",
              "      <td>15.0</td>\n",
              "      <td>9.0</td>\n",
              "      <td>11.0</td>\n",
              "      <td>2.0</td>\n",
              "      <td>NaN</td>\n",
              "      <td>13560</td>\n",
              "      <td>0</td>\n",
              "      <td>8.0</td>\n",
              "      <td>20170728.0</td>\n",
              "      <td>70730</td>\n",
              "      <td>94.0</td>\n",
              "      <td>0.35</td>\n",
              "      <td>23790</td>\n",
              "      <td>5.0</td>\n",
              "      <td>3740</td>\n",
              "      <td>0.15</td>\n",
              "      <td>1020</td>\n",
              "      <td>0.55</td>\n",
              "      <td>一线城市</td>\n",
              "      <td>7.0</td>\n",
              "      <td>9.0</td>\n",
              "      <td>7.0</td>\n",
              "      <td>9.0</td>\n",
              "      <td>2.0</td>\n",
              "      <td>1.0</td>\n",
              "      <td>7.0</td>\n",
              "      <td>7.0</td>\n",
              "      <td>588058.0</td>\n",
              "      <td>2580</td>\n",
              "      <td>3.0</td>\n",
              "      <td>0.0</td>\n",
              "      <td>0</td>\n",
              "      <td>7690</td>\n",
              "      <td>0.0</td>\n",
              "      <td>0</td>\n",
              "      <td>xs</td>\n",
              "      <td>297.0</td>\n",
              "      <td>87.0</td>\n",
              "      <td>胡成朋</td>\n",
              "      <td>540.0</td>\n",
              "      <td>74.0</td>\n",
              "      <td>19.0</td>\n",
              "      <td>9.0</td>\n",
              "      <td>6.0</td>\n",
              "      <td>25.0</td>\n",
              "      <td>2018-04-29</td>\n",
              "      <td>10.0</td>\n",
              "      <td>15.0</td>\n",
              "      <td>18.0</td>\n",
              "      <td>545.0</td>\n",
              "      <td>73.0</td>\n",
              "      <td>29.0</td>\n",
              "      <td>22.0</td>\n",
              "      <td>3.0</td>\n",
              "      <td>15.0</td>\n",
              "      <td>4.0</td>\n",
              "      <td>11.0</td>\n",
              "      <td>2.0</td>\n",
              "      <td>6.0</td>\n",
              "      <td>20.0</td>\n",
              "      <td>27.0</td>\n",
              "      <td>21.0</td>\n",
              "      <td>0.0</td>\n",
              "      <td>2.0</td>\n",
              "      <td>302.0</td>\n",
              "      <td>2018-05-05</td>\n",
              "      <td>2200.0</td>\n",
              "      <td>72.0</td>\n",
              "      <td>11.0</td>\n",
              "      <td>12.0</td>\n",
              "      <td>2900.0</td>\n",
              "      <td>2109.0</td>\n",
              "      <td>5500.0</td>\n",
              "      <td>79.0</td>\n",
              "      <td>4.0</td>\n",
              "      <td>4.0</td>\n",
              "      <td>8400.0</td>\n",
              "      <td>5475.0</td>\n",
              "      <td>8.0</td>\n",
              "      <td>2.0</td>\n",
              "    </tr>\n",
              "    <tr>\n",
              "      <th>4666</th>\n",
              "      <td>11794</td>\n",
              "      <td>1404302</td>\n",
              "      <td>20180507112848892000000388121696</td>\n",
              "      <td>卡号1</td>\n",
              "      <td>0.04</td>\n",
              "      <td>0.84</td>\n",
              "      <td>6000</td>\n",
              "      <td>1.99</td>\n",
              "      <td>1.00</td>\n",
              "      <td>0.400</td>\n",
              "      <td>30.0</td>\n",
              "      <td>15.0</td>\n",
              "      <td>9.0</td>\n",
              "      <td>1.0</td>\n",
              "      <td>NaN</td>\n",
              "      <td>16310</td>\n",
              "      <td>0</td>\n",
              "      <td>23.0</td>\n",
              "      <td>20160429.0</td>\n",
              "      <td>191040</td>\n",
              "      <td>200.0</td>\n",
              "      <td>0.35</td>\n",
              "      <td>23490</td>\n",
              "      <td>6.0</td>\n",
              "      <td>4880</td>\n",
              "      <td>0.15</td>\n",
              "      <td>920</td>\n",
              "      <td>0.65</td>\n",
              "      <td>一线城市</td>\n",
              "      <td>5.0</td>\n",
              "      <td>15.0</td>\n",
              "      <td>5.0</td>\n",
              "      <td>15.0</td>\n",
              "      <td>0.0</td>\n",
              "      <td>0.0</td>\n",
              "      <td>5.0</td>\n",
              "      <td>5.0</td>\n",
              "      <td>18.0</td>\n",
              "      <td>2000</td>\n",
              "      <td>3.0</td>\n",
              "      <td>30.0</td>\n",
              "      <td>0</td>\n",
              "      <td>18670</td>\n",
              "      <td>0.0</td>\n",
              "      <td>1</td>\n",
              "      <td>xs</td>\n",
              "      <td>752.0</td>\n",
              "      <td>95.0</td>\n",
              "      <td>吴强</td>\n",
              "      <td>545.0</td>\n",
              "      <td>81.0</td>\n",
              "      <td>2.0</td>\n",
              "      <td>2.0</td>\n",
              "      <td>0.0</td>\n",
              "      <td>3.0</td>\n",
              "      <td>2018-03-14</td>\n",
              "      <td>0.0</td>\n",
              "      <td>2.0</td>\n",
              "      <td>3.0</td>\n",
              "      <td>506.0</td>\n",
              "      <td>76.0</td>\n",
              "      <td>23.0</td>\n",
              "      <td>20.0</td>\n",
              "      <td>3.0</td>\n",
              "      <td>8.0</td>\n",
              "      <td>2.0</td>\n",
              "      <td>6.0</td>\n",
              "      <td>0.0</td>\n",
              "      <td>0.0</td>\n",
              "      <td>6.0</td>\n",
              "      <td>37.0</td>\n",
              "      <td>7.0</td>\n",
              "      <td>1.0</td>\n",
              "      <td>0.0</td>\n",
              "      <td>358.0</td>\n",
              "      <td>2017-12-15</td>\n",
              "      <td>2300.0</td>\n",
              "      <td>75.0</td>\n",
              "      <td>6.0</td>\n",
              "      <td>6.0</td>\n",
              "      <td>4500.0</td>\n",
              "      <td>2433.0</td>\n",
              "      <td>1800.0</td>\n",
              "      <td>82.0</td>\n",
              "      <td>2.0</td>\n",
              "      <td>3.0</td>\n",
              "      <td>1800.0</td>\n",
              "      <td>1400.0</td>\n",
              "      <td>54.0</td>\n",
              "      <td>143.0</td>\n",
              "    </tr>\n",
              "    <tr>\n",
              "      <th>4520</th>\n",
              "      <td>11399</td>\n",
              "      <td>757531</td>\n",
              "      <td>20180507124218579000000388393157</td>\n",
              "      <td>卡号1</td>\n",
              "      <td>0.04</td>\n",
              "      <td>0.92</td>\n",
              "      <td>10000</td>\n",
              "      <td>0.90</td>\n",
              "      <td>0.65</td>\n",
              "      <td>0.672</td>\n",
              "      <td>22.0</td>\n",
              "      <td>9.0</td>\n",
              "      <td>8.0</td>\n",
              "      <td>3.0</td>\n",
              "      <td>1.0</td>\n",
              "      <td>20630</td>\n",
              "      <td>0</td>\n",
              "      <td>24.0</td>\n",
              "      <td>20150201.0</td>\n",
              "      <td>356820</td>\n",
              "      <td>272.0</td>\n",
              "      <td>0.45</td>\n",
              "      <td>49570</td>\n",
              "      <td>5.0</td>\n",
              "      <td>8440</td>\n",
              "      <td>0.05</td>\n",
              "      <td>940</td>\n",
              "      <td>0.55</td>\n",
              "      <td>三线城市</td>\n",
              "      <td>7.0</td>\n",
              "      <td>7.0</td>\n",
              "      <td>7.0</td>\n",
              "      <td>7.0</td>\n",
              "      <td>0.0</td>\n",
              "      <td>2.0</td>\n",
              "      <td>6.0</td>\n",
              "      <td>6.0</td>\n",
              "      <td>136622.0</td>\n",
              "      <td>760</td>\n",
              "      <td>5.0</td>\n",
              "      <td>1.0</td>\n",
              "      <td>690</td>\n",
              "      <td>12230</td>\n",
              "      <td>0.0</td>\n",
              "      <td>0</td>\n",
              "      <td>xs</td>\n",
              "      <td>1205.0</td>\n",
              "      <td>82.0</td>\n",
              "      <td>李娟娟</td>\n",
              "      <td>656.0</td>\n",
              "      <td>74.0</td>\n",
              "      <td>10.0</td>\n",
              "      <td>6.0</td>\n",
              "      <td>2.0</td>\n",
              "      <td>12.0</td>\n",
              "      <td>2018-04-08</td>\n",
              "      <td>1.0</td>\n",
              "      <td>8.0</td>\n",
              "      <td>8.0</td>\n",
              "      <td>629.0</td>\n",
              "      <td>74.0</td>\n",
              "      <td>68.0</td>\n",
              "      <td>64.0</td>\n",
              "      <td>0.0</td>\n",
              "      <td>21.0</td>\n",
              "      <td>6.0</td>\n",
              "      <td>15.0</td>\n",
              "      <td>2.0</td>\n",
              "      <td>3.0</td>\n",
              "      <td>24.0</td>\n",
              "      <td>101.0</td>\n",
              "      <td>11.0</td>\n",
              "      <td>0.0</td>\n",
              "      <td>2.0</td>\n",
              "      <td>358.0</td>\n",
              "      <td>2018-04-20</td>\n",
              "      <td>1700.0</td>\n",
              "      <td>73.0</td>\n",
              "      <td>15.0</td>\n",
              "      <td>17.0</td>\n",
              "      <td>2300.0</td>\n",
              "      <td>1420.0</td>\n",
              "      <td>9100.0</td>\n",
              "      <td>78.0</td>\n",
              "      <td>6.0</td>\n",
              "      <td>7.0</td>\n",
              "      <td>10800.0</td>\n",
              "      <td>5083.0</td>\n",
              "      <td>29.0</td>\n",
              "      <td>17.0</td>\n",
              "    </tr>\n",
              "    <tr>\n",
              "      <th>1386</th>\n",
              "      <td>3614</td>\n",
              "      <td>70990</td>\n",
              "      <td>20180507115424277000000388205632</td>\n",
              "      <td>卡号1</td>\n",
              "      <td>0.00</td>\n",
              "      <td>0.97</td>\n",
              "      <td>24000</td>\n",
              "      <td>0.12</td>\n",
              "      <td>0.90</td>\n",
              "      <td>0.508</td>\n",
              "      <td>21.0</td>\n",
              "      <td>16.0</td>\n",
              "      <td>15.0</td>\n",
              "      <td>3.0</td>\n",
              "      <td>1.0</td>\n",
              "      <td>11050</td>\n",
              "      <td>0</td>\n",
              "      <td>36.0</td>\n",
              "      <td>20141119.0</td>\n",
              "      <td>325530</td>\n",
              "      <td>291.0</td>\n",
              "      <td>0.15</td>\n",
              "      <td>72250</td>\n",
              "      <td>7.0</td>\n",
              "      <td>5040</td>\n",
              "      <td>0.10</td>\n",
              "      <td>1090</td>\n",
              "      <td>0.40</td>\n",
              "      <td>三线城市</td>\n",
              "      <td>6.0</td>\n",
              "      <td>7.0</td>\n",
              "      <td>8.0</td>\n",
              "      <td>8.0</td>\n",
              "      <td>0.0</td>\n",
              "      <td>2.0</td>\n",
              "      <td>5.0</td>\n",
              "      <td>5.0</td>\n",
              "      <td>15.0</td>\n",
              "      <td>10000</td>\n",
              "      <td>6.0</td>\n",
              "      <td>0.0</td>\n",
              "      <td>10500</td>\n",
              "      <td>24190</td>\n",
              "      <td>0.0</td>\n",
              "      <td>0</td>\n",
              "      <td>xs</td>\n",
              "      <td>1279.0</td>\n",
              "      <td>82.0</td>\n",
              "      <td>晏凡</td>\n",
              "      <td>559.0</td>\n",
              "      <td>78.0</td>\n",
              "      <td>15.0</td>\n",
              "      <td>8.0</td>\n",
              "      <td>5.0</td>\n",
              "      <td>17.0</td>\n",
              "      <td>2018-04-29</td>\n",
              "      <td>3.0</td>\n",
              "      <td>7.0</td>\n",
              "      <td>9.0</td>\n",
              "      <td>497.0</td>\n",
              "      <td>78.0</td>\n",
              "      <td>35.0</td>\n",
              "      <td>33.0</td>\n",
              "      <td>2.0</td>\n",
              "      <td>15.0</td>\n",
              "      <td>8.0</td>\n",
              "      <td>7.0</td>\n",
              "      <td>0.0</td>\n",
              "      <td>1.0</td>\n",
              "      <td>15.0</td>\n",
              "      <td>54.0</td>\n",
              "      <td>5.0</td>\n",
              "      <td>2.0</td>\n",
              "      <td>0.0</td>\n",
              "      <td>341.0</td>\n",
              "      <td>2018-02-28</td>\n",
              "      <td>1400.0</td>\n",
              "      <td>75.0</td>\n",
              "      <td>7.0</td>\n",
              "      <td>8.0</td>\n",
              "      <td>2300.0</td>\n",
              "      <td>1400.0</td>\n",
              "      <td>15600.0</td>\n",
              "      <td>77.0</td>\n",
              "      <td>8.0</td>\n",
              "      <td>9.0</td>\n",
              "      <td>33600.0</td>\n",
              "      <td>11712.0</td>\n",
              "      <td>8.0</td>\n",
              "      <td>68.0</td>\n",
              "    </tr>\n",
              "    <tr>\n",
              "      <th>4075</th>\n",
              "      <td>10302</td>\n",
              "      <td>2391984</td>\n",
              "      <td>20180507120853081000000388262174</td>\n",
              "      <td>卡号1</td>\n",
              "      <td>0.03</td>\n",
              "      <td>0.97</td>\n",
              "      <td>500</td>\n",
              "      <td>1.42</td>\n",
              "      <td>0.95</td>\n",
              "      <td>0.572</td>\n",
              "      <td>19.0</td>\n",
              "      <td>17.0</td>\n",
              "      <td>19.0</td>\n",
              "      <td>2.0</td>\n",
              "      <td>1.0</td>\n",
              "      <td>17590</td>\n",
              "      <td>0</td>\n",
              "      <td>18.0</td>\n",
              "      <td>20160811.0</td>\n",
              "      <td>351230</td>\n",
              "      <td>247.0</td>\n",
              "      <td>0.60</td>\n",
              "      <td>41340</td>\n",
              "      <td>5.0</td>\n",
              "      <td>4170</td>\n",
              "      <td>0.30</td>\n",
              "      <td>1060</td>\n",
              "      <td>0.50</td>\n",
              "      <td>一线城市</td>\n",
              "      <td>7.0</td>\n",
              "      <td>17.0</td>\n",
              "      <td>18.0</td>\n",
              "      <td>18.0</td>\n",
              "      <td>0.0</td>\n",
              "      <td>3.0</td>\n",
              "      <td>72.0</td>\n",
              "      <td>72.0</td>\n",
              "      <td>0.0</td>\n",
              "      <td>600</td>\n",
              "      <td>18.0</td>\n",
              "      <td>0.0</td>\n",
              "      <td>0</td>\n",
              "      <td>14260</td>\n",
              "      <td>0.0</td>\n",
              "      <td>0</td>\n",
              "      <td>xs</td>\n",
              "      <td>648.0</td>\n",
              "      <td>82.0</td>\n",
              "      <td>高海涛</td>\n",
              "      <td>528.0</td>\n",
              "      <td>73.0</td>\n",
              "      <td>13.0</td>\n",
              "      <td>6.0</td>\n",
              "      <td>7.0</td>\n",
              "      <td>16.0</td>\n",
              "      <td>2018-04-23</td>\n",
              "      <td>1.0</td>\n",
              "      <td>3.0</td>\n",
              "      <td>8.0</td>\n",
              "      <td>493.0</td>\n",
              "      <td>76.0</td>\n",
              "      <td>77.0</td>\n",
              "      <td>62.0</td>\n",
              "      <td>9.0</td>\n",
              "      <td>27.0</td>\n",
              "      <td>8.0</td>\n",
              "      <td>19.0</td>\n",
              "      <td>0.0</td>\n",
              "      <td>0.0</td>\n",
              "      <td>30.0</td>\n",
              "      <td>69.0</td>\n",
              "      <td>52.0</td>\n",
              "      <td>0.0</td>\n",
              "      <td>0.0</td>\n",
              "      <td>357.0</td>\n",
              "      <td>2017-12-02</td>\n",
              "      <td>2100.0</td>\n",
              "      <td>73.0</td>\n",
              "      <td>19.0</td>\n",
              "      <td>20.0</td>\n",
              "      <td>3500.0</td>\n",
              "      <td>1731.0</td>\n",
              "      <td>7000.0</td>\n",
              "      <td>81.0</td>\n",
              "      <td>8.0</td>\n",
              "      <td>10.0</td>\n",
              "      <td>18000.0</td>\n",
              "      <td>7700.0</td>\n",
              "      <td>14.0</td>\n",
              "      <td>156.0</td>\n",
              "    </tr>\n",
              "    <tr>\n",
              "      <th>2894</th>\n",
              "      <td>7253</td>\n",
              "      <td>2521995</td>\n",
              "      <td>20180507123613705000000388368896</td>\n",
              "      <td>卡号1</td>\n",
              "      <td>0.05</td>\n",
              "      <td>0.88</td>\n",
              "      <td>700</td>\n",
              "      <td>1.15</td>\n",
              "      <td>0.86</td>\n",
              "      <td>0.177</td>\n",
              "      <td>15.0</td>\n",
              "      <td>28.0</td>\n",
              "      <td>27.0</td>\n",
              "      <td>2.0</td>\n",
              "      <td>1.0</td>\n",
              "      <td>12470</td>\n",
              "      <td>0</td>\n",
              "      <td>18.0</td>\n",
              "      <td>20160615.0</td>\n",
              "      <td>70280</td>\n",
              "      <td>78.0</td>\n",
              "      <td>1.00</td>\n",
              "      <td>11140</td>\n",
              "      <td>8.0</td>\n",
              "      <td>2170</td>\n",
              "      <td>1.00</td>\n",
              "      <td>590</td>\n",
              "      <td>0.65</td>\n",
              "      <td>一线城市</td>\n",
              "      <td>0.0</td>\n",
              "      <td>14.0</td>\n",
              "      <td>0.0</td>\n",
              "      <td>14.0</td>\n",
              "      <td>0.0</td>\n",
              "      <td>0.0</td>\n",
              "      <td>2.0</td>\n",
              "      <td>6.0</td>\n",
              "      <td>0.0</td>\n",
              "      <td>0</td>\n",
              "      <td>12.0</td>\n",
              "      <td>0.0</td>\n",
              "      <td>0</td>\n",
              "      <td>11620</td>\n",
              "      <td>0.0</td>\n",
              "      <td>0</td>\n",
              "      <td>xs</td>\n",
              "      <td>705.0</td>\n",
              "      <td>103.0</td>\n",
              "      <td>王愧愧</td>\n",
              "      <td>610.0</td>\n",
              "      <td>88.0</td>\n",
              "      <td>1.0</td>\n",
              "      <td>0.0</td>\n",
              "      <td>1.0</td>\n",
              "      <td>1.0</td>\n",
              "      <td>2017-12-12</td>\n",
              "      <td>0.0</td>\n",
              "      <td>0.0</td>\n",
              "      <td>1.0</td>\n",
              "      <td>591.0</td>\n",
              "      <td>78.0</td>\n",
              "      <td>7.0</td>\n",
              "      <td>6.0</td>\n",
              "      <td>0.0</td>\n",
              "      <td>1.0</td>\n",
              "      <td>1.0</td>\n",
              "      <td>0.0</td>\n",
              "      <td>0.0</td>\n",
              "      <td>0.0</td>\n",
              "      <td>1.0</td>\n",
              "      <td>19.0</td>\n",
              "      <td>3.0</td>\n",
              "      <td>0.0</td>\n",
              "      <td>0.0</td>\n",
              "      <td>349.0</td>\n",
              "      <td>2017-12-16</td>\n",
              "      <td>0.0</td>\n",
              "      <td>0.0</td>\n",
              "      <td>0.0</td>\n",
              "      <td>0.0</td>\n",
              "      <td>0.0</td>\n",
              "      <td>0.0</td>\n",
              "      <td>63600.0</td>\n",
              "      <td>78.0</td>\n",
              "      <td>1.0</td>\n",
              "      <td>1.0</td>\n",
              "      <td>63600.0</td>\n",
              "      <td>63600.0</td>\n",
              "      <td>146.0</td>\n",
              "      <td>142.0</td>\n",
              "    </tr>\n",
              "  </tbody>\n",
              "</table>\n",
              "</div>"
            ],
            "text/plain": [
              "      Unnamed: 0   custid                          trade_no bank_card_no  \\\n",
              "133          350   402057  20180507123955680000000023098632          卡号1   \n",
              "3248        8140  1664005  20180504175232655000000381748052          卡号1   \n",
              "2459        6191  1780969  20180507121431605000000388286143          卡号1   \n",
              "1070        2785   457072  20180507121756155000000388292768          卡号1   \n",
              "2441        6149  2826525  20180507124756034000000388412078          卡号1   \n",
              "4666       11794  1404302  20180507112848892000000388121696          卡号1   \n",
              "4520       11399   757531  20180507124218579000000388393157          卡号1   \n",
              "1386        3614    70990  20180507115424277000000388205632          卡号1   \n",
              "4075       10302  2391984  20180507120853081000000388262174          卡号1   \n",
              "2894        7253  2521995  20180507123613705000000388368896          卡号1   \n",
              "\n",
              "      low_volume_percent  middle_volume_percent  \\\n",
              "133                 0.01                   0.99   \n",
              "3248                0.01                   0.94   \n",
              "2459                0.00                   0.52   \n",
              "1070                0.04                   0.52   \n",
              "2441                0.04                   0.96   \n",
              "4666                0.04                   0.84   \n",
              "4520                0.04                   0.92   \n",
              "1386                0.00                   0.97   \n",
              "4075                0.03                   0.97   \n",
              "2894                0.05                   0.88   \n",
              "\n",
              "      take_amount_in_later_12_month_highest  \\\n",
              "133                                    1700   \n",
              "3248                                      0   \n",
              "2459                                   3000   \n",
              "1070                                   3000   \n",
              "2441                                      0   \n",
              "4666                                   6000   \n",
              "4520                                  10000   \n",
              "1386                                  24000   \n",
              "4075                                    500   \n",
              "2894                                    700   \n",
              "\n",
              "      trans_amount_increase_rate_lately  trans_activity_month  \\\n",
              "133                                1.11                  0.68   \n",
              "3248                               0.46                  0.94   \n",
              "2459                               0.39                  0.94   \n",
              "1070                               1.43                  1.00   \n",
              "2441                               0.76                  1.00   \n",
              "4666                               1.99                  1.00   \n",
              "4520                               0.90                  0.65   \n",
              "1386                               0.12                  0.90   \n",
              "4075                               1.42                  0.95   \n",
              "2894                               1.15                  0.86   \n",
              "\n",
              "      trans_activity_day  transd_mcc  trans_days_interval_filter  \\\n",
              "133                0.525        19.0                        13.0   \n",
              "3248               0.583        22.0                        15.0   \n",
              "2459               0.525        23.0                        11.0   \n",
              "1070               0.383        20.0                        14.0   \n",
              "2441               0.391        15.0                         9.0   \n",
              "4666               0.400        30.0                        15.0   \n",
              "4520               0.672        22.0                         9.0   \n",
              "1386               0.508        21.0                        16.0   \n",
              "4075               0.572        19.0                        17.0   \n",
              "2894               0.177        15.0                        28.0   \n",
              "\n",
              "      trans_days_interval  regional_mobility  student_feature  \\\n",
              "133                  12.0                4.0              1.0   \n",
              "3248                  6.0                3.0              1.0   \n",
              "2459                 10.0                2.0              NaN   \n",
              "1070                  9.0                3.0              1.0   \n",
              "2441                 11.0                2.0              NaN   \n",
              "4666                  9.0                1.0              NaN   \n",
              "4520                  8.0                3.0              1.0   \n",
              "1386                 15.0                3.0              1.0   \n",
              "4075                 19.0                2.0              1.0   \n",
              "2894                 27.0                2.0              1.0   \n",
              "\n",
              "      repayment_capability  is_high_user  number_of_trans_from_2011  \\\n",
              "133                  12360             0                       38.0   \n",
              "3248                  8770             0                       17.0   \n",
              "2459                 15090             0                       31.0   \n",
              "1070                  1570             0                       20.0   \n",
              "2441                 13560             0                        8.0   \n",
              "4666                 16310             0                       23.0   \n",
              "4520                 20630             0                       24.0   \n",
              "1386                 11050             0                       36.0   \n",
              "4075                 17590             0                       18.0   \n",
              "2894                 12470             0                       18.0   \n",
              "\n",
              "      first_transaction_time  historical_trans_amount  historical_trans_day  \\\n",
              "133               20130717.0                   494860                 307.0   \n",
              "3248              20160901.0                   218640                 220.0   \n",
              "2459              20150611.0                   603910                 319.0   \n",
              "1070              20160702.0                   181670                 191.0   \n",
              "2441              20170728.0                    70730                  94.0   \n",
              "4666              20160429.0                   191040                 200.0   \n",
              "4520              20150201.0                   356820                 272.0   \n",
              "1386              20141119.0                   325530                 291.0   \n",
              "4075              20160811.0                   351230                 247.0   \n",
              "2894              20160615.0                    70280                  78.0   \n",
              "\n",
              "      rank_trad_1_month  trans_amount_3_month  \\\n",
              "133                0.40                 51440   \n",
              "3248               0.30                 45000   \n",
              "2459               0.05                152080   \n",
              "1070               0.45                 49320   \n",
              "2441               0.35                 23790   \n",
              "4666               0.35                 23490   \n",
              "4520               0.45                 49570   \n",
              "1386               0.15                 72250   \n",
              "4075               0.60                 41340   \n",
              "2894               1.00                 11140   \n",
              "\n",
              "      avg_consume_less_12_valid_month    abs  top_trans_count_last_1_month  \\\n",
              "133                               6.0  12290                          0.05   \n",
              "3248                              5.0  28180                          0.10   \n",
              "2459                              6.0  29300                          0.05   \n",
              "1070                              7.0   4040                          0.05   \n",
              "2441                              5.0   3740                          0.15   \n",
              "4666                              6.0   4880                          0.15   \n",
              "4520                              5.0   8440                          0.05   \n",
              "1386                              7.0   5040                          0.10   \n",
              "4075                              5.0   4170                          0.30   \n",
              "2894                              8.0   2170                          1.00   \n",
              "\n",
              "      avg_price_last_12_month  avg_price_top_last_12_valid_month  \\\n",
              "133                      1140                               0.50   \n",
              "3248                     1480                               0.45   \n",
              "2459                     2500                               0.35   \n",
              "1070                     1140                               0.50   \n",
              "2441                     1020                               0.55   \n",
              "4666                      920                               0.65   \n",
              "4520                      940                               0.55   \n",
              "1386                     1090                               0.40   \n",
              "4075                     1060                               0.50   \n",
              "2894                      590                               0.65   \n",
              "\n",
              "     reg_preference_for_trad  trans_top_time_last_1_month  \\\n",
              "133                     一线城市                         12.0   \n",
              "3248                      境外                          5.0   \n",
              "2459                    一线城市                          5.0   \n",
              "1070                    一线城市                         13.0   \n",
              "2441                    一线城市                          7.0   \n",
              "4666                    一线城市                          5.0   \n",
              "4520                    三线城市                          7.0   \n",
              "1386                    三线城市                          6.0   \n",
              "4075                    一线城市                          7.0   \n",
              "2894                    一线城市                          0.0   \n",
              "\n",
              "      trans_top_time_last_6_month  consume_top_time_last_1_month  \\\n",
              "133                          12.0                           12.0   \n",
              "3248                         14.0                            5.0   \n",
              "2459                          8.0                            5.0   \n",
              "1070                         13.0                            6.0   \n",
              "2441                          9.0                            7.0   \n",
              "4666                         15.0                            5.0   \n",
              "4520                          7.0                            7.0   \n",
              "1386                          7.0                            8.0   \n",
              "4075                         17.0                           18.0   \n",
              "2894                         14.0                            0.0   \n",
              "\n",
              "      consume_top_time_last_6_month  cross_consume_count_last_1_month  \\\n",
              "133                            12.0                               1.0   \n",
              "3248                           14.0                               0.0   \n",
              "2459                            8.0                               0.0   \n",
              "1070                           25.0                               0.0   \n",
              "2441                            9.0                               2.0   \n",
              "4666                           15.0                               0.0   \n",
              "4520                            7.0                               0.0   \n",
              "1386                            8.0                               0.0   \n",
              "4075                           18.0                               0.0   \n",
              "2894                           14.0                               0.0   \n",
              "\n",
              "      trans_fail_top_count_enum_last_1_month  \\\n",
              "133                                      3.0   \n",
              "3248                                     2.0   \n",
              "2459                                     1.0   \n",
              "1070                                     1.0   \n",
              "2441                                     1.0   \n",
              "4666                                     0.0   \n",
              "4520                                     2.0   \n",
              "1386                                     2.0   \n",
              "4075                                     3.0   \n",
              "2894                                     0.0   \n",
              "\n",
              "      trans_fail_top_count_enum_last_6_month  \\\n",
              "133                                      8.0   \n",
              "3248                                     2.0   \n",
              "2459                                     2.0   \n",
              "1070                                     3.0   \n",
              "2441                                     7.0   \n",
              "4666                                     5.0   \n",
              "4520                                     6.0   \n",
              "1386                                     5.0   \n",
              "4075                                    72.0   \n",
              "2894                                     2.0   \n",
              "\n",
              "      trans_fail_top_count_enum_last_12_month  consume_mini_time_last_1_month  \\\n",
              "133                                      10.0                        504817.0   \n",
              "3248                                      2.0                            33.0   \n",
              "2459                                      6.0                           877.0   \n",
              "1070                                      5.0                             1.0   \n",
              "2441                                      7.0                        588058.0   \n",
              "4666                                      5.0                            18.0   \n",
              "4520                                      6.0                        136622.0   \n",
              "1386                                      5.0                            15.0   \n",
              "4075                                     72.0                             0.0   \n",
              "2894                                      6.0                             0.0   \n",
              "\n",
              "      max_cumulative_consume_later_1_month  max_consume_count_later_6_month  \\\n",
              "133                                   1530                              8.0   \n",
              "3248                                  1700                              3.0   \n",
              "2459                                 25370                              8.0   \n",
              "1070                                   810                              5.0   \n",
              "2441                                  2580                              3.0   \n",
              "4666                                  2000                              3.0   \n",
              "4520                                   760                              5.0   \n",
              "1386                                 10000                              6.0   \n",
              "4075                                   600                             18.0   \n",
              "2894                                     0                             12.0   \n",
              "\n",
              "      railway_consume_count_last_12_month  \\\n",
              "133                                   0.0   \n",
              "3248                                  0.0   \n",
              "2459                                  0.0   \n",
              "1070                                  0.0   \n",
              "2441                                  0.0   \n",
              "4666                                 30.0   \n",
              "4520                                  1.0   \n",
              "1386                                  0.0   \n",
              "4075                                  0.0   \n",
              "2894                                  0.0   \n",
              "\n",
              "      pawns_auctions_trusts_consume_last_1_month  \\\n",
              "133                                          500   \n",
              "3248                                        4460   \n",
              "2459                                       28760   \n",
              "1070                                         510   \n",
              "2441                                           0   \n",
              "4666                                           0   \n",
              "4520                                         690   \n",
              "1386                                       10500   \n",
              "4075                                           0   \n",
              "2894                                           0   \n",
              "\n",
              "      pawns_auctions_trusts_consume_last_6_month  \\\n",
              "133                                        25440   \n",
              "3248                                       50340   \n",
              "2459                                      179580   \n",
              "1070                                       13270   \n",
              "2441                                        7690   \n",
              "4666                                       18670   \n",
              "4520                                       12230   \n",
              "1386                                       24190   \n",
              "4075                                       14260   \n",
              "2894                                       11620   \n",
              "\n",
              "      jewelry_consume_count_last_6_month  status source  \\\n",
              "133                                  0.0       1     xs   \n",
              "3248                                 0.0       1     xs   \n",
              "2459                                 0.0       0     xs   \n",
              "1070                                 0.0       1     xs   \n",
              "2441                                 0.0       0     xs   \n",
              "4666                                 0.0       1     xs   \n",
              "4520                                 0.0       0     xs   \n",
              "1386                                 0.0       0     xs   \n",
              "4075                                 0.0       0     xs   \n",
              "2894                                 0.0       0     xs   \n",
              "\n",
              "      first_transaction_day  trans_day_last_12_month id_name  apply_score  \\\n",
              "133                  1769.0                     82.0     唐正斌        657.0   \n",
              "3248                  627.0                     84.0      朱健        542.0   \n",
              "2459                 1075.0                     85.0      李欢        656.0   \n",
              "1070                  688.0                     82.0     王铭伟        538.0   \n",
              "2441                  297.0                     87.0     胡成朋        540.0   \n",
              "4666                  752.0                     95.0      吴强        545.0   \n",
              "4520                 1205.0                     82.0     李娟娟        656.0   \n",
              "1386                 1279.0                     82.0      晏凡        559.0   \n",
              "4075                  648.0                     82.0     高海涛        528.0   \n",
              "2894                  705.0                    103.0     王愧愧        610.0   \n",
              "\n",
              "      apply_credibility  query_org_count  query_finance_count  \\\n",
              "133                77.0             24.0                 13.0   \n",
              "3248               78.0             13.0                  6.0   \n",
              "2459               71.0             11.0                  4.0   \n",
              "1070               72.0             16.0                 11.0   \n",
              "2441               74.0             19.0                  9.0   \n",
              "4666               81.0              2.0                  2.0   \n",
              "4520               74.0             10.0                  6.0   \n",
              "1386               78.0             15.0                  8.0   \n",
              "4075               73.0             13.0                  6.0   \n",
              "2894               88.0              1.0                  0.0   \n",
              "\n",
              "      query_cash_count  query_sum_count latest_query_time  \\\n",
              "133                9.0             37.0        2018-05-02   \n",
              "3248               5.0             16.0        2018-04-08   \n",
              "2459               3.0             15.0        2018-04-24   \n",
              "1070               3.0             31.0        2018-04-13   \n",
              "2441               6.0             25.0        2018-04-29   \n",
              "4666               0.0              3.0        2018-03-14   \n",
              "4520               2.0             12.0        2018-04-08   \n",
              "1386               5.0             17.0        2018-04-29   \n",
              "4075               7.0             16.0        2018-04-23   \n",
              "2894               1.0              1.0        2017-12-12   \n",
              "\n",
              "      latest_one_month_apply  latest_three_month_apply  \\\n",
              "133                      4.0                      15.0   \n",
              "3248                     1.0                       4.0   \n",
              "2459                     8.0                      13.0   \n",
              "1070                     6.0                      25.0   \n",
              "2441                    10.0                      15.0   \n",
              "4666                     0.0                       2.0   \n",
              "4520                     1.0                       8.0   \n",
              "1386                     3.0                       7.0   \n",
              "4075                     1.0                       3.0   \n",
              "2894                     0.0                       0.0   \n",
              "\n",
              "      latest_six_month_apply  loans_score  loans_credibility_behavior  \\\n",
              "133                     20.0        636.0                        78.0   \n",
              "3248                    12.0        485.0                        76.0   \n",
              "2459                    13.0        642.0                        78.0   \n",
              "1070                    30.0        509.0                        76.0   \n",
              "2441                    18.0        545.0                        73.0   \n",
              "4666                     3.0        506.0                        76.0   \n",
              "4520                     8.0        629.0                        74.0   \n",
              "1386                     9.0        497.0                        78.0   \n",
              "4075                     8.0        493.0                        76.0   \n",
              "2894                     1.0        591.0                        78.0   \n",
              "\n",
              "      loans_count  loans_settle_count  loans_overdue_count  \\\n",
              "133          55.0                50.0                  0.0   \n",
              "3248         14.0                10.0                  3.0   \n",
              "2459         17.0                15.0                  0.0   \n",
              "1070         21.0                15.0                  2.0   \n",
              "2441         29.0                22.0                  3.0   \n",
              "4666         23.0                20.0                  3.0   \n",
              "4520         68.0                64.0                  0.0   \n",
              "1386         35.0                33.0                  2.0   \n",
              "4075         77.0                62.0                  9.0   \n",
              "2894          7.0                 6.0                  0.0   \n",
              "\n",
              "      loans_org_count_behavior  consfin_org_count_behavior  loans_cash_count  \\\n",
              "133                       20.0                         5.0              15.0   \n",
              "3248                       7.0                         5.0               2.0   \n",
              "2459                      10.0                         7.0               3.0   \n",
              "1070                      10.0                         5.0               5.0   \n",
              "2441                      15.0                         4.0              11.0   \n",
              "4666                       8.0                         2.0               6.0   \n",
              "4520                      21.0                         6.0              15.0   \n",
              "1386                      15.0                         8.0               7.0   \n",
              "4075                      27.0                         8.0              19.0   \n",
              "2894                       1.0                         1.0               0.0   \n",
              "\n",
              "      latest_one_month_loan  latest_three_month_loan  latest_six_month_loan  \\\n",
              "133                     5.0                      7.0                   22.0   \n",
              "3248                    0.0                      2.0                    5.0   \n",
              "2459                    0.0                      2.0                    5.0   \n",
              "1070                    4.0                      9.0                   15.0   \n",
              "2441                    2.0                      6.0                   20.0   \n",
              "4666                    0.0                      0.0                    6.0   \n",
              "4520                    2.0                      3.0                   24.0   \n",
              "1386                    0.0                      1.0                   15.0   \n",
              "4075                    0.0                      0.0                   30.0   \n",
              "2894                    0.0                      0.0                    1.0   \n",
              "\n",
              "      history_suc_fee  history_fail_fee  latest_one_month_suc  \\\n",
              "133              67.0              11.0                   5.0   \n",
              "3248             41.0              17.0                   0.0   \n",
              "2459             48.0               8.0                   2.0   \n",
              "1070             19.0              30.0                   1.0   \n",
              "2441             27.0              21.0                   0.0   \n",
              "4666             37.0               7.0                   1.0   \n",
              "4520            101.0              11.0                   0.0   \n",
              "1386             54.0               5.0                   2.0   \n",
              "4075             69.0              52.0                   0.0   \n",
              "2894             19.0               3.0                   0.0   \n",
              "\n",
              "      latest_one_month_fail  loans_long_time loans_latest_time  \\\n",
              "133                     1.0            334.0        2018-04-29   \n",
              "3248                    4.0            360.0        2018-03-19   \n",
              "2459                    0.0            350.0        2018-04-02   \n",
              "1070                   22.0            355.0        2018-05-05   \n",
              "2441                    2.0            302.0        2018-05-05   \n",
              "4666                    0.0            358.0        2017-12-15   \n",
              "4520                    2.0            358.0        2018-04-20   \n",
              "1386                    0.0            341.0        2018-02-28   \n",
              "4075                    0.0            357.0        2017-12-02   \n",
              "2894                    0.0            349.0        2017-12-16   \n",
              "\n",
              "      loans_credit_limit  loans_credibility_limit  loans_org_count_current  \\\n",
              "133               2400.0                     76.0                     15.0   \n",
              "3248              2300.0                     77.0                      2.0   \n",
              "2459              1900.0                     73.0                      3.0   \n",
              "1070               900.0                     74.0                      5.0   \n",
              "2441              2200.0                     72.0                     11.0   \n",
              "4666              2300.0                     75.0                      6.0   \n",
              "4520              1700.0                     73.0                     15.0   \n",
              "1386              1400.0                     75.0                      7.0   \n",
              "4075              2100.0                     73.0                     19.0   \n",
              "2894                 0.0                      0.0                      0.0   \n",
              "\n",
              "      loans_product_count  loans_max_limit  loans_avg_limit  \\\n",
              "133                  16.0           4400.0           2093.0   \n",
              "3248                  2.0           2800.0           2150.0   \n",
              "2459                  3.0           2300.0           1666.0   \n",
              "1070                  6.0           1600.0            840.0   \n",
              "2441                 12.0           2900.0           2109.0   \n",
              "4666                  6.0           4500.0           2433.0   \n",
              "4520                 17.0           2300.0           1420.0   \n",
              "1386                  8.0           2300.0           1400.0   \n",
              "4075                 20.0           3500.0           1731.0   \n",
              "2894                  0.0              0.0              0.0   \n",
              "\n",
              "      consfin_credit_limit  consfin_credibility  consfin_org_count_current  \\\n",
              "133                14300.0                 80.0                        5.0   \n",
              "3248                5000.0                 77.0                        5.0   \n",
              "2459                7200.0                 81.0                        7.0   \n",
              "1070                2400.0                 81.0                        5.0   \n",
              "2441                5500.0                 79.0                        4.0   \n",
              "4666                1800.0                 82.0                        2.0   \n",
              "4520                9100.0                 78.0                        6.0   \n",
              "1386               15600.0                 77.0                        8.0   \n",
              "4075                7000.0                 81.0                        8.0   \n",
              "2894               63600.0                 78.0                        1.0   \n",
              "\n",
              "      consfin_product_count  consfin_max_limit  consfin_avg_limit  \\\n",
              "133                     5.0            20400.0            10260.0   \n",
              "3248                    6.0             7200.0             3680.0   \n",
              "2459                    8.0            26400.0             9314.0   \n",
              "1070                    5.0            10200.0             3900.0   \n",
              "2441                    4.0             8400.0             5475.0   \n",
              "4666                    3.0             1800.0             1400.0   \n",
              "4520                    7.0            10800.0             5083.0   \n",
              "1386                    9.0            33600.0            11712.0   \n",
              "4075                   10.0            18000.0             7700.0   \n",
              "2894                    1.0            63600.0            63600.0   \n",
              "\n",
              "      latest_query_day  loans_latest_day  \n",
              "133                5.0               8.0  \n",
              "3248              26.0              46.0  \n",
              "2459              13.0              35.0  \n",
              "1070              24.0               2.0  \n",
              "2441               8.0               2.0  \n",
              "4666              54.0             143.0  \n",
              "4520              29.0              17.0  \n",
              "1386               8.0              68.0  \n",
              "4075              14.0             156.0  \n",
              "2894             146.0             142.0  "
            ]
          },
          "metadata": {
            "tags": []
          },
          "execution_count": 2
        }
      ]
    },
    {
      "cell_type": "markdown",
      "metadata": {
        "id": "XT9p8xEFwXkk",
        "colab_type": "text"
      },
      "source": [
        "## 二. 数据分析与处理\n",
        "1. 数据类型、重复值分析\n",
        "2. 无关特征删除、类型转换\n",
        "3. 缺失值处理\n",
        "4. 其他可借鉴的数据分析处理"
      ]
    },
    {
      "cell_type": "markdown",
      "metadata": {
        "id": "qrSKapkEwXkl",
        "colab_type": "text"
      },
      "source": [
        "### 1. 数据类型分析"
      ]
    },
    {
      "cell_type": "code",
      "metadata": {
        "scrolled": true,
        "id": "m8J3i1NhwXkm",
        "colab_type": "code",
        "outputId": "09e29823-cf6f-4f2b-9b60-64264b67a198",
        "colab": {
          "base_uri": "https://localhost:8080/",
          "height": 1649
        }
      },
      "source": [
        "data.info()\n",
        "data.shape"
      ],
      "execution_count": 3,
      "outputs": [
        {
          "output_type": "stream",
          "text": [
            "<class 'pandas.core.frame.DataFrame'>\n",
            "RangeIndex: 4754 entries, 0 to 4753\n",
            "Data columns (total 90 columns):\n",
            "Unnamed: 0                                    4754 non-null int64\n",
            "custid                                        4754 non-null int64\n",
            "trade_no                                      4754 non-null object\n",
            "bank_card_no                                  4754 non-null object\n",
            "low_volume_percent                            4752 non-null float64\n",
            "middle_volume_percent                         4752 non-null float64\n",
            "take_amount_in_later_12_month_highest         4754 non-null int64\n",
            "trans_amount_increase_rate_lately             4751 non-null float64\n",
            "trans_activity_month                          4752 non-null float64\n",
            "trans_activity_day                            4752 non-null float64\n",
            "transd_mcc                                    4752 non-null float64\n",
            "trans_days_interval_filter                    4746 non-null float64\n",
            "trans_days_interval                           4752 non-null float64\n",
            "regional_mobility                             4752 non-null float64\n",
            "student_feature                               1756 non-null float64\n",
            "repayment_capability                          4754 non-null int64\n",
            "is_high_user                                  4754 non-null int64\n",
            "number_of_trans_from_2011                     4752 non-null float64\n",
            "first_transaction_time                        4752 non-null float64\n",
            "historical_trans_amount                       4754 non-null int64\n",
            "historical_trans_day                          4752 non-null float64\n",
            "rank_trad_1_month                             4752 non-null float64\n",
            "trans_amount_3_month                          4754 non-null int64\n",
            "avg_consume_less_12_valid_month               4752 non-null float64\n",
            "abs                                           4754 non-null int64\n",
            "top_trans_count_last_1_month                  4752 non-null float64\n",
            "avg_price_last_12_month                       4754 non-null int64\n",
            "avg_price_top_last_12_valid_month             4650 non-null float64\n",
            "reg_preference_for_trad                       4752 non-null object\n",
            "trans_top_time_last_1_month                   4746 non-null float64\n",
            "trans_top_time_last_6_month                   4746 non-null float64\n",
            "consume_top_time_last_1_month                 4746 non-null float64\n",
            "consume_top_time_last_6_month                 4746 non-null float64\n",
            "cross_consume_count_last_1_month              4328 non-null float64\n",
            "trans_fail_top_count_enum_last_1_month        4738 non-null float64\n",
            "trans_fail_top_count_enum_last_6_month        4738 non-null float64\n",
            "trans_fail_top_count_enum_last_12_month       4738 non-null float64\n",
            "consume_mini_time_last_1_month                4728 non-null float64\n",
            "max_cumulative_consume_later_1_month          4754 non-null int64\n",
            "max_consume_count_later_6_month               4746 non-null float64\n",
            "railway_consume_count_last_12_month           4742 non-null float64\n",
            "pawns_auctions_trusts_consume_last_1_month    4754 non-null int64\n",
            "pawns_auctions_trusts_consume_last_6_month    4754 non-null int64\n",
            "jewelry_consume_count_last_6_month            4742 non-null float64\n",
            "status                                        4754 non-null int64\n",
            "source                                        4754 non-null object\n",
            "first_transaction_day                         4752 non-null float64\n",
            "trans_day_last_12_month                       4752 non-null float64\n",
            "id_name                                       4478 non-null object\n",
            "apply_score                                   4450 non-null float64\n",
            "apply_credibility                             4450 non-null float64\n",
            "query_org_count                               4450 non-null float64\n",
            "query_finance_count                           4450 non-null float64\n",
            "query_cash_count                              4450 non-null float64\n",
            "query_sum_count                               4450 non-null float64\n",
            "latest_query_time                             4450 non-null object\n",
            "latest_one_month_apply                        4450 non-null float64\n",
            "latest_three_month_apply                      4450 non-null float64\n",
            "latest_six_month_apply                        4450 non-null float64\n",
            "loans_score                                   4457 non-null float64\n",
            "loans_credibility_behavior                    4457 non-null float64\n",
            "loans_count                                   4457 non-null float64\n",
            "loans_settle_count                            4457 non-null float64\n",
            "loans_overdue_count                           4457 non-null float64\n",
            "loans_org_count_behavior                      4457 non-null float64\n",
            "consfin_org_count_behavior                    4457 non-null float64\n",
            "loans_cash_count                              4457 non-null float64\n",
            "latest_one_month_loan                         4457 non-null float64\n",
            "latest_three_month_loan                       4457 non-null float64\n",
            "latest_six_month_loan                         4457 non-null float64\n",
            "history_suc_fee                               4457 non-null float64\n",
            "history_fail_fee                              4457 non-null float64\n",
            "latest_one_month_suc                          4457 non-null float64\n",
            "latest_one_month_fail                         4457 non-null float64\n",
            "loans_long_time                               4457 non-null float64\n",
            "loans_latest_time                             4457 non-null object\n",
            "loans_credit_limit                            4457 non-null float64\n",
            "loans_credibility_limit                       4457 non-null float64\n",
            "loans_org_count_current                       4457 non-null float64\n",
            "loans_product_count                           4457 non-null float64\n",
            "loans_max_limit                               4457 non-null float64\n",
            "loans_avg_limit                               4457 non-null float64\n",
            "consfin_credit_limit                          4457 non-null float64\n",
            "consfin_credibility                           4457 non-null float64\n",
            "consfin_org_count_current                     4457 non-null float64\n",
            "consfin_product_count                         4457 non-null float64\n",
            "consfin_max_limit                             4457 non-null float64\n",
            "consfin_avg_limit                             4457 non-null float64\n",
            "latest_query_day                              4450 non-null float64\n",
            "loans_latest_day                              4457 non-null float64\n",
            "dtypes: float64(70), int64(13), object(7)\n",
            "memory usage: 3.3+ MB\n"
          ],
          "name": "stdout"
        },
        {
          "output_type": "execute_result",
          "data": {
            "text/plain": [
              "(4754, 90)"
            ]
          },
          "metadata": {
            "tags": []
          },
          "execution_count": 3
        }
      ]
    },
    {
      "cell_type": "markdown",
      "metadata": {
        "id": "WYyR0sw_wXkp",
        "colab_type": "text"
      },
      "source": [
        "### 2. 重复值分析"
      ]
    },
    {
      "cell_type": "code",
      "metadata": {
        "id": "2dHn8lqYwXkp",
        "colab_type": "code",
        "outputId": "58d39f72-ee8d-4ac5-c178-aba7d1a3b208",
        "colab": {
          "base_uri": "https://localhost:8080/",
          "height": 34
        }
      },
      "source": [
        "# 检查是否要重复数据\n",
        "data.duplicated().any()"
      ],
      "execution_count": 4,
      "outputs": [
        {
          "output_type": "execute_result",
          "data": {
            "text/plain": [
              "False"
            ]
          },
          "metadata": {
            "tags": []
          },
          "execution_count": 4
        }
      ]
    },
    {
      "cell_type": "code",
      "metadata": {
        "id": "_6YxZKPXwXks",
        "colab_type": "code",
        "outputId": "6e20ad2f-6bfe-4256-c5a8-e3bb808941a6",
        "colab": {
          "base_uri": "https://localhost:8080/",
          "height": 34
        }
      },
      "source": [
        "# 检查是否用重复的用户，结果False\n",
        "data[\"custid\"].duplicated().any()"
      ],
      "execution_count": 5,
      "outputs": [
        {
          "output_type": "execute_result",
          "data": {
            "text/plain": [
              "False"
            ]
          },
          "metadata": {
            "tags": []
          },
          "execution_count": 5
        }
      ]
    },
    {
      "cell_type": "markdown",
      "metadata": {
        "id": "8pYeCbT0wXku",
        "colab_type": "text"
      },
      "source": [
        "### 3. 无关特征删除、类型转换"
      ]
    },
    {
      "cell_type": "markdown",
      "metadata": {
        "id": "leDj8RZzwXkv",
        "colab_type": "text"
      },
      "source": [
        "#### 3.1 object类型的数据"
      ]
    },
    {
      "cell_type": "code",
      "metadata": {
        "id": "yOIQr6f0wXkw",
        "colab_type": "code",
        "outputId": "d74641f0-7b19-441d-f40b-5d2f7cd39a51",
        "colab": {
          "base_uri": "https://localhost:8080/",
          "height": 68
        }
      },
      "source": [
        "data.select_dtypes(include=\"object\").columns"
      ],
      "execution_count": 6,
      "outputs": [
        {
          "output_type": "execute_result",
          "data": {
            "text/plain": [
              "Index(['trade_no', 'bank_card_no', 'reg_preference_for_trad', 'source',\n",
              "       'id_name', 'latest_query_time', 'loans_latest_time'],\n",
              "      dtype='object')"
            ]
          },
          "metadata": {
            "tags": []
          },
          "execution_count": 6
        }
      ]
    },
    {
      "cell_type": "code",
      "metadata": {
        "id": "LChzQDVHwXky",
        "colab_type": "code",
        "outputId": "025ba2c1-aeba-4e41-a6e3-177ec8c7db0d",
        "colab": {
          "base_uri": "https://localhost:8080/",
          "height": 187
        }
      },
      "source": [
        "'''分析object类型数据'''\n",
        "# 检查是否有重复的trade_no，结果False，且交易的单号不影响结果需要删除\n",
        "# display(data[\"trade_no\"].duplicated().any())\n",
        "# 检查bank_card_no，全为相同内容，需要删除\n",
        "display(data[\"bank_card_no\"].value_counts())\n",
        "# 检查reg_preference_for_trad，分为5大类需要使用LabelEncoder编码\n",
        "display(data[\"reg_preference_for_trad\"].value_counts())\n",
        "# 检查source，全为相同内容，需要删除\n",
        "display(data[\"source\"].value_counts())\n",
        "# loans_latest_time、latest_query_time 时间内容需要调整\n",
        "#id_name为用户姓名不影响结果需要删除"
      ],
      "execution_count": 7,
      "outputs": [
        {
          "output_type": "display_data",
          "data": {
            "text/plain": [
              "卡号1    4754\n",
              "Name: bank_card_no, dtype: int64"
            ]
          },
          "metadata": {
            "tags": []
          }
        },
        {
          "output_type": "display_data",
          "data": {
            "text/plain": [
              "一线城市    3403\n",
              "三线城市    1064\n",
              "境外       150\n",
              "二线城市     131\n",
              "其他城市       4\n",
              "Name: reg_preference_for_trad, dtype: int64"
            ]
          },
          "metadata": {
            "tags": []
          }
        },
        {
          "output_type": "display_data",
          "data": {
            "text/plain": [
              "xs    4754\n",
              "Name: source, dtype: int64"
            ]
          },
          "metadata": {
            "tags": []
          }
        }
      ]
    },
    {
      "cell_type": "code",
      "metadata": {
        "id": "3FQjHGHQwXk1",
        "colab_type": "code",
        "outputId": "1eda268a-03d5-4340-ab77-65f137b99680",
        "colab": {
          "base_uri": "https://localhost:8080/",
          "height": 34
        }
      },
      "source": [
        "'''处理object类型数据'''\n",
        "#删除trade_no、bank_card_no、source、id_name、source列\n",
        "data.drop(columns=[\"trade_no\",\"bank_card_no\",\"id_name\",\"source\"], axis=1, inplace=True)\n",
        "data.select_dtypes(include=\"object\").columns"
      ],
      "execution_count": 8,
      "outputs": [
        {
          "output_type": "execute_result",
          "data": {
            "text/plain": [
              "Index(['reg_preference_for_trad', 'latest_query_time', 'loans_latest_time'], dtype='object')"
            ]
          },
          "metadata": {
            "tags": []
          },
          "execution_count": 8
        }
      ]
    },
    {
      "cell_type": "code",
      "metadata": {
        "id": "4JfXLpquwXk4",
        "colab_type": "code",
        "outputId": "965f064a-7513-4ee7-903f-54c5371e6b52",
        "colab": {
          "base_uri": "https://localhost:8080/",
          "height": 136
        }
      },
      "source": [
        "#LabelEncoder编码处理reg_preference_for_trad\n",
        "from sklearn.preprocessing import LabelEncoder\n",
        "lb = LabelEncoder()\n",
        "data[\"reg_preference_for_trad\"] = lb.fit_transform(data[\"reg_preference_for_trad\"].astype(str))\n",
        "data[\"reg_preference_for_trad\"].value_counts()"
      ],
      "execution_count": 9,
      "outputs": [
        {
          "output_type": "execute_result",
          "data": {
            "text/plain": [
              "1    3403\n",
              "2    1064\n",
              "5     150\n",
              "3     131\n",
              "4       4\n",
              "0       2\n",
              "Name: reg_preference_for_trad, dtype: int64"
            ]
          },
          "metadata": {
            "tags": []
          },
          "execution_count": 9
        }
      ]
    },
    {
      "cell_type": "code",
      "metadata": {
        "id": "On_jWksuwXk6",
        "colab_type": "code",
        "colab": {}
      },
      "source": [
        "# 将'latest_query_time', 'loans_latest_time'转换成日期格式，然后计算与当前日期的天数差值\n",
        "data['latest_query_time'] = (pd.to_datetime(data['latest_query_time']) - pd.to_datetime('today')).apply(lambda col: col.days)\n",
        "data['loans_latest_time'] = (pd.to_datetime(data['loans_latest_time']) - pd.to_datetime('today')).apply(lambda col: col.days)"
      ],
      "execution_count": 0,
      "outputs": []
    },
    {
      "cell_type": "markdown",
      "metadata": {
        "id": "JYO5NS4mwXk8",
        "colab_type": "text"
      },
      "source": [
        "#### 3.2 非object类型的数据"
      ]
    },
    {
      "cell_type": "code",
      "metadata": {
        "id": "qcsT5ZejwXk9",
        "colab_type": "code",
        "colab": {}
      },
      "source": [
        "# Unnamed: 0 为序号需要删除，custid为用户id需要删除\n",
        "data.drop(columns=[\"Unnamed: 0\",\"custid\"], axis=1, inplace=True)"
      ],
      "execution_count": 0,
      "outputs": []
    },
    {
      "cell_type": "markdown",
      "metadata": {
        "id": "vMRTPU6LwXk_",
        "colab_type": "text"
      },
      "source": [
        "### 4. 缺失值处理"
      ]
    },
    {
      "cell_type": "code",
      "metadata": {
        "scrolled": true,
        "id": "hRPyz_t6wXlA",
        "colab_type": "code",
        "outputId": "f5880d69-52d8-4887-9129-67dc3e59ad3f",
        "colab": {
          "base_uri": "https://localhost:8080/",
          "height": 238
        }
      },
      "source": [
        "data.isnull().sum().value_counts()"
      ],
      "execution_count": 12,
      "outputs": [
        {
          "output_type": "execute_result",
          "data": {
            "text/plain": [
              "297     30\n",
              "2       15\n",
              "0       12\n",
              "304     11\n",
              "8        6\n",
              "16       3\n",
              "12       2\n",
              "104      1\n",
              "2998     1\n",
              "426      1\n",
              "26       1\n",
              "3        1\n",
              "dtype: int64"
            ]
          },
          "metadata": {
            "tags": []
          },
          "execution_count": 12
        }
      ]
    },
    {
      "cell_type": "code",
      "metadata": {
        "id": "LFfLfqpiwXlE",
        "colab_type": "code",
        "outputId": "acb44d18-63bc-4d4c-e7a0-976b16323ac5",
        "colab": {
          "base_uri": "https://localhost:8080/",
          "height": 170
        }
      },
      "source": [
        "data.isnull().sum().argmax()"
      ],
      "execution_count": 13,
      "outputs": [
        {
          "output_type": "stream",
          "text": [
            "/usr/local/lib/python3.6/dist-packages/ipykernel_launcher.py:1: FutureWarning: \n",
            "The current behaviour of 'Series.argmax' is deprecated, use 'idxmax'\n",
            "instead.\n",
            "The behavior of 'argmax' will be corrected to return the positional\n",
            "maximum in the future. For now, use 'series.values.argmax' or\n",
            "'np.argmax(np.array(values))' to get the position of the maximum\n",
            "row.\n",
            "  \"\"\"Entry point for launching an IPython kernel.\n"
          ],
          "name": "stderr"
        },
        {
          "output_type": "execute_result",
          "data": {
            "text/plain": [
              "'student_feature'"
            ]
          },
          "metadata": {
            "tags": []
          },
          "execution_count": 13
        }
      ]
    },
    {
      "cell_type": "code",
      "metadata": {
        "id": "gxU1Zp4QwXlH",
        "colab_type": "code",
        "colab": {}
      },
      "source": [
        "#找出缺失值最多的特征，经检查为student_feature，预估含义是用户的学生类型，考虑将空值设成0\n",
        "data[\"student_feature\"].fillna(value=0,inplace=True)"
      ],
      "execution_count": 0,
      "outputs": []
    },
    {
      "cell_type": "code",
      "metadata": {
        "id": "EcY74FwswXlK",
        "colab_type": "code",
        "outputId": "92df96b3-0306-4d78-a3dd-82ab1cac5998",
        "colab": {
          "base_uri": "https://localhost:8080/",
          "height": 357
        }
      },
      "source": [
        "data.isnull().sum(axis=1).value_counts()"
      ],
      "execution_count": 15,
      "outputs": [
        {
          "output_type": "execute_result",
          "data": {
            "text/plain": [
              "0     3983\n",
              "1      385\n",
              "41     249\n",
              "2       37\n",
              "42      27\n",
              "11      22\n",
              "31      12\n",
              "30       8\n",
              "3        7\n",
              "4        7\n",
              "12       5\n",
              "10       3\n",
              "5        3\n",
              "6        1\n",
              "13       1\n",
              "15       1\n",
              "44       1\n",
              "32       1\n",
              "43       1\n",
              "dtype: int64"
            ]
          },
          "metadata": {
            "tags": []
          },
          "execution_count": 15
        }
      ]
    },
    {
      "cell_type": "code",
      "metadata": {
        "scrolled": false,
        "id": "9A2spx2TwXlP",
        "colab_type": "code",
        "outputId": "5cc9ab90-e45e-4344-849d-d9212619f2b5",
        "colab": {
          "base_uri": "https://localhost:8080/",
          "height": 323
        }
      },
      "source": [
        "# 仅保留至少包含49个非NA值的行。\n",
        "display(data.shape)\n",
        "data.dropna(thresh=49,inplace=True)\n",
        "# data.info()\n",
        "data[\"status\"].isnull().any()\n",
        "display(data.shape)\n",
        "data.isnull().sum(axis=1).value_counts()"
      ],
      "execution_count": 16,
      "outputs": [
        {
          "output_type": "display_data",
          "data": {
            "text/plain": [
              "(4754, 84)"
            ]
          },
          "metadata": {
            "tags": []
          }
        },
        {
          "output_type": "display_data",
          "data": {
            "text/plain": [
              "(4476, 84)"
            ]
          },
          "metadata": {
            "tags": []
          }
        },
        {
          "output_type": "execute_result",
          "data": {
            "text/plain": [
              "0     3983\n",
              "1      385\n",
              "2       37\n",
              "11      22\n",
              "31      12\n",
              "30       8\n",
              "3        7\n",
              "4        7\n",
              "12       5\n",
              "10       3\n",
              "5        3\n",
              "15       1\n",
              "6        1\n",
              "13       1\n",
              "32       1\n",
              "dtype: int64"
            ]
          },
          "metadata": {
            "tags": []
          },
          "execution_count": 16
        }
      ]
    },
    {
      "cell_type": "code",
      "metadata": {
        "scrolled": false,
        "id": "A_W9pcm0wXlU",
        "colab_type": "code",
        "outputId": "8c7ed93f-df90-41a8-ae13-0b6017470a87",
        "colab": {
          "base_uri": "https://localhost:8080/",
          "height": 1683
        }
      },
      "source": [
        "data.info()\n",
        "data.isnull().sum().argmax()"
      ],
      "execution_count": 17,
      "outputs": [
        {
          "output_type": "stream",
          "text": [
            "<class 'pandas.core.frame.DataFrame'>\n",
            "Int64Index: 4476 entries, 0 to 4753\n",
            "Data columns (total 84 columns):\n",
            "low_volume_percent                            4474 non-null float64\n",
            "middle_volume_percent                         4474 non-null float64\n",
            "take_amount_in_later_12_month_highest         4476 non-null int64\n",
            "trans_amount_increase_rate_lately             4473 non-null float64\n",
            "trans_activity_month                          4474 non-null float64\n",
            "trans_activity_day                            4474 non-null float64\n",
            "transd_mcc                                    4474 non-null float64\n",
            "trans_days_interval_filter                    4468 non-null float64\n",
            "trans_days_interval                           4474 non-null float64\n",
            "regional_mobility                             4474 non-null float64\n",
            "student_feature                               4476 non-null float64\n",
            "repayment_capability                          4476 non-null int64\n",
            "is_high_user                                  4476 non-null int64\n",
            "number_of_trans_from_2011                     4474 non-null float64\n",
            "first_transaction_time                        4474 non-null float64\n",
            "historical_trans_amount                       4476 non-null int64\n",
            "historical_trans_day                          4474 non-null float64\n",
            "rank_trad_1_month                             4474 non-null float64\n",
            "trans_amount_3_month                          4476 non-null int64\n",
            "avg_consume_less_12_valid_month               4474 non-null float64\n",
            "abs                                           4476 non-null int64\n",
            "top_trans_count_last_1_month                  4474 non-null float64\n",
            "avg_price_last_12_month                       4476 non-null int64\n",
            "avg_price_top_last_12_valid_month             4376 non-null float64\n",
            "reg_preference_for_trad                       4476 non-null int64\n",
            "trans_top_time_last_1_month                   4468 non-null float64\n",
            "trans_top_time_last_6_month                   4468 non-null float64\n",
            "consume_top_time_last_1_month                 4468 non-null float64\n",
            "consume_top_time_last_6_month                 4468 non-null float64\n",
            "cross_consume_count_last_1_month              4075 non-null float64\n",
            "trans_fail_top_count_enum_last_1_month        4461 non-null float64\n",
            "trans_fail_top_count_enum_last_6_month        4461 non-null float64\n",
            "trans_fail_top_count_enum_last_12_month       4461 non-null float64\n",
            "consume_mini_time_last_1_month                4450 non-null float64\n",
            "max_cumulative_consume_later_1_month          4476 non-null int64\n",
            "max_consume_count_later_6_month               4468 non-null float64\n",
            "railway_consume_count_last_12_month           4464 non-null float64\n",
            "pawns_auctions_trusts_consume_last_1_month    4476 non-null int64\n",
            "pawns_auctions_trusts_consume_last_6_month    4476 non-null int64\n",
            "jewelry_consume_count_last_6_month            4464 non-null float64\n",
            "status                                        4476 non-null int64\n",
            "first_transaction_day                         4474 non-null float64\n",
            "trans_day_last_12_month                       4474 non-null float64\n",
            "apply_score                                   4450 non-null float64\n",
            "apply_credibility                             4450 non-null float64\n",
            "query_org_count                               4450 non-null float64\n",
            "query_finance_count                           4450 non-null float64\n",
            "query_cash_count                              4450 non-null float64\n",
            "query_sum_count                               4450 non-null float64\n",
            "latest_query_time                             4450 non-null float64\n",
            "latest_one_month_apply                        4450 non-null float64\n",
            "latest_three_month_apply                      4450 non-null float64\n",
            "latest_six_month_apply                        4450 non-null float64\n",
            "loans_score                                   4457 non-null float64\n",
            "loans_credibility_behavior                    4457 non-null float64\n",
            "loans_count                                   4457 non-null float64\n",
            "loans_settle_count                            4457 non-null float64\n",
            "loans_overdue_count                           4457 non-null float64\n",
            "loans_org_count_behavior                      4457 non-null float64\n",
            "consfin_org_count_behavior                    4457 non-null float64\n",
            "loans_cash_count                              4457 non-null float64\n",
            "latest_one_month_loan                         4457 non-null float64\n",
            "latest_three_month_loan                       4457 non-null float64\n",
            "latest_six_month_loan                         4457 non-null float64\n",
            "history_suc_fee                               4457 non-null float64\n",
            "history_fail_fee                              4457 non-null float64\n",
            "latest_one_month_suc                          4457 non-null float64\n",
            "latest_one_month_fail                         4457 non-null float64\n",
            "loans_long_time                               4457 non-null float64\n",
            "loans_latest_time                             4457 non-null float64\n",
            "loans_credit_limit                            4457 non-null float64\n",
            "loans_credibility_limit                       4457 non-null float64\n",
            "loans_org_count_current                       4457 non-null float64\n",
            "loans_product_count                           4457 non-null float64\n",
            "loans_max_limit                               4457 non-null float64\n",
            "loans_avg_limit                               4457 non-null float64\n",
            "consfin_credit_limit                          4457 non-null float64\n",
            "consfin_credibility                           4457 non-null float64\n",
            "consfin_org_count_current                     4457 non-null float64\n",
            "consfin_product_count                         4457 non-null float64\n",
            "consfin_max_limit                             4457 non-null float64\n",
            "consfin_avg_limit                             4457 non-null float64\n",
            "latest_query_day                              4450 non-null float64\n",
            "loans_latest_day                              4457 non-null float64\n",
            "dtypes: float64(72), int64(12)\n",
            "memory usage: 2.9 MB\n"
          ],
          "name": "stdout"
        },
        {
          "output_type": "stream",
          "text": [
            "/usr/local/lib/python3.6/dist-packages/ipykernel_launcher.py:2: FutureWarning: \n",
            "The current behaviour of 'Series.argmax' is deprecated, use 'idxmax'\n",
            "instead.\n",
            "The behavior of 'argmax' will be corrected to return the positional\n",
            "maximum in the future. For now, use 'series.values.argmax' or\n",
            "'np.argmax(np.array(values))' to get the position of the maximum\n",
            "row.\n",
            "  \n"
          ],
          "name": "stderr"
        },
        {
          "output_type": "execute_result",
          "data": {
            "text/plain": [
              "'cross_consume_count_last_1_month'"
            ]
          },
          "metadata": {
            "tags": []
          },
          "execution_count": 17
        }
      ]
    },
    {
      "cell_type": "code",
      "metadata": {
        "scrolled": true,
        "id": "mvIVWaa8wXlX",
        "colab_type": "code",
        "outputId": "1023ec96-d2c8-403b-a525-7272318f0d2d",
        "colab": {
          "base_uri": "https://localhost:8080/",
          "height": 1071
        }
      },
      "source": [
        "data[\"cross_consume_count_last_1_month\"]"
      ],
      "execution_count": 18,
      "outputs": [
        {
          "output_type": "execute_result",
          "data": {
            "text/plain": [
              "0       1.0\n",
              "1       0.0\n",
              "2       0.0\n",
              "3       0.0\n",
              "4       0.0\n",
              "5       1.0\n",
              "6       NaN\n",
              "8       2.0\n",
              "9       0.0\n",
              "10      0.0\n",
              "11      0.0\n",
              "12      4.0\n",
              "13      0.0\n",
              "14      1.0\n",
              "15      0.0\n",
              "16      0.0\n",
              "17      0.0\n",
              "18      0.0\n",
              "19      1.0\n",
              "20      2.0\n",
              "21      0.0\n",
              "22      2.0\n",
              "23      2.0\n",
              "24      0.0\n",
              "25      NaN\n",
              "26      3.0\n",
              "27      0.0\n",
              "28      0.0\n",
              "29      0.0\n",
              "30      4.0\n",
              "       ... \n",
              "4723    0.0\n",
              "4724    0.0\n",
              "4725    NaN\n",
              "4726    0.0\n",
              "4727    0.0\n",
              "4728    0.0\n",
              "4729    0.0\n",
              "4730    0.0\n",
              "4731    0.0\n",
              "4732    NaN\n",
              "4733    0.0\n",
              "4734    0.0\n",
              "4735    0.0\n",
              "4736    0.0\n",
              "4737    0.0\n",
              "4738    3.0\n",
              "4739    1.0\n",
              "4740    1.0\n",
              "4741    0.0\n",
              "4742    0.0\n",
              "4743    0.0\n",
              "4744    0.0\n",
              "4745    1.0\n",
              "4747    3.0\n",
              "4748    NaN\n",
              "4749    0.0\n",
              "4750    1.0\n",
              "4751    1.0\n",
              "4752    0.0\n",
              "4753    1.0\n",
              "Name: cross_consume_count_last_1_month, Length: 4476, dtype: float64"
            ]
          },
          "metadata": {
            "tags": []
          },
          "execution_count": 18
        }
      ]
    },
    {
      "cell_type": "code",
      "metadata": {
        "id": "hDb-Z8l2wXlZ",
        "colab_type": "code",
        "colab": {}
      },
      "source": [
        "# 找出缺失值最多的特征，cross_consume_count_last_1_month，预估含义是用户超过一个月消费的累计次数，故考虑填充为0\n",
        "data[\"cross_consume_count_last_1_month\"].fillna(value=0,inplace=True)"
      ],
      "execution_count": 0,
      "outputs": []
    },
    {
      "cell_type": "code",
      "metadata": {
        "id": "eoaTirR-wXlc",
        "colab_type": "code",
        "colab": {}
      },
      "source": [
        "# 其余缺失值考虑用均值来代替\n",
        "data.fillna(data.mean(),inplace=True)"
      ],
      "execution_count": 0,
      "outputs": []
    },
    {
      "cell_type": "markdown",
      "metadata": {
        "id": "rWquKLRhwXld",
        "colab_type": "text"
      },
      "source": [
        "## 三. 数据切分"
      ]
    },
    {
      "cell_type": "code",
      "metadata": {
        "scrolled": true,
        "id": "Vij5USPnwXle",
        "colab_type": "code",
        "colab": {}
      },
      "source": [
        "# 将标签和特征拆分\n",
        "y = data[\"status\"]\n",
        "data.drop([\"status\"], axis=1, inplace=True)\n",
        "x = data"
      ],
      "execution_count": 0,
      "outputs": []
    },
    {
      "cell_type": "code",
      "metadata": {
        "scrolled": true,
        "id": "ma4h6XUywXlf",
        "colab_type": "code",
        "outputId": "840d7f58-fe1d-4f12-89f7-f9c8aa117046",
        "colab": {
          "base_uri": "https://localhost:8080/",
          "height": 85
        }
      },
      "source": [
        "# 将数据按3:7拆分测试集和训练集\n",
        "from sklearn.model_selection import train_test_split\n",
        "\n",
        "x_train, x_test, y_train, y_test = train_test_split(x, y, test_size=0.3, random_state=2018)\n",
        "display(x_train.shape)\n",
        "display(x_test.shape)\n",
        "display(y_train.shape)\n",
        "display(y_test.shape)"
      ],
      "execution_count": 22,
      "outputs": [
        {
          "output_type": "display_data",
          "data": {
            "text/plain": [
              "(3133, 83)"
            ]
          },
          "metadata": {
            "tags": []
          }
        },
        {
          "output_type": "display_data",
          "data": {
            "text/plain": [
              "(1343, 83)"
            ]
          },
          "metadata": {
            "tags": []
          }
        },
        {
          "output_type": "display_data",
          "data": {
            "text/plain": [
              "(3133,)"
            ]
          },
          "metadata": {
            "tags": []
          }
        },
        {
          "output_type": "display_data",
          "data": {
            "text/plain": [
              "(1343,)"
            ]
          },
          "metadata": {
            "tags": []
          }
        }
      ]
    },
    {
      "cell_type": "markdown",
      "metadata": {
        "id": "lV8nYiHiwXli",
        "colab_type": "text"
      },
      "source": [
        "# 任务2：特征工程 5.13-5.14\n",
        "目标\n",
        "预测贷款用户是否会逾期。表格中 \"status\" 是结果标签：0表示未逾期，1表示逾期。\n",
        "\n",
        "要求\n",
        "1. 特征衍生\n",
        "2. 特征挑选：分别用IV值和随机森林等进行特征选择\n",
        "3. 其他特征工程处理"
      ]
    },
    {
      "cell_type": "markdown",
      "metadata": {
        "id": "gSxsOJ-0wXlj",
        "colab_type": "text"
      },
      "source": [
        "## 一. 随机森林进行特征选择"
      ]
    },
    {
      "cell_type": "code",
      "metadata": {
        "id": "0KNgclG2wXlm",
        "colab_type": "code",
        "outputId": "e594dd1a-7e53-424a-cf48-c76cfb844f5d",
        "colab": {
          "base_uri": "https://localhost:8080/",
          "height": 136
        }
      },
      "source": [
        "# 随机森林进行特征选择\n",
        "from sklearn.ensemble import RandomForestClassifier\n",
        "forest = RandomForestClassifier(n_estimators=1000, random_state=2019)\n",
        "forest.fit(x_train, y_train)"
      ],
      "execution_count": 23,
      "outputs": [
        {
          "output_type": "execute_result",
          "data": {
            "text/plain": [
              "RandomForestClassifier(bootstrap=True, class_weight=None, criterion='gini',\n",
              "                       max_depth=None, max_features='auto', max_leaf_nodes=None,\n",
              "                       min_impurity_decrease=0.0, min_impurity_split=None,\n",
              "                       min_samples_leaf=1, min_samples_split=2,\n",
              "                       min_weight_fraction_leaf=0.0, n_estimators=1000,\n",
              "                       n_jobs=None, oob_score=False, random_state=2019,\n",
              "                       verbose=0, warm_start=False)"
            ]
          },
          "metadata": {
            "tags": []
          },
          "execution_count": 23
        }
      ]
    },
    {
      "cell_type": "code",
      "metadata": {
        "id": "3WXfARKwwXlo",
        "colab_type": "code",
        "outputId": "e5f758d9-564c-45b4-f868-fd312ffae07a",
        "colab": {
          "base_uri": "https://localhost:8080/",
          "height": 1428
        }
      },
      "source": [
        "feat_labels = data.columns\n",
        "importances =forest.feature_importances_\n",
        "indices = np.argsort(importances)[::-1]\n",
        "for f in range (x_train.shape[1]):\n",
        "    print(\"%2d) %-*s %f\" % (f + 1, 10, feat_labels[indices[f]], importances[indices[f]]))"
      ],
      "execution_count": 24,
      "outputs": [
        {
          "output_type": "stream",
          "text": [
            " 1) history_fail_fee 0.048756\n",
            " 2) trans_fail_top_count_enum_last_1_month 0.045476\n",
            " 3) loans_score 0.037631\n",
            " 4) apply_score 0.030467\n",
            " 5) latest_one_month_fail 0.029355\n",
            " 6) loans_overdue_count 0.023539\n",
            " 7) trans_amount_3_month 0.016490\n",
            " 8) max_cumulative_consume_later_1_month 0.016106\n",
            " 9) latest_query_day 0.015476\n",
            "10) loans_avg_limit 0.015357\n",
            "11) repayment_capability 0.015348\n",
            "12) abs        0.015252\n",
            "13) trans_amount_increase_rate_lately 0.015173\n",
            "14) first_transaction_day 0.014736\n",
            "15) latest_query_time 0.014623\n",
            "16) consfin_avg_limit 0.014615\n",
            "17) historical_trans_amount 0.014606\n",
            "18) avg_price_last_12_month 0.014443\n",
            "19) first_transaction_time 0.014205\n",
            "20) consfin_credit_limit 0.013508\n",
            "21) historical_trans_day 0.013403\n",
            "22) pawns_auctions_trusts_consume_last_6_month 0.013393\n",
            "23) trans_activity_day 0.013350\n",
            "24) loans_long_time 0.013197\n",
            "25) history_suc_fee 0.013087\n",
            "26) loans_latest_day 0.013012\n",
            "27) loans_latest_time 0.012875\n",
            "28) trans_day_last_12_month 0.012810\n",
            "29) trans_days_interval_filter 0.012800\n",
            "30) trans_fail_top_count_enum_last_12_month 0.012766\n",
            "31) apply_credibility 0.012093\n",
            "32) trans_fail_top_count_enum_last_6_month 0.012057\n",
            "33) consfin_max_limit 0.011960\n",
            "34) loans_settle_count 0.011669\n",
            "35) loans_max_limit 0.011541\n",
            "36) loans_credit_limit 0.011482\n",
            "37) number_of_trans_from_2011 0.011406\n",
            "38) trans_days_interval 0.011321\n",
            "39) consume_top_time_last_6_month 0.011159\n",
            "40) trans_top_time_last_6_month 0.011085\n",
            "41) transd_mcc 0.010853\n",
            "42) loans_count 0.010814\n",
            "43) rank_trad_1_month 0.010726\n",
            "44) trans_top_time_last_1_month 0.010590\n",
            "45) query_sum_count 0.010553\n",
            "46) latest_six_month_apply 0.009894\n",
            "47) trans_activity_month 0.009861\n",
            "48) latest_one_month_suc 0.009841\n",
            "49) consume_mini_time_last_1_month 0.009788\n",
            "50) latest_six_month_loan 0.009735\n",
            "51) latest_three_month_apply 0.009727\n",
            "52) consume_top_time_last_1_month 0.009643\n",
            "53) take_amount_in_later_12_month_highest 0.009637\n",
            "54) query_org_count 0.009609\n",
            "55) middle_volume_percent 0.009393\n",
            "56) consfin_credibility 0.009292\n",
            "57) loans_org_count_behavior 0.009154\n",
            "58) loans_credibility_behavior 0.009138\n",
            "59) avg_price_top_last_12_valid_month 0.009003\n",
            "60) loans_credibility_limit 0.008951\n",
            "61) query_finance_count 0.008853\n",
            "62) max_consume_count_later_6_month 0.008446\n",
            "63) pawns_auctions_trusts_consume_last_1_month 0.008444\n",
            "64) latest_one_month_apply 0.008258\n",
            "65) latest_three_month_loan 0.008180\n",
            "66) loans_product_count 0.007872\n",
            "67) query_cash_count 0.007710\n",
            "68) loans_cash_count 0.007568\n",
            "69) loans_org_count_current 0.007474\n",
            "70) consfin_product_count 0.007419\n",
            "71) top_trans_count_last_1_month 0.007190\n",
            "72) avg_consume_less_12_valid_month 0.007066\n",
            "73) consfin_org_count_behavior 0.006798\n",
            "74) low_volume_percent 0.006792\n",
            "75) consfin_org_count_current 0.006665\n",
            "76) regional_mobility 0.004474\n",
            "77) latest_one_month_loan 0.003534\n",
            "78) cross_consume_count_last_1_month 0.003233\n",
            "79) reg_preference_for_trad 0.002663\n",
            "80) student_feature 0.001871\n",
            "81) railway_consume_count_last_12_month 0.001077\n",
            "82) jewelry_consume_count_last_6_month 0.000299\n",
            "83) is_high_user 0.000291\n"
          ],
          "name": "stdout"
        }
      ]
    },
    {
      "cell_type": "code",
      "metadata": {
        "scrolled": true,
        "id": "92IEWxYPwXlr",
        "colab_type": "code",
        "outputId": "17134099-eeff-4f26-a6bb-5210e02dbc91",
        "colab": {
          "base_uri": "https://localhost:8080/",
          "height": 833
        }
      },
      "source": [
        "display(importances.shape)\n",
        "\n",
        "threshold = 0.01\n",
        "x_selected = list(x_train.columns[importances> threshold])\n",
        "display(x_selected)\n",
        "x_train_sel = x_train[x_selected]\n",
        "display(x_train_sel.shape)\n",
        "x_test_sel = x_test[x_selected]\n",
        "display(x_test_sel.shape)"
      ],
      "execution_count": 25,
      "outputs": [
        {
          "output_type": "display_data",
          "data": {
            "text/plain": [
              "(83,)"
            ]
          },
          "metadata": {
            "tags": []
          }
        },
        {
          "output_type": "display_data",
          "data": {
            "text/plain": [
              "['trans_amount_increase_rate_lately',\n",
              " 'trans_activity_day',\n",
              " 'transd_mcc',\n",
              " 'trans_days_interval_filter',\n",
              " 'trans_days_interval',\n",
              " 'repayment_capability',\n",
              " 'number_of_trans_from_2011',\n",
              " 'first_transaction_time',\n",
              " 'historical_trans_amount',\n",
              " 'historical_trans_day',\n",
              " 'rank_trad_1_month',\n",
              " 'trans_amount_3_month',\n",
              " 'abs',\n",
              " 'avg_price_last_12_month',\n",
              " 'trans_top_time_last_1_month',\n",
              " 'trans_top_time_last_6_month',\n",
              " 'consume_top_time_last_6_month',\n",
              " 'trans_fail_top_count_enum_last_1_month',\n",
              " 'trans_fail_top_count_enum_last_6_month',\n",
              " 'trans_fail_top_count_enum_last_12_month',\n",
              " 'max_cumulative_consume_later_1_month',\n",
              " 'pawns_auctions_trusts_consume_last_6_month',\n",
              " 'first_transaction_day',\n",
              " 'trans_day_last_12_month',\n",
              " 'apply_score',\n",
              " 'apply_credibility',\n",
              " 'query_sum_count',\n",
              " 'latest_query_time',\n",
              " 'loans_score',\n",
              " 'loans_count',\n",
              " 'loans_settle_count',\n",
              " 'loans_overdue_count',\n",
              " 'history_suc_fee',\n",
              " 'history_fail_fee',\n",
              " 'latest_one_month_fail',\n",
              " 'loans_long_time',\n",
              " 'loans_latest_time',\n",
              " 'loans_credit_limit',\n",
              " 'loans_max_limit',\n",
              " 'loans_avg_limit',\n",
              " 'consfin_credit_limit',\n",
              " 'consfin_max_limit',\n",
              " 'consfin_avg_limit',\n",
              " 'latest_query_day',\n",
              " 'loans_latest_day']"
            ]
          },
          "metadata": {
            "tags": []
          }
        },
        {
          "output_type": "display_data",
          "data": {
            "text/plain": [
              "(3133, 45)"
            ]
          },
          "metadata": {
            "tags": []
          }
        },
        {
          "output_type": "display_data",
          "data": {
            "text/plain": [
              "(1343, 45)"
            ]
          },
          "metadata": {
            "tags": []
          }
        }
      ]
    },
    {
      "cell_type": "markdown",
      "metadata": {
        "id": "xvl_G8N1wXlu",
        "colab_type": "text"
      },
      "source": [
        "## 二. IV值进行特征选择"
      ]
    },
    {
      "cell_type": "code",
      "metadata": {
        "id": "28E7QIy8wXlu",
        "colab_type": "code",
        "colab": {}
      },
      "source": [
        "# 参考别的同学代码，还得再研究研究\n",
        "import math\n",
        "from sklearn.utils.multiclass import type_of_target\n",
        "from scipy import stats\n",
        "#求woe值和iv值\n",
        "def woe(X, y, event):\n",
        "    res_woe = []  #列表存放woe字典\n",
        "    res_iv = []  #列表存放iv\n",
        "    X1 = feature_discretion(X) #对连续型特征进行处理\n",
        "    for i in range(0, X1.shape[-1]):  #遍历所有特征\n",
        "        x = X1[:, i]  #单个特征\n",
        "        woe_dict, iv1 = woe_single_x(x, y, event)  #计算单个特征的woe值\n",
        "        res_woe.append(woe_dict)\n",
        "        res_iv.append(iv1)\n",
        "    return np.array(res_woe), np.array(res_iv)  #返回数组\n",
        "\n",
        "#求单个特征的woe值\n",
        "def woe_single_x(x, y, event):\n",
        "    event_total, non_event_total = count_binary(y, event) #计算好人坏人总数\n",
        "    x_labels = np.unique(x) #特征中的分段\n",
        "    woe_dict = {}  #存放每个分段的名称 以及 其对应的woe值\n",
        "    iv = 0\n",
        "    for x1 in x_labels: #遍历每个分段\n",
        "        y1 = y[np.where(x == x1)[0]]\n",
        "        event_count, non_event_count = count_binary(y1, event=event)\n",
        "        rate_event = 1.0 * event_count / event_total\n",
        "        rate_non_event = 1.0 * non_event_count / non_event_total\n",
        "        #woe无穷大时处理\n",
        "        if rate_event == 0:\n",
        "            print()#print(\"{'\",x1,\"'}\"+\":全是好人\") #只输出不做处理\n",
        "        elif rate_non_event == 0:\n",
        "            print()#print(\"{'\",x1,\"'}\"+\":全是坏人\")\n",
        "        else:\n",
        "            woe1 = math.log(rate_event / rate_non_event)\n",
        "            woe_dict[x1] = woe1  \n",
        "            iv += (rate_event - rate_non_event) * woe1\n",
        "    return woe_dict, iv\n",
        "\n",
        "#计算个数\n",
        "def count_binary(a, event):\n",
        "    event_count = (a == event).sum()\n",
        "    non_event_count = a.shape[-1] - event_count\n",
        "    return event_count, non_event_count\n",
        "\n",
        "#判断特征数据是否为离散型\n",
        "def feature_discretion(X):\n",
        "    temp = []\n",
        "    for i in range(0, X.shape[-1]):\n",
        "        x = X[:, i]\n",
        "        x_type = type_of_target(x)\n",
        "        if pd.Series(list(x)).dtype != 'O':\n",
        "            x1 = discrete(x)\n",
        "            temp.append(x1)\n",
        "        else:\n",
        "            temp.append(x)\n",
        "    return np.array(temp).T\n",
        "\n",
        "#对连续型特征进行离散化\n",
        "def discrete(x):\n",
        "    res = np.array([0] * x.shape[-1], dtype=int)\n",
        "    for i in range(5):\n",
        "        point1 = stats.scoreatpercentile(x, i * 20)\n",
        "        point2 = stats.scoreatpercentile(x, (i + 1) * 20)\n",
        "        x1 = x[np.where((x >= point1) & (x <= point2))]\n",
        "        mask = np.in1d(x, x1)\n",
        "        res[mask] = (i + 1)\n",
        "    return res"
      ],
      "execution_count": 0,
      "outputs": []
    },
    {
      "cell_type": "code",
      "metadata": {
        "scrolled": true,
        "id": "S5aMIjTjwXlw",
        "colab_type": "code",
        "outputId": "bf31406d-f970-41c9-9eb7-87fac323fd4d",
        "colab": {
          "base_uri": "https://localhost:8080/",
          "height": 1462
        }
      },
      "source": [
        "a, b = woe(x_train.values, y_train.values, 1)\n",
        "dic = dict(zip(x_train.columns, b))\n",
        "dic_sort= sorted(dic.items(),key = lambda x:x[1],reverse = True)\n",
        "display(dic_sort)"
      ],
      "execution_count": 0,
      "outputs": [
        {
          "output_type": "stream",
          "text": [
            "\n",
            "\n"
          ],
          "name": "stdout"
        },
        {
          "output_type": "display_data",
          "data": {
            "text/plain": [
              "[('trans_fail_top_count_enum_last_1_month', 0.5248772375361611),\n",
              " ('history_fail_fee', 0.5182986633722628),\n",
              " ('loans_score', 0.452489516316483),\n",
              " ('apply_score', 0.35559944136124455),\n",
              " ('loans_overdue_count', 0.34429411897272244),\n",
              " ('trans_fail_top_count_enum_last_12_month', 0.2102113960316464),\n",
              " ('trans_fail_top_count_enum_last_6_month', 0.20334118478792862),\n",
              " ('latest_one_month_fail', 0.1676951302166592),\n",
              " ('latest_one_month_suc', 0.13658960583308047),\n",
              " ('rank_trad_1_month', 0.08850389928144903),\n",
              " ('max_cumulative_consume_later_1_month', 0.08709447156340241),\n",
              " ('trans_day_last_12_month', 0.07519987825898371),\n",
              " ('trans_top_time_last_1_month', 0.07200473738156228),\n",
              " ('top_trans_count_last_1_month', 0.05925078215773383),\n",
              " ('pawns_auctions_trusts_consume_last_1_month', 0.05710932443358767),\n",
              " ('consfin_avg_limit', 0.04623664582308415),\n",
              " ('latest_query_time', 0.04435584273650805),\n",
              " ('latest_query_day', 0.03964158427506999),\n",
              " ('consfin_credit_limit', 0.03846353095825428),\n",
              " ('trans_amount_3_month', 0.03613710613665517),\n",
              " ('consume_top_time_last_1_month', 0.034625001098685916),\n",
              " ('latest_one_month_apply', 0.03413737857726804),\n",
              " ('trans_days_interval', 0.032560494841575485),\n",
              " ('avg_price_top_last_12_valid_month', 0.031079656320995484),\n",
              " ('latest_six_month_loan', 0.027326674511148372),\n",
              " ('latest_three_month_loan', 0.026862251104747728),\n",
              " ('avg_price_last_12_month', 0.026466227882690287),\n",
              " ('query_cash_count', 0.025662803002254226),\n",
              " ('trans_amount_increase_rate_lately', 0.023784085602847026),\n",
              " ('consfin_max_limit', 0.022894168895154804),\n",
              " ('loans_credit_limit', 0.019105144855110622),\n",
              " ('number_of_trans_from_2011', 0.018424967616676193),\n",
              " ('loans_max_limit', 0.017789921416510625),\n",
              " ('historical_trans_amount', 0.01772951741623687),\n",
              " ('pawns_auctions_trusts_consume_last_6_month', 0.017106423823775092),\n",
              " ('latest_three_month_apply', 0.017080121304326283),\n",
              " ('consfin_product_count', 0.016733585001389082),\n",
              " ('first_transaction_time', 0.015059672191446657),\n",
              " ('low_volume_percent', 0.015048944792159744),\n",
              " ('first_transaction_day', 0.014871134476672463),\n",
              " ('cross_consume_count_last_1_month', 0.014737033277150221),\n",
              " ('loans_count', 0.013530871851163152),\n",
              " ('consfin_org_count_behavior', 0.01332009629762118),\n",
              " ('consfin_org_count_current', 0.01332009629762118),\n",
              " ('history_suc_fee', 0.012920138591212799),\n",
              " ('consume_mini_time_last_1_month', 0.012589897073017782),\n",
              " ('trans_activity_day', 0.011970320198504483),\n",
              " ('loans_avg_limit', 0.011955048870861283),\n",
              " ('loans_latest_time', 0.01175834524600114),\n",
              " ('loans_org_count_behavior', 0.011661026874189157),\n",
              " ('middle_volume_percent', 0.010822028707659352),\n",
              " ('loans_long_time', 0.010814704169246098),\n",
              " ('loans_cash_count', 0.01023040215121564),\n",
              " ('loans_org_count_current', 0.01023040215121564),\n",
              " ('trans_top_time_last_6_month', 0.00980819605514745),\n",
              " ('query_finance_count', 0.00972361586362725),\n",
              " ('historical_trans_day', 0.00897654627479034),\n",
              " ('consume_top_time_last_6_month', 0.008815049670325542),\n",
              " ('max_consume_count_later_6_month', 0.008746922528183994),\n",
              " ('loans_latest_day', 0.008711071898486768),\n",
              " ('transd_mcc', 0.008163966469001943),\n",
              " ('trans_activity_month', 0.00813566274480798),\n",
              " ('loans_product_count', 0.008131898302013335),\n",
              " ('apply_credibility', 0.007697132059971251),\n",
              " ('abs', 0.0074803994110067915),\n",
              " ('query_org_count', 0.007439801510931561),\n",
              " ('trans_days_interval_filter', 0.0068744867372175075),\n",
              " ('take_amount_in_later_12_month_highest', 0.004908038770557543),\n",
              " ('avg_consume_less_12_valid_month', 0.004424762718105233),\n",
              " ('loans_settle_count', 0.004335454147359518),\n",
              " ('latest_one_month_loan', 0.004015135389527376),\n",
              " ('consfin_credibility', 0.003957011328495726),\n",
              " ('latest_six_month_apply', 0.0038624584084030436),\n",
              " ('query_sum_count', 0.0035152708955272683),\n",
              " ('regional_mobility', 0.0034506262641538403),\n",
              " ('loans_credibility_limit', 0.0019249850572735689),\n",
              " ('repayment_capability', 0.001767443773842792),\n",
              " ('loans_credibility_behavior', 0.0014273021149960583),\n",
              " ('student_feature', 0.0011100964344815194),\n",
              " ('reg_preference_for_trad', 0.00017815323672663928),\n",
              " ('is_high_user', 0.0),\n",
              " ('railway_consume_count_last_12_month', 0.0),\n",
              " ('jewelry_consume_count_last_6_month', 0.0)]"
            ]
          },
          "metadata": {
            "tags": []
          }
        }
      ]
    },
    {
      "cell_type": "code",
      "metadata": {
        "id": "jvrIowrRwXl2",
        "colab_type": "code",
        "colab": {}
      },
      "source": [
        "# 数据的标准化处理\n",
        "from sklearn.preprocessing import StandardScaler\n",
        "sc = StandardScaler()\n",
        "x_train_sel_sc = sc.fit_transform(x_train_sel)\n",
        "x_test_sel_sc = sc.fit_transform(x_test_sel)"
      ],
      "execution_count": 0,
      "outputs": []
    },
    {
      "cell_type": "markdown",
      "metadata": {
        "id": "hLnjVtUKwXlz",
        "colab_type": "text"
      },
      "source": [
        "# 任务3： 模型构建 5.15-5.16\n",
        "目标 模型构建，评价方式考虑：accuracy、precision，recall和F1-score、auc值的评分表格\n",
        "\n",
        "要求：\n",
        "1. 用逻辑回归、svm和决策树；\n",
        "2. 随机森林和XGBoost进行模型构建\n",
        "\n",
        "# 任务4：模型评价 5.17-5.18\n",
        "增加评价指标ROC曲线。\n",
        "参考文档：[sklearn.metrics.roc_curve](https://scikit-learn.org/stable/modules/generated/sklearn.metrics.roc_curve.html)\n",
        "\n",
        "# 任务5：模型调优 5.19-5.21\n",
        "使用网格搜索法对5个模型进行调优（调参时采用五折交叉验证的方式），并进行模型评估。"
      ]
    },
    {
      "cell_type": "code",
      "metadata": {
        "id": "NxokLB14wXl0",
        "colab_type": "code",
        "colab": {}
      },
      "source": [
        "from sklearn.metrics import classification_report, accuracy_score, roc_curve\n",
        "import matplotlib as mpl\n",
        "import matplotlib.pyplot as plt\n",
        "from sklearn.model_selection import GridSearchCV"
      ],
      "execution_count": 0,
      "outputs": []
    },
    {
      "cell_type": "code",
      "metadata": {
        "id": "Y48Pe-emhSJx",
        "colab_type": "code",
        "colab": {}
      },
      "source": [
        "import warnings\n",
        "warnings.filterwarnings(\"ignore\")"
      ],
      "execution_count": 0,
      "outputs": []
    },
    {
      "cell_type": "markdown",
      "metadata": {
        "id": "KAXi1BZowXl2",
        "colab_type": "text"
      },
      "source": [
        "## 一、逻辑回归"
      ]
    },
    {
      "cell_type": "code",
      "metadata": {
        "id": "Ask-KnpgwXl6",
        "colab_type": "code",
        "outputId": "f87655fc-593d-4549-f5cf-741415cfcc42",
        "colab": {
          "base_uri": "https://localhost:8080/",
          "height": 204
        }
      },
      "source": [
        "from sklearn.linear_model import LogisticRegression\n",
        "lr = LogisticRegression()\n",
        "lr_parameters = {'penalty':['l1', 'l2'], 'C':[0.001, 0.01, 0.1, 1, 10, 100, 1000]}\n",
        "lr_gridsearch = GridSearchCV(lr, param_grid=lr_parameters, cv=5)\n",
        "lr_gridsearch.fit(x_train_sel_sc, y_train)\n",
        "print(lr_gridsearch.best_params_)\n",
        "y_pre_lr = lr_gridsearch.predict(x_test_sel_sc)\n",
        "display(accuracy_score(y_pre_lr, y_test))\n",
        "print(classification_report(y_pre_lr, y_test))"
      ],
      "execution_count": 0,
      "outputs": [
        {
          "output_type": "stream",
          "text": [
            "{'C': 0.001, 'penalty': 'l2'}\n"
          ],
          "name": "stdout"
        },
        {
          "output_type": "display_data",
          "data": {
            "text/plain": [
              "0.7810871183916605"
            ]
          },
          "metadata": {
            "tags": []
          }
        },
        {
          "output_type": "stream",
          "text": [
            "              precision    recall  f1-score   support\n",
            "\n",
            "           0       0.91      0.81      0.86      1119\n",
            "           1       0.40      0.62      0.48       224\n",
            "\n",
            "   micro avg       0.78      0.78      0.78      1343\n",
            "   macro avg       0.66      0.72      0.67      1343\n",
            "weighted avg       0.83      0.78      0.80      1343\n",
            "\n"
          ],
          "name": "stdout"
        }
      ]
    },
    {
      "cell_type": "code",
      "metadata": {
        "id": "lTzp5gAZX6qK",
        "colab_type": "code",
        "outputId": "fbea4540-5805-495b-8386-6faa65724fb3",
        "colab": {
          "base_uri": "https://localhost:8080/",
          "height": 295
        }
      },
      "source": [
        "plt.plot([0, 1], [0, 1], 'k--')\n",
        "fpr_lr, tpr_lr, _  = roc_curve(y_test, y_pre_lr)\n",
        "plt.plot(fpr_lr, tpr_lr, label='LR ROC')\n",
        "plt.xlabel('False positive rate')\n",
        "plt.ylabel('True positive rate')\n",
        "plt.title('LR ROC curve')\n",
        "plt.legend(loc='best')\n",
        "plt.show()"
      ],
      "execution_count": 0,
      "outputs": [
        {
          "output_type": "display_data",
          "data": {
            "image/png": "[encoded data removed]",
            "text/plain": [
              "<Figure size 432x288 with 1 Axes>"
            ]
          },
          "metadata": {
            "tags": []
          }
        }
      ]
    },
    {
      "cell_type": "markdown",
      "metadata": {
        "id": "Bi23ttF_wXl9",
        "colab_type": "text"
      },
      "source": [
        "## 二. SVM"
      ]
    },
    {
      "cell_type": "code",
      "metadata": {
        "id": "MdnsdRiRwXl-",
        "colab_type": "code",
        "outputId": "6c65fe7c-9d32-44b5-93fa-8b1b45c90814",
        "colab": {
          "base_uri": "https://localhost:8080/",
          "height": 204
        }
      },
      "source": [
        "from sklearn.svm import SVC\n",
        "# 'linear', 'poly', 'rbf', 'sigmoid'\n",
        "svc = SVC()\n",
        "svc_parameters = {'kernel':['linear', 'poly', 'rbf', 'sigmoid'], 'C':[0.001, 0.01, 0.1, 1, 10, 100]}\n",
        "svc_gridsearch = GridSearchCV(svc, param_grid=svc_parameters, cv=5)\n",
        "svc_gridsearch.fit(x_train_sel_sc, y_train)\n",
        "print(svc_gridsearch.best_params_)\n",
        "svc_gridsearch.fit(x_train_sel_sc, y_train)\n",
        "y_pre_svc = svc_gridsearch.predict(x_test_sel_sc)\n",
        "display(accuracy_score(y_pre_svc, y_test))\n",
        "print(classification_report(y_pre_svc, y_test))"
      ],
      "execution_count": 0,
      "outputs": [
        {
          "output_type": "stream",
          "text": [
            "{'C': 1, 'kernel': 'rbf'}\n"
          ],
          "name": "stdout"
        },
        {
          "output_type": "display_data",
          "data": {
            "text/plain": [
              "0.7922561429635145"
            ]
          },
          "metadata": {
            "tags": []
          }
        },
        {
          "output_type": "stream",
          "text": [
            "              precision    recall  f1-score   support\n",
            "\n",
            "           0       0.97      0.79      0.87      1222\n",
            "           1       0.27      0.78      0.40       121\n",
            "\n",
            "   micro avg       0.79      0.79      0.79      1343\n",
            "   macro avg       0.62      0.79      0.64      1343\n",
            "weighted avg       0.91      0.79      0.83      1343\n",
            "\n"
          ],
          "name": "stdout"
        }
      ]
    },
    {
      "cell_type": "code",
      "metadata": {
        "id": "IzJqBO5iZkO3",
        "colab_type": "code",
        "outputId": "a0035f3a-dc68-4bf3-8d00-3b15fb806851",
        "colab": {
          "base_uri": "https://localhost:8080/",
          "height": 295
        }
      },
      "source": [
        "plt.plot([0, 1], [0, 1], 'k--')\n",
        "fpr_svc, tpr_svc, _  = roc_curve(y_test, y_pre_svc)\n",
        "plt.plot(fpr_svc, tpr_svc, label='SVC ROC')\n",
        "plt.xlabel('False positive rate')\n",
        "plt.ylabel('True positive rate')\n",
        "plt.title('SVC ROC curve')\n",
        "plt.legend(loc='best')\n",
        "plt.show()"
      ],
      "execution_count": 0,
      "outputs": [
        {
          "output_type": "display_data",
          "data": {
            "image/png": "[encoded data removed]",
            "text/plain": [
              "<Figure size 432x288 with 1 Axes>"
            ]
          },
          "metadata": {
            "tags": []
          }
        }
      ]
    },
    {
      "cell_type": "markdown",
      "metadata": {
        "id": "Ok8knBygwXmA",
        "colab_type": "text"
      },
      "source": [
        "## 三. 决策树"
      ]
    },
    {
      "cell_type": "code",
      "metadata": {
        "id": "y9JASOq7wXmA",
        "colab_type": "code",
        "outputId": "0c1d46dc-b944-410d-9fff-eac93708b049",
        "colab": {
          "base_uri": "https://localhost:8080/",
          "height": 204
        }
      },
      "source": [
        "from sklearn.tree import DecisionTreeClassifier\n",
        "dtc = DecisionTreeClassifier()\n",
        "dtc_parameters = {'criterion':['gini', 'entropy'], 'max_depth':range(1,100)}\n",
        "dtc_gridsearch = GridSearchCV(dtc, param_grid=dtc_parameters, cv=5)\n",
        "dtc_gridsearch.fit(x_train_sel_sc, y_train)\n",
        "print(dtc_gridsearch.best_params_)\n",
        "dtc_gridsearch.fit(x_train_sel_sc, y_train)\n",
        "y_pre_dtc = dtc_gridsearch.predict(x_test_sel_sc)\n",
        "display(accuracy_score(y_pre_dtc, y_test))\n",
        "print(classification_report(y_pre_dtc, y_test))"
      ],
      "execution_count": 0,
      "outputs": [
        {
          "output_type": "stream",
          "text": [
            "{'criterion': 'gini', 'max_depth': 3}\n"
          ],
          "name": "stdout"
        },
        {
          "output_type": "display_data",
          "data": {
            "text/plain": [
              "0.7728965003723008"
            ]
          },
          "metadata": {
            "tags": []
          }
        },
        {
          "output_type": "stream",
          "text": [
            "              precision    recall  f1-score   support\n",
            "\n",
            "           0       0.96      0.78      0.86      1218\n",
            "           1       0.24      0.66      0.35       125\n",
            "\n",
            "   micro avg       0.77      0.77      0.77      1343\n",
            "   macro avg       0.60      0.72      0.61      1343\n",
            "weighted avg       0.89      0.77      0.81      1343\n",
            "\n"
          ],
          "name": "stdout"
        }
      ]
    },
    {
      "cell_type": "code",
      "metadata": {
        "id": "txrA7XV6Z3sh",
        "colab_type": "code",
        "outputId": "d2916d1f-b8bb-4018-8c41-335ef90828c8",
        "colab": {
          "base_uri": "https://localhost:8080/",
          "height": 295
        }
      },
      "source": [
        "plt.plot([0, 1], [0, 1], 'k--')\n",
        "fpr_dtc, tpr_dtc, _  = roc_curve(y_test, y_pre_dtc)\n",
        "plt.plot(fpr_dtc, tpr_dtc, label='DTC ROC')\n",
        "plt.xlabel('False positive rate')\n",
        "plt.ylabel('True positive rate')\n",
        "plt.title('DecisionTree ROC curve')\n",
        "plt.legend(loc='best')\n",
        "plt.show()"
      ],
      "execution_count": 0,
      "outputs": [
        {
          "output_type": "display_data",
          "data": {
            "image/png": "[encoded data removed]",
            "text/plain": [
              "<Figure size 432x288 with 1 Axes>"
            ]
          },
          "metadata": {
            "tags": []
          }
        }
      ]
    },
    {
      "cell_type": "markdown",
      "metadata": {
        "id": "D9XEMawYwXmD",
        "colab_type": "text"
      },
      "source": [
        "## 四. 随机森林"
      ]
    },
    {
      "cell_type": "code",
      "metadata": {
        "id": "YW79cKaAwXmE",
        "colab_type": "code",
        "outputId": "92f61a92-a305-4b4d-ca79-3ededca72123",
        "colab": {
          "base_uri": "https://localhost:8080/",
          "height": 204
        }
      },
      "source": [
        "rf = RandomForestClassifier()\n",
        "rf_parameters = {'criterion':['gini', 'entropy'], 'max_depth':range(1,100)}\n",
        "rf_gridsearch = GridSearchCV(rf, param_grid=rf_parameters, cv=5)\n",
        "rf_gridsearch.fit(x_train_sel_sc, y_train)\n",
        "print(rf_gridsearch.best_params_)\n",
        "rf_gridsearch.fit(x_train_sel_sc, y_train)\n",
        "y_pre_rf = rf_gridsearch.predict(x_test_sel_sc)\n",
        "display(accuracy_score(y_pre_rf, y_test))\n",
        "print(classification_report(y_pre_rf, y_test))"
      ],
      "execution_count": 0,
      "outputs": [
        {
          "output_type": "stream",
          "text": [
            "{'criterion': 'gini', 'max_depth': 61}\n"
          ],
          "name": "stdout"
        },
        {
          "output_type": "display_data",
          "data": {
            "text/plain": [
              "0.7803425167535368"
            ]
          },
          "metadata": {
            "tags": []
          }
        },
        {
          "output_type": "stream",
          "text": [
            "              precision    recall  f1-score   support\n",
            "\n",
            "           0       0.97      0.78      0.87      1236\n",
            "           1       0.23      0.74      0.35       107\n",
            "\n",
            "   micro avg       0.78      0.78      0.78      1343\n",
            "   macro avg       0.60      0.76      0.61      1343\n",
            "weighted avg       0.91      0.78      0.83      1343\n",
            "\n"
          ],
          "name": "stdout"
        }
      ]
    },
    {
      "cell_type": "code",
      "metadata": {
        "id": "yOw_y8O0aIlm",
        "colab_type": "code",
        "outputId": "41880256-ef4d-4a6f-efd7-8d626289d022",
        "colab": {
          "base_uri": "https://localhost:8080/",
          "height": 295
        }
      },
      "source": [
        "plt.plot([0, 1], [0, 1], 'k--')\n",
        "fpr_rf, tpr_rf, _  = roc_curve(y_test, y_pre_rf)\n",
        "plt.plot(fpr_rf, tpr_rf, label='RF ROC')\n",
        "plt.xlabel('False positive rate')\n",
        "plt.ylabel('True positive rate')\n",
        "plt.title('RandomForest ROC curve')\n",
        "plt.legend(loc='best')\n",
        "plt.show()"
      ],
      "execution_count": 0,
      "outputs": [
        {
          "output_type": "display_data",
          "data": {
            "image/png": "[encoded data removed]",
            "text/plain": [
              "<Figure size 432x288 with 1 Axes>"
            ]
          },
          "metadata": {
            "tags": []
          }
        }
      ]
    },
    {
      "cell_type": "markdown",
      "metadata": {
        "id": "StSdp5CNwXmH",
        "colab_type": "text"
      },
      "source": [
        "## 五. XGBoost"
      ]
    },
    {
      "cell_type": "code",
      "metadata": {
        "id": "wwGCIDlowXmI",
        "colab_type": "code",
        "outputId": "d777291a-825b-4690-bf6e-fa7c3c8037f0",
        "colab": {
          "base_uri": "https://localhost:8080/",
          "height": 204
        }
      },
      "source": [
        "from xgboost import XGBClassifier\n",
        "xgb = XGBClassifier()\n",
        "xgb_parameters = {'max_depth':range(3,10,2),'min_child_weight':range(1,6,2)}\n",
        "xgb_gridsearch = GridSearchCV(xgb, param_grid=xgb_parameters, cv=5)\n",
        "xgb_gridsearch.fit(x_train_sel_sc, y_train)\n",
        "print(xgb_gridsearch.best_params_)\n",
        "xgb_gridsearch.fit(x_train_sel_sc, y_train)\n",
        "y_pre_xgb = xgb_gridsearch.predict(x_test_sel_sc)\n",
        "display(accuracy_score(y_pre_xgb, y_test))\n",
        "print(classification_report(y_pre_xgb, y_test))"
      ],
      "execution_count": 0,
      "outputs": [
        {
          "output_type": "stream",
          "text": [
            "{'max_depth': 5, 'min_child_weight': 1}\n"
          ],
          "name": "stdout"
        },
        {
          "output_type": "display_data",
          "data": {
            "text/plain": [
              "0.7781087118391661"
            ]
          },
          "metadata": {
            "tags": []
          }
        },
        {
          "output_type": "stream",
          "text": [
            "              precision    recall  f1-score   support\n",
            "\n",
            "           0       0.97      0.78      0.87      1235\n",
            "           1       0.23      0.72      0.34       108\n",
            "\n",
            "   micro avg       0.78      0.78      0.78      1343\n",
            "   macro avg       0.60      0.75      0.61      1343\n",
            "weighted avg       0.91      0.78      0.82      1343\n",
            "\n"
          ],
          "name": "stdout"
        }
      ]
    },
    {
      "cell_type": "code",
      "metadata": {
        "id": "DDEWzAj-abpa",
        "colab_type": "code",
        "outputId": "af1a5370-e71a-49d9-9966-c316c0090776",
        "colab": {
          "base_uri": "https://localhost:8080/",
          "height": 295
        }
      },
      "source": [
        "plt.plot([0, 1], [0, 1], 'k--')\n",
        "fpr_xgb, tpr_xgb, _  = roc_curve(y_test, y_pre_xgb)\n",
        "plt.plot(fpr_xgb, tpr_xgb, label='XGBoost ROC')\n",
        "plt.xlabel('False positive rate')\n",
        "plt.ylabel('True positive rate')\n",
        "plt.title('XGBoost ROC curve')\n",
        "plt.legend(loc='best')\n",
        "plt.show()"
      ],
      "execution_count": 0,
      "outputs": [
        {
          "output_type": "display_data",
          "data": {
            "image/png": "[encoded data removed]",
            "text/plain": [
              "<Figure size 432x288 with 1 Axes>"
            ]
          },
          "metadata": {
            "tags": []
          }
        }
      ]
    },
    {
      "cell_type": "markdown",
      "metadata": {
        "id": "dq3Gfh-UcwyO",
        "colab_type": "text"
      },
      "source": [
        "# 任务6：模型融合 5.22-5.23\n",
        "模型融合，模型融合方式任意，并结合Task5给出你的最优结果。\n",
        "例如Stacking融合，用你目前评分最高的模型作为基准模型，和其他模型进行stacking融合，得到最终模型及评分结果。\n",
        "\n",
        "任务6打卡链接：https://shimo.im/docs/etlmLq66dSo9p4Fz"
      ]
    },
    {
      "cell_type": "code",
      "metadata": {
        "id": "p6lHbFMXcvRt",
        "colab_type": "code",
        "colab": {
          "base_uri": "https://localhost:8080/",
          "height": 71
        },
        "outputId": "d3b554af-a786-470e-d293-05b3f6388651"
      },
      "source": [
        "from sklearn.linear_model import LogisticRegression\n",
        "from sklearn.svm import SVC\n",
        "from sklearn.tree import DecisionTreeClassifier\n",
        "from xgboost import XGBClassifier\n",
        "from mlxtend.classifier import StackingClassifier\n",
        "lr_1 = LogisticRegression(C=0.001, penalty='l2')\n",
        "dtc_2 = DecisionTreeClassifier(criterion='gini', max_depth=3)\n",
        "rf_3 = RandomForestClassifier(criterion='gini', max_depth=6)\n",
        "xgb_4 = XGBClassifier(max_depth=5, min_child_weight=1)\n",
        "svc_meta = SVC(kernel='rbf', C=1)\n",
        "sclf = StackingClassifier(classifiers=[lr_1, dtc_2, rf_3, xgb_4],\n",
        "                          meta_classifier=svc_meta)"
      ],
      "execution_count": 27,
      "outputs": [
        {
          "output_type": "stream",
          "text": [
            "/usr/local/lib/python3.6/dist-packages/sklearn/externals/six.py:31: DeprecationWarning: The module is deprecated in version 0.21 and will be removed in version 0.23 since we've dropped support for Python 2.7. Please rely on the official version of six (https://pypi.org/project/six/).\n",
            "  \"(https://pypi.org/project/six/).\", DeprecationWarning)\n"
          ],
          "name": "stderr"
        }
      ]
    },
    {
      "cell_type": "code",
      "metadata": {
        "id": "jDio9rwF3_K0",
        "colab_type": "code",
        "colab": {
          "base_uri": "https://localhost:8080/",
          "height": 187
        },
        "outputId": "39d5f8f6-4fdd-4c63-b91a-dab208fab79c"
      },
      "source": [
        "sclf.fit(x_train_sel_sc, y_train)\n",
        "y_pre_stacking = sclf.predict(x_test_sel_sc)\n",
        "display(accuracy_score(y_pre_stacking, y_test))\n",
        "print(classification_report(y_pre_stacking, y_test))"
      ],
      "execution_count": 34,
      "outputs": [
        {
          "output_type": "display_data",
          "data": {
            "text/plain": [
              "0.7781087118391661"
            ]
          },
          "metadata": {
            "tags": []
          }
        },
        {
          "output_type": "stream",
          "text": [
            "              precision    recall  f1-score   support\n",
            "\n",
            "           0       0.97      0.78      0.87      1235\n",
            "           1       0.23      0.72      0.34       108\n",
            "\n",
            "    accuracy                           0.78      1343\n",
            "   macro avg       0.60      0.75      0.61      1343\n",
            "weighted avg       0.91      0.78      0.82      1343\n",
            "\n"
          ],
          "name": "stdout"
        }
      ]
    },
    {
      "cell_type": "code",
      "metadata": {
        "id": "KuSDhKXp4dsJ",
        "colab_type": "code",
        "colab": {
          "base_uri": "https://localhost:8080/",
          "height": 295
        },
        "outputId": "7b7c6273-2dcb-4e2a-8170-124cae822d71"
      },
      "source": [
        "plt.plot([0, 1], [0, 1], 'k--')\n",
        "fpr_stacking, tpr_stacking, _  = roc_curve(y_test, y_pre_stacking)\n",
        "plt.plot(fpr_stacking, tpr_stacking, label='Stacking ROC')\n",
        "plt.xlabel('False positive rate')\n",
        "plt.ylabel('True positive rate')\n",
        "plt.title('Stacking ROC curve')\n",
        "plt.legend(loc='best')\n",
        "plt.show()"
      ],
      "execution_count": 32,
      "outputs": [
        {
          "output_type": "display_data",
          "data": {
            "image/png": "[encoded data removed]",
            "text/plain": [
              "<Figure size 432x288 with 1 Axes>"
            ]
          },
          "metadata": {
            "tags": []
          }
        }
      ]
    }
  ]
}